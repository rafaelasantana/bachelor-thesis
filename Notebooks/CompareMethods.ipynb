{
 "cells": [
  {
   "cell_type": "markdown",
   "id": "02c2d35c-5645-4892-8512-da411a55934c",
   "metadata": {},
   "source": [
    "## Helpers"
   ]
  },
  {
   "cell_type": "code",
   "execution_count": 189,
   "id": "53234456-4783-48a6-8951-3d3dc9e07ce9",
   "metadata": {},
   "outputs": [],
   "source": [
    "import pandas as pd\n",
    "import os\n",
    "from glob import glob\n",
    "\n",
    "def load_and_merge_csvs(folder_path, method_name):\n",
    "    \"\"\"\n",
    "    Load and merge all CSV files in a given folder.\n",
    "    \n",
    "    Parameters:\n",
    "        folder_path (str): Path to the folder containing the CSV files.\n",
    "        method_name (str): Name of the method to tag (e.g. \"CoT\").\n",
    "    \n",
    "    Returns:\n",
    "        pd.DataFrame: Merged DataFrame with method and run columns.\n",
    "    \"\"\"\n",
    "    # Find all CSV files in the folder\n",
    "    csv_files = sorted(glob(os.path.join(folder_path, \"*.csv\")))\n",
    "\n",
    "    dataframes = []\n",
    "    for i, file_path in enumerate(csv_files):\n",
    "        df = pd.read_csv(file_path)\n",
    "        df[\"method\"] = method_name\n",
    "        df[\"run\"] = i + 1\n",
    "        dataframes.append(df)\n",
    "\n",
    "    # Merge all into one DataFrame\n",
    "    merged_df = pd.concat(dataframes, ignore_index=True)\n",
    "    return merged_df"
   ]
  },
  {
   "cell_type": "markdown",
   "id": "28168cf1-6f5b-446d-b7bf-b17950b438f6",
   "metadata": {},
   "source": [
    "## Load cleaned data"
   ]
  },
  {
   "cell_type": "markdown",
   "id": "6e54caed-e70c-4eb9-b46a-b09f1e0f99f1",
   "metadata": {},
   "source": [
    "### CoT"
   ]
  },
  {
   "cell_type": "code",
   "execution_count": 190,
   "id": "9cc092d2-2191-44a4-a034-0e60647f0477",
   "metadata": {},
   "outputs": [
    {
     "data": {
      "text/html": [
       "<div>\n",
       "<style scoped>\n",
       "    .dataframe tbody tr th:only-of-type {\n",
       "        vertical-align: middle;\n",
       "    }\n",
       "\n",
       "    .dataframe tbody tr th {\n",
       "        vertical-align: top;\n",
       "    }\n",
       "\n",
       "    .dataframe thead th {\n",
       "        text-align: right;\n",
       "    }\n",
       "</style>\n",
       "<table border=\"1\" class=\"dataframe\">\n",
       "  <thead>\n",
       "    <tr style=\"text-align: right;\">\n",
       "      <th></th>\n",
       "      <th>id</th>\n",
       "      <th>subject</th>\n",
       "      <th>ground_truth</th>\n",
       "      <th>predicted</th>\n",
       "      <th>correct</th>\n",
       "      <th>method</th>\n",
       "      <th>run</th>\n",
       "    </tr>\n",
       "  </thead>\n",
       "  <tbody>\n",
       "    <tr>\n",
       "      <th>3595</th>\n",
       "      <td>questao_176</td>\n",
       "      <td>Mathematics</td>\n",
       "      <td>D</td>\n",
       "      <td>D</td>\n",
       "      <td>True</td>\n",
       "      <td>CoT</td>\n",
       "      <td>20</td>\n",
       "    </tr>\n",
       "    <tr>\n",
       "      <th>3596</th>\n",
       "      <td>questao_177</td>\n",
       "      <td>Mathematics</td>\n",
       "      <td>A</td>\n",
       "      <td>B</td>\n",
       "      <td>False</td>\n",
       "      <td>CoT</td>\n",
       "      <td>20</td>\n",
       "    </tr>\n",
       "    <tr>\n",
       "      <th>3597</th>\n",
       "      <td>questao_178</td>\n",
       "      <td>Mathematics</td>\n",
       "      <td>D</td>\n",
       "      <td>D</td>\n",
       "      <td>True</td>\n",
       "      <td>CoT</td>\n",
       "      <td>20</td>\n",
       "    </tr>\n",
       "    <tr>\n",
       "      <th>3598</th>\n",
       "      <td>questao_179</td>\n",
       "      <td>Mathematics</td>\n",
       "      <td>C</td>\n",
       "      <td>E</td>\n",
       "      <td>False</td>\n",
       "      <td>CoT</td>\n",
       "      <td>20</td>\n",
       "    </tr>\n",
       "    <tr>\n",
       "      <th>3599</th>\n",
       "      <td>questao_180</td>\n",
       "      <td>Mathematics</td>\n",
       "      <td>B</td>\n",
       "      <td>A</td>\n",
       "      <td>False</td>\n",
       "      <td>CoT</td>\n",
       "      <td>20</td>\n",
       "    </tr>\n",
       "  </tbody>\n",
       "</table>\n",
       "</div>"
      ],
      "text/plain": [
       "               id      subject ground_truth predicted  correct method  run\n",
       "3595  questao_176  Mathematics            D         D     True    CoT   20\n",
       "3596  questao_177  Mathematics            A         B    False    CoT   20\n",
       "3597  questao_178  Mathematics            D         D     True    CoT   20\n",
       "3598  questao_179  Mathematics            C         E    False    CoT   20\n",
       "3599  questao_180  Mathematics            B         A    False    CoT   20"
      ]
     },
     "execution_count": 190,
     "metadata": {},
     "output_type": "execute_result"
    }
   ],
   "source": [
    "cot_all = load_and_merge_csvs(\"results/cot_few-shot_clean\", method_name=\"CoT\")\n",
    "cot_all.tail()"
   ]
  },
  {
   "cell_type": "markdown",
   "id": "f8af5568-68b0-416b-8944-b04864f1c9ec",
   "metadata": {},
   "source": [
    "### CoVe"
   ]
  },
  {
   "cell_type": "code",
   "execution_count": 191,
   "id": "3a7d8747-661e-4807-b6b5-f8793dc6c8fa",
   "metadata": {},
   "outputs": [
    {
     "data": {
      "text/html": [
       "<div>\n",
       "<style scoped>\n",
       "    .dataframe tbody tr th:only-of-type {\n",
       "        vertical-align: middle;\n",
       "    }\n",
       "\n",
       "    .dataframe tbody tr th {\n",
       "        vertical-align: top;\n",
       "    }\n",
       "\n",
       "    .dataframe thead th {\n",
       "        text-align: right;\n",
       "    }\n",
       "</style>\n",
       "<table border=\"1\" class=\"dataframe\">\n",
       "  <thead>\n",
       "    <tr style=\"text-align: right;\">\n",
       "      <th></th>\n",
       "      <th>id</th>\n",
       "      <th>subject</th>\n",
       "      <th>ground_truth</th>\n",
       "      <th>predicted</th>\n",
       "      <th>correct</th>\n",
       "      <th>initial_answer</th>\n",
       "      <th>method</th>\n",
       "      <th>run</th>\n",
       "    </tr>\n",
       "  </thead>\n",
       "  <tbody>\n",
       "    <tr>\n",
       "      <th>2875</th>\n",
       "      <td>questao_176</td>\n",
       "      <td>Mathematics</td>\n",
       "      <td>D</td>\n",
       "      <td>D</td>\n",
       "      <td>True</td>\n",
       "      <td>D</td>\n",
       "      <td>CoVe</td>\n",
       "      <td>16</td>\n",
       "    </tr>\n",
       "    <tr>\n",
       "      <th>2876</th>\n",
       "      <td>questao_177</td>\n",
       "      <td>Mathematics</td>\n",
       "      <td>A</td>\n",
       "      <td>B</td>\n",
       "      <td>False</td>\n",
       "      <td>A</td>\n",
       "      <td>CoVe</td>\n",
       "      <td>16</td>\n",
       "    </tr>\n",
       "    <tr>\n",
       "      <th>2877</th>\n",
       "      <td>questao_178</td>\n",
       "      <td>Mathematics</td>\n",
       "      <td>D</td>\n",
       "      <td>D</td>\n",
       "      <td>True</td>\n",
       "      <td>D</td>\n",
       "      <td>CoVe</td>\n",
       "      <td>16</td>\n",
       "    </tr>\n",
       "    <tr>\n",
       "      <th>2878</th>\n",
       "      <td>questao_179</td>\n",
       "      <td>Mathematics</td>\n",
       "      <td>C</td>\n",
       "      <td>B</td>\n",
       "      <td>False</td>\n",
       "      <td>B</td>\n",
       "      <td>CoVe</td>\n",
       "      <td>16</td>\n",
       "    </tr>\n",
       "    <tr>\n",
       "      <th>2879</th>\n",
       "      <td>questao_180</td>\n",
       "      <td>Mathematics</td>\n",
       "      <td>B</td>\n",
       "      <td>A</td>\n",
       "      <td>False</td>\n",
       "      <td>A</td>\n",
       "      <td>CoVe</td>\n",
       "      <td>16</td>\n",
       "    </tr>\n",
       "  </tbody>\n",
       "</table>\n",
       "</div>"
      ],
      "text/plain": [
       "               id      subject ground_truth predicted  correct initial_answer  \\\n",
       "2875  questao_176  Mathematics            D         D     True              D   \n",
       "2876  questao_177  Mathematics            A         B    False              A   \n",
       "2877  questao_178  Mathematics            D         D     True              D   \n",
       "2878  questao_179  Mathematics            C         B    False              B   \n",
       "2879  questao_180  Mathematics            B         A    False              A   \n",
       "\n",
       "     method  run  \n",
       "2875   CoVe   16  \n",
       "2876   CoVe   16  \n",
       "2877   CoVe   16  \n",
       "2878   CoVe   16  \n",
       "2879   CoVe   16  "
      ]
     },
     "execution_count": 191,
     "metadata": {},
     "output_type": "execute_result"
    }
   ],
   "source": [
    "cove_all = load_and_merge_csvs(\"results/cove_few-shot_clean\", method_name=\"CoVe\")\n",
    "cove_all.tail()"
   ]
  },
  {
   "cell_type": "markdown",
   "id": "00852263-8eb6-4a38-9b8b-347c4d1b8287",
   "metadata": {},
   "source": [
    "### Self-Refine"
   ]
  },
  {
   "cell_type": "code",
   "execution_count": 192,
   "id": "2c89dead-7b33-4f27-8f34-fd49b3d87e07",
   "metadata": {},
   "outputs": [
    {
     "data": {
      "text/html": [
       "<div>\n",
       "<style scoped>\n",
       "    .dataframe tbody tr th:only-of-type {\n",
       "        vertical-align: middle;\n",
       "    }\n",
       "\n",
       "    .dataframe tbody tr th {\n",
       "        vertical-align: top;\n",
       "    }\n",
       "\n",
       "    .dataframe thead th {\n",
       "        text-align: right;\n",
       "    }\n",
       "</style>\n",
       "<table border=\"1\" class=\"dataframe\">\n",
       "  <thead>\n",
       "    <tr style=\"text-align: right;\">\n",
       "      <th></th>\n",
       "      <th>id</th>\n",
       "      <th>subject</th>\n",
       "      <th>ground_truth</th>\n",
       "      <th>predicted</th>\n",
       "      <th>correct</th>\n",
       "      <th>initial_answer</th>\n",
       "      <th>method</th>\n",
       "      <th>run</th>\n",
       "    </tr>\n",
       "  </thead>\n",
       "  <tbody>\n",
       "    <tr>\n",
       "      <th>2875</th>\n",
       "      <td>questao_176</td>\n",
       "      <td>Mathematics</td>\n",
       "      <td>D</td>\n",
       "      <td>D</td>\n",
       "      <td>True</td>\n",
       "      <td>D</td>\n",
       "      <td>Self-Refine</td>\n",
       "      <td>16</td>\n",
       "    </tr>\n",
       "    <tr>\n",
       "      <th>2876</th>\n",
       "      <td>questao_177</td>\n",
       "      <td>Mathematics</td>\n",
       "      <td>A</td>\n",
       "      <td>D</td>\n",
       "      <td>False</td>\n",
       "      <td>C</td>\n",
       "      <td>Self-Refine</td>\n",
       "      <td>16</td>\n",
       "    </tr>\n",
       "    <tr>\n",
       "      <th>2877</th>\n",
       "      <td>questao_178</td>\n",
       "      <td>Mathematics</td>\n",
       "      <td>D</td>\n",
       "      <td>A</td>\n",
       "      <td>False</td>\n",
       "      <td>D</td>\n",
       "      <td>Self-Refine</td>\n",
       "      <td>16</td>\n",
       "    </tr>\n",
       "    <tr>\n",
       "      <th>2878</th>\n",
       "      <td>questao_179</td>\n",
       "      <td>Mathematics</td>\n",
       "      <td>C</td>\n",
       "      <td>C</td>\n",
       "      <td>True</td>\n",
       "      <td>E</td>\n",
       "      <td>Self-Refine</td>\n",
       "      <td>16</td>\n",
       "    </tr>\n",
       "    <tr>\n",
       "      <th>2879</th>\n",
       "      <td>questao_180</td>\n",
       "      <td>Mathematics</td>\n",
       "      <td>B</td>\n",
       "      <td>A</td>\n",
       "      <td>False</td>\n",
       "      <td>A</td>\n",
       "      <td>Self-Refine</td>\n",
       "      <td>16</td>\n",
       "    </tr>\n",
       "  </tbody>\n",
       "</table>\n",
       "</div>"
      ],
      "text/plain": [
       "               id      subject ground_truth predicted  correct initial_answer  \\\n",
       "2875  questao_176  Mathematics            D         D     True              D   \n",
       "2876  questao_177  Mathematics            A         D    False              C   \n",
       "2877  questao_178  Mathematics            D         A    False              D   \n",
       "2878  questao_179  Mathematics            C         C     True              E   \n",
       "2879  questao_180  Mathematics            B         A    False              A   \n",
       "\n",
       "           method  run  \n",
       "2875  Self-Refine   16  \n",
       "2876  Self-Refine   16  \n",
       "2877  Self-Refine   16  \n",
       "2878  Self-Refine   16  \n",
       "2879  Self-Refine   16  "
      ]
     },
     "execution_count": 192,
     "metadata": {},
     "output_type": "execute_result"
    }
   ],
   "source": [
    "selfrefine_all = load_and_merge_csvs(\"results/self-refine_few-shot_clean\", method_name=\"Self-Refine\")\n",
    "selfrefine_all.tail()"
   ]
  },
  {
   "cell_type": "markdown",
   "id": "93609b76-e241-4c52-9229-aa0dffecffa8",
   "metadata": {},
   "source": [
    "### Dataset Summary"
   ]
  },
  {
   "cell_type": "code",
   "execution_count": 193,
   "id": "9c73a943-bd95-4067-8fac-7533a2e9a695",
   "metadata": {},
   "outputs": [
    {
     "name": "stdout",
     "output_type": "stream",
     "text": [
      "Method         Rows      Columns   Runs      Unique IDs     \n",
      "------------------------------------------------------------\n",
      "CoT            3600      7         20        180            \n",
      "CoVe           2880      8         16        180            \n",
      "Self-Refine    2880      8         16        180            \n"
     ]
    }
   ],
   "source": [
    "print(f\"{'Method':<15}{'Rows':<10}{'Columns':<10}{'Runs':<10}{'Unique IDs':<15}\")\n",
    "print(\"-\" * 60)\n",
    "print(f\"{'CoT':<15}{cot_all.shape[0]:<10}{cot_all.shape[1]:<10}{cot_all['run'].nunique():<10}{cot_all['id'].nunique():<15}\")\n",
    "print(f\"{'CoVe':<15}{cove_all.shape[0]:<10}{cove_all.shape[1]:<10}{cove_all['run'].nunique():<10}{cove_all['id'].nunique():<15}\")\n",
    "print(f\"{'Self-Refine':<15}{selfrefine_all.shape[0]:<10}{selfrefine_all.shape[1]:<10}{selfrefine_all['run'].nunique():<10}{selfrefine_all['id'].nunique():<15}\")\n"
   ]
  },
  {
   "cell_type": "markdown",
   "id": "81efe330-0d14-4ea7-bddb-dfaf12205cef",
   "metadata": {},
   "source": [
    "## Accuracy per Run: Mean"
   ]
  },
  {
   "cell_type": "markdown",
   "id": "51fa9188-202a-4b8b-ac66-e41c018f4120",
   "metadata": {},
   "source": [
    "#### Concat data from each method"
   ]
  },
  {
   "cell_type": "code",
   "execution_count": 194,
   "id": "f8cfda65-ab4e-4024-9d6e-f49b37c6678e",
   "metadata": {},
   "outputs": [],
   "source": [
    "accuracy_by_run = pd.concat([cot_all, cove_all, selfrefine_all], ignore_index=True)"
   ]
  },
  {
   "cell_type": "markdown",
   "id": "29e335b3-52b3-4479-81d5-923394499cad",
   "metadata": {},
   "source": [
    "#### Calculate mean accuracy per method and test run"
   ]
  },
  {
   "cell_type": "code",
   "execution_count": 195,
   "id": "19645978-1a07-45a4-afe6-ef4d5e385931",
   "metadata": {},
   "outputs": [
    {
     "name": "stdout",
     "output_type": "stream",
     "text": [
      "Per-run Accuracy:\n",
      "method    CoT   CoVe  Self-Refine\n",
      "run                              \n",
      "1       0.672  0.672        0.700\n",
      "2       0.722  0.683        0.694\n",
      "3       0.661  0.650        0.678\n",
      "4       0.706  0.672        0.706\n",
      "5       0.711  0.728        0.722\n",
      "6       0.711  0.650        0.683\n",
      "7       0.694  0.639        0.700\n",
      "8       0.700  0.667        0.700\n",
      "9       0.706  0.644        0.683\n",
      "10      0.706  0.650        0.700\n",
      "11      0.722  0.689        0.683\n",
      "12      0.683  0.683        0.700\n",
      "13      0.694  0.683        0.667\n",
      "14      0.717  0.661        0.656\n",
      "15      0.711  0.689        0.672\n",
      "16      0.678  0.672        0.694\n",
      "17      0.717    NaN          NaN\n",
      "18      0.667    NaN          NaN\n",
      "19      0.700    NaN          NaN\n",
      "20      0.711    NaN          NaN\n"
     ]
    }
   ],
   "source": [
    "run_stats = accuracy_by_run.groupby([\"method\", \"run\"])[\"correct\"].mean().reset_index()\n",
    "\n",
    "print(\"Per-run Accuracy:\")\n",
    "print(run_stats.pivot(index=\"run\", columns=\"method\", values=\"correct\").round(3))"
   ]
  },
  {
   "cell_type": "markdown",
   "id": "9a09e0b6-dff8-469c-8f5a-abef1cefdedb",
   "metadata": {},
   "source": [
    "## General Accuracy: General Mean and Standard Deviation"
   ]
  },
  {
   "cell_type": "code",
   "execution_count": 196,
   "id": "c75fb5a6-5f2a-4468-9629-3808749e20fa",
   "metadata": {},
   "outputs": [
    {
     "name": "stdout",
     "output_type": "stream",
     "text": [
      "Runs count per method:\n",
      "        method  runs\n",
      "0          CoT    20\n",
      "1         CoVe    16\n",
      "2  Self-Refine    16\n",
      "\n",
      "Overall Accuracy with Number of Runs:\n",
      "        method  accuracy_mean_all  accuracy_std_all  runs\n",
      "0          CoT           0.699444          0.193631    20\n",
      "1         CoVe           0.670833          0.208834    16\n",
      "2  Self-Refine           0.689931          0.191139    16\n"
     ]
    }
   ],
   "source": [
    "# Compute the number of unique runs per method from the original data.\n",
    "runs_count = accuracy_by_run.groupby(\"method\")[\"run\"].nunique().reset_index(name=\"runs\")\n",
    "print(\"Runs count per method:\")\n",
    "print(runs_count)\n",
    "\n",
    "# Group by method, subject, and run to compute the per-run average correctness.\n",
    "df_grouped = accuracy_by_run.groupby([\"method\", \"subject\", \"run\"])[\"correct\"].mean().reset_index()\n",
    "\n",
    "# Aggregate across runs (across all subjects) for each method.\n",
    "df_overall = df_grouped.groupby(\"method\")[\"correct\"].agg([\"mean\", \"std\"]).reset_index()\n",
    "df_overall.rename(columns={\"mean\": \"accuracy_mean_all\", \"std\": \"accuracy_std_all\"}, inplace=True)\n",
    "\n",
    "# Merge the runs count into df_overall.\n",
    "df_overall = df_overall.merge(runs_count, on=\"method\")\n",
    "\n",
    "print(\"\\nOverall Accuracy with Number of Runs:\")\n",
    "print(df_overall)\n"
   ]
  },
  {
   "cell_type": "code",
   "execution_count": 197,
   "id": "19e54b45-18d6-473e-996c-f677c2e6c23b",
   "metadata": {},
   "outputs": [
    {
     "data": {
      "image/png": "[encoded data removed]",
      "text/plain": [
       "<Figure size 800x600 with 1 Axes>"
      ]
     },
     "metadata": {},
     "output_type": "display_data"
    }
   ],
   "source": [
    "import matplotlib.pyplot as plt\n",
    "\n",
    "plt.figure(figsize=(8, 6))\n",
    "bars = plt.bar(\n",
    "    df_overall[\"method\"],\n",
    "    df_overall[\"accuracy_mean_all\"],\n",
    "    yerr=df_overall[\"accuracy_std_all\"],\n",
    "    capsize=5,\n",
    "    color=\"skyblue\",\n",
    "    edgecolor=\"black\"\n",
    ")\n",
    "plt.xlabel(\"Method\")\n",
    "plt.ylabel(\"Overall Accuracy\")\n",
    "plt.title(\"Overall Accuracy by Method (with Standard Deviation)\")\n",
    "plt.ylim(0, 1)  # Adjust if your accuracy scale is 0-1\n",
    "\n",
    "# Create new x-axis labels that include the run count\n",
    "new_labels = [f\"{m} (n={r})\" for m, r in zip(df_overall[\"method\"], df_overall[\"runs\"])]\n",
    "\n",
    "# Replace the default tick labels with the new labels\n",
    "plt.xticks(ticks=range(len(new_labels)), labels=new_labels)\n",
    "\n",
    "plt.show()\n"
   ]
  },
  {
   "cell_type": "markdown",
   "id": "999f9fc9-36b7-4eca-a6d3-2af1776e0001",
   "metadata": {},
   "source": [
    "## Accuracy per Subject: Mean and Standard Deviation"
   ]
  },
  {
   "cell_type": "markdown",
   "id": "d4f74eb1-8d9b-42e1-b37e-4e74252ebafd",
   "metadata": {},
   "source": [
    "### Aggregate per Subject"
   ]
  },
  {
   "cell_type": "code",
   "execution_count": 198,
   "id": "ca966408-282c-40f2-b801-475957624f68",
   "metadata": {},
   "outputs": [],
   "source": [
    "df_agg = (\n",
    "    accuracy_by_run.groupby([\"method\", \"subject\", \"run\"])[\"correct\"]\n",
    "    .mean()  # Average correctness per run\n",
    "    .groupby([\"method\", \"subject\"])\n",
    "    .agg(accuracy_mean=\"mean\", accuracy_std=\"std\")  # Aggregate across runs\n",
    "    .reset_index()\n",
    ")"
   ]
  },
  {
   "cell_type": "markdown",
   "id": "1e34238a-5770-43ca-adc1-3d4532189aa5",
   "metadata": {},
   "source": [
    "### Mean"
   ]
  },
  {
   "cell_type": "code",
   "execution_count": 199,
   "id": "b9a604ba-3056-478b-abc8-156a93a89bbb",
   "metadata": {
    "scrolled": true
   },
   "outputs": [
    {
     "data": {
      "text/html": [
       "<div>\n",
       "<style scoped>\n",
       "    .dataframe tbody tr th:only-of-type {\n",
       "        vertical-align: middle;\n",
       "    }\n",
       "\n",
       "    .dataframe tbody tr th {\n",
       "        vertical-align: top;\n",
       "    }\n",
       "\n",
       "    .dataframe thead th {\n",
       "        text-align: right;\n",
       "    }\n",
       "</style>\n",
       "<table border=\"1\" class=\"dataframe\">\n",
       "  <thead>\n",
       "    <tr style=\"text-align: right;\">\n",
       "      <th>subject</th>\n",
       "      <th>Human Sciences</th>\n",
       "      <th>Languages</th>\n",
       "      <th>Mathematics</th>\n",
       "      <th>Natural Sciences</th>\n",
       "    </tr>\n",
       "    <tr>\n",
       "      <th>method</th>\n",
       "      <th></th>\n",
       "      <th></th>\n",
       "      <th></th>\n",
       "      <th></th>\n",
       "    </tr>\n",
       "  </thead>\n",
       "  <tbody>\n",
       "    <tr>\n",
       "      <th>CoT</th>\n",
       "      <td>0.955556</td>\n",
       "      <td>0.800000</td>\n",
       "      <td>0.480000</td>\n",
       "      <td>0.562222</td>\n",
       "    </tr>\n",
       "    <tr>\n",
       "      <th>CoVe</th>\n",
       "      <td>0.937500</td>\n",
       "      <td>0.786111</td>\n",
       "      <td>0.411111</td>\n",
       "      <td>0.548611</td>\n",
       "    </tr>\n",
       "    <tr>\n",
       "      <th>Self-Refine</th>\n",
       "      <td>0.950000</td>\n",
       "      <td>0.780556</td>\n",
       "      <td>0.491667</td>\n",
       "      <td>0.537500</td>\n",
       "    </tr>\n",
       "  </tbody>\n",
       "</table>\n",
       "</div>"
      ],
      "text/plain": [
       "subject      Human Sciences  Languages  Mathematics  Natural Sciences\n",
       "method                                                               \n",
       "CoT                0.955556   0.800000     0.480000          0.562222\n",
       "CoVe               0.937500   0.786111     0.411111          0.548611\n",
       "Self-Refine        0.950000   0.780556     0.491667          0.537500"
      ]
     },
     "execution_count": 199,
     "metadata": {},
     "output_type": "execute_result"
    }
   ],
   "source": [
    "df_accuracy_mean_per_subject = df_agg.pivot(index=\"method\", columns=\"subject\", values=\"accuracy_mean\")\n",
    "\n",
    "df_accuracy_mean_per_subject"
   ]
  },
  {
   "cell_type": "markdown",
   "id": "ca249b37-d333-4369-8508-1e48476d981b",
   "metadata": {},
   "source": [
    "### Standard Deviation"
   ]
  },
  {
   "cell_type": "code",
   "execution_count": 200,
   "id": "5bd7f8fa-fbe5-4856-984d-16065921e4ee",
   "metadata": {},
   "outputs": [
    {
     "data": {
      "text/html": [
       "<div>\n",
       "<style scoped>\n",
       "    .dataframe tbody tr th:only-of-type {\n",
       "        vertical-align: middle;\n",
       "    }\n",
       "\n",
       "    .dataframe tbody tr th {\n",
       "        vertical-align: top;\n",
       "    }\n",
       "\n",
       "    .dataframe thead th {\n",
       "        text-align: right;\n",
       "    }\n",
       "</style>\n",
       "<table border=\"1\" class=\"dataframe\">\n",
       "  <thead>\n",
       "    <tr style=\"text-align: right;\">\n",
       "      <th>subject</th>\n",
       "      <th>Human Sciences</th>\n",
       "      <th>Languages</th>\n",
       "      <th>Mathematics</th>\n",
       "      <th>Natural Sciences</th>\n",
       "    </tr>\n",
       "    <tr>\n",
       "      <th>method</th>\n",
       "      <th></th>\n",
       "      <th></th>\n",
       "      <th></th>\n",
       "      <th></th>\n",
       "    </tr>\n",
       "  </thead>\n",
       "  <tbody>\n",
       "    <tr>\n",
       "      <th>CoT</th>\n",
       "      <td>0.024976</td>\n",
       "      <td>0.025995</td>\n",
       "      <td>0.052686</td>\n",
       "      <td>0.040207</td>\n",
       "    </tr>\n",
       "    <tr>\n",
       "      <th>CoVe</th>\n",
       "      <td>0.028364</td>\n",
       "      <td>0.037074</td>\n",
       "      <td>0.038915</td>\n",
       "      <td>0.039519</td>\n",
       "    </tr>\n",
       "    <tr>\n",
       "      <th>Self-Refine</th>\n",
       "      <td>0.022222</td>\n",
       "      <td>0.045812</td>\n",
       "      <td>0.037074</td>\n",
       "      <td>0.043105</td>\n",
       "    </tr>\n",
       "  </tbody>\n",
       "</table>\n",
       "</div>"
      ],
      "text/plain": [
       "subject      Human Sciences  Languages  Mathematics  Natural Sciences\n",
       "method                                                               \n",
       "CoT                0.024976   0.025995     0.052686          0.040207\n",
       "CoVe               0.028364   0.037074     0.038915          0.039519\n",
       "Self-Refine        0.022222   0.045812     0.037074          0.043105"
      ]
     },
     "execution_count": 200,
     "metadata": {},
     "output_type": "execute_result"
    }
   ],
   "source": [
    "df_accuracy_std_per_subject = df_agg.pivot(index=\"method\", columns=\"subject\", values=\"accuracy_std\")\n",
    "\n",
    "df_accuracy_std_per_subject"
   ]
  },
  {
   "cell_type": "markdown",
   "id": "a22d7709-4613-4a72-b0b9-393c4a9b982f",
   "metadata": {},
   "source": [
    "### Mean and Standard Deviation"
   ]
  },
  {
   "cell_type": "code",
   "execution_count": 201,
   "id": "439bf71c-9672-435d-9fcf-efa70a3208d6",
   "metadata": {},
   "outputs": [
    {
     "data": {
      "text/html": [
       "<div>\n",
       "<style scoped>\n",
       "    .dataframe tbody tr th:only-of-type {\n",
       "        vertical-align: middle;\n",
       "    }\n",
       "\n",
       "    .dataframe tbody tr th {\n",
       "        vertical-align: top;\n",
       "    }\n",
       "\n",
       "    .dataframe thead th {\n",
       "        text-align: right;\n",
       "    }\n",
       "</style>\n",
       "<table border=\"1\" class=\"dataframe\">\n",
       "  <thead>\n",
       "    <tr style=\"text-align: right;\">\n",
       "      <th>subject</th>\n",
       "      <th>Human Sciences</th>\n",
       "      <th>Languages</th>\n",
       "      <th>Mathematics</th>\n",
       "      <th>Natural Sciences</th>\n",
       "    </tr>\n",
       "    <tr>\n",
       "      <th>method</th>\n",
       "      <th></th>\n",
       "      <th></th>\n",
       "      <th></th>\n",
       "      <th></th>\n",
       "    </tr>\n",
       "  </thead>\n",
       "  <tbody>\n",
       "    <tr>\n",
       "      <th>CoT</th>\n",
       "      <td>0.956 ± 0.025</td>\n",
       "      <td>0.800 ± 0.026</td>\n",
       "      <td>0.480 ± 0.053</td>\n",
       "      <td>0.562 ± 0.040</td>\n",
       "    </tr>\n",
       "    <tr>\n",
       "      <th>CoVe</th>\n",
       "      <td>0.938 ± 0.028</td>\n",
       "      <td>0.786 ± 0.037</td>\n",
       "      <td>0.411 ± 0.039</td>\n",
       "      <td>0.549 ± 0.040</td>\n",
       "    </tr>\n",
       "    <tr>\n",
       "      <th>Self-Refine</th>\n",
       "      <td>0.950 ± 0.022</td>\n",
       "      <td>0.781 ± 0.046</td>\n",
       "      <td>0.492 ± 0.037</td>\n",
       "      <td>0.537 ± 0.043</td>\n",
       "    </tr>\n",
       "  </tbody>\n",
       "</table>\n",
       "</div>"
      ],
      "text/plain": [
       "subject     Human Sciences      Languages    Mathematics Natural Sciences\n",
       "method                                                                   \n",
       "CoT          0.956 ± 0.025  0.800 ± 0.026  0.480 ± 0.053    0.562 ± 0.040\n",
       "CoVe         0.938 ± 0.028  0.786 ± 0.037  0.411 ± 0.039    0.549 ± 0.040\n",
       "Self-Refine  0.950 ± 0.022  0.781 ± 0.046  0.492 ± 0.037    0.537 ± 0.043"
      ]
     },
     "execution_count": 201,
     "metadata": {},
     "output_type": "execute_result"
    }
   ],
   "source": [
    "df_agg[\"accuracy_formatted\"] = df_agg.apply(\n",
    "    lambda row: f\"{row['accuracy_mean']:.3f} ± {row['accuracy_std']:.3f}\", axis=1\n",
    ")\n",
    "\n",
    "df_accuracy_mean_std_per_subject = df_agg.pivot(index=\"method\", columns=\"subject\", values=\"accuracy_formatted\")\n",
    "\n",
    "df_accuracy_mean_std_per_subject"
   ]
  },
  {
   "cell_type": "markdown",
   "id": "9459884b-6509-4f17-a5f7-261c24affdef",
   "metadata": {},
   "source": [
    "### 📊 Accuracy per Subject: Mean and Std"
   ]
  },
  {
   "cell_type": "code",
   "execution_count": 202,
   "id": "5dc7f0b4-9231-45f0-aa4b-79694f523911",
   "metadata": {
    "jupyter": {
     "source_hidden": true
    }
   },
   "outputs": [
    {
     "data": {
      "image/png": "[encoded data removed]",
      "text/plain": [
       "<Figure size 1000x600 with 1 Axes>"
      ]
     },
     "metadata": {},
     "output_type": "display_data"
    }
   ],
   "source": [
    "import matplotlib.pyplot as plt\n",
    "import numpy as np\n",
    "\n",
    "# Compute the overall number of runs per method from your original dataset.\n",
    "runs_count_overall = accuracy_by_run.groupby(\"method\")[\"run\"].nunique()\n",
    "runs_dict = runs_count_overall.to_dict()\n",
    "\n",
    "# Extract subjects (columns) and methods (rows) from your pivot tables.\n",
    "subjects = df_accuracy_mean_per_subject.columns.tolist()\n",
    "methods = df_accuracy_mean_per_subject.index.tolist()\n",
    "\n",
    "# Create positions on the x-axis for each subject.\n",
    "n_subjects = len(subjects)\n",
    "x = np.arange(n_subjects)\n",
    "\n",
    "# Set the bar width based on the number of methods.\n",
    "bar_width = 0.8 / len(methods)  # use 80% of the space per group\n",
    "\n",
    "plt.figure(figsize=(10, 6))\n",
    "\n",
    "# Plot bars for each method with error bars.\n",
    "for i, method in enumerate(methods):\n",
    "    # Retrieve mean and std values for the current method.\n",
    "    means = df_accuracy_mean_per_subject.loc[method].values\n",
    "    stds = df_accuracy_std_per_subject.loc[method].values\n",
    "\n",
    "    # Calculate the offset for this method's bars.\n",
    "    offset = (i - (len(methods) - 1) / 2) * bar_width\n",
    "\n",
    "    # Label including the run count, e.g., \"CoT (n=728)\"\n",
    "    label_with_runs = f\"{method} (n={runs_dict.get(method, '?')})\"\n",
    "    \n",
    "    plt.bar(x + offset, means, bar_width, yerr=stds, capsize=5, label=label_with_runs)\n",
    "\n",
    "# Set x-axis labels and other plot details.\n",
    "plt.xticks(x, subjects)\n",
    "plt.xlabel(\"Subject\")\n",
    "plt.ylabel(\"Accuracy Mean\")\n",
    "plt.title(\"Accuracy Mean and Standard Deviation per Subject\")\n",
    "plt.ylim(0, 1)  # adjust if your accuracy is on a different scale\n",
    "plt.legend(title=\"Method\")\n",
    "plt.tight_layout()\n",
    "plt.show()\n"
   ]
  }
 ],
 "metadata": {
  "kernelspec": {
   "display_name": "Python (bthesis)",
   "language": "python",
   "name": "bthesis"
  },
  "language_info": {
   "codemirror_mode": {
    "name": "ipython",
    "version": 3
   },
   "file_extension": ".py",
   "mimetype": "text/x-python",
   "name": "python",
   "nbconvert_exporter": "python",
   "pygments_lexer": "ipython3",
   "version": "3.13.2"
  }
 },
 "nbformat": 4,
 "nbformat_minor": 5
}
