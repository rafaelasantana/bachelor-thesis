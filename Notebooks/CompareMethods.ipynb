{
 "cells": [
  {
   "cell_type": "markdown",
   "id": "02c2d35c-5645-4892-8512-da411a55934c",
   "metadata": {
    "jp-MarkdownHeadingCollapsed": true
   },
   "source": [
    "## Helpers"
   ]
  },
  {
   "cell_type": "code",
   "execution_count": 189,
   "id": "53234456-4783-48a6-8951-3d3dc9e07ce9",
   "metadata": {},
   "outputs": [],
   "source": [
    "import pandas as pd\n",
    "import os\n",
    "from glob import glob\n",
    "\n",
    "def load_and_merge_csvs(folder_path, method_name):\n",
    "    \"\"\"\n",
    "    Load and merge all CSV files in a given folder.\n",
    "    \n",
    "    Parameters:\n",
    "        folder_path (str): Path to the folder containing the CSV files.\n",
    "        method_name (str): Name of the method to tag (e.g. \"CoT\").\n",
    "    \n",
    "    Returns:\n",
    "        pd.DataFrame: Merged DataFrame with method and run columns.\n",
    "    \"\"\"\n",
    "    # Find all CSV files in the folder\n",
    "    csv_files = sorted(glob(os.path.join(folder_path, \"*.csv\")))\n",
    "\n",
    "    dataframes = []\n",
    "    for i, file_path in enumerate(csv_files):\n",
    "        df = pd.read_csv(file_path)\n",
    "        df[\"method\"] = method_name\n",
    "        df[\"run\"] = i + 1\n",
    "        dataframes.append(df)\n",
    "\n",
    "    # Merge all into one DataFrame\n",
    "    merged_df = pd.concat(dataframes, ignore_index=True)\n",
    "    return merged_df"
   ]
  },
  {
   "cell_type": "markdown",
   "id": "28168cf1-6f5b-446d-b7bf-b17950b438f6",
   "metadata": {
    "jp-MarkdownHeadingCollapsed": true
   },
   "source": [
    "## Load cleaned data"
   ]
  },
  {
   "cell_type": "markdown",
   "id": "6e54caed-e70c-4eb9-b46a-b09f1e0f99f1",
   "metadata": {
    "jp-MarkdownHeadingCollapsed": true
   },
   "source": [
    "### CoT"
   ]
  },
  {
   "cell_type": "code",
   "execution_count": 208,
   "id": "9cc092d2-2191-44a4-a034-0e60647f0477",
   "metadata": {},
   "outputs": [
    {
     "data": {
      "text/html": [
       "<div>\n",
       "<style scoped>\n",
       "    .dataframe tbody tr th:only-of-type {\n",
       "        vertical-align: middle;\n",
       "    }\n",
       "\n",
       "    .dataframe tbody tr th {\n",
       "        vertical-align: top;\n",
       "    }\n",
       "\n",
       "    .dataframe thead th {\n",
       "        text-align: right;\n",
       "    }\n",
       "</style>\n",
       "<table border=\"1\" class=\"dataframe\">\n",
       "  <thead>\n",
       "    <tr style=\"text-align: right;\">\n",
       "      <th></th>\n",
       "      <th>id</th>\n",
       "      <th>subject</th>\n",
       "      <th>ground_truth</th>\n",
       "      <th>predicted</th>\n",
       "      <th>correct</th>\n",
       "      <th>method</th>\n",
       "      <th>run</th>\n",
       "    </tr>\n",
       "  </thead>\n",
       "  <tbody>\n",
       "    <tr>\n",
       "      <th>4495</th>\n",
       "      <td>questao_176</td>\n",
       "      <td>Mathematics</td>\n",
       "      <td>D</td>\n",
       "      <td>D</td>\n",
       "      <td>True</td>\n",
       "      <td>CoT</td>\n",
       "      <td>25</td>\n",
       "    </tr>\n",
       "    <tr>\n",
       "      <th>4496</th>\n",
       "      <td>questao_177</td>\n",
       "      <td>Mathematics</td>\n",
       "      <td>A</td>\n",
       "      <td>C</td>\n",
       "      <td>False</td>\n",
       "      <td>CoT</td>\n",
       "      <td>25</td>\n",
       "    </tr>\n",
       "    <tr>\n",
       "      <th>4497</th>\n",
       "      <td>questao_178</td>\n",
       "      <td>Mathematics</td>\n",
       "      <td>D</td>\n",
       "      <td>D</td>\n",
       "      <td>True</td>\n",
       "      <td>CoT</td>\n",
       "      <td>25</td>\n",
       "    </tr>\n",
       "    <tr>\n",
       "      <th>4498</th>\n",
       "      <td>questao_179</td>\n",
       "      <td>Mathematics</td>\n",
       "      <td>C</td>\n",
       "      <td>B</td>\n",
       "      <td>False</td>\n",
       "      <td>CoT</td>\n",
       "      <td>25</td>\n",
       "    </tr>\n",
       "    <tr>\n",
       "      <th>4499</th>\n",
       "      <td>questao_180</td>\n",
       "      <td>Mathematics</td>\n",
       "      <td>B</td>\n",
       "      <td>A</td>\n",
       "      <td>False</td>\n",
       "      <td>CoT</td>\n",
       "      <td>25</td>\n",
       "    </tr>\n",
       "  </tbody>\n",
       "</table>\n",
       "</div>"
      ],
      "text/plain": [
       "               id      subject ground_truth predicted  correct method  run\n",
       "4495  questao_176  Mathematics            D         D     True    CoT   25\n",
       "4496  questao_177  Mathematics            A         C    False    CoT   25\n",
       "4497  questao_178  Mathematics            D         D     True    CoT   25\n",
       "4498  questao_179  Mathematics            C         B    False    CoT   25\n",
       "4499  questao_180  Mathematics            B         A    False    CoT   25"
      ]
     },
     "execution_count": 208,
     "metadata": {},
     "output_type": "execute_result"
    }
   ],
   "source": [
    "cot_all = load_and_merge_csvs(\"results/cot_few-shot_clean\", method_name=\"CoT\")\n",
    "cot_all.tail()"
   ]
  },
  {
   "cell_type": "markdown",
   "id": "f8af5568-68b0-416b-8944-b04864f1c9ec",
   "metadata": {
    "jp-MarkdownHeadingCollapsed": true
   },
   "source": [
    "### CoVe"
   ]
  },
  {
   "cell_type": "code",
   "execution_count": 209,
   "id": "3a7d8747-661e-4807-b6b5-f8793dc6c8fa",
   "metadata": {},
   "outputs": [
    {
     "data": {
      "text/html": [
       "<div>\n",
       "<style scoped>\n",
       "    .dataframe tbody tr th:only-of-type {\n",
       "        vertical-align: middle;\n",
       "    }\n",
       "\n",
       "    .dataframe tbody tr th {\n",
       "        vertical-align: top;\n",
       "    }\n",
       "\n",
       "    .dataframe thead th {\n",
       "        text-align: right;\n",
       "    }\n",
       "</style>\n",
       "<table border=\"1\" class=\"dataframe\">\n",
       "  <thead>\n",
       "    <tr style=\"text-align: right;\">\n",
       "      <th></th>\n",
       "      <th>id</th>\n",
       "      <th>subject</th>\n",
       "      <th>ground_truth</th>\n",
       "      <th>predicted</th>\n",
       "      <th>correct</th>\n",
       "      <th>initial_answer</th>\n",
       "      <th>method</th>\n",
       "      <th>run</th>\n",
       "    </tr>\n",
       "  </thead>\n",
       "  <tbody>\n",
       "    <tr>\n",
       "      <th>3775</th>\n",
       "      <td>questao_176</td>\n",
       "      <td>Mathematics</td>\n",
       "      <td>D</td>\n",
       "      <td>D</td>\n",
       "      <td>True</td>\n",
       "      <td>D</td>\n",
       "      <td>CoVe</td>\n",
       "      <td>21</td>\n",
       "    </tr>\n",
       "    <tr>\n",
       "      <th>3776</th>\n",
       "      <td>questao_177</td>\n",
       "      <td>Mathematics</td>\n",
       "      <td>A</td>\n",
       "      <td>B</td>\n",
       "      <td>False</td>\n",
       "      <td>A</td>\n",
       "      <td>CoVe</td>\n",
       "      <td>21</td>\n",
       "    </tr>\n",
       "    <tr>\n",
       "      <th>3777</th>\n",
       "      <td>questao_178</td>\n",
       "      <td>Mathematics</td>\n",
       "      <td>D</td>\n",
       "      <td>D</td>\n",
       "      <td>True</td>\n",
       "      <td>D</td>\n",
       "      <td>CoVe</td>\n",
       "      <td>21</td>\n",
       "    </tr>\n",
       "    <tr>\n",
       "      <th>3778</th>\n",
       "      <td>questao_179</td>\n",
       "      <td>Mathematics</td>\n",
       "      <td>C</td>\n",
       "      <td>B</td>\n",
       "      <td>False</td>\n",
       "      <td>B</td>\n",
       "      <td>CoVe</td>\n",
       "      <td>21</td>\n",
       "    </tr>\n",
       "    <tr>\n",
       "      <th>3779</th>\n",
       "      <td>questao_180</td>\n",
       "      <td>Mathematics</td>\n",
       "      <td>B</td>\n",
       "      <td>A</td>\n",
       "      <td>False</td>\n",
       "      <td>A</td>\n",
       "      <td>CoVe</td>\n",
       "      <td>21</td>\n",
       "    </tr>\n",
       "  </tbody>\n",
       "</table>\n",
       "</div>"
      ],
      "text/plain": [
       "               id      subject ground_truth predicted  correct initial_answer  \\\n",
       "3775  questao_176  Mathematics            D         D     True              D   \n",
       "3776  questao_177  Mathematics            A         B    False              A   \n",
       "3777  questao_178  Mathematics            D         D     True              D   \n",
       "3778  questao_179  Mathematics            C         B    False              B   \n",
       "3779  questao_180  Mathematics            B         A    False              A   \n",
       "\n",
       "     method  run  \n",
       "3775   CoVe   21  \n",
       "3776   CoVe   21  \n",
       "3777   CoVe   21  \n",
       "3778   CoVe   21  \n",
       "3779   CoVe   21  "
      ]
     },
     "execution_count": 209,
     "metadata": {},
     "output_type": "execute_result"
    }
   ],
   "source": [
    "cove_all = load_and_merge_csvs(\"results/cove_few-shot_clean\", method_name=\"CoVe\")\n",
    "cove_all.tail()"
   ]
  },
  {
   "cell_type": "markdown",
   "id": "00852263-8eb6-4a38-9b8b-347c4d1b8287",
   "metadata": {
    "jp-MarkdownHeadingCollapsed": true
   },
   "source": [
    "### Self-Refine"
   ]
  },
  {
   "cell_type": "code",
   "execution_count": 210,
   "id": "2c89dead-7b33-4f27-8f34-fd49b3d87e07",
   "metadata": {},
   "outputs": [
    {
     "data": {
      "text/html": [
       "<div>\n",
       "<style scoped>\n",
       "    .dataframe tbody tr th:only-of-type {\n",
       "        vertical-align: middle;\n",
       "    }\n",
       "\n",
       "    .dataframe tbody tr th {\n",
       "        vertical-align: top;\n",
       "    }\n",
       "\n",
       "    .dataframe thead th {\n",
       "        text-align: right;\n",
       "    }\n",
       "</style>\n",
       "<table border=\"1\" class=\"dataframe\">\n",
       "  <thead>\n",
       "    <tr style=\"text-align: right;\">\n",
       "      <th></th>\n",
       "      <th>id</th>\n",
       "      <th>subject</th>\n",
       "      <th>ground_truth</th>\n",
       "      <th>predicted</th>\n",
       "      <th>correct</th>\n",
       "      <th>initial_answer</th>\n",
       "      <th>method</th>\n",
       "      <th>run</th>\n",
       "    </tr>\n",
       "  </thead>\n",
       "  <tbody>\n",
       "    <tr>\n",
       "      <th>3775</th>\n",
       "      <td>questao_176</td>\n",
       "      <td>Mathematics</td>\n",
       "      <td>D</td>\n",
       "      <td>D</td>\n",
       "      <td>True</td>\n",
       "      <td>D</td>\n",
       "      <td>Self-Refine</td>\n",
       "      <td>21</td>\n",
       "    </tr>\n",
       "    <tr>\n",
       "      <th>3776</th>\n",
       "      <td>questao_177</td>\n",
       "      <td>Mathematics</td>\n",
       "      <td>A</td>\n",
       "      <td>D</td>\n",
       "      <td>False</td>\n",
       "      <td>C</td>\n",
       "      <td>Self-Refine</td>\n",
       "      <td>21</td>\n",
       "    </tr>\n",
       "    <tr>\n",
       "      <th>3777</th>\n",
       "      <td>questao_178</td>\n",
       "      <td>Mathematics</td>\n",
       "      <td>D</td>\n",
       "      <td>A</td>\n",
       "      <td>False</td>\n",
       "      <td>D</td>\n",
       "      <td>Self-Refine</td>\n",
       "      <td>21</td>\n",
       "    </tr>\n",
       "    <tr>\n",
       "      <th>3778</th>\n",
       "      <td>questao_179</td>\n",
       "      <td>Mathematics</td>\n",
       "      <td>C</td>\n",
       "      <td>C</td>\n",
       "      <td>True</td>\n",
       "      <td>E</td>\n",
       "      <td>Self-Refine</td>\n",
       "      <td>21</td>\n",
       "    </tr>\n",
       "    <tr>\n",
       "      <th>3779</th>\n",
       "      <td>questao_180</td>\n",
       "      <td>Mathematics</td>\n",
       "      <td>B</td>\n",
       "      <td>A</td>\n",
       "      <td>False</td>\n",
       "      <td>A</td>\n",
       "      <td>Self-Refine</td>\n",
       "      <td>21</td>\n",
       "    </tr>\n",
       "  </tbody>\n",
       "</table>\n",
       "</div>"
      ],
      "text/plain": [
       "               id      subject ground_truth predicted  correct initial_answer  \\\n",
       "3775  questao_176  Mathematics            D         D     True              D   \n",
       "3776  questao_177  Mathematics            A         D    False              C   \n",
       "3777  questao_178  Mathematics            D         A    False              D   \n",
       "3778  questao_179  Mathematics            C         C     True              E   \n",
       "3779  questao_180  Mathematics            B         A    False              A   \n",
       "\n",
       "           method  run  \n",
       "3775  Self-Refine   21  \n",
       "3776  Self-Refine   21  \n",
       "3777  Self-Refine   21  \n",
       "3778  Self-Refine   21  \n",
       "3779  Self-Refine   21  "
      ]
     },
     "execution_count": 210,
     "metadata": {},
     "output_type": "execute_result"
    }
   ],
   "source": [
    "selfrefine_all = load_and_merge_csvs(\"results/self-refine_few-shot_clean\", method_name=\"Self-Refine\")\n",
    "selfrefine_all.tail()"
   ]
  },
  {
   "cell_type": "markdown",
   "id": "93609b76-e241-4c52-9229-aa0dffecffa8",
   "metadata": {
    "jp-MarkdownHeadingCollapsed": true
   },
   "source": [
    "### Dataset Summary"
   ]
  },
  {
   "cell_type": "code",
   "execution_count": 211,
   "id": "9c73a943-bd95-4067-8fac-7533a2e9a695",
   "metadata": {},
   "outputs": [
    {
     "name": "stdout",
     "output_type": "stream",
     "text": [
      "Method         Rows      Columns   Runs      Unique IDs     \n",
      "------------------------------------------------------------\n",
      "CoT            4500      7         25        180            \n",
      "CoVe           3780      8         21        180            \n",
      "Self-Refine    3780      8         21        180            \n"
     ]
    }
   ],
   "source": [
    "print(f\"{'Method':<15}{'Rows':<10}{'Columns':<10}{'Runs':<10}{'Unique IDs':<15}\")\n",
    "print(\"-\" * 60)\n",
    "print(f\"{'CoT':<15}{cot_all.shape[0]:<10}{cot_all.shape[1]:<10}{cot_all['run'].nunique():<10}{cot_all['id'].nunique():<15}\")\n",
    "print(f\"{'CoVe':<15}{cove_all.shape[0]:<10}{cove_all.shape[1]:<10}{cove_all['run'].nunique():<10}{cove_all['id'].nunique():<15}\")\n",
    "print(f\"{'Self-Refine':<15}{selfrefine_all.shape[0]:<10}{selfrefine_all.shape[1]:<10}{selfrefine_all['run'].nunique():<10}{selfrefine_all['id'].nunique():<15}\")\n"
   ]
  },
  {
   "cell_type": "markdown",
   "id": "81efe330-0d14-4ea7-bddb-dfaf12205cef",
   "metadata": {},
   "source": [
    "## Accuracy per Run: Mean"
   ]
  },
  {
   "cell_type": "markdown",
   "id": "51fa9188-202a-4b8b-ac66-e41c018f4120",
   "metadata": {},
   "source": [
    "#### Concat data from each method"
   ]
  },
  {
   "cell_type": "code",
   "execution_count": 334,
   "id": "f8cfda65-ab4e-4024-9d6e-f49b37c6678e",
   "metadata": {},
   "outputs": [],
   "source": [
    "accuracy_by_run = pd.concat([cot_all, cove_all, selfrefine_all], ignore_index=True)"
   ]
  },
  {
   "cell_type": "markdown",
   "id": "29e335b3-52b3-4479-81d5-923394499cad",
   "metadata": {},
   "source": [
    "#### Calculate mean accuracy per method and test run"
   ]
  },
  {
   "cell_type": "code",
   "execution_count": 335,
   "id": "19645978-1a07-45a4-afe6-ef4d5e385931",
   "metadata": {},
   "outputs": [
    {
     "name": "stdout",
     "output_type": "stream",
     "text": [
      "Per-run Accuracy:\n",
      "method    CoT   CoVe  Self-Refine\n",
      "run                              \n",
      "1       0.672  0.672        0.700\n",
      "2       0.722  0.683        0.694\n",
      "3       0.661  0.650        0.678\n",
      "4       0.706  0.672        0.706\n",
      "5       0.711  0.728        0.722\n",
      "6       0.711  0.650        0.683\n",
      "7       0.694  0.639        0.700\n",
      "8       0.700  0.667        0.700\n",
      "9       0.706  0.644        0.683\n",
      "10      0.706  0.650        0.700\n",
      "11      0.722  0.689        0.683\n",
      "12      0.683  0.683        0.700\n",
      "13      0.694  0.683        0.667\n",
      "14      0.717  0.661        0.656\n",
      "15      0.711  0.689        0.672\n",
      "16      0.678  0.689        0.672\n",
      "17      0.717  0.667        0.694\n",
      "18      0.667  0.694        0.667\n",
      "19      0.700  0.644        0.711\n",
      "20      0.711  0.706        0.694\n",
      "21      0.711  0.672        0.694\n",
      "22      0.728    NaN          NaN\n",
      "23      0.689    NaN          NaN\n",
      "24      0.694    NaN          NaN\n",
      "25      0.728    NaN          NaN\n"
     ]
    }
   ],
   "source": [
    "run_stats = accuracy_by_run.groupby([\"method\", \"run\"])[\"correct\"].mean().reset_index()\n",
    "\n",
    "print(\"Per-run Accuracy:\")\n",
    "print(run_stats.pivot(index=\"run\", columns=\"method\", values=\"correct\").round(3))"
   ]
  },
  {
   "cell_type": "markdown",
   "id": "9a09e0b6-dff8-469c-8f5a-abef1cefdedb",
   "metadata": {},
   "source": [
    "## 📊 General Accuracy: General Mean and Standard Deviation"
   ]
  },
  {
   "cell_type": "code",
   "execution_count": 336,
   "id": "c75fb5a6-5f2a-4468-9629-3808749e20fa",
   "metadata": {
    "jupyter": {
     "source_hidden": true
    }
   },
   "outputs": [
    {
     "name": "stdout",
     "output_type": "stream",
     "text": [
      "Runs count per method:\n",
      "        method  runs\n",
      "0          CoT    25\n",
      "1         CoVe    21\n",
      "2  Self-Refine    21\n",
      "\n",
      "Overall Accuracy with Number of Runs:\n",
      "        method  accuracy_mean_all  accuracy_std_all  runs\n",
      "0          CoT           0.701556          0.192184    25\n",
      "1         CoVe           0.673016          0.211117    21\n",
      "2  Self-Refine           0.689418          0.191038    21\n"
     ]
    }
   ],
   "source": [
    "# Compute the number of unique runs per method from the original data.\n",
    "runs_count = accuracy_by_run.groupby(\"method\")[\"run\"].nunique().reset_index(name=\"runs\")\n",
    "print(\"Runs count per method:\")\n",
    "print(runs_count)\n",
    "\n",
    "# Group by method, subject, and run to compute the per-run average correctness.\n",
    "df_grouped = accuracy_by_run.groupby([\"method\", \"subject\", \"run\"])[\"correct\"].mean().reset_index()\n",
    "\n",
    "# Aggregate across runs (across all subjects) for each method.\n",
    "df_overall = df_grouped.groupby(\"method\")[\"correct\"].agg([\"mean\", \"std\"]).reset_index()\n",
    "df_overall.rename(columns={\"mean\": \"accuracy_mean_all\", \"std\": \"accuracy_std_all\"}, inplace=True)\n",
    "\n",
    "# Merge the runs count into df_overall.\n",
    "df_overall = df_overall.merge(runs_count, on=\"method\")\n",
    "\n",
    "print(\"\\nOverall Accuracy with Number of Runs:\")\n",
    "print(df_overall)\n"
   ]
  },
  {
   "cell_type": "code",
   "execution_count": 337,
   "id": "19e54b45-18d6-473e-996c-f677c2e6c23b",
   "metadata": {
    "jupyter": {
     "source_hidden": true
    }
   },
   "outputs": [
    {
     "data": {
      "image/png": "[encoded data removed]",
      "text/plain": [
       "<Figure size 800x600 with 1 Axes>"
      ]
     },
     "metadata": {},
     "output_type": "display_data"
    }
   ],
   "source": [
    "import matplotlib.pyplot as plt\n",
    "\n",
    "plt.figure(figsize=(8, 6))\n",
    "bars = plt.bar(\n",
    "    df_overall[\"method\"],\n",
    "    df_overall[\"accuracy_mean_all\"],\n",
    "    yerr=df_overall[\"accuracy_std_all\"],\n",
    "    capsize=5,\n",
    "    color=\"skyblue\",\n",
    "    edgecolor=\"black\"\n",
    ")\n",
    "plt.xlabel(\"Method\")\n",
    "plt.ylabel(\"Overall Accuracy\")\n",
    "plt.title(\"Overall Accuracy by Method (with Standard Deviation)\")\n",
    "plt.ylim(0, 1)  # Adjust if your accuracy scale is 0-1\n",
    "\n",
    "# Create new x-axis labels that include the run count\n",
    "new_labels = [f\"{m} (n={r})\" for m, r in zip(df_overall[\"method\"], df_overall[\"runs\"])]\n",
    "\n",
    "# Replace the default tick labels with the new labels\n",
    "plt.xticks(ticks=range(len(new_labels)), labels=new_labels)\n",
    "\n",
    "plt.show()\n"
   ]
  },
  {
   "cell_type": "markdown",
   "id": "999f9fc9-36b7-4eca-a6d3-2af1776e0001",
   "metadata": {},
   "source": [
    "## Accuracy per Subject: Mean and Standard Deviation"
   ]
  },
  {
   "cell_type": "markdown",
   "id": "83540695-15c3-4080-8254-d9bdf5b75fac",
   "metadata": {},
   "source": [
    "### Calculate Mean and Standard Deviation"
   ]
  },
  {
   "cell_type": "markdown",
   "id": "d4f74eb1-8d9b-42e1-b37e-4e74252ebafd",
   "metadata": {},
   "source": [
    "#### Aggregate per Subject"
   ]
  },
  {
   "cell_type": "code",
   "execution_count": 341,
   "id": "ca966408-282c-40f2-b801-475957624f68",
   "metadata": {},
   "outputs": [],
   "source": [
    "df_agg = (\n",
    "    accuracy_by_run.groupby([\"method\", \"subject\", \"run\"])[\"correct\"]\n",
    "    .mean()  # Average correctness per run\n",
    "    .groupby([\"method\", \"subject\"])\n",
    "    .agg(accuracy_mean=\"mean\", accuracy_std=\"std\")  # Aggregate across runs\n",
    "    .reset_index()\n",
    ")"
   ]
  },
  {
   "cell_type": "markdown",
   "id": "1e34238a-5770-43ca-adc1-3d4532189aa5",
   "metadata": {},
   "source": [
    "#### Mean"
   ]
  },
  {
   "cell_type": "code",
   "execution_count": 217,
   "id": "b9a604ba-3056-478b-abc8-156a93a89bbb",
   "metadata": {
    "scrolled": true
   },
   "outputs": [
    {
     "data": {
      "text/html": [
       "<div>\n",
       "<style scoped>\n",
       "    .dataframe tbody tr th:only-of-type {\n",
       "        vertical-align: middle;\n",
       "    }\n",
       "\n",
       "    .dataframe tbody tr th {\n",
       "        vertical-align: top;\n",
       "    }\n",
       "\n",
       "    .dataframe thead th {\n",
       "        text-align: right;\n",
       "    }\n",
       "</style>\n",
       "<table border=\"1\" class=\"dataframe\">\n",
       "  <thead>\n",
       "    <tr style=\"text-align: right;\">\n",
       "      <th>subject</th>\n",
       "      <th>Human Sciences</th>\n",
       "      <th>Languages</th>\n",
       "      <th>Mathematics</th>\n",
       "      <th>Natural Sciences</th>\n",
       "    </tr>\n",
       "    <tr>\n",
       "      <th>method</th>\n",
       "      <th></th>\n",
       "      <th></th>\n",
       "      <th></th>\n",
       "      <th></th>\n",
       "    </tr>\n",
       "  </thead>\n",
       "  <tbody>\n",
       "    <tr>\n",
       "      <th>CoT</th>\n",
       "      <td>0.956444</td>\n",
       "      <td>0.801778</td>\n",
       "      <td>0.486222</td>\n",
       "      <td>0.561778</td>\n",
       "    </tr>\n",
       "    <tr>\n",
       "      <th>CoVe</th>\n",
       "      <td>0.940741</td>\n",
       "      <td>0.792593</td>\n",
       "      <td>0.407407</td>\n",
       "      <td>0.551323</td>\n",
       "    </tr>\n",
       "    <tr>\n",
       "      <th>Self-Refine</th>\n",
       "      <td>0.947090</td>\n",
       "      <td>0.784127</td>\n",
       "      <td>0.487831</td>\n",
       "      <td>0.538624</td>\n",
       "    </tr>\n",
       "  </tbody>\n",
       "</table>\n",
       "</div>"
      ],
      "text/plain": [
       "subject      Human Sciences  Languages  Mathematics  Natural Sciences\n",
       "method                                                               \n",
       "CoT                0.956444   0.801778     0.486222          0.561778\n",
       "CoVe               0.940741   0.792593     0.407407          0.551323\n",
       "Self-Refine        0.947090   0.784127     0.487831          0.538624"
      ]
     },
     "execution_count": 217,
     "metadata": {},
     "output_type": "execute_result"
    }
   ],
   "source": [
    "df_accuracy_mean_per_subject = df_agg.pivot(index=\"method\", columns=\"subject\", values=\"accuracy_mean\")\n",
    "\n",
    "df_accuracy_mean_per_subject"
   ]
  },
  {
   "cell_type": "markdown",
   "id": "ca249b37-d333-4369-8508-1e48476d981b",
   "metadata": {},
   "source": [
    "#### Standard Deviation"
   ]
  },
  {
   "cell_type": "code",
   "execution_count": 218,
   "id": "5bd7f8fa-fbe5-4856-984d-16065921e4ee",
   "metadata": {},
   "outputs": [
    {
     "data": {
      "text/html": [
       "<div>\n",
       "<style scoped>\n",
       "    .dataframe tbody tr th:only-of-type {\n",
       "        vertical-align: middle;\n",
       "    }\n",
       "\n",
       "    .dataframe tbody tr th {\n",
       "        vertical-align: top;\n",
       "    }\n",
       "\n",
       "    .dataframe thead th {\n",
       "        text-align: right;\n",
       "    }\n",
       "</style>\n",
       "<table border=\"1\" class=\"dataframe\">\n",
       "  <thead>\n",
       "    <tr style=\"text-align: right;\">\n",
       "      <th>subject</th>\n",
       "      <th>Human Sciences</th>\n",
       "      <th>Languages</th>\n",
       "      <th>Mathematics</th>\n",
       "      <th>Natural Sciences</th>\n",
       "    </tr>\n",
       "    <tr>\n",
       "      <th>method</th>\n",
       "      <th></th>\n",
       "      <th></th>\n",
       "      <th></th>\n",
       "      <th></th>\n",
       "    </tr>\n",
       "  </thead>\n",
       "  <tbody>\n",
       "    <tr>\n",
       "      <th>CoT</th>\n",
       "      <td>0.025240</td>\n",
       "      <td>0.025596</td>\n",
       "      <td>0.053024</td>\n",
       "      <td>0.038233</td>\n",
       "    </tr>\n",
       "    <tr>\n",
       "      <th>CoVe</th>\n",
       "      <td>0.028400</td>\n",
       "      <td>0.039959</td>\n",
       "      <td>0.036740</td>\n",
       "      <td>0.036256</td>\n",
       "    </tr>\n",
       "    <tr>\n",
       "      <th>Self-Refine</th>\n",
       "      <td>0.021632</td>\n",
       "      <td>0.046157</td>\n",
       "      <td>0.040047</td>\n",
       "      <td>0.039693</td>\n",
       "    </tr>\n",
       "  </tbody>\n",
       "</table>\n",
       "</div>"
      ],
      "text/plain": [
       "subject      Human Sciences  Languages  Mathematics  Natural Sciences\n",
       "method                                                               \n",
       "CoT                0.025240   0.025596     0.053024          0.038233\n",
       "CoVe               0.028400   0.039959     0.036740          0.036256\n",
       "Self-Refine        0.021632   0.046157     0.040047          0.039693"
      ]
     },
     "execution_count": 218,
     "metadata": {},
     "output_type": "execute_result"
    }
   ],
   "source": [
    "df_accuracy_std_per_subject = df_agg.pivot(index=\"method\", columns=\"subject\", values=\"accuracy_std\")\n",
    "\n",
    "df_accuracy_std_per_subject"
   ]
  },
  {
   "cell_type": "markdown",
   "id": "a22d7709-4613-4a72-b0b9-393c4a9b982f",
   "metadata": {},
   "source": [
    "#### Mean and Standard Deviation"
   ]
  },
  {
   "cell_type": "code",
   "execution_count": 219,
   "id": "439bf71c-9672-435d-9fcf-efa70a3208d6",
   "metadata": {},
   "outputs": [
    {
     "data": {
      "text/html": [
       "<div>\n",
       "<style scoped>\n",
       "    .dataframe tbody tr th:only-of-type {\n",
       "        vertical-align: middle;\n",
       "    }\n",
       "\n",
       "    .dataframe tbody tr th {\n",
       "        vertical-align: top;\n",
       "    }\n",
       "\n",
       "    .dataframe thead th {\n",
       "        text-align: right;\n",
       "    }\n",
       "</style>\n",
       "<table border=\"1\" class=\"dataframe\">\n",
       "  <thead>\n",
       "    <tr style=\"text-align: right;\">\n",
       "      <th>subject</th>\n",
       "      <th>Human Sciences</th>\n",
       "      <th>Languages</th>\n",
       "      <th>Mathematics</th>\n",
       "      <th>Natural Sciences</th>\n",
       "    </tr>\n",
       "    <tr>\n",
       "      <th>method</th>\n",
       "      <th></th>\n",
       "      <th></th>\n",
       "      <th></th>\n",
       "      <th></th>\n",
       "    </tr>\n",
       "  </thead>\n",
       "  <tbody>\n",
       "    <tr>\n",
       "      <th>CoT</th>\n",
       "      <td>0.956 ± 0.025</td>\n",
       "      <td>0.802 ± 0.026</td>\n",
       "      <td>0.486 ± 0.053</td>\n",
       "      <td>0.562 ± 0.038</td>\n",
       "    </tr>\n",
       "    <tr>\n",
       "      <th>CoVe</th>\n",
       "      <td>0.941 ± 0.028</td>\n",
       "      <td>0.793 ± 0.040</td>\n",
       "      <td>0.407 ± 0.037</td>\n",
       "      <td>0.551 ± 0.036</td>\n",
       "    </tr>\n",
       "    <tr>\n",
       "      <th>Self-Refine</th>\n",
       "      <td>0.947 ± 0.022</td>\n",
       "      <td>0.784 ± 0.046</td>\n",
       "      <td>0.488 ± 0.040</td>\n",
       "      <td>0.539 ± 0.040</td>\n",
       "    </tr>\n",
       "  </tbody>\n",
       "</table>\n",
       "</div>"
      ],
      "text/plain": [
       "subject     Human Sciences      Languages    Mathematics Natural Sciences\n",
       "method                                                                   \n",
       "CoT          0.956 ± 0.025  0.802 ± 0.026  0.486 ± 0.053    0.562 ± 0.038\n",
       "CoVe         0.941 ± 0.028  0.793 ± 0.040  0.407 ± 0.037    0.551 ± 0.036\n",
       "Self-Refine  0.947 ± 0.022  0.784 ± 0.046  0.488 ± 0.040    0.539 ± 0.040"
      ]
     },
     "execution_count": 219,
     "metadata": {},
     "output_type": "execute_result"
    }
   ],
   "source": [
    "df_agg[\"accuracy_formatted\"] = df_agg.apply(\n",
    "    lambda row: f\"{row['accuracy_mean']:.3f} ± {row['accuracy_std']:.3f}\", axis=1\n",
    ")\n",
    "\n",
    "df_accuracy_mean_std_per_subject = df_agg.pivot(index=\"method\", columns=\"subject\", values=\"accuracy_formatted\")\n",
    "\n",
    "df_accuracy_mean_std_per_subject"
   ]
  },
  {
   "cell_type": "markdown",
   "id": "9459884b-6509-4f17-a5f7-261c24affdef",
   "metadata": {},
   "source": [
    "### 📊 Accuracy per Subject: Mean and Std"
   ]
  },
  {
   "cell_type": "code",
   "execution_count": 318,
   "id": "5dc7f0b4-9231-45f0-aa4b-79694f523911",
   "metadata": {},
   "outputs": [
    {
     "data": {
      "image/png": "[encoded data removed]",
      "text/plain": [
       "<Figure size 1000x600 with 1 Axes>"
      ]
     },
     "metadata": {},
     "output_type": "display_data"
    }
   ],
   "source": [
    "import matplotlib.pyplot as plt\n",
    "import numpy as np\n",
    "import seaborn as sns  # for pastel palette\n",
    "\n",
    "# Compute the overall number of runs per method\n",
    "runs_count_overall = accuracy_by_run.groupby(\"method\")[\"run\"].nunique()\n",
    "runs_dict = runs_count_overall.to_dict()\n",
    "\n",
    "# Extract subjects and methods\n",
    "subjects = df_accuracy_mean_per_subject.columns.tolist()\n",
    "methods = df_accuracy_mean_per_subject.index.tolist()\n",
    "\n",
    "# Create positions on the x-axis for each subject\n",
    "n_subjects = len(subjects)\n",
    "x = np.arange(n_subjects)\n",
    "bar_width = 0.8 / len(methods)\n",
    "\n",
    "# Get pastel color palette with as many colors as methods\n",
    "pastel_colors = sns.color_palette(\"pastel\", n_colors=len(methods))\n",
    "\n",
    "plt.figure(figsize=(10, 6))\n",
    "\n",
    "# Plot bars per method with error bars\n",
    "for i, method in enumerate(methods):\n",
    "    means = df_accuracy_mean_per_subject.loc[method].values\n",
    "    stds = df_accuracy_std_per_subject.loc[method].values\n",
    "    offset = (i - (len(methods) - 1) / 2) * bar_width\n",
    "    label_with_runs = f\"{method} (n={runs_dict.get(method, '?')})\"\n",
    "    \n",
    "    plt.bar(\n",
    "        x + offset,\n",
    "        means,\n",
    "        bar_width,\n",
    "        yerr=stds,\n",
    "        capsize=5,\n",
    "        label=label_with_runs,\n",
    "        color=pastel_colors[i]\n",
    "    )\n",
    "\n",
    "# Final plot adjustments\n",
    "plt.xticks(x, subjects)\n",
    "plt.xlabel(\"Subject\")\n",
    "plt.ylabel(\"Accuracy Mean\")\n",
    "plt.title(\"Accuracy Mean and Standard Deviation per Subject\")\n",
    "plt.ylim(0, 1)\n",
    "plt.legend(title=\"Method\")\n",
    "plt.tight_layout()\n",
    "plt.show()\n"
   ]
  },
  {
   "cell_type": "markdown",
   "id": "1da60c7a-436b-4e42-a519-561f1bd4cea1",
   "metadata": {},
   "source": [
    "## Feedback Effects in CoVe and Self-Refine"
   ]
  },
  {
   "cell_type": "markdown",
   "id": "4c31408d-ca23-47e0-880a-7c82dadff42f",
   "metadata": {
    "jp-MarkdownHeadingCollapsed": true
   },
   "source": [
    "### Helpers"
   ]
  },
  {
   "cell_type": "code",
   "execution_count": 325,
   "id": "d9a7ba86-8073-4e9e-a52c-df4f10a529a6",
   "metadata": {
    "jupyter": {
     "source_hidden": true
    }
   },
   "outputs": [],
   "source": [
    "# --- Consistent color mapping ---\n",
    "custom_colors = {\n",
    "    'Improvement': '#B6E2A1',          \n",
    "    'Regression': '#F7A4A4',           \n",
    "    'Consistently Correct': '#FFFBC1', \n",
    "    'Consistently Incorrect': '#FEBE8C' \n",
    "}\n",
    "\n",
    "# --- Classification function ---\n",
    "def classify_answer_change(row):\n",
    "    initial_correct = row['initial_answer'] == row['ground_truth']\n",
    "    final_correct = row['predicted'] == row['ground_truth']\n",
    "    if not initial_correct and final_correct:\n",
    "        return 'Improvement'\n",
    "    elif initial_correct and not final_correct:\n",
    "        return 'Regression'\n",
    "    elif initial_correct and final_correct:\n",
    "        return 'Consistently Correct'\n",
    "    else:\n",
    "        return 'Consistently Incorrect'\n",
    "\n",
    "# --- Preprocessing function ---\n",
    "def prepare_data(df, method_label):\n",
    "    df = df.copy()\n",
    "    df['result_category'] = df.apply(classify_answer_change, axis=1)\n",
    "    df['method_label'] = method_label\n",
    "    return df\n",
    "\n",
    "# --- Plotting helper for both plots per method ---\n",
    "def plot_method_row(df, method_label, axs_row):\n",
    "    # Plot 1: Answer Transitions (Bar Plot)\n",
    "    counts = df['result_category'].value_counts().reindex([\n",
    "        'Improvement', 'Regression', 'Consistently Correct', 'Consistently Incorrect'\n",
    "    ], fill_value=0)\n",
    "    colors = [custom_colors[cat] for cat in counts.index]\n",
    "    axs_row[0].bar(counts.index, counts.values, color=colors)\n",
    "    axs_row[0].set_title(f\"Answer Transitions – {method_label}\")\n",
    "    axs_row[0].set_ylabel(\"Number of Answers\")\n",
    "    axs_row[0].grid(axis='y')\n",
    "    \n",
    "    # Remove x-axis tick labels\n",
    "    axs_row[0].set_xticks([])       # removes the ticks\n",
    "    axs_row[0].set_xticklabels([])  # removes the labels\n",
    "\n",
    "\n",
    "    # Plot 2: Stacked Bar per Subject\n",
    "    subject_counts = (\n",
    "        df.groupby(['subject', 'result_category'])\n",
    "        .size()\n",
    "        .unstack(fill_value=0)\n",
    "        .reindex(columns=[\n",
    "            'Improvement', 'Regression', 'Consistently Correct', 'Consistently Incorrect'\n",
    "        ], fill_value=0)\n",
    "    )\n",
    "    subject_counts.plot(\n",
    "        kind='bar',\n",
    "        stacked=True,\n",
    "        ax=axs_row[1],\n",
    "        color=[custom_colors[col] for col in subject_counts.columns],\n",
    "        legend=False\n",
    "    )\n",
    "    axs_row[1].set_title(f\"Feedback Result Categories per Subject – {method_label}\")\n",
    "    axs_row[1].set_ylabel(\"Number of Questions\")\n",
    "    axs_row[1].set_xlabel(\"Subject\")\n",
    "    axs_row[1].tick_params(axis='x', rotation=0)\n",
    "    axs_row[1].grid(axis='y')"
   ]
  },
  {
   "cell_type": "markdown",
   "id": "5fa4d151-f52b-4b9d-85c1-c80a226f4f40",
   "metadata": {
    "jp-MarkdownHeadingCollapsed": true
   },
   "source": [
    "### Prepare data"
   ]
  },
  {
   "cell_type": "code",
   "execution_count": 326,
   "id": "7f695923-c4e7-4a14-8872-9848ee4b287e",
   "metadata": {},
   "outputs": [],
   "source": [
    "cove_runs = cove_all['run'].nunique()\n",
    "selfrefine_runs = selfrefine_all['run'].nunique()\n",
    "\n",
    "cove_all_classified = prepare_data(cove_all, f\"Chain-of-Verification ({cove_runs} runs)\")\n",
    "selfrefine_all_classified = prepare_data(selfrefine_all, f\"SELF-REFINE ({selfrefine_runs} runs)\")"
   ]
  },
  {
   "cell_type": "markdown",
   "id": "be91499f-4e8c-45b1-b736-26c1a35b7f62",
   "metadata": {},
   "source": [
    "### 📊 Feedback Effects by Method"
   ]
  },
  {
   "cell_type": "code",
   "execution_count": 327,
   "id": "6dd2a1e8-8900-4a00-b634-eb1bdd2ce7ea",
   "metadata": {
    "jupyter": {
     "source_hidden": true
    }
   },
   "outputs": [
    {
     "data": {
      "image/png": "[encoded data removed]",
      "text/plain": [
       "<Figure size 1600x1000 with 4 Axes>"
      ]
     },
     "metadata": {},
     "output_type": "display_data"
    }
   ],
   "source": [
    "import pandas as pd\n",
    "import matplotlib.pyplot as plt\n",
    "import seaborn as sns\n",
    "\n",
    "# --- Create 2x2 plot layout ---\n",
    "fig, axs = plt.subplots(nrows=2, ncols=2, figsize=(16, 10))\n",
    "\n",
    "plot_method_row(cove_all_classified, \"Chain-of-Verification\", axs[0])\n",
    "plot_method_row(selfrefine_all_classified, \"SELF-REFINE\", axs[1])\n",
    "\n",
    "# --- Shared legend ---\n",
    "# Create manual legend to ensure correct colors\n",
    "from matplotlib.patches import Patch\n",
    "legend_handles = [\n",
    "    Patch(color=custom_colors[k], label=k)\n",
    "    for k in ['Improvement', 'Regression', 'Consistently Correct', 'Consistently Incorrect']\n",
    "]\n",
    "fig.legend(\n",
    "    handles=legend_handles,\n",
    "    title=\"Result Category\",\n",
    "    loc='upper center',\n",
    "    bbox_to_anchor=(0.5, 0.97),\n",
    "    ncol=4,\n",
    "    frameon=False\n",
    ")\n",
    "\n",
    "fig.suptitle(\"Feedback Effects by Method\", fontsize=16, y=1)\n",
    "plt.subplots_adjust(top=0.88, hspace=0.4, wspace=0.25)\n",
    "plt.show()"
   ]
  },
  {
   "cell_type": "markdown",
   "id": "b36f2165-50e6-4b8b-832b-a746b5b70cf5",
   "metadata": {},
   "source": [
    "### 📊 Feedback effects by Subject"
   ]
  },
  {
   "cell_type": "code",
   "execution_count": 328,
   "id": "12ca72ad-e93d-48bc-8933-8f48082999cb",
   "metadata": {
    "jupyter": {
     "source_hidden": true
    }
   },
   "outputs": [
    {
     "data": {
      "image/png": "[encoded data removed]",
      "text/plain": [
       "<Figure size 1457.62x1000 with 4 Axes>"
      ]
     },
     "metadata": {},
     "output_type": "display_data"
    }
   ],
   "source": [
    "# --- Combine for plotting ---\n",
    "combined_classified_df = pd.concat([cove_all_classified, selfrefine_all_classified], ignore_index=True)\n",
    "\n",
    "# --- Grouped counts per subject, method, result category ---\n",
    "subject_summary = (\n",
    "    combined_classified_df\n",
    "    .groupby(['subject', 'method_label', 'result_category'])\n",
    "    .size()\n",
    "    .reset_index(name='count')\n",
    ")\n",
    "\n",
    "# --- Consistent category order ---\n",
    "category_order = ['Improvement', 'Regression', 'Consistently Correct', 'Consistently Incorrect']\n",
    "\n",
    "# --- Plot using Seaborn catplot ---\n",
    "plot = sns.catplot(\n",
    "    data=subject_summary,\n",
    "    x='subject', y='count',\n",
    "    hue='method_label',\n",
    "    col='result_category',\n",
    "    kind='bar',\n",
    "    col_order=category_order,\n",
    "    palette='pastel', \n",
    "    col_wrap=2,\n",
    "    height=5, aspect=1.2\n",
    ")\n",
    "\n",
    "plot.set_titles(\"{col_name}\")\n",
    "plot.set_axis_labels(\"Subject\", \"Number of Answers\")\n",
    "plot.fig.subplots_adjust(top=0.9, hspace=0.3)\n",
    "plot.fig.suptitle(\"Feedback Accuracy Transitions per Subject and Method (Run Counts Included)\", fontsize=14)\n",
    "\n",
    "# Rotate x labels\n",
    "for ax in plot.axes.flat:\n",
    "    for label in ax.get_xticklabels():\n",
    "        label.set_rotation(0)\n",
    "        label.set_horizontalalignment('center')\n",
    "    ax.xaxis.set_tick_params(labelbottom=True)\n",
    "\n",
    "plt.show()"
   ]
  },
  {
   "cell_type": "markdown",
   "id": "cb989c32-76c8-4903-a34e-264ecd44824e",
   "metadata": {},
   "source": [
    "## Statistical Analysis"
   ]
  },
  {
   "cell_type": "markdown",
   "id": "e7cd87bd-abd4-4ec2-b7d0-56960913b0a2",
   "metadata": {},
   "source": [
    "### Are the differences in average accuracy between CoVe and Self-Refine statistically significant for a given subject?"
   ]
  },
  {
   "cell_type": "markdown",
   "id": "1d1b69c5-7829-456d-b6e3-68b0b7861bd4",
   "metadata": {},
   "source": [
    "Null Hypothesis: **There is no difference in the mean accuracy between CoVe and Self-Refine**."
   ]
  },
  {
   "cell_type": "code",
   "execution_count": 352,
   "id": "2ba15a75-d2d5-4e35-8e18-0e76c5106b46",
   "metadata": {
    "jupyter": {
     "source_hidden": true
    }
   },
   "outputs": [],
   "source": [
    "accuracy_per_run_and_subject = (\n",
    "    accuracy_by_run\n",
    "    .groupby(['method', 'run', 'subject'])['correct']\n",
    "    .mean()\n",
    "    .reset_index(name='accuracy')\n",
    ")"
   ]
  },
  {
   "cell_type": "markdown",
   "id": "fb223724-aa24-43fc-b11c-dca4e973252e",
   "metadata": {},
   "source": [
    "#### Welch's t-test"
   ]
  },
  {
   "cell_type": "markdown",
   "id": "5d5d1e86-63ab-4d1e-8e30-fec11b3fceb9",
   "metadata": {},
   "source": [
    "Compare the mean accuracy per run between two independent methods (CoVe and Self-Refine) for each subject. These groups may have unequal variances and different numbers of runs. \n",
    "\n",
    "Unlike the standard Student’s t-test, Welch’s t-test does not assume equal variances and is more reliable for real-world data where such assumptions may not hold. "
   ]
  },
  {
   "cell_type": "code",
   "execution_count": 349,
   "id": "9a00a321-7c37-4029-bdf1-b05178225064",
   "metadata": {
    "jupyter": {
     "source_hidden": true
    }
   },
   "outputs": [
    {
     "data": {
      "text/html": [
       "<div>\n",
       "<style scoped>\n",
       "    .dataframe tbody tr th:only-of-type {\n",
       "        vertical-align: middle;\n",
       "    }\n",
       "\n",
       "    .dataframe tbody tr th {\n",
       "        vertical-align: top;\n",
       "    }\n",
       "\n",
       "    .dataframe thead th {\n",
       "        text-align: right;\n",
       "    }\n",
       "</style>\n",
       "<table border=\"1\" class=\"dataframe\">\n",
       "  <thead>\n",
       "    <tr style=\"text-align: right;\">\n",
       "      <th></th>\n",
       "      <th>Subject</th>\n",
       "      <th>CoVe Mean</th>\n",
       "      <th>Self-Refine Mean</th>\n",
       "      <th>p-value</th>\n",
       "      <th>Significant (p &lt; 0.05)</th>\n",
       "    </tr>\n",
       "  </thead>\n",
       "  <tbody>\n",
       "    <tr>\n",
       "      <th>0</th>\n",
       "      <td>Human Sciences</td>\n",
       "      <td>0.940741</td>\n",
       "      <td>0.947090</td>\n",
       "      <td>4.202436e-01</td>\n",
       "      <td>False</td>\n",
       "    </tr>\n",
       "    <tr>\n",
       "      <th>1</th>\n",
       "      <td>Languages</td>\n",
       "      <td>0.792593</td>\n",
       "      <td>0.784127</td>\n",
       "      <td>5.288334e-01</td>\n",
       "      <td>False</td>\n",
       "    </tr>\n",
       "    <tr>\n",
       "      <th>2</th>\n",
       "      <td>Mathematics</td>\n",
       "      <td>0.407407</td>\n",
       "      <td>0.487831</td>\n",
       "      <td>3.923047e-08</td>\n",
       "      <td>True</td>\n",
       "    </tr>\n",
       "    <tr>\n",
       "      <th>3</th>\n",
       "      <td>Natural Sciences</td>\n",
       "      <td>0.551323</td>\n",
       "      <td>0.538624</td>\n",
       "      <td>2.855903e-01</td>\n",
       "      <td>False</td>\n",
       "    </tr>\n",
       "  </tbody>\n",
       "</table>\n",
       "</div>"
      ],
      "text/plain": [
       "            Subject  CoVe Mean  Self-Refine Mean       p-value  \\\n",
       "0    Human Sciences   0.940741          0.947090  4.202436e-01   \n",
       "1         Languages   0.792593          0.784127  5.288334e-01   \n",
       "2       Mathematics   0.407407          0.487831  3.923047e-08   \n",
       "3  Natural Sciences   0.551323          0.538624  2.855903e-01   \n",
       "\n",
       "   Significant (p < 0.05)  \n",
       "0                   False  \n",
       "1                   False  \n",
       "2                    True  \n",
       "3                   False  "
      ]
     },
     "execution_count": 349,
     "metadata": {},
     "output_type": "execute_result"
    }
   ],
   "source": [
    "from scipy.stats import ttest_ind\n",
    "import pandas as pd\n",
    "\n",
    "# Filter just CoVe and Self-Refine\n",
    "filtered = accuracy_per_run_and_subject[accuracy_per_run['method'].isin(['CoVe', 'Self-Refine'])]\n",
    "\n",
    "results = []\n",
    "\n",
    "for subject in filtered['subject'].unique():\n",
    "    cove = filtered[(filtered['subject'] == subject) & (filtered['method'] == 'CoVe')]['accuracy']\n",
    "    refine = filtered[(filtered['subject'] == subject) & (filtered['method'] == 'Self-Refine')]['accuracy']\n",
    "\n",
    "    stat, p = ttest_ind(cove, refine, equal_var=False)\n",
    "\n",
    "    results.append({\n",
    "        'Subject': subject,\n",
    "        'CoVe Mean': cove.mean(),\n",
    "        'Self-Refine Mean': refine.mean(),\n",
    "        'p-value': p,\n",
    "        'Significant (p < 0.05)': p < 0.05\n",
    "    })\n",
    "\n",
    "# Show result summary\n",
    "results_df = pd.DataFrame(results)\n",
    "results_df\n"
   ]
  },
  {
   "cell_type": "code",
   "execution_count": 350,
   "id": "1bc96b0d-b084-433c-8283-6a9e626a6f3e",
   "metadata": {
    "jupyter": {
     "source_hidden": true
    }
   },
   "outputs": [
    {
     "data": {
      "image/png": "[encoded data removed]",
      "text/plain": [
       "<Figure size 640x480 with 1 Axes>"
      ]
     },
     "metadata": {},
     "output_type": "display_data"
    }
   ],
   "source": [
    "import seaborn as sns\n",
    "import matplotlib.pyplot as plt\n",
    "\n",
    "sns.boxplot(data=filtered, x='subject', y='accuracy', hue='method', palette='pastel')\n",
    "plt.title(\"Accuracy Distributions per Subject (CoVe vs Self-Refine)\")\n",
    "plt.ylabel(\"Accuracy per Run\")\n",
    "plt.ylim(0, 1)\n",
    "plt.grid(axis='y')\n",
    "plt.legend(title='Method')\n",
    "plt.show()\n"
   ]
  },
  {
   "cell_type": "markdown",
   "id": "957eb39d-1558-4b43-8135-9659edefd843",
   "metadata": {
    "jp-MarkdownHeadingCollapsed": true
   },
   "source": [
    "### Cochran’s Q Test (for Binary Outcomes)"
   ]
  },
  {
   "cell_type": "markdown",
   "id": "515fe515-5f23-4dab-96fd-a82b292e1c2b",
   "metadata": {},
   "source": [
    "When to Use:\n",
    "Use this test if your accuracy is binary (e.g., 1 for correct, 0 for incorrect) for each item.\n",
    "\n",
    "What It Does:\n",
    "Cochran’s Q test extends the McNemar test to more than two related samples. It tells you whether there is a significant difference in the proportion of correct answers across the three methods.\n",
    "\n",
    "Follow-Up:\n",
    "If the test is significant, perform pairwise McNemar tests with appropriate corrections for multiple comparisons.\n",
    "\n",
    "Analogy:\n",
    "Imagine you have three different recipes (methods) for the same dish (question). Cochran’s Q test checks if one recipe consistently produces the best dish (accuracy) across repeated trials (items)."
   ]
  },
  {
   "cell_type": "code",
   "execution_count": 204,
   "id": "cfe08cf1-e030-42c9-bfc9-f8a46fb836fe",
   "metadata": {},
   "outputs": [],
   "source": [
    "import pandas as pd\n",
    "\n",
    "def create_wide_format(df_cot, df_cove, df_sr):\n",
    "    \"\"\"\n",
    "    Merges the three DataFrames into one 'wide' DataFrame with columns:\n",
    "      question_id, cot, cove, self_refine\n",
    "    Each column is a binary indicator (0 or 1) of correctness for that question.\n",
    "    \"\"\"\n",
    "    # Rename \"id\" to \"question_id\" if needed\n",
    "    df_cot = df_cot.rename(columns={\"id\": \"question_id\"})\n",
    "    df_cove = df_cove.rename(columns={\"id\": \"question_id\"})\n",
    "    df_sr = df_sr.rename(columns={\"id\": \"question_id\"})\n",
    "\n",
    "    # Keep only the question_id and correct columns\n",
    "    df_cot = df_cot[[\"question_id\", \"correct\"]].copy()\n",
    "    df_cove = df_cove[[\"question_id\", \"correct\"]].copy()\n",
    "    df_sr = df_sr[[\"question_id\", \"correct\"]].copy()\n",
    "\n",
    "    # Rename the 'correct' column to indicate which method it belongs to\n",
    "    df_cot = df_cot.rename(columns={\"correct\": \"cot\"})\n",
    "    df_cove = df_cove.rename(columns={\"correct\": \"cove\"})\n",
    "    df_sr = df_sr.rename(columns={\"correct\": \"self_refine\"})\n",
    "\n",
    "    # Merge the three DataFrames on question_id\n",
    "    wide_df = df_cot.merge(df_cove, on=\"question_id\").merge(df_sr, on=\"question_id\")\n",
    "\n",
    "    return wide_df\n"
   ]
  },
  {
   "cell_type": "code",
   "execution_count": 207,
   "id": "e6daa03f-b16c-4d28-81e0-94223254aeef",
   "metadata": {},
   "outputs": [
    {
     "ename": "ValueError",
     "evalue": "Data must be a pandas dataframe or compatible object.",
     "output_type": "error",
     "traceback": [
      "\u001b[31m---------------------------------------------------------------------------\u001b[39m",
      "\u001b[31mValueError\u001b[39m                                Traceback (most recent call last)",
      "\u001b[36mCell\u001b[39m\u001b[36m \u001b[39m\u001b[32mIn[207]\u001b[39m\u001b[32m, line 9\u001b[39m\n\u001b[32m      6\u001b[39m wide_df = create_wide_format(cot_all, cove_all, selfrefine_all)\n\u001b[32m      8\u001b[39m \u001b[38;5;66;03m# Cochran’s Q test requires you to pass each method’s accuracy array separately\u001b[39;00m\n\u001b[32m----> \u001b[39m\u001b[32m9\u001b[39m Q, pval = \u001b[43mpg\u001b[49m\u001b[43m.\u001b[49m\u001b[43mcochran\u001b[49m\u001b[43m(\u001b[49m\u001b[43mwide_df\u001b[49m\u001b[43m[\u001b[49m\u001b[33;43m\"\u001b[39;49m\u001b[33;43mcot\u001b[39;49m\u001b[33;43m\"\u001b[39;49m\u001b[43m]\u001b[49m\u001b[43m,\u001b[49m\u001b[43m \u001b[49m\u001b[43mwide_df\u001b[49m\u001b[43m[\u001b[49m\u001b[33;43m\"\u001b[39;49m\u001b[33;43mcove\u001b[39;49m\u001b[33;43m\"\u001b[39;49m\u001b[43m]\u001b[49m\u001b[43m,\u001b[49m\u001b[43m \u001b[49m\u001b[43mwide_df\u001b[49m\u001b[43m[\u001b[49m\u001b[33;43m\"\u001b[39;49m\u001b[33;43mself_refine\u001b[39;49m\u001b[33;43m\"\u001b[39;49m\u001b[43m]\u001b[49m\u001b[43m)\u001b[49m\n\u001b[32m     11\u001b[39m \u001b[38;5;28mprint\u001b[39m(\u001b[33m\"\u001b[39m\u001b[33mCochran’s Q Test Results:\u001b[39m\u001b[33m\"\u001b[39m)\n\u001b[32m     12\u001b[39m \u001b[38;5;28mprint\u001b[39m(\u001b[33mf\u001b[39m\u001b[33m\"\u001b[39m\u001b[33mQ statistic = \u001b[39m\u001b[38;5;132;01m{\u001b[39;00mQ\u001b[38;5;132;01m}\u001b[39;00m\u001b[33m\"\u001b[39m)\n",
      "\u001b[36mFile \u001b[39m\u001b[32m~/Desktop/BachelorThesis/venv/lib/python3.13/site-packages/pingouin/nonparametric.py:833\u001b[39m, in \u001b[36mcochran\u001b[39m\u001b[34m(data, dv, within, subject)\u001b[39m\n\u001b[32m    830\u001b[39m     subject, within, dv = \u001b[33m\"\u001b[39m\u001b[33mSubj\u001b[39m\u001b[33m\"\u001b[39m, \u001b[33m\"\u001b[39m\u001b[33mWithin\u001b[39m\u001b[33m\"\u001b[39m, \u001b[33m\"\u001b[39m\u001b[33mDV\u001b[39m\u001b[33m\"\u001b[39m\n\u001b[32m    832\u001b[39m \u001b[38;5;66;03m# Check data\u001b[39;00m\n\u001b[32m--> \u001b[39m\u001b[32m833\u001b[39m data = \u001b[43m_check_dataframe\u001b[49m\u001b[43m(\u001b[49m\u001b[43mdv\u001b[49m\u001b[43m=\u001b[49m\u001b[43mdv\u001b[49m\u001b[43m,\u001b[49m\u001b[43m \u001b[49m\u001b[43mwithin\u001b[49m\u001b[43m=\u001b[49m\u001b[43mwithin\u001b[49m\u001b[43m,\u001b[49m\u001b[43m \u001b[49m\u001b[43mdata\u001b[49m\u001b[43m=\u001b[49m\u001b[43mdata\u001b[49m\u001b[43m,\u001b[49m\u001b[43m \u001b[49m\u001b[43msubject\u001b[49m\u001b[43m=\u001b[49m\u001b[43msubject\u001b[49m\u001b[43m,\u001b[49m\u001b[43m \u001b[49m\u001b[43meffects\u001b[49m\u001b[43m=\u001b[49m\u001b[33;43m\"\u001b[39;49m\u001b[33;43mwithin\u001b[39;49m\u001b[33;43m\"\u001b[39;49m\u001b[43m)\u001b[49m\n\u001b[32m    834\u001b[39m \u001b[38;5;28;01massert\u001b[39;00m \u001b[38;5;129;01mnot\u001b[39;00m data[within].isnull().any(), \u001b[33m\"\u001b[39m\u001b[33mCannot have missing values in `within`.\u001b[39m\u001b[33m\"\u001b[39m\n\u001b[32m    835\u001b[39m \u001b[38;5;28;01massert\u001b[39;00m \u001b[38;5;129;01mnot\u001b[39;00m data[subject].isnull().any(), \u001b[33m\"\u001b[39m\u001b[33mCannot have missing values in `subject`.\u001b[39m\u001b[33m\"\u001b[39m\n",
      "\u001b[36mFile \u001b[39m\u001b[32m~/Desktop/BachelorThesis/venv/lib/python3.13/site-packages/pingouin/utils.py:363\u001b[39m, in \u001b[36m_check_dataframe\u001b[39m\u001b[34m(data, dv, between, within, subject, effects)\u001b[39m\n\u001b[32m    361\u001b[39m                 \u001b[38;5;28;01mraise\u001b[39;00m \u001b[38;5;167;01mValueError\u001b[39;00m(\u001b[33m\"\u001b[39m\u001b[33mData must be a pandas dataframe or compatible object.\u001b[39m\u001b[33m\"\u001b[39m)\n\u001b[32m    362\u001b[39m     \u001b[38;5;28;01melse\u001b[39;00m:\n\u001b[32m--> \u001b[39m\u001b[32m363\u001b[39m         \u001b[38;5;28;01mraise\u001b[39;00m \u001b[38;5;167;01mValueError\u001b[39;00m(\u001b[33m\"\u001b[39m\u001b[33mData must be a pandas dataframe or compatible object.\u001b[39m\u001b[33m\"\u001b[39m)\n\u001b[32m    364\u001b[39m \u001b[38;5;66;03m# Check that both dv and data are provided.\u001b[39;00m\n\u001b[32m    365\u001b[39m \u001b[38;5;28;01mif\u001b[39;00m \u001b[38;5;28many\u001b[39m(v \u001b[38;5;129;01mis\u001b[39;00m \u001b[38;5;28;01mNone\u001b[39;00m \u001b[38;5;28;01mfor\u001b[39;00m v \u001b[38;5;129;01min\u001b[39;00m [dv, data]):\n",
      "\u001b[31mValueError\u001b[39m: Data must be a pandas dataframe or compatible object."
     ]
    }
   ],
   "source": [
    "# Install Pingouin if you haven’t already\n",
    "# !pip install pingouin\n",
    "\n",
    "import pingouin as pg\n",
    "\n",
    "wide_df = create_wide_format(cot_all, cove_all, selfrefine_all)\n",
    "\n",
    "# Cochran’s Q test requires you to pass each method’s accuracy array separately\n",
    "Q, pval = pg.cochran(wide_df[\"cot\"], wide_df[\"cove\"], wide_df[\"self_refine\"])\n",
    "\n",
    "print(\"Cochran’s Q Test Results:\")\n",
    "print(f\"Q statistic = {Q}\")\n",
    "print(f\"p-value     = {pval}\")\n"
   ]
  },
  {
   "cell_type": "markdown",
   "id": "582c2319-2fa0-4b00-94e7-1f87bb7722c3",
   "metadata": {},
   "source": [
    "### Repeated-Measures ANOVA (for Continuous/Aggregated Accuracy Scores)"
   ]
  },
  {
   "cell_type": "code",
   "execution_count": null,
   "id": "6c75492e-3b9a-4013-89df-0a0992e32fb6",
   "metadata": {},
   "outputs": [],
   "source": []
  },
  {
   "cell_type": "markdown",
   "id": "53a9df32-b9b9-40df-a41b-4929c4791050",
   "metadata": {},
   "source": [
    "When to Use:\n",
    "If you can aggregate binary outcomes (e.g., compute the percentage correct per method per test run) or have a continuous accuracy score.\n",
    "\n",
    "What It Does:\n",
    "This analysis compares the mean accuracy across the three methods while accounting for the fact that the same items are evaluated by all methods.\n",
    "\n",
    "Follow-Up:\n",
    "If the ANOVA shows a significant difference, use post-hoc tests (like Tukey’s HSD) to determine which method pairs differ.\n",
    "\n",
    "Analogy:\n",
    "Think of each question as a repeated trial where each method is a different treatment. The repeated-measures ANOVA checks if one treatment leads to a higher average score compared to the others."
   ]
  },
  {
   "cell_type": "markdown",
   "id": "3992435a-80df-4eec-98c1-b96998cf4426",
   "metadata": {},
   "source": [
    "### Repeated-Measures Logistic Regression (for Binary Outcomes)"
   ]
  },
  {
   "cell_type": "markdown",
   "id": "884ec9c5-2f43-4455-9d02-14106976b32c",
   "metadata": {},
   "source": [
    "When to Use:\n",
    "If you want to directly model the binary accuracy outcome while accounting for repeated measures (item-level clustering).\n",
    "\n",
    "What It Does:\n",
    "This approach uses a logistic regression framework with random effects for items, comparing the odds of a correct answer among methods.\n",
    "\n",
    "Follow-Up:\n",
    "You can examine the fixed effects to see if the method significantly influences the odds of being correct.\n",
    "\n",
    "Analogy:\n",
    "Picture each question as a mini-experiment where each method’s chance of \"success\" (a correct answer) is modeled. The regression tells you if one method has higher odds of success than another."
   ]
  },
  {
   "cell_type": "code",
   "execution_count": null,
   "id": "b8a4b296-03ce-43dd-8f7b-a3e5d69d39e0",
   "metadata": {},
   "outputs": [],
   "source": []
  }
 ],
 "metadata": {
  "kernelspec": {
   "display_name": "Python (bthesis)",
   "language": "python",
   "name": "bthesis"
  },
  "language_info": {
   "codemirror_mode": {
    "name": "ipython",
    "version": 3
   },
   "file_extension": ".py",
   "mimetype": "text/x-python",
   "name": "python",
   "nbconvert_exporter": "python",
   "pygments_lexer": "ipython3",
   "version": "3.13.2"
  }
 },
 "nbformat": 4,
 "nbformat_minor": 5
}
