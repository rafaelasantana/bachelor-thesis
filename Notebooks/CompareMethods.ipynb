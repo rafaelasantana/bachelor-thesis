{
 "cells": [
  {
   "cell_type": "markdown",
   "id": "02c2d35c-5645-4892-8512-da411a55934c",
   "metadata": {
    "jp-MarkdownHeadingCollapsed": true
   },
   "source": [
    "## Helpers"
   ]
  },
  {
   "cell_type": "code",
   "execution_count": 8,
   "id": "53234456-4783-48a6-8951-3d3dc9e07ce9",
   "metadata": {},
   "outputs": [],
   "source": [
    "import pandas as pd\n",
    "import os\n",
    "from glob import glob\n",
    "\n",
    "def load_and_merge_csvs(folder_path, method_name):\n",
    "    \"\"\"\n",
    "    Load and merge all CSV files in a given folder.\n",
    "    \n",
    "    Parameters:\n",
    "        folder_path (str): Path to the folder containing the CSV files.\n",
    "        method_name (str): Name of the method to tag (e.g. \"CoT\").\n",
    "    \n",
    "    Returns:\n",
    "        pd.DataFrame: Merged DataFrame with method and run columns.\n",
    "    \"\"\"\n",
    "    # Find all CSV files in the folder\n",
    "    csv_files = sorted(glob(os.path.join(folder_path, \"*.csv\")))\n",
    "\n",
    "    dataframes = []\n",
    "    for i, file_path in enumerate(csv_files):\n",
    "        df = pd.read_csv(file_path)\n",
    "        df[\"method\"] = method_name\n",
    "        df[\"run\"] = i + 1\n",
    "        dataframes.append(df)\n",
    "\n",
    "    # Merge all into one DataFrame\n",
    "    merged_df = pd.concat(dataframes, ignore_index=True)\n",
    "    return merged_df"
   ]
  },
  {
   "cell_type": "markdown",
   "id": "28168cf1-6f5b-446d-b7bf-b17950b438f6",
   "metadata": {
    "jp-MarkdownHeadingCollapsed": true
   },
   "source": [
    "## Load cleaned data"
   ]
  },
  {
   "cell_type": "markdown",
   "id": "6e54caed-e70c-4eb9-b46a-b09f1e0f99f1",
   "metadata": {},
   "source": [
    "### CoT"
   ]
  },
  {
   "cell_type": "code",
   "execution_count": 15,
   "id": "9cc092d2-2191-44a4-a034-0e60647f0477",
   "metadata": {},
   "outputs": [
    {
     "data": {
      "text/html": [
       "<div>\n",
       "<style scoped>\n",
       "    .dataframe tbody tr th:only-of-type {\n",
       "        vertical-align: middle;\n",
       "    }\n",
       "\n",
       "    .dataframe tbody tr th {\n",
       "        vertical-align: top;\n",
       "    }\n",
       "\n",
       "    .dataframe thead th {\n",
       "        text-align: right;\n",
       "    }\n",
       "</style>\n",
       "<table border=\"1\" class=\"dataframe\">\n",
       "  <thead>\n",
       "    <tr style=\"text-align: right;\">\n",
       "      <th></th>\n",
       "      <th>id</th>\n",
       "      <th>subject</th>\n",
       "      <th>ground_truth</th>\n",
       "      <th>predicted</th>\n",
       "      <th>correct</th>\n",
       "      <th>method</th>\n",
       "      <th>run</th>\n",
       "    </tr>\n",
       "  </thead>\n",
       "  <tbody>\n",
       "    <tr>\n",
       "      <th>0</th>\n",
       "      <td>questao_01</td>\n",
       "      <td>Languages</td>\n",
       "      <td>A</td>\n",
       "      <td>A</td>\n",
       "      <td>True</td>\n",
       "      <td>CoT</td>\n",
       "      <td>1</td>\n",
       "    </tr>\n",
       "    <tr>\n",
       "      <th>1</th>\n",
       "      <td>questao_02</td>\n",
       "      <td>Languages</td>\n",
       "      <td>A</td>\n",
       "      <td>D</td>\n",
       "      <td>False</td>\n",
       "      <td>CoT</td>\n",
       "      <td>1</td>\n",
       "    </tr>\n",
       "    <tr>\n",
       "      <th>2</th>\n",
       "      <td>questao_03</td>\n",
       "      <td>Languages</td>\n",
       "      <td>C</td>\n",
       "      <td>C</td>\n",
       "      <td>True</td>\n",
       "      <td>CoT</td>\n",
       "      <td>1</td>\n",
       "    </tr>\n",
       "    <tr>\n",
       "      <th>3</th>\n",
       "      <td>questao_04</td>\n",
       "      <td>Languages</td>\n",
       "      <td>E</td>\n",
       "      <td>E</td>\n",
       "      <td>True</td>\n",
       "      <td>CoT</td>\n",
       "      <td>1</td>\n",
       "    </tr>\n",
       "    <tr>\n",
       "      <th>4</th>\n",
       "      <td>questao_05</td>\n",
       "      <td>Languages</td>\n",
       "      <td>A</td>\n",
       "      <td>A</td>\n",
       "      <td>True</td>\n",
       "      <td>CoT</td>\n",
       "      <td>1</td>\n",
       "    </tr>\n",
       "  </tbody>\n",
       "</table>\n",
       "</div>"
      ],
      "text/plain": [
       "           id    subject ground_truth predicted  correct method  run\n",
       "0  questao_01  Languages            A         A     True    CoT    1\n",
       "1  questao_02  Languages            A         D    False    CoT    1\n",
       "2  questao_03  Languages            C         C     True    CoT    1\n",
       "3  questao_04  Languages            E         E     True    CoT    1\n",
       "4  questao_05  Languages            A         A     True    CoT    1"
      ]
     },
     "execution_count": 15,
     "metadata": {},
     "output_type": "execute_result"
    }
   ],
   "source": [
    "cot_all = load_and_merge_csvs(\"results/cot_few-shot_clean\", method_name=\"CoT\")\n",
    "cot_all.head()"
   ]
  },
  {
   "cell_type": "markdown",
   "id": "f8af5568-68b0-416b-8944-b04864f1c9ec",
   "metadata": {},
   "source": [
    "### CoVe"
   ]
  },
  {
   "cell_type": "code",
   "execution_count": 16,
   "id": "3a7d8747-661e-4807-b6b5-f8793dc6c8fa",
   "metadata": {},
   "outputs": [
    {
     "data": {
      "text/html": [
       "<div>\n",
       "<style scoped>\n",
       "    .dataframe tbody tr th:only-of-type {\n",
       "        vertical-align: middle;\n",
       "    }\n",
       "\n",
       "    .dataframe tbody tr th {\n",
       "        vertical-align: top;\n",
       "    }\n",
       "\n",
       "    .dataframe thead th {\n",
       "        text-align: right;\n",
       "    }\n",
       "</style>\n",
       "<table border=\"1\" class=\"dataframe\">\n",
       "  <thead>\n",
       "    <tr style=\"text-align: right;\">\n",
       "      <th></th>\n",
       "      <th>id</th>\n",
       "      <th>subject</th>\n",
       "      <th>ground_truth</th>\n",
       "      <th>predicted</th>\n",
       "      <th>correct</th>\n",
       "      <th>initial_answer</th>\n",
       "      <th>method</th>\n",
       "      <th>run</th>\n",
       "    </tr>\n",
       "  </thead>\n",
       "  <tbody>\n",
       "    <tr>\n",
       "      <th>0</th>\n",
       "      <td>questao_01</td>\n",
       "      <td>Languages</td>\n",
       "      <td>A</td>\n",
       "      <td>A</td>\n",
       "      <td>True</td>\n",
       "      <td>A</td>\n",
       "      <td>CoVe</td>\n",
       "      <td>1</td>\n",
       "    </tr>\n",
       "    <tr>\n",
       "      <th>1</th>\n",
       "      <td>questao_02</td>\n",
       "      <td>Languages</td>\n",
       "      <td>A</td>\n",
       "      <td>D</td>\n",
       "      <td>False</td>\n",
       "      <td>D</td>\n",
       "      <td>CoVe</td>\n",
       "      <td>1</td>\n",
       "    </tr>\n",
       "    <tr>\n",
       "      <th>2</th>\n",
       "      <td>questao_03</td>\n",
       "      <td>Languages</td>\n",
       "      <td>C</td>\n",
       "      <td>C</td>\n",
       "      <td>True</td>\n",
       "      <td>C</td>\n",
       "      <td>CoVe</td>\n",
       "      <td>1</td>\n",
       "    </tr>\n",
       "    <tr>\n",
       "      <th>3</th>\n",
       "      <td>questao_04</td>\n",
       "      <td>Languages</td>\n",
       "      <td>E</td>\n",
       "      <td>D</td>\n",
       "      <td>False</td>\n",
       "      <td>D</td>\n",
       "      <td>CoVe</td>\n",
       "      <td>1</td>\n",
       "    </tr>\n",
       "    <tr>\n",
       "      <th>4</th>\n",
       "      <td>questao_05</td>\n",
       "      <td>Languages</td>\n",
       "      <td>A</td>\n",
       "      <td>A</td>\n",
       "      <td>True</td>\n",
       "      <td>A</td>\n",
       "      <td>CoVe</td>\n",
       "      <td>1</td>\n",
       "    </tr>\n",
       "  </tbody>\n",
       "</table>\n",
       "</div>"
      ],
      "text/plain": [
       "           id    subject ground_truth predicted  correct initial_answer  \\\n",
       "0  questao_01  Languages            A         A     True              A   \n",
       "1  questao_02  Languages            A         D    False              D   \n",
       "2  questao_03  Languages            C         C     True              C   \n",
       "3  questao_04  Languages            E         D    False              D   \n",
       "4  questao_05  Languages            A         A     True              A   \n",
       "\n",
       "  method  run  \n",
       "0   CoVe    1  \n",
       "1   CoVe    1  \n",
       "2   CoVe    1  \n",
       "3   CoVe    1  \n",
       "4   CoVe    1  "
      ]
     },
     "execution_count": 16,
     "metadata": {},
     "output_type": "execute_result"
    }
   ],
   "source": [
    "cove_all = load_and_merge_csvs(\"results/cove_few-shot_clean\", method_name=\"CoVe\")\n",
    "cove_all.head()"
   ]
  },
  {
   "cell_type": "markdown",
   "id": "00852263-8eb6-4a38-9b8b-347c4d1b8287",
   "metadata": {},
   "source": [
    "### Self-Refine"
   ]
  },
  {
   "cell_type": "code",
   "execution_count": 17,
   "id": "2c89dead-7b33-4f27-8f34-fd49b3d87e07",
   "metadata": {},
   "outputs": [
    {
     "data": {
      "text/html": [
       "<div>\n",
       "<style scoped>\n",
       "    .dataframe tbody tr th:only-of-type {\n",
       "        vertical-align: middle;\n",
       "    }\n",
       "\n",
       "    .dataframe tbody tr th {\n",
       "        vertical-align: top;\n",
       "    }\n",
       "\n",
       "    .dataframe thead th {\n",
       "        text-align: right;\n",
       "    }\n",
       "</style>\n",
       "<table border=\"1\" class=\"dataframe\">\n",
       "  <thead>\n",
       "    <tr style=\"text-align: right;\">\n",
       "      <th></th>\n",
       "      <th>id</th>\n",
       "      <th>subject</th>\n",
       "      <th>ground_truth</th>\n",
       "      <th>predicted</th>\n",
       "      <th>correct</th>\n",
       "      <th>initial_answer</th>\n",
       "      <th>method</th>\n",
       "      <th>run</th>\n",
       "    </tr>\n",
       "  </thead>\n",
       "  <tbody>\n",
       "    <tr>\n",
       "      <th>0</th>\n",
       "      <td>questao_01</td>\n",
       "      <td>Languages</td>\n",
       "      <td>A</td>\n",
       "      <td>A</td>\n",
       "      <td>True</td>\n",
       "      <td>A</td>\n",
       "      <td>Self-Refine</td>\n",
       "      <td>1</td>\n",
       "    </tr>\n",
       "    <tr>\n",
       "      <th>1</th>\n",
       "      <td>questao_02</td>\n",
       "      <td>Languages</td>\n",
       "      <td>A</td>\n",
       "      <td>D</td>\n",
       "      <td>False</td>\n",
       "      <td>D</td>\n",
       "      <td>Self-Refine</td>\n",
       "      <td>1</td>\n",
       "    </tr>\n",
       "    <tr>\n",
       "      <th>2</th>\n",
       "      <td>questao_03</td>\n",
       "      <td>Languages</td>\n",
       "      <td>C</td>\n",
       "      <td>C</td>\n",
       "      <td>True</td>\n",
       "      <td>C</td>\n",
       "      <td>Self-Refine</td>\n",
       "      <td>1</td>\n",
       "    </tr>\n",
       "    <tr>\n",
       "      <th>3</th>\n",
       "      <td>questao_04</td>\n",
       "      <td>Languages</td>\n",
       "      <td>E</td>\n",
       "      <td>E</td>\n",
       "      <td>True</td>\n",
       "      <td>D</td>\n",
       "      <td>Self-Refine</td>\n",
       "      <td>1</td>\n",
       "    </tr>\n",
       "    <tr>\n",
       "      <th>4</th>\n",
       "      <td>questao_05</td>\n",
       "      <td>Languages</td>\n",
       "      <td>A</td>\n",
       "      <td>A</td>\n",
       "      <td>True</td>\n",
       "      <td>A</td>\n",
       "      <td>Self-Refine</td>\n",
       "      <td>1</td>\n",
       "    </tr>\n",
       "  </tbody>\n",
       "</table>\n",
       "</div>"
      ],
      "text/plain": [
       "           id    subject ground_truth predicted  correct initial_answer  \\\n",
       "0  questao_01  Languages            A         A     True              A   \n",
       "1  questao_02  Languages            A         D    False              D   \n",
       "2  questao_03  Languages            C         C     True              C   \n",
       "3  questao_04  Languages            E         E     True              D   \n",
       "4  questao_05  Languages            A         A     True              A   \n",
       "\n",
       "        method  run  \n",
       "0  Self-Refine    1  \n",
       "1  Self-Refine    1  \n",
       "2  Self-Refine    1  \n",
       "3  Self-Refine    1  \n",
       "4  Self-Refine    1  "
      ]
     },
     "execution_count": 17,
     "metadata": {},
     "output_type": "execute_result"
    }
   ],
   "source": [
    "selfrefine_all = load_and_merge_csvs(\"results/self-refine_few-shot_clean\", method_name=\"Self-Refine\")\n",
    "selfrefine_all.head()"
   ]
  },
  {
   "cell_type": "markdown",
   "id": "93609b76-e241-4c52-9229-aa0dffecffa8",
   "metadata": {},
   "source": [
    "### Dataset Summary"
   ]
  },
  {
   "cell_type": "code",
   "execution_count": 20,
   "id": "9c73a943-bd95-4067-8fac-7533a2e9a695",
   "metadata": {},
   "outputs": [
    {
     "name": "stdout",
     "output_type": "stream",
     "text": [
      "Method         Rows      Columns   Runs      Unique IDs     \n",
      "------------------------------------------------------------\n",
      "CoT            540       7         3         180            \n",
      "CoVe           540       8         3         180            \n",
      "Self-Refine    360       8         2         180            \n"
     ]
    }
   ],
   "source": [
    "print(f\"{'Method':<15}{'Rows':<10}{'Columns':<10}{'Runs':<10}{'Unique IDs':<15}\")\n",
    "print(\"-\" * 60)\n",
    "print(f\"{'CoT':<15}{cot_all.shape[0]:<10}{cot_all.shape[1]:<10}{cot_all['run'].nunique():<10}{cot_all['id'].nunique():<15}\")\n",
    "print(f\"{'CoVe':<15}{cove_all.shape[0]:<10}{cove_all.shape[1]:<10}{cove_all['run'].nunique():<10}{cove_all['id'].nunique():<15}\")\n",
    "print(f\"{'Self-Refine':<15}{selfrefine_all.shape[0]:<10}{selfrefine_all.shape[1]:<10}{selfrefine_all['run'].nunique():<10}{selfrefine_all['id'].nunique():<15}\")\n"
   ]
  },
  {
   "cell_type": "markdown",
   "id": "81efe330-0d14-4ea7-bddb-dfaf12205cef",
   "metadata": {},
   "source": [
    "## Stability Check"
   ]
  },
  {
   "cell_type": "code",
   "execution_count": 29,
   "id": "f8cfda65-ab4e-4024-9d6e-f49b37c6678e",
   "metadata": {
    "jupyter": {
     "source_hidden": true
    }
   },
   "outputs": [
    {
     "name": "stdout",
     "output_type": "stream",
     "text": [
      "Per-run Accuracy:\n",
      "method    CoT   CoVe  Self-Refine\n",
      "run                              \n",
      "1       0.672  0.672        0.700\n",
      "2       0.722  0.683        0.694\n",
      "3       0.661  0.650          NaN\n"
     ]
    }
   ],
   "source": [
    "# Group by method and run, then calculate mean accuracy\n",
    "accuracy_by_run = pd.concat([cot_all, cove_all, selfrefine_all], ignore_index=True)\n",
    "run_stats = accuracy_by_run.groupby([\"method\", \"run\"])[\"correct\"].mean().reset_index()\n",
    "\n",
    "print(\"Per-run Accuracy:\")\n",
    "print(run_stats.pivot(index=\"run\", columns=\"method\", values=\"correct\").round(3))"
   ]
  },
  {
   "cell_type": "markdown",
   "id": "999f9fc9-36b7-4eca-a6d3-2af1776e0001",
   "metadata": {},
   "source": [
    "### Standard Deviation per Method"
   ]
  },
  {
   "cell_type": "markdown",
   "id": "8139ca21-f8d9-45de-8912-0be7cde8af25",
   "metadata": {},
   "source": [
    "#### Variability between test runs:\n",
    "Low std = more stable\n",
    "\n",
    "high std = more variable"
   ]
  },
  {
   "cell_type": "code",
   "execution_count": 30,
   "id": "a99ed3c2-fe57-42b7-a65a-17c4a66245fd",
   "metadata": {},
   "outputs": [
    {
     "name": "stdout",
     "output_type": "stream",
     "text": [
      "\n",
      "Standard deviation of accuracy per method:\n",
      "method\n",
      "CoT            0.0326\n",
      "CoVe           0.0170\n",
      "Self-Refine    0.0039\n",
      "Name: correct, dtype: float64\n"
     ]
    }
   ],
   "source": [
    "std_by_method = run_stats.groupby(\"method\")[\"correct\"].std().round(4)\n",
    "print(\"\\nStandard deviation of accuracy per method:\")\n",
    "print(std_by_method)"
   ]
  },
  {
   "cell_type": "markdown",
   "id": "2eb8fed3-ce7b-454c-b1db-6d38fe1a3848",
   "metadata": {},
   "source": [
    "### Merge all "
   ]
  },
  {
   "cell_type": "code",
   "execution_count": 22,
   "id": "c651597f-edf7-4abd-8ba5-676bfe2e7eb8",
   "metadata": {},
   "outputs": [],
   "source": [
    "full_df = pd.concat([cot_all, cove_all, selfrefine_all], ignore_index=True)"
   ]
  },
  {
   "cell_type": "markdown",
   "id": "21873926-8b07-4b41-a4f9-4f42e6a4b3ba",
   "metadata": {},
   "source": [
    "### Mean Accuracy and StD across runs"
   ]
  },
  {
   "cell_type": "code",
   "execution_count": 34,
   "id": "6d88d75c-d072-4e68-af24-3e2d53461fc0",
   "metadata": {},
   "outputs": [
    {
     "data": {
      "text/plain": [
       "method\n",
       "CoT            0.685185\n",
       "CoVe           0.668519\n",
       "Self-Refine    0.697222\n",
       "Name: correct, dtype: float64"
      ]
     },
     "execution_count": 34,
     "metadata": {},
     "output_type": "execute_result"
    }
   ],
   "source": [
    "full_df.groupby(\"method\")[\"correct\"].mean()"
   ]
  },
  {
   "cell_type": "code",
   "execution_count": 35,
   "id": "bad2c56d-24f1-47cd-a886-5a5549975c5c",
   "metadata": {},
   "outputs": [
    {
     "data": {
      "image/png": "[encoded data removed]",
      "text/plain": [
       "<Figure size 800x500 with 1 Axes>"
      ]
     },
     "metadata": {},
     "output_type": "display_data"
    }
   ],
   "source": [
    "plt.figure(figsize=(8, 5))\n",
    "sns.barplot(data=run_stats, x=\"method\", y=\"correct\", errorbar=\"sd\", capsize=0.2)\n",
    "\n",
    "plt.title(\"Mean Accuracy by Method (± SD across runs)\")\n",
    "plt.ylabel(\"Mean Accuracy\")\n",
    "plt.ylim(0, 1)\n",
    "plt.grid(axis='y')\n",
    "plt.tight_layout()\n",
    "plt.show()\n"
   ]
  },
  {
   "cell_type": "markdown",
   "id": "48b43118-22a1-4e0b-9215-9d961226cd5a",
   "metadata": {},
   "source": [
    "## Accuracy per Subject"
   ]
  },
  {
   "cell_type": "markdown",
   "id": "5f7d2072-924f-4b93-9653-1a422244a693",
   "metadata": {},
   "source": [
    "### Calculate mean and std of accuracy per method and subject"
   ]
  },
  {
   "cell_type": "code",
   "execution_count": 49,
   "id": "cc25ceb5-1fbd-41d0-9dd4-97de64184e3b",
   "metadata": {},
   "outputs": [],
   "source": [
    "grouped = full_df.groupby([\"subject\", \"method\"])[\"correct\"]\n",
    "mean_df = grouped.mean().reset_index(name=\"mean_accuracy\")\n",
    "std_df = grouped.std().reset_index(name=\"std_accuracy\")\n",
    "\n",
    "# Merge mean and std together\n",
    "stats_df = pd.merge(mean_df, std_df, on=[\"subject\", \"method\"])"
   ]
  },
  {
   "cell_type": "code",
   "execution_count": 52,
   "id": "fac97f4b-1bdb-4189-8daf-0416cc3cd29c",
   "metadata": {},
   "outputs": [
    {
     "name": "stderr",
     "output_type": "stream",
     "text": [
      "/var/folders/kk/2yj1lx6946x1xhfcryhkfv9w0000gn/T/ipykernel_70145/2643712454.py:6: FutureWarning: \n",
      "\n",
      "The `errwidth` parameter is deprecated. And will be removed in v0.15.0. Pass `err_kws={'linewidth': 0}` instead.\n",
      "\n",
      "  ax = sns.barplot(\n"
     ]
    },
    {
     "data": {
      "image/png": "[encoded data removed]",
      "text/plain": [
       "<Figure size 1200x600 with 1 Axes>"
      ]
     },
     "metadata": {},
     "output_type": "display_data"
    }
   ],
   "source": [
    "import seaborn as sns\n",
    "import matplotlib.pyplot as plt\n",
    "\n",
    "# Plot without error bars\n",
    "plt.figure(figsize=(12, 6))\n",
    "ax = sns.barplot(\n",
    "    data=stats_df,\n",
    "    x=\"subject\",\n",
    "    y=\"mean_accuracy\",\n",
    "    hue=\"method\",\n",
    "    capsize=0.1,\n",
    "    errwidth=0  # Disable automatic error bars\n",
    ")\n",
    "\n",
    "# Add standard deviation error bars manually\n",
    "# Get method and subject ordering as used in the plot\n",
    "subjects = stats_df[\"subject\"].unique()\n",
    "methods = stats_df[\"method\"].unique()\n",
    "\n",
    "# Get bar containers to find correct x positions\n",
    "bar_containers = ax.containers\n",
    "\n",
    "# For each bar, get its x position and add the corresponding std\n",
    "for bars, method in zip(bar_containers, methods):\n",
    "    for bar, (_, row) in zip(bars, stats_df[stats_df[\"method\"] == method].iterrows()):\n",
    "        x = bar.get_x() + bar.get_width() / 2\n",
    "        y = bar.get_height()\n",
    "        err = row[\"std_accuracy\"]\n",
    "        ax.errorbar(x, y, yerr=err, fmt='none', c='black', capsize=3)\n",
    "\n",
    "# Final formatting\n",
    "plt.title(\"Accuracy per Subject by Method (± SD)\")\n",
    "plt.ylabel(\"Accuracy\")\n",
    "plt.ylim(0, 1)\n",
    "plt.xticks(rotation=45)\n",
    "plt.grid(axis='y')\n",
    "plt.legend(title=\"Method\")\n",
    "plt.tight_layout()\n",
    "plt.show()\n"
   ]
  },
  {
   "cell_type": "code",
   "execution_count": null,
   "id": "021018b7-f0c9-4e90-a526-75fd52b08942",
   "metadata": {},
   "outputs": [],
   "source": []
  }
 ],
 "metadata": {
  "kernelspec": {
   "display_name": "Python (bthesis)",
   "language": "python",
   "name": "bthesis"
  },
  "language_info": {
   "codemirror_mode": {
    "name": "ipython",
    "version": 3
   },
   "file_extension": ".py",
   "mimetype": "text/x-python",
   "name": "python",
   "nbconvert_exporter": "python",
   "pygments_lexer": "ipython3",
   "version": "3.13.2"
  }
 },
 "nbformat": 4,
 "nbformat_minor": 5
}
