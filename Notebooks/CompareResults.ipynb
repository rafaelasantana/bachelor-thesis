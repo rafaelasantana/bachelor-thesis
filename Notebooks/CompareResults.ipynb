{
 "cells": [
  {
   "cell_type": "markdown",
   "id": "02c2d35c-5645-4892-8512-da411a55934c",
   "metadata": {},
   "source": [
    "## Helpers"
   ]
  },
  {
   "cell_type": "code",
   "execution_count": 87,
   "id": "53234456-4783-48a6-8951-3d3dc9e07ce9",
   "metadata": {},
   "outputs": [],
   "source": [
    "import pandas as pd\n",
    "import os\n",
    "from glob import glob\n",
    "\n",
    "def load_and_merge_csvs(folder_path, method_name):\n",
    "    \"\"\"\n",
    "    Load and merge all CSV files in a given folder.\n",
    "    \n",
    "    Parameters:\n",
    "        folder_path (str): Path to the folder containing the CSV files.\n",
    "        method_name (str): Name of the method to tag (e.g. \"CoT\").\n",
    "    \n",
    "    Returns:\n",
    "        pd.DataFrame: Merged DataFrame with method and run columns.\n",
    "    \"\"\"\n",
    "    # Find all CSV files in the folder\n",
    "    csv_files = sorted(glob(os.path.join(folder_path, \"*.csv\")))\n",
    "\n",
    "    dataframes = []\n",
    "    for i, file_path in enumerate(csv_files):\n",
    "        df = pd.read_csv(file_path)\n",
    "        df[\"method\"] = method_name\n",
    "        df[\"run\"] = i + 1\n",
    "        dataframes.append(df)\n",
    "\n",
    "    # Merge all into one DataFrame\n",
    "    merged_df = pd.concat(dataframes, ignore_index=True)\n",
    "    return merged_df"
   ]
  },
  {
   "cell_type": "markdown",
   "id": "28168cf1-6f5b-446d-b7bf-b17950b438f6",
   "metadata": {},
   "source": [
    "## Load cleaned data"
   ]
  },
  {
   "cell_type": "markdown",
   "id": "6e54caed-e70c-4eb9-b46a-b09f1e0f99f1",
   "metadata": {},
   "source": [
    "### CoT"
   ]
  },
  {
   "cell_type": "code",
   "execution_count": 88,
   "id": "9cc092d2-2191-44a4-a034-0e60647f0477",
   "metadata": {},
   "outputs": [
    {
     "data": {
      "text/html": [
       "<div>\n",
       "<style scoped>\n",
       "    .dataframe tbody tr th:only-of-type {\n",
       "        vertical-align: middle;\n",
       "    }\n",
       "\n",
       "    .dataframe tbody tr th {\n",
       "        vertical-align: top;\n",
       "    }\n",
       "\n",
       "    .dataframe thead th {\n",
       "        text-align: right;\n",
       "    }\n",
       "</style>\n",
       "<table border=\"1\" class=\"dataframe\">\n",
       "  <thead>\n",
       "    <tr style=\"text-align: right;\">\n",
       "      <th></th>\n",
       "      <th>id</th>\n",
       "      <th>subject</th>\n",
       "      <th>ground_truth</th>\n",
       "      <th>predicted</th>\n",
       "      <th>correct</th>\n",
       "      <th>method</th>\n",
       "      <th>run</th>\n",
       "    </tr>\n",
       "  </thead>\n",
       "  <tbody>\n",
       "    <tr>\n",
       "      <th>7195</th>\n",
       "      <td>questao_176</td>\n",
       "      <td>Mathematics</td>\n",
       "      <td>D</td>\n",
       "      <td>D</td>\n",
       "      <td>True</td>\n",
       "      <td>CoT</td>\n",
       "      <td>40</td>\n",
       "    </tr>\n",
       "    <tr>\n",
       "      <th>7196</th>\n",
       "      <td>questao_177</td>\n",
       "      <td>Mathematics</td>\n",
       "      <td>A</td>\n",
       "      <td>B</td>\n",
       "      <td>False</td>\n",
       "      <td>CoT</td>\n",
       "      <td>40</td>\n",
       "    </tr>\n",
       "    <tr>\n",
       "      <th>7197</th>\n",
       "      <td>questao_178</td>\n",
       "      <td>Mathematics</td>\n",
       "      <td>D</td>\n",
       "      <td>D</td>\n",
       "      <td>True</td>\n",
       "      <td>CoT</td>\n",
       "      <td>40</td>\n",
       "    </tr>\n",
       "    <tr>\n",
       "      <th>7198</th>\n",
       "      <td>questao_179</td>\n",
       "      <td>Mathematics</td>\n",
       "      <td>C</td>\n",
       "      <td>A</td>\n",
       "      <td>False</td>\n",
       "      <td>CoT</td>\n",
       "      <td>40</td>\n",
       "    </tr>\n",
       "    <tr>\n",
       "      <th>7199</th>\n",
       "      <td>questao_180</td>\n",
       "      <td>Mathematics</td>\n",
       "      <td>B</td>\n",
       "      <td>A</td>\n",
       "      <td>False</td>\n",
       "      <td>CoT</td>\n",
       "      <td>40</td>\n",
       "    </tr>\n",
       "  </tbody>\n",
       "</table>\n",
       "</div>"
      ],
      "text/plain": [
       "               id      subject ground_truth predicted  correct method  run\n",
       "7195  questao_176  Mathematics            D         D     True    CoT   40\n",
       "7196  questao_177  Mathematics            A         B    False    CoT   40\n",
       "7197  questao_178  Mathematics            D         D     True    CoT   40\n",
       "7198  questao_179  Mathematics            C         A    False    CoT   40\n",
       "7199  questao_180  Mathematics            B         A    False    CoT   40"
      ]
     },
     "execution_count": 88,
     "metadata": {},
     "output_type": "execute_result"
    }
   ],
   "source": [
    "cot_all = load_and_merge_csvs(\"results/cot_few-shot_clean\", method_name=\"CoT\")\n",
    "cot_all.tail()"
   ]
  },
  {
   "cell_type": "markdown",
   "id": "f8af5568-68b0-416b-8944-b04864f1c9ec",
   "metadata": {},
   "source": [
    "### CoVe"
   ]
  },
  {
   "cell_type": "code",
   "execution_count": 89,
   "id": "3a7d8747-661e-4807-b6b5-f8793dc6c8fa",
   "metadata": {},
   "outputs": [
    {
     "data": {
      "text/html": [
       "<div>\n",
       "<style scoped>\n",
       "    .dataframe tbody tr th:only-of-type {\n",
       "        vertical-align: middle;\n",
       "    }\n",
       "\n",
       "    .dataframe tbody tr th {\n",
       "        vertical-align: top;\n",
       "    }\n",
       "\n",
       "    .dataframe thead th {\n",
       "        text-align: right;\n",
       "    }\n",
       "</style>\n",
       "<table border=\"1\" class=\"dataframe\">\n",
       "  <thead>\n",
       "    <tr style=\"text-align: right;\">\n",
       "      <th></th>\n",
       "      <th>id</th>\n",
       "      <th>subject</th>\n",
       "      <th>ground_truth</th>\n",
       "      <th>predicted</th>\n",
       "      <th>correct</th>\n",
       "      <th>initial_answer</th>\n",
       "      <th>method</th>\n",
       "      <th>run</th>\n",
       "    </tr>\n",
       "  </thead>\n",
       "  <tbody>\n",
       "    <tr>\n",
       "      <th>7195</th>\n",
       "      <td>questao_176</td>\n",
       "      <td>Mathematics</td>\n",
       "      <td>D</td>\n",
       "      <td>D</td>\n",
       "      <td>True</td>\n",
       "      <td>D</td>\n",
       "      <td>CoVe</td>\n",
       "      <td>40</td>\n",
       "    </tr>\n",
       "    <tr>\n",
       "      <th>7196</th>\n",
       "      <td>questao_177</td>\n",
       "      <td>Mathematics</td>\n",
       "      <td>A</td>\n",
       "      <td>B</td>\n",
       "      <td>False</td>\n",
       "      <td>A</td>\n",
       "      <td>CoVe</td>\n",
       "      <td>40</td>\n",
       "    </tr>\n",
       "    <tr>\n",
       "      <th>7197</th>\n",
       "      <td>questao_178</td>\n",
       "      <td>Mathematics</td>\n",
       "      <td>D</td>\n",
       "      <td>D</td>\n",
       "      <td>True</td>\n",
       "      <td>D</td>\n",
       "      <td>CoVe</td>\n",
       "      <td>40</td>\n",
       "    </tr>\n",
       "    <tr>\n",
       "      <th>7198</th>\n",
       "      <td>questao_179</td>\n",
       "      <td>Mathematics</td>\n",
       "      <td>C</td>\n",
       "      <td>B</td>\n",
       "      <td>False</td>\n",
       "      <td>B</td>\n",
       "      <td>CoVe</td>\n",
       "      <td>40</td>\n",
       "    </tr>\n",
       "    <tr>\n",
       "      <th>7199</th>\n",
       "      <td>questao_180</td>\n",
       "      <td>Mathematics</td>\n",
       "      <td>B</td>\n",
       "      <td>A</td>\n",
       "      <td>False</td>\n",
       "      <td>A</td>\n",
       "      <td>CoVe</td>\n",
       "      <td>40</td>\n",
       "    </tr>\n",
       "  </tbody>\n",
       "</table>\n",
       "</div>"
      ],
      "text/plain": [
       "               id      subject ground_truth predicted  correct initial_answer  \\\n",
       "7195  questao_176  Mathematics            D         D     True              D   \n",
       "7196  questao_177  Mathematics            A         B    False              A   \n",
       "7197  questao_178  Mathematics            D         D     True              D   \n",
       "7198  questao_179  Mathematics            C         B    False              B   \n",
       "7199  questao_180  Mathematics            B         A    False              A   \n",
       "\n",
       "     method  run  \n",
       "7195   CoVe   40  \n",
       "7196   CoVe   40  \n",
       "7197   CoVe   40  \n",
       "7198   CoVe   40  \n",
       "7199   CoVe   40  "
      ]
     },
     "execution_count": 89,
     "metadata": {},
     "output_type": "execute_result"
    }
   ],
   "source": [
    "cove_all = load_and_merge_csvs(\"results/cove_few-shot_clean\", method_name=\"CoVe\")\n",
    "cove_all.tail()"
   ]
  },
  {
   "cell_type": "markdown",
   "id": "00852263-8eb6-4a38-9b8b-347c4d1b8287",
   "metadata": {},
   "source": [
    "### Self-Refine"
   ]
  },
  {
   "cell_type": "code",
   "execution_count": 90,
   "id": "2c89dead-7b33-4f27-8f34-fd49b3d87e07",
   "metadata": {},
   "outputs": [
    {
     "data": {
      "text/html": [
       "<div>\n",
       "<style scoped>\n",
       "    .dataframe tbody tr th:only-of-type {\n",
       "        vertical-align: middle;\n",
       "    }\n",
       "\n",
       "    .dataframe tbody tr th {\n",
       "        vertical-align: top;\n",
       "    }\n",
       "\n",
       "    .dataframe thead th {\n",
       "        text-align: right;\n",
       "    }\n",
       "</style>\n",
       "<table border=\"1\" class=\"dataframe\">\n",
       "  <thead>\n",
       "    <tr style=\"text-align: right;\">\n",
       "      <th></th>\n",
       "      <th>id</th>\n",
       "      <th>subject</th>\n",
       "      <th>ground_truth</th>\n",
       "      <th>predicted</th>\n",
       "      <th>correct</th>\n",
       "      <th>initial_answer</th>\n",
       "      <th>method</th>\n",
       "      <th>run</th>\n",
       "    </tr>\n",
       "  </thead>\n",
       "  <tbody>\n",
       "    <tr>\n",
       "      <th>7195</th>\n",
       "      <td>questao_176</td>\n",
       "      <td>Mathematics</td>\n",
       "      <td>D</td>\n",
       "      <td>D</td>\n",
       "      <td>True</td>\n",
       "      <td>D</td>\n",
       "      <td>Self-Refine</td>\n",
       "      <td>40</td>\n",
       "    </tr>\n",
       "    <tr>\n",
       "      <th>7196</th>\n",
       "      <td>questao_177</td>\n",
       "      <td>Mathematics</td>\n",
       "      <td>A</td>\n",
       "      <td>D</td>\n",
       "      <td>False</td>\n",
       "      <td>C</td>\n",
       "      <td>Self-Refine</td>\n",
       "      <td>40</td>\n",
       "    </tr>\n",
       "    <tr>\n",
       "      <th>7197</th>\n",
       "      <td>questao_178</td>\n",
       "      <td>Mathematics</td>\n",
       "      <td>D</td>\n",
       "      <td>A</td>\n",
       "      <td>False</td>\n",
       "      <td>D</td>\n",
       "      <td>Self-Refine</td>\n",
       "      <td>40</td>\n",
       "    </tr>\n",
       "    <tr>\n",
       "      <th>7198</th>\n",
       "      <td>questao_179</td>\n",
       "      <td>Mathematics</td>\n",
       "      <td>C</td>\n",
       "      <td>C</td>\n",
       "      <td>True</td>\n",
       "      <td>E</td>\n",
       "      <td>Self-Refine</td>\n",
       "      <td>40</td>\n",
       "    </tr>\n",
       "    <tr>\n",
       "      <th>7199</th>\n",
       "      <td>questao_180</td>\n",
       "      <td>Mathematics</td>\n",
       "      <td>B</td>\n",
       "      <td>A</td>\n",
       "      <td>False</td>\n",
       "      <td>A</td>\n",
       "      <td>Self-Refine</td>\n",
       "      <td>40</td>\n",
       "    </tr>\n",
       "  </tbody>\n",
       "</table>\n",
       "</div>"
      ],
      "text/plain": [
       "               id      subject ground_truth predicted  correct initial_answer  \\\n",
       "7195  questao_176  Mathematics            D         D     True              D   \n",
       "7196  questao_177  Mathematics            A         D    False              C   \n",
       "7197  questao_178  Mathematics            D         A    False              D   \n",
       "7198  questao_179  Mathematics            C         C     True              E   \n",
       "7199  questao_180  Mathematics            B         A    False              A   \n",
       "\n",
       "           method  run  \n",
       "7195  Self-Refine   40  \n",
       "7196  Self-Refine   40  \n",
       "7197  Self-Refine   40  \n",
       "7198  Self-Refine   40  \n",
       "7199  Self-Refine   40  "
      ]
     },
     "execution_count": 90,
     "metadata": {},
     "output_type": "execute_result"
    }
   ],
   "source": [
    "selfrefine_all = load_and_merge_csvs(\"results/self-refine_few-shot_clean\", method_name=\"Self-Refine\")\n",
    "selfrefine_all.tail()"
   ]
  },
  {
   "cell_type": "markdown",
   "id": "93609b76-e241-4c52-9229-aa0dffecffa8",
   "metadata": {},
   "source": [
    "### Dataset Summary"
   ]
  },
  {
   "cell_type": "code",
   "execution_count": 91,
   "id": "9c73a943-bd95-4067-8fac-7533a2e9a695",
   "metadata": {},
   "outputs": [
    {
     "name": "stdout",
     "output_type": "stream",
     "text": [
      "Method         Rows      Columns   Runs      Unique IDs     \n",
      "------------------------------------------------------------\n",
      "CoT            7200      7         40        180            \n",
      "CoVe           7200      8         40        180            \n",
      "Self-Refine    7200      8         40        180            \n"
     ]
    }
   ],
   "source": [
    "print(f\"{'Method':<15}{'Rows':<10}{'Columns':<10}{'Runs':<10}{'Unique IDs':<15}\")\n",
    "print(\"-\" * 60)\n",
    "print(f\"{'CoT':<15}{cot_all.shape[0]:<10}{cot_all.shape[1]:<10}{cot_all['run'].nunique():<10}{cot_all['id'].nunique():<15}\")\n",
    "print(f\"{'CoVe':<15}{cove_all.shape[0]:<10}{cove_all.shape[1]:<10}{cove_all['run'].nunique():<10}{cove_all['id'].nunique():<15}\")\n",
    "print(f\"{'Self-Refine':<15}{selfrefine_all.shape[0]:<10}{selfrefine_all.shape[1]:<10}{selfrefine_all['run'].nunique():<10}{selfrefine_all['id'].nunique():<15}\")\n"
   ]
  },
  {
   "cell_type": "markdown",
   "id": "81efe330-0d14-4ea7-bddb-dfaf12205cef",
   "metadata": {},
   "source": [
    "## Mean Accuracy per Run"
   ]
  },
  {
   "cell_type": "markdown",
   "id": "51fa9188-202a-4b8b-ac66-e41c018f4120",
   "metadata": {},
   "source": [
    "#### Concat data from each method"
   ]
  },
  {
   "cell_type": "code",
   "execution_count": 92,
   "id": "f8cfda65-ab4e-4024-9d6e-f49b37c6678e",
   "metadata": {},
   "outputs": [],
   "source": [
    "accuracy_by_run = pd.concat([cot_all, cove_all, selfrefine_all], ignore_index=True)"
   ]
  },
  {
   "cell_type": "markdown",
   "id": "29e335b3-52b3-4479-81d5-923394499cad",
   "metadata": {},
   "source": [
    "#### Calculate mean accuracy per method and test run"
   ]
  },
  {
   "cell_type": "code",
   "execution_count": 93,
   "id": "19645978-1a07-45a4-afe6-ef4d5e385931",
   "metadata": {},
   "outputs": [
    {
     "name": "stdout",
     "output_type": "stream",
     "text": [
      "Per-run Accuracy:\n",
      "method    CoT   CoVe  Self-Refine\n",
      "run                              \n",
      "1       0.672  0.672        0.700\n",
      "2       0.722  0.683        0.694\n",
      "3       0.661  0.650        0.678\n",
      "4       0.706  0.672        0.706\n",
      "5       0.711  0.728        0.722\n",
      "6       0.711  0.650        0.683\n",
      "7       0.694  0.639        0.700\n",
      "8       0.700  0.667        0.700\n",
      "9       0.706  0.644        0.683\n",
      "10      0.706  0.650        0.700\n",
      "11      0.722  0.689        0.683\n",
      "12      0.683  0.683        0.700\n",
      "13      0.694  0.683        0.667\n",
      "14      0.717  0.661        0.656\n",
      "15      0.711  0.689        0.672\n",
      "16      0.678  0.689        0.672\n",
      "17      0.717  0.667        0.694\n",
      "18      0.667  0.694        0.667\n",
      "19      0.700  0.644        0.711\n",
      "20      0.711  0.706        0.694\n",
      "21      0.711  0.656        0.678\n",
      "22      0.728  0.683        0.672\n",
      "23      0.689  0.656        0.689\n",
      "24      0.694  0.683        0.711\n",
      "25      0.728  0.667        0.678\n",
      "26      0.694  0.667        0.650\n",
      "27      0.700  0.694        0.661\n",
      "28      0.689  0.672        0.706\n",
      "29      0.706  0.722        0.650\n",
      "30      0.717  0.661        0.656\n",
      "31      0.700  0.667        0.722\n",
      "32      0.706  0.667        0.683\n",
      "33      0.683  0.661        0.650\n",
      "34      0.722  0.672        0.694\n",
      "35      0.722  0.650        0.711\n",
      "36      0.678  0.644        0.706\n",
      "37      0.733  0.661        0.683\n",
      "38      0.706  0.700        0.689\n",
      "39      0.733  0.700        0.661\n",
      "40      0.722  0.672        0.694\n"
     ]
    }
   ],
   "source": [
    "run_stats = accuracy_by_run.groupby([\"method\", \"run\"])[\"correct\"].mean().reset_index()\n",
    "\n",
    "print(\"Per-run Accuracy:\")\n",
    "print(run_stats.pivot(index=\"run\", columns=\"method\", values=\"correct\").round(3))"
   ]
  },
  {
   "cell_type": "markdown",
   "id": "9a09e0b6-dff8-469c-8f5a-abef1cefdedb",
   "metadata": {},
   "source": [
    "## 📊 General Accuracy: General Mean and Standard Deviation"
   ]
  },
  {
   "cell_type": "code",
   "execution_count": 94,
   "id": "c75fb5a6-5f2a-4468-9629-3808749e20fa",
   "metadata": {
    "jupyter": {
     "source_hidden": true
    }
   },
   "outputs": [
    {
     "name": "stdout",
     "output_type": "stream",
     "text": [
      "Runs count per method:\n",
      "        method  runs\n",
      "0          CoT    40\n",
      "1         CoVe    40\n",
      "2  Self-Refine    40\n",
      "\n",
      "Overall Accuracy with Number of Runs:\n"
     ]
    },
    {
     "data": {
      "text/html": [
       "<div>\n",
       "<style scoped>\n",
       "    .dataframe tbody tr th:only-of-type {\n",
       "        vertical-align: middle;\n",
       "    }\n",
       "\n",
       "    .dataframe tbody tr th {\n",
       "        vertical-align: top;\n",
       "    }\n",
       "\n",
       "    .dataframe thead th {\n",
       "        text-align: right;\n",
       "    }\n",
       "</style>\n",
       "<table border=\"1\" class=\"dataframe\">\n",
       "  <thead>\n",
       "    <tr style=\"text-align: right;\">\n",
       "      <th></th>\n",
       "      <th>method</th>\n",
       "      <th>accuracy_mean_all</th>\n",
       "      <th>accuracy_std_all</th>\n",
       "      <th>runs</th>\n",
       "    </tr>\n",
       "  </thead>\n",
       "  <tbody>\n",
       "    <tr>\n",
       "      <th>0</th>\n",
       "      <td>CoT</td>\n",
       "      <td>0.703750</td>\n",
       "      <td>0.189968</td>\n",
       "      <td>40</td>\n",
       "    </tr>\n",
       "    <tr>\n",
       "      <th>1</th>\n",
       "      <td>CoVe</td>\n",
       "      <td>0.672917</td>\n",
       "      <td>0.205645</td>\n",
       "      <td>40</td>\n",
       "    </tr>\n",
       "    <tr>\n",
       "      <th>2</th>\n",
       "      <td>Self-Refine</td>\n",
       "      <td>0.685694</td>\n",
       "      <td>0.193422</td>\n",
       "      <td>40</td>\n",
       "    </tr>\n",
       "  </tbody>\n",
       "</table>\n",
       "</div>"
      ],
      "text/plain": [
       "        method  accuracy_mean_all  accuracy_std_all  runs\n",
       "0          CoT           0.703750          0.189968    40\n",
       "1         CoVe           0.672917          0.205645    40\n",
       "2  Self-Refine           0.685694          0.193422    40"
      ]
     },
     "execution_count": 94,
     "metadata": {},
     "output_type": "execute_result"
    }
   ],
   "source": [
    "# Compute the number of unique runs per method from the original data.\n",
    "runs_count = accuracy_by_run.groupby(\"method\")[\"run\"].nunique().reset_index(name=\"runs\")\n",
    "print(\"Runs count per method:\")\n",
    "print(runs_count)\n",
    "\n",
    "# Group by method, subject, and run to compute the per-run average correctness.\n",
    "df_grouped = accuracy_by_run.groupby([\"method\", \"subject\", \"run\"])[\"correct\"].mean().reset_index()\n",
    "\n",
    "# Aggregate across runs (across all subjects) for each method.\n",
    "df_overall = df_grouped.groupby(\"method\")[\"correct\"].agg([\"mean\", \"std\"]).reset_index()\n",
    "df_overall.rename(columns={\"mean\": \"accuracy_mean_all\", \"std\": \"accuracy_std_all\"}, inplace=True)\n",
    "\n",
    "# Merge the runs count into df_overall.\n",
    "df_overall = df_overall.merge(runs_count, on=\"method\")\n",
    "\n",
    "print(\"\\nOverall Accuracy with Number of Runs:\")\n",
    "df_overall"
   ]
  },
  {
   "cell_type": "code",
   "execution_count": 95,
   "id": "19e54b45-18d6-473e-996c-f677c2e6c23b",
   "metadata": {
    "jupyter": {
     "source_hidden": true
    }
   },
   "outputs": [
    {
     "data": {
      "image/png": "[encoded data removed]",
      "text/plain": [
       "<Figure size 800x600 with 1 Axes>"
      ]
     },
     "metadata": {},
     "output_type": "display_data"
    }
   ],
   "source": [
    "import matplotlib.pyplot as plt\n",
    "import seaborn as sns\n",
    "\n",
    "# Get pastel colors\n",
    "pastel_colors = sns.color_palette(\"pastel\", n_colors=len(df_overall))\n",
    "\n",
    "plt.figure(figsize=(8, 6))\n",
    "bars = plt.bar(\n",
    "    df_overall[\"method\"],\n",
    "    df_overall[\"accuracy_mean_all\"],\n",
    "    yerr=df_overall[\"accuracy_std_all\"],\n",
    "    capsize=5,\n",
    "    color=pastel_colors,\n",
    "    edgecolor=\"black\"\n",
    ")\n",
    "\n",
    "plt.xlabel(\"Method\")\n",
    "plt.ylabel(\"Overall Accuracy\")\n",
    "plt.title(\"Overall Accuracy by Method (with Standard Deviation)\", pad=20)\n",
    "plt.ylim(0, 1)\n",
    "\n",
    "# Create x-axis labels with run count\n",
    "new_labels = [f\"{m} (n={r})\" for m, r in zip(df_overall[\"method\"], df_overall[\"runs\"])]\n",
    "plt.xticks(ticks=range(len(new_labels)), labels=new_labels)\n",
    "\n",
    "plt.tight_layout()\n",
    "plt.grid(axis='y')\n",
    "plt.show()\n"
   ]
  },
  {
   "cell_type": "markdown",
   "id": "999f9fc9-36b7-4eca-a6d3-2af1776e0001",
   "metadata": {},
   "source": [
    "## Accuracy per Subject: Mean and Standard Deviation"
   ]
  },
  {
   "cell_type": "markdown",
   "id": "83540695-15c3-4080-8254-d9bdf5b75fac",
   "metadata": {},
   "source": [
    "### Calculate Mean and Standard Deviation"
   ]
  },
  {
   "cell_type": "markdown",
   "id": "d4f74eb1-8d9b-42e1-b37e-4e74252ebafd",
   "metadata": {},
   "source": [
    "#### Aggregate per Subject"
   ]
  },
  {
   "cell_type": "code",
   "execution_count": 96,
   "id": "ca966408-282c-40f2-b801-475957624f68",
   "metadata": {},
   "outputs": [],
   "source": [
    "df_agg = (\n",
    "    accuracy_by_run.groupby([\"method\", \"subject\", \"run\"])[\"correct\"]\n",
    "    .mean()  # Average correctness per run\n",
    "    .groupby([\"method\", \"subject\"])\n",
    "    .agg(accuracy_mean=\"mean\", accuracy_std=\"std\")  # Aggregate across runs\n",
    "    .reset_index()\n",
    ")"
   ]
  },
  {
   "cell_type": "markdown",
   "id": "1e34238a-5770-43ca-adc1-3d4532189aa5",
   "metadata": {},
   "source": [
    "#### Mean"
   ]
  },
  {
   "cell_type": "code",
   "execution_count": 97,
   "id": "b9a604ba-3056-478b-abc8-156a93a89bbb",
   "metadata": {
    "scrolled": true
   },
   "outputs": [
    {
     "data": {
      "text/html": [
       "<div>\n",
       "<style scoped>\n",
       "    .dataframe tbody tr th:only-of-type {\n",
       "        vertical-align: middle;\n",
       "    }\n",
       "\n",
       "    .dataframe tbody tr th {\n",
       "        vertical-align: top;\n",
       "    }\n",
       "\n",
       "    .dataframe thead th {\n",
       "        text-align: right;\n",
       "    }\n",
       "</style>\n",
       "<table border=\"1\" class=\"dataframe\">\n",
       "  <thead>\n",
       "    <tr style=\"text-align: right;\">\n",
       "      <th>subject</th>\n",
       "      <th>Human Sciences</th>\n",
       "      <th>Languages</th>\n",
       "      <th>Mathematics</th>\n",
       "      <th>Natural Sciences</th>\n",
       "    </tr>\n",
       "    <tr>\n",
       "      <th>method</th>\n",
       "      <th></th>\n",
       "      <th></th>\n",
       "      <th></th>\n",
       "      <th></th>\n",
       "    </tr>\n",
       "  </thead>\n",
       "  <tbody>\n",
       "    <tr>\n",
       "      <th>CoT</th>\n",
       "      <td>0.955000</td>\n",
       "      <td>0.803889</td>\n",
       "      <td>0.495</td>\n",
       "      <td>0.561111</td>\n",
       "    </tr>\n",
       "    <tr>\n",
       "      <th>CoVe</th>\n",
       "      <td>0.934444</td>\n",
       "      <td>0.787778</td>\n",
       "      <td>0.415</td>\n",
       "      <td>0.554444</td>\n",
       "    </tr>\n",
       "    <tr>\n",
       "      <th>Self-Refine</th>\n",
       "      <td>0.942222</td>\n",
       "      <td>0.785556</td>\n",
       "      <td>0.475</td>\n",
       "      <td>0.540000</td>\n",
       "    </tr>\n",
       "  </tbody>\n",
       "</table>\n",
       "</div>"
      ],
      "text/plain": [
       "subject      Human Sciences  Languages  Mathematics  Natural Sciences\n",
       "method                                                               \n",
       "CoT                0.955000   0.803889        0.495          0.561111\n",
       "CoVe               0.934444   0.787778        0.415          0.554444\n",
       "Self-Refine        0.942222   0.785556        0.475          0.540000"
      ]
     },
     "execution_count": 97,
     "metadata": {},
     "output_type": "execute_result"
    }
   ],
   "source": [
    "df_accuracy_mean_per_subject = df_agg.pivot(index=\"method\", columns=\"subject\", values=\"accuracy_mean\")\n",
    "\n",
    "df_accuracy_mean_per_subject"
   ]
  },
  {
   "cell_type": "markdown",
   "id": "ca249b37-d333-4369-8508-1e48476d981b",
   "metadata": {},
   "source": [
    "#### Standard Deviation"
   ]
  },
  {
   "cell_type": "code",
   "execution_count": 98,
   "id": "5bd7f8fa-fbe5-4856-984d-16065921e4ee",
   "metadata": {},
   "outputs": [
    {
     "data": {
      "text/html": [
       "<div>\n",
       "<style scoped>\n",
       "    .dataframe tbody tr th:only-of-type {\n",
       "        vertical-align: middle;\n",
       "    }\n",
       "\n",
       "    .dataframe tbody tr th {\n",
       "        vertical-align: top;\n",
       "    }\n",
       "\n",
       "    .dataframe thead th {\n",
       "        text-align: right;\n",
       "    }\n",
       "</style>\n",
       "<table border=\"1\" class=\"dataframe\">\n",
       "  <thead>\n",
       "    <tr style=\"text-align: right;\">\n",
       "      <th>subject</th>\n",
       "      <th>Human Sciences</th>\n",
       "      <th>Languages</th>\n",
       "      <th>Mathematics</th>\n",
       "      <th>Natural Sciences</th>\n",
       "    </tr>\n",
       "    <tr>\n",
       "      <th>method</th>\n",
       "      <th></th>\n",
       "      <th></th>\n",
       "      <th></th>\n",
       "      <th></th>\n",
       "    </tr>\n",
       "  </thead>\n",
       "  <tbody>\n",
       "    <tr>\n",
       "      <th>CoT</th>\n",
       "      <td>0.023864</td>\n",
       "      <td>0.027968</td>\n",
       "      <td>0.059328</td>\n",
       "      <td>0.040805</td>\n",
       "    </tr>\n",
       "    <tr>\n",
       "      <th>CoVe</th>\n",
       "      <td>0.031407</td>\n",
       "      <td>0.042686</td>\n",
       "      <td>0.042220</td>\n",
       "      <td>0.038964</td>\n",
       "    </tr>\n",
       "    <tr>\n",
       "      <th>Self-Refine</th>\n",
       "      <td>0.022951</td>\n",
       "      <td>0.045722</td>\n",
       "      <td>0.052222</td>\n",
       "      <td>0.046450</td>\n",
       "    </tr>\n",
       "  </tbody>\n",
       "</table>\n",
       "</div>"
      ],
      "text/plain": [
       "subject      Human Sciences  Languages  Mathematics  Natural Sciences\n",
       "method                                                               \n",
       "CoT                0.023864   0.027968     0.059328          0.040805\n",
       "CoVe               0.031407   0.042686     0.042220          0.038964\n",
       "Self-Refine        0.022951   0.045722     0.052222          0.046450"
      ]
     },
     "execution_count": 98,
     "metadata": {},
     "output_type": "execute_result"
    }
   ],
   "source": [
    "df_accuracy_std_per_subject = df_agg.pivot(index=\"method\", columns=\"subject\", values=\"accuracy_std\")\n",
    "\n",
    "df_accuracy_std_per_subject"
   ]
  },
  {
   "cell_type": "markdown",
   "id": "a22d7709-4613-4a72-b0b9-393c4a9b982f",
   "metadata": {},
   "source": [
    "#### Mean and Standard Deviation"
   ]
  },
  {
   "cell_type": "code",
   "execution_count": 99,
   "id": "439bf71c-9672-435d-9fcf-efa70a3208d6",
   "metadata": {},
   "outputs": [
    {
     "data": {
      "text/html": [
       "<div>\n",
       "<style scoped>\n",
       "    .dataframe tbody tr th:only-of-type {\n",
       "        vertical-align: middle;\n",
       "    }\n",
       "\n",
       "    .dataframe tbody tr th {\n",
       "        vertical-align: top;\n",
       "    }\n",
       "\n",
       "    .dataframe thead th {\n",
       "        text-align: right;\n",
       "    }\n",
       "</style>\n",
       "<table border=\"1\" class=\"dataframe\">\n",
       "  <thead>\n",
       "    <tr style=\"text-align: right;\">\n",
       "      <th>subject</th>\n",
       "      <th>Human Sciences</th>\n",
       "      <th>Languages</th>\n",
       "      <th>Mathematics</th>\n",
       "      <th>Natural Sciences</th>\n",
       "    </tr>\n",
       "    <tr>\n",
       "      <th>method</th>\n",
       "      <th></th>\n",
       "      <th></th>\n",
       "      <th></th>\n",
       "      <th></th>\n",
       "    </tr>\n",
       "  </thead>\n",
       "  <tbody>\n",
       "    <tr>\n",
       "      <th>CoT</th>\n",
       "      <td>0.955 ± 0.024</td>\n",
       "      <td>0.804 ± 0.028</td>\n",
       "      <td>0.495 ± 0.059</td>\n",
       "      <td>0.561 ± 0.041</td>\n",
       "    </tr>\n",
       "    <tr>\n",
       "      <th>CoVe</th>\n",
       "      <td>0.934 ± 0.031</td>\n",
       "      <td>0.788 ± 0.043</td>\n",
       "      <td>0.415 ± 0.042</td>\n",
       "      <td>0.554 ± 0.039</td>\n",
       "    </tr>\n",
       "    <tr>\n",
       "      <th>Self-Refine</th>\n",
       "      <td>0.942 ± 0.023</td>\n",
       "      <td>0.786 ± 0.046</td>\n",
       "      <td>0.475 ± 0.052</td>\n",
       "      <td>0.540 ± 0.046</td>\n",
       "    </tr>\n",
       "  </tbody>\n",
       "</table>\n",
       "</div>"
      ],
      "text/plain": [
       "subject     Human Sciences      Languages    Mathematics Natural Sciences\n",
       "method                                                                   \n",
       "CoT          0.955 ± 0.024  0.804 ± 0.028  0.495 ± 0.059    0.561 ± 0.041\n",
       "CoVe         0.934 ± 0.031  0.788 ± 0.043  0.415 ± 0.042    0.554 ± 0.039\n",
       "Self-Refine  0.942 ± 0.023  0.786 ± 0.046  0.475 ± 0.052    0.540 ± 0.046"
      ]
     },
     "execution_count": 99,
     "metadata": {},
     "output_type": "execute_result"
    }
   ],
   "source": [
    "df_agg[\"accuracy_formatted\"] = df_agg.apply(\n",
    "    lambda row: f\"{row['accuracy_mean']:.3f} ± {row['accuracy_std']:.3f}\", axis=1\n",
    ")\n",
    "\n",
    "df_accuracy_mean_std_per_subject = df_agg.pivot(index=\"method\", columns=\"subject\", values=\"accuracy_formatted\")\n",
    "\n",
    "df_accuracy_mean_std_per_subject"
   ]
  },
  {
   "cell_type": "markdown",
   "id": "9459884b-6509-4f17-a5f7-261c24affdef",
   "metadata": {},
   "source": [
    "### 📊 Accuracy per Subject: Mean and Std"
   ]
  },
  {
   "cell_type": "code",
   "execution_count": 100,
   "id": "5dc7f0b4-9231-45f0-aa4b-79694f523911",
   "metadata": {
    "jupyter": {
     "source_hidden": true
    }
   },
   "outputs": [
    {
     "data": {
      "image/png": "[encoded data removed]",
      "text/plain": [
       "<Figure size 1000x600 with 1 Axes>"
      ]
     },
     "metadata": {},
     "output_type": "display_data"
    }
   ],
   "source": [
    "import matplotlib.pyplot as plt\n",
    "import numpy as np\n",
    "import seaborn as sns  # for pastel palette\n",
    "\n",
    "# Compute the overall number of runs per method\n",
    "runs_count_overall = accuracy_by_run.groupby(\"method\")[\"run\"].nunique()\n",
    "runs_dict = runs_count_overall.to_dict()\n",
    "\n",
    "# Extract subjects and methods\n",
    "subjects = df_accuracy_mean_per_subject.columns.tolist()\n",
    "methods = df_accuracy_mean_per_subject.index.tolist()\n",
    "\n",
    "# Create positions on the x-axis for each subject\n",
    "n_subjects = len(subjects)\n",
    "x = np.arange(n_subjects)\n",
    "bar_width = 0.8 / len(methods)\n",
    "\n",
    "# Get pastel color palette with as many colors as methods\n",
    "pastel_colors = sns.color_palette(\"pastel\", n_colors=len(methods))\n",
    "\n",
    "plt.figure(figsize=(10, 6))\n",
    "\n",
    "# Plot bars per method with error bars\n",
    "for i, method in enumerate(methods):\n",
    "    means = df_accuracy_mean_per_subject.loc[method].values\n",
    "    stds = df_accuracy_std_per_subject.loc[method].values\n",
    "    offset = (i - (len(methods) - 1) / 2) * bar_width\n",
    "    label_with_runs = f\"{method} (n={runs_dict.get(method, '?')})\"\n",
    "    \n",
    "    plt.bar(\n",
    "        x + offset,\n",
    "        means,\n",
    "        bar_width,\n",
    "        yerr=stds,\n",
    "        capsize=5,\n",
    "        label=label_with_runs,\n",
    "        color=pastel_colors[i]\n",
    "    )\n",
    "\n",
    "# Final plot adjustments\n",
    "plt.xticks(x, subjects)\n",
    "plt.xlabel(\"Subject\")\n",
    "plt.ylabel(\"Accuracy Mean\")\n",
    "plt.title(\"Accuracy Mean and Standard Deviation per Subject\", pad=20)\n",
    "plt.ylim(0, 1)\n",
    "plt.legend(title=\"Method\")\n",
    "plt.tight_layout()\n",
    "plt.show()"
   ]
  },
  {
   "cell_type": "markdown",
   "id": "1da60c7a-436b-4e42-a519-561f1bd4cea1",
   "metadata": {},
   "source": [
    "### Exploratory Analysis: Feedback Effects in CoVe and Self-Refine"
   ]
  },
  {
   "cell_type": "markdown",
   "id": "4c31408d-ca23-47e0-880a-7c82dadff42f",
   "metadata": {},
   "source": [
    "#### Helpers"
   ]
  },
  {
   "cell_type": "code",
   "execution_count": 101,
   "id": "d9a7ba86-8073-4e9e-a52c-df4f10a529a6",
   "metadata": {},
   "outputs": [],
   "source": [
    "# --- Color mapping ---\n",
    "custom_colors = {\n",
    "    'Improvement': '#9EC6F3',          \n",
    "    'Regression': '#FEBE8C',           \n",
    "    'Consistently Correct': '#B6E2A1', \n",
    "    'Consistently Incorrect': '#F7A4A4' \n",
    "}\n",
    "\n",
    "# --- Classification function ---\n",
    "def classify_answer_change(row):\n",
    "    initial_correct = row['initial_answer'] == row['ground_truth']\n",
    "    final_correct = row['predicted'] == row['ground_truth']\n",
    "    if not initial_correct and final_correct:\n",
    "        return 'Improvement'\n",
    "    elif initial_correct and not final_correct:\n",
    "        return 'Regression'\n",
    "    elif initial_correct and final_correct:\n",
    "        return 'Consistently Correct'\n",
    "    else:\n",
    "        return 'Consistently Incorrect'\n",
    "\n",
    "# --- Preprocessing function ---\n",
    "def prepare_data(df, method_label):\n",
    "    df = df.copy()\n",
    "    df['result_category'] = df.apply(classify_answer_change, axis=1)\n",
    "    df['method_label'] = method_label\n",
    "    return df\n",
    "\n",
    "# --- Plotting helper for both plots per method ---\n",
    "def plot_method_row(df, method_label, axs_row):\n",
    "    # Plot 1: Answer Transitions (Bar Plot)\n",
    "    counts = df['result_category'].value_counts().reindex([\n",
    "        'Improvement', 'Regression', 'Consistently Correct', 'Consistently Incorrect'\n",
    "    ], fill_value=0)\n",
    "    colors = [custom_colors[cat] for cat in counts.index]\n",
    "    axs_row[0].bar(counts.index, counts.values, color=colors)\n",
    "    axs_row[0].set_title(f\"Answer Transitions – {method_label}\")\n",
    "    axs_row[0].set_ylabel(\"Number of Answers\")\n",
    "    axs_row[0].grid(axis='y')\n",
    "    \n",
    "    # Remove x-axis tick labels\n",
    "    axs_row[0].set_xticks([])       # removes the ticks\n",
    "    axs_row[0].set_xticklabels([])  # removes the labels\n",
    "\n",
    "\n",
    "    # Plot 2: Stacked Bar per Subject\n",
    "    subject_counts = (\n",
    "        df.groupby(['subject', 'result_category'])\n",
    "        .size()\n",
    "        .unstack(fill_value=0)\n",
    "        .reindex(columns=[\n",
    "            'Improvement', 'Regression', 'Consistently Correct', 'Consistently Incorrect'\n",
    "        ], fill_value=0)\n",
    "    )\n",
    "    subject_counts.plot(\n",
    "        kind='bar',\n",
    "        stacked=True,\n",
    "        ax=axs_row[1],\n",
    "        color=[custom_colors[col] for col in subject_counts.columns],\n",
    "        legend=False\n",
    "    )\n",
    "    axs_row[1].set_title(f\"Feedback Result Categories per Subject – {method_label}\")\n",
    "    axs_row[1].set_ylabel(\"Number of Questions\")\n",
    "    axs_row[1].set_xlabel(\"Subject\")\n",
    "    axs_row[1].tick_params(axis='x', rotation=0)\n",
    "    axs_row[1].grid(axis='y')"
   ]
  },
  {
   "cell_type": "markdown",
   "id": "5fa4d151-f52b-4b9d-85c1-c80a226f4f40",
   "metadata": {},
   "source": [
    "#### Prepare data"
   ]
  },
  {
   "cell_type": "code",
   "execution_count": 102,
   "id": "7f695923-c4e7-4a14-8872-9848ee4b287e",
   "metadata": {},
   "outputs": [],
   "source": [
    "cove_runs = cove_all['run'].nunique()\n",
    "selfrefine_runs = selfrefine_all['run'].nunique()\n",
    "\n",
    "cove_all_classified = prepare_data(cove_all, f\"Chain-of-Verification ({cove_runs} runs)\")\n",
    "selfrefine_all_classified = prepare_data(selfrefine_all, f\"SELF-REFINE ({selfrefine_runs} runs)\")"
   ]
  },
  {
   "cell_type": "markdown",
   "id": "be91499f-4e8c-45b1-b736-26c1a35b7f62",
   "metadata": {},
   "source": [
    "#### 📊 Feedback Effects by Method"
   ]
  },
  {
   "cell_type": "code",
   "execution_count": 103,
   "id": "6dd2a1e8-8900-4a00-b634-eb1bdd2ce7ea",
   "metadata": {
    "jupyter": {
     "source_hidden": true
    }
   },
   "outputs": [
    {
     "data": {
      "image/png": "[encoded data removed]",
      "text/plain": [
       "<Figure size 1600x1000 with 4 Axes>"
      ]
     },
     "metadata": {},
     "output_type": "display_data"
    }
   ],
   "source": [
    "import pandas as pd\n",
    "import matplotlib.pyplot as plt\n",
    "import seaborn as sns\n",
    "\n",
    "# --- Create 2x2 plot layout ---\n",
    "fig, axs = plt.subplots(nrows=2, ncols=2, figsize=(16, 10))\n",
    "\n",
    "plot_method_row(cove_all_classified, \"Chain-of-Verification\", axs[0])\n",
    "plot_method_row(selfrefine_all_classified, \"SELF-REFINE\", axs[1])\n",
    "\n",
    "# --- Shared legend ---\n",
    "# Create manual legend to ensure correct colors\n",
    "from matplotlib.patches import Patch\n",
    "legend_handles = [\n",
    "    Patch(color=custom_colors[k], label=k)\n",
    "    for k in ['Improvement', 'Regression', 'Consistently Correct', 'Consistently Incorrect']\n",
    "]\n",
    "fig.legend(\n",
    "    handles=legend_handles,\n",
    "    title=\"Result Category\",\n",
    "    loc='upper center',\n",
    "    bbox_to_anchor=(0.5, 0.97),\n",
    "    ncol=4,\n",
    "    frameon=False\n",
    ")\n",
    "\n",
    "fig.suptitle(\"Feedback Effects by Method\", fontsize=16, y=1)\n",
    "plt.subplots_adjust(top=0.88, hspace=0.4, wspace=0.25)\n",
    "plt.show()"
   ]
  },
  {
   "cell_type": "markdown",
   "id": "b36f2165-50e6-4b8b-832b-a746b5b70cf5",
   "metadata": {},
   "source": [
    "#### 📊 Feedback effects by Subject"
   ]
  },
  {
   "cell_type": "code",
   "execution_count": 104,
   "id": "12ca72ad-e93d-48bc-8933-8f48082999cb",
   "metadata": {
    "jupyter": {
     "source_hidden": true
    }
   },
   "outputs": [
    {
     "data": {
      "image/png": "[encoded data removed]",
      "text/plain": [
       "<Figure size 1457.5x1000 with 4 Axes>"
      ]
     },
     "metadata": {},
     "output_type": "display_data"
    }
   ],
   "source": [
    "# --- Combine for plotting ---\n",
    "combined_classified_df = pd.concat([cove_all_classified, selfrefine_all_classified], ignore_index=True)\n",
    "\n",
    "# --- Grouped counts per subject, method, result category ---\n",
    "subject_summary = (\n",
    "    combined_classified_df\n",
    "    .groupby(['subject', 'method_label', 'result_category'])\n",
    "    .size()\n",
    "    .reset_index(name='count')\n",
    ")\n",
    "\n",
    "# --- Consistent category order ---\n",
    "category_order = ['Improvement', 'Regression', 'Consistently Correct', 'Consistently Incorrect']\n",
    "\n",
    "# --- Plot using Seaborn catplot ---\n",
    "plot = sns.catplot(\n",
    "    data=subject_summary,\n",
    "    x='subject', y='count',\n",
    "    hue='method_label',\n",
    "    col='result_category',\n",
    "    kind='bar',\n",
    "    col_order=category_order,\n",
    "    palette='pastel', \n",
    "    col_wrap=2,\n",
    "    height=5, aspect=1.2\n",
    ")\n",
    "\n",
    "plot.set_titles(\"{col_name}\")\n",
    "plot.set_axis_labels(\"Subject\", \"Number of Answers\")\n",
    "plot.fig.subplots_adjust(top=0.9, hspace=0.3)\n",
    "plot.fig.suptitle(\"Feedback Accuracy Transitions per Subject and Method\", fontsize=14)\n",
    "\n",
    "# Rotate x labels\n",
    "for ax in plot.axes.flat:\n",
    "    for label in ax.get_xticklabels():\n",
    "        label.set_rotation(0)\n",
    "        label.set_horizontalalignment('center')\n",
    "    ax.xaxis.set_tick_params(labelbottom=True)\n",
    "\n",
    "plt.show()"
   ]
  },
  {
   "cell_type": "markdown",
   "id": "5411f403-4ec9-4852-9661-d7fabf0a5975",
   "metadata": {},
   "source": [
    "## 📈 Statistical Analysis - Consistency"
   ]
  },
  {
   "cell_type": "markdown",
   "id": "2a39adf7-da26-4d4d-ad73-a3ebc4555e95",
   "metadata": {},
   "source": [
    "### General"
   ]
  },
  {
   "cell_type": "markdown",
   "id": "6b2b0bb2-6a41-460f-8422-1123be8b1aa2",
   "metadata": {},
   "source": [
    "Conduct pairwise McNemar’s tests to determine whether differences in consistency between prompting methods are statistically significant.\n",
    "\n",
    "**Null hypothesis (H₀)**: There is no difference in consistency between the two methods.\n",
    "\n",
    "**Alternative hypothesis (H₁)**: There is a difference in consistency between the two methods.\n",
    "\n",
    "The tests revealed statistically significant differences between CoT and both CoVe (p < 0.001) and Self-Refine (p < 0.001). No significant difference was found between CoVe and Self-Refine (p = 1.000), indicating similar behavior between those two methods."
   ]
  },
  {
   "cell_type": "code",
   "execution_count": 105,
   "id": "fd5076e9-6ac3-4c55-9c79-1eeb8eaaf6b7",
   "metadata": {
    "jupyter": {
     "source_hidden": true
    }
   },
   "outputs": [
    {
     "name": "stdout",
     "output_type": "stream",
     "text": [
      "Consistency per method:\n",
      "CoT           0.472222\n",
      "CoVe          0.294444\n",
      "SelfRefine    0.300000\n",
      "dtype: float64\n",
      "\n",
      "Contingency table (CoT vs CoVe):\n",
      "CoVe   0   1\n",
      "CoT         \n",
      "0     90   5\n",
      "1     37  48\n",
      "\n",
      "McNemar's test (CoT vs CoVe): p-value = 0.0000\n",
      "\n",
      "Contingency table (CoT vs SelfRefine):\n",
      "SelfRefine   0   1\n",
      "CoT               \n",
      "0           91   4\n",
      "1           35  50\n",
      "\n",
      "McNemar's test (CoT vs SelfRefine): p-value = 0.0000\n",
      "\n",
      "Contingency table (CoVe vs SelfRefine):\n",
      "SelfRefine    0   1\n",
      "CoVe               \n",
      "0           110  17\n",
      "1            16  37\n",
      "\n",
      "McNemar's test (CoVe vs SelfRefine): p-value = 1.0000\n"
     ]
    },
    {
     "data": {
      "text/plain": [
       "np.float64(1.0)"
      ]
     },
     "execution_count": 105,
     "metadata": {},
     "output_type": "execute_result"
    }
   ],
   "source": [
    "import pandas as pd\n",
    "from statsmodels.stats.contingency_tables import mcnemar\n",
    "\n",
    "# Make copies of original data\n",
    "cot_df = cot_all.copy()\n",
    "cove_df = cove_all.copy()\n",
    "selfrefine_df = selfrefine_all.copy()\n",
    "\n",
    "# Helper function: mark questions as consistent if only one answer was ever predicted\n",
    "def compute_consistency_flags(df):\n",
    "    return df.groupby(\"id\")[\"predicted\"].nunique().apply(lambda x: 1 if x == 1 else 0)\n",
    "\n",
    "# Create binary consistency flags (1 = consistent, 0 = inconsistent)\n",
    "cot_consistency = compute_consistency_flags(cot_df).rename(\"CoT\")\n",
    "cove_consistency = compute_consistency_flags(cove_df).rename(\"CoVe\")\n",
    "selfrefine_consistency = compute_consistency_flags(selfrefine_df).rename(\"SelfRefine\")\n",
    "\n",
    "# Combine flags into one dataframe for comparison\n",
    "consistency_flags = pd.concat([cot_consistency, cove_consistency, selfrefine_consistency], axis=1)\n",
    "\n",
    "# Count overall consistency per method\n",
    "print(\"Consistency per method:\")\n",
    "print(consistency_flags.sum() / len(consistency_flags))\n",
    "\n",
    "# Pairwise McNemar tests\n",
    "def run_mcnemar(df, method1, method2):\n",
    "    # Contingency table\n",
    "    both = df[[method1, method2]]\n",
    "    table = pd.crosstab(both[method1], both[method2])\n",
    "    \n",
    "    # Ensure it's a 2x2 matrix\n",
    "    table = table.reindex(index=[0,1], columns=[0,1], fill_value=0)\n",
    "    \n",
    "    print(f\"\\nContingency table ({method1} vs {method2}):\\n{table}\")\n",
    "    \n",
    "    result = mcnemar(table, exact=True)\n",
    "    print(f\"\\nMcNemar's test ({method1} vs {method2}): p-value = {result.pvalue:.4f}\")\n",
    "    return result.pvalue\n",
    "\n",
    "# Run McNemar tests between methods\n",
    "run_mcnemar(consistency_flags, \"CoT\", \"CoVe\")\n",
    "run_mcnemar(consistency_flags, \"CoT\", \"SelfRefine\")\n",
    "run_mcnemar(consistency_flags, \"CoVe\", \"SelfRefine\")"
   ]
  },
  {
   "cell_type": "markdown",
   "id": "6a63fb31-69d1-4c71-966d-b94679135b50",
   "metadata": {},
   "source": [
    "### 📊 Subject-wise Consistency"
   ]
  },
  {
   "cell_type": "code",
   "execution_count": 106,
   "id": "dd4ba499-b7a0-4ff0-9e22-173164cdc556",
   "metadata": {
    "jupyter": {
     "source_hidden": true
    }
   },
   "outputs": [
    {
     "data": {
      "image/png": "[encoded data removed]",
      "text/plain": [
       "<Figure size 1000x600 with 1 Axes>"
      ]
     },
     "metadata": {},
     "output_type": "display_data"
    }
   ],
   "source": [
    "import pandas as pd\n",
    "import matplotlib.pyplot as plt\n",
    "import seaborn as sns  # Required for pastel palette\n",
    "\n",
    "# --- Step 1: Copy original datasets ---\n",
    "cot_df = cot_all.copy()\n",
    "cove_df = cove_all.copy()\n",
    "selfrefine_df = selfrefine_all.copy()\n",
    "\n",
    "# --- Step 2: Determine number of runs per method ---\n",
    "n_cot = cot_df['run'].nunique()\n",
    "n_cove = cove_df['run'].nunique()\n",
    "n_selfrefine = selfrefine_df['run'].nunique()\n",
    "\n",
    "# --- Step 3: Compute per-subject consistency ---\n",
    "def compute_subject_consistency(df, method_label):\n",
    "    grouped = df.groupby(['id', 'subject'])['predicted'].nunique().reset_index()\n",
    "    grouped['consistent'] = grouped['predicted'].apply(lambda x: 1 if x == 1 else 0)\n",
    "    consistency_by_subject = grouped.groupby('subject')['consistent'].mean().reset_index()\n",
    "    consistency_by_subject.columns = ['subject', method_label]\n",
    "    return consistency_by_subject\n",
    "\n",
    "# Create labeled method names with run counts\n",
    "cot_label = f'CoT (n={n_cot})'\n",
    "cove_label = f'CoVe (n={n_cove})'\n",
    "selfrefine_label = f'Self-Refine (n={n_selfrefine})'\n",
    "\n",
    "# Compute consistency\n",
    "cot_subj = compute_subject_consistency(cot_df, cot_label)\n",
    "cove_subj = compute_subject_consistency(cove_df, cove_label)\n",
    "selfrefine_subj = compute_subject_consistency(selfrefine_df, selfrefine_label)\n",
    "\n",
    "# --- Step 4: Merge data ---\n",
    "merged_consistency = cot_subj.merge(cove_subj, on='subject').merge(selfrefine_subj, on='subject')\n",
    "merged_consistency.set_index('subject', inplace=True)\n",
    "\n",
    "# --- Step 5: Plot with pastel colors ---\n",
    "pastel_colors = sns.color_palette(\"pastel\", n_colors=3)\n",
    "ax = merged_consistency.plot(\n",
    "    kind='bar',\n",
    "    figsize=(10, 6),\n",
    "    color=pastel_colors\n",
    ")\n",
    "\n",
    "ax.set_title(\"Answer Consistency per Subject by Method\", pad=20)\n",
    "ax.set_ylabel(\"Consistency Rate\")\n",
    "ax.set_xlabel(\"Subject\")\n",
    "ax.set_ylim(0, 1)\n",
    "plt.xticks(rotation=0)\n",
    "plt.grid(axis='y')\n",
    "plt.tight_layout()\n",
    "plt.show()\n"
   ]
  },
  {
   "cell_type": "code",
   "execution_count": 107,
   "id": "df4bcc28-bec9-4904-96f5-045d27800ebb",
   "metadata": {
    "jupyter": {
     "source_hidden": true
    }
   },
   "outputs": [
    {
     "name": "stdout",
     "output_type": "stream",
     "text": [
      "\n",
      "📘 Subject: Languages\n",
      "\n",
      "→ CoT vs CoVe Contingency Table:\n",
      "CoVe   0   1\n",
      "CoT         \n",
      "0     16   3\n",
      "1     13  13\n",
      "p-value = 0.0213\n",
      "\n",
      "→ CoT vs SelfRefine Contingency Table:\n",
      "SelfRefine   0  1\n",
      "CoT              \n",
      "0           17  2\n",
      "1           18  8\n",
      "p-value = 0.0004\n",
      "\n",
      "→ CoVe vs SelfRefine Contingency Table:\n",
      "SelfRefine   0  1\n",
      "CoVe             \n",
      "0           26  3\n",
      "1            9  7\n",
      "p-value = 0.1460\n",
      "\n",
      "📘 Subject: Natural Sciences\n",
      "\n",
      "→ CoT vs CoVe Contingency Table:\n",
      "CoVe   0   1\n",
      "CoT         \n",
      "0     27   2\n",
      "1      5  11\n",
      "p-value = 0.4531\n",
      "\n",
      "→ CoT vs SelfRefine Contingency Table:\n",
      "SelfRefine   0   1\n",
      "CoT               \n",
      "0           28   1\n",
      "1            4  12\n",
      "p-value = 0.3750\n",
      "\n",
      "→ CoVe vs SelfRefine Contingency Table:\n",
      "SelfRefine   0   1\n",
      "CoVe              \n",
      "0           29   3\n",
      "1            3  10\n",
      "p-value = 1.0000\n",
      "\n",
      "📘 Subject: Mathematics\n",
      "\n",
      "→ CoT vs CoVe Contingency Table:\n",
      "CoVe   0  1\n",
      "CoT        \n",
      "0     39  0\n",
      "1      5  1\n",
      "p-value = 0.0625\n",
      "\n",
      "→ CoT vs SelfRefine Contingency Table:\n",
      "SelfRefine   0  1\n",
      "CoT              \n",
      "0           38  1\n",
      "1            3  3\n",
      "p-value = 0.6250\n",
      "\n",
      "→ CoVe vs SelfRefine Contingency Table:\n",
      "SelfRefine   0  1\n",
      "CoVe             \n",
      "0           40  4\n",
      "1            1  0\n",
      "p-value = 0.3750\n",
      "\n",
      "📘 Subject: Human Sciences\n",
      "\n",
      "→ CoT vs CoVe Contingency Table:\n",
      "CoVe   0   1\n",
      "CoT         \n",
      "0      8   0\n",
      "1     14  23\n",
      "p-value = 0.0001\n",
      "\n",
      "→ CoT vs SelfRefine Contingency Table:\n",
      "SelfRefine   0   1\n",
      "CoT               \n",
      "0            8   0\n",
      "1           10  27\n",
      "p-value = 0.0020\n",
      "\n",
      "→ CoVe vs SelfRefine Contingency Table:\n",
      "SelfRefine   0   1\n",
      "CoVe              \n",
      "0           15   7\n",
      "1            3  20\n",
      "p-value = 0.3438\n"
     ]
    }
   ],
   "source": [
    "from statsmodels.stats.contingency_tables import mcnemar\n",
    "import itertools\n",
    "\n",
    "# Step 1: Build consistency flags per question per subject\n",
    "def get_consistency_flags_per_subject(df, method_name):\n",
    "    grouped = df.groupby(['id', 'subject'])['predicted'].nunique().reset_index()\n",
    "    grouped['consistent'] = grouped['predicted'].apply(lambda x: 1 if x == 1 else 0)\n",
    "    grouped = grouped[['id', 'subject', 'consistent']]\n",
    "    grouped.columns = ['id', 'subject', method_name]\n",
    "    return grouped\n",
    "\n",
    "# Create individual consistency flags\n",
    "cot_flags = get_consistency_flags_per_subject(cot_df, 'CoT')\n",
    "cove_flags = get_consistency_flags_per_subject(cove_df, 'CoVe')\n",
    "selfrefine_flags = get_consistency_flags_per_subject(selfrefine_df, 'SelfRefine')\n",
    "\n",
    "# Merge all into a single DataFrame\n",
    "merged_flags = cot_flags.merge(cove_flags, on=['id', 'subject']).merge(selfrefine_flags, on=['id', 'subject'])\n",
    "\n",
    "# Step 2: Run McNemar test for each subject and each method pair\n",
    "subjects = merged_flags['subject'].unique()\n",
    "method_pairs = [('CoT', 'CoVe'), ('CoT', 'SelfRefine'), ('CoVe', 'SelfRefine')]\n",
    "\n",
    "for subject in subjects:\n",
    "    print(f\"\\n📘 Subject: {subject}\")\n",
    "    df_sub = merged_flags[merged_flags['subject'] == subject]\n",
    "    \n",
    "    for m1, m2 in method_pairs:\n",
    "        tab = pd.crosstab(df_sub[m1], df_sub[m2])\n",
    "        tab = tab.reindex(index=[0,1], columns=[0,1], fill_value=0)\n",
    "        \n",
    "        print(f\"\\n→ {m1} vs {m2} Contingency Table:\\n{tab}\")\n",
    "        result = mcnemar(tab, exact=True)\n",
    "        print(f\"p-value = {result.pvalue:.4f}\")\n"
   ]
  },
  {
   "cell_type": "markdown",
   "id": "cb989c32-76c8-4903-a34e-264ecd44824e",
   "metadata": {},
   "source": [
    "## 📈 Statistical Analysis - General Performance"
   ]
  },
  {
   "cell_type": "markdown",
   "id": "5280789e-328c-4d7c-81fe-6a5510da509f",
   "metadata": {},
   "source": [
    "### Q1: Is there a difference between the methods' performance?"
   ]
  },
  {
   "cell_type": "markdown",
   "id": "cc1b63b2-4653-4a84-8cce-a105aed89765",
   "metadata": {},
   "source": [
    "**Null Hypothesis (H₀)**: The median accuracies for the three methods (CoT, CoVe, Self-Refine) are equal.\n",
    "\n",
    "**Alternative Hypothesis (H₁)**: At least one method has a different median accuracy compared to the others.\n"
   ]
  },
  {
   "cell_type": "markdown",
   "id": "3f794082-79d9-479a-827c-ddd28f57eb7b",
   "metadata": {},
   "source": [
    "#### Compute per run accuracy"
   ]
  },
  {
   "cell_type": "code",
   "execution_count": 108,
   "id": "70bafc37-d615-4067-8c5d-3ff84b744e82",
   "metadata": {
    "jupyter": {
     "source_hidden": true
    }
   },
   "outputs": [
    {
     "name": "stdout",
     "output_type": "stream",
     "text": [
      "              subject  run   correct       method\n",
      "475  Natural Sciences   36  0.666667  Self-Refine\n",
      "476  Natural Sciences   37  0.555556  Self-Refine\n",
      "477  Natural Sciences   38  0.533333  Self-Refine\n",
      "478  Natural Sciences   39  0.511111  Self-Refine\n",
      "479  Natural Sciences   40  0.577778  Self-Refine\n"
     ]
    }
   ],
   "source": [
    "import pandas as pd\n",
    "\n",
    "# Creating copies of the original datasets\n",
    "cot = cot_all.copy()\n",
    "cove = cove_all.copy()\n",
    "selfrefine = selfrefine_all.copy() \n",
    "\n",
    "# For CoT dataset\n",
    "df_cot = cot.groupby([\"subject\", \"run\"], as_index=False)[\"correct\"].mean()\n",
    "df_cot[\"method\"] = \"CoT\"\n",
    "\n",
    "# For CoVe dataset\n",
    "df_cove = cove.groupby([\"subject\", \"run\"], as_index=False)[\"correct\"].mean()\n",
    "df_cove[\"method\"] = \"CoVe\"\n",
    "\n",
    "# For Self-Refine dataset\n",
    "df_selfrefine = selfrefine.groupby([\"subject\", \"run\"], as_index=False)[\"correct\"].mean()\n",
    "df_selfrefine[\"method\"] = \"Self-Refine\"\n",
    "\n",
    "# Combine all methods into one DataFrame\n",
    "df_grouped = pd.concat([df_cot, df_cove, df_selfrefine], ignore_index=True)\n",
    "print(df_grouped.tail())\n"
   ]
  },
  {
   "cell_type": "markdown",
   "id": "889353ed-0cff-410b-af7d-be30815732b7",
   "metadata": {},
   "source": [
    "#### Check for normality"
   ]
  },
  {
   "cell_type": "code",
   "execution_count": 109,
   "id": "7bddaef9-1ed9-4b17-ac8e-97aa0fe2eceb",
   "metadata": {},
   "outputs": [
    {
     "name": "stdout",
     "output_type": "stream",
     "text": [
      "Shapiro–Wilk Test for Normality:\n",
      "CoT: W = 0.8983, p-value = 0.0000\n",
      "CoVe: W = 0.9108, p-value = 0.0000\n",
      "Self-Refine: W = 0.8929, p-value = 0.0000\n"
     ]
    }
   ],
   "source": [
    "from scipy.stats import shapiro\n",
    "\n",
    "print(\"Shapiro–Wilk Test for Normality:\")\n",
    "for method, group in df_grouped.groupby(\"method\"):\n",
    "    stat, p = shapiro(group[\"correct\"])\n",
    "    print(f\"{method}: W = {stat:.4f}, p-value = {p:.4f}\")\n"
   ]
  },
  {
   "cell_type": "markdown",
   "id": "e23307d5-371b-4a58-a734-ccaee503b2fb",
   "metadata": {},
   "source": [
    "#### Check for Homogeneity of Variances"
   ]
  },
  {
   "cell_type": "code",
   "execution_count": 120,
   "id": "44a60b51-5419-4f9a-9676-82c0877b65c1",
   "metadata": {},
   "outputs": [
    {
     "name": "stdout",
     "output_type": "stream",
     "text": [
      "Levene's test: Statistic = 1.2022, p-value = 0.3014\n"
     ]
    }
   ],
   "source": [
    "from scipy.stats import levene\n",
    "\n",
    "cot_scores = df_grouped[df_grouped[\"method\"] == \"CoT\"][\"correct\"]\n",
    "cove_scores = df_grouped[df_grouped[\"method\"] == \"CoVe\"][\"correct\"]\n",
    "selfrefine_scores = df_grouped[df_grouped[\"method\"] == \"Self-Refine\"][\"correct\"]\n",
    "\n",
    "stat, p = levene(cot_scores, cove_scores, selfrefine_scores)\n",
    "print(f\"Levene's test: Statistic = {stat:.4f}, p-value = {p:.4f}\")\n"
   ]
  },
  {
   "cell_type": "markdown",
   "id": "6ae88d28-a99d-4f84-8802-b9d612dc2b57",
   "metadata": {},
   "source": [
    "#### Run the Kruskal–Wallis Test"
   ]
  },
  {
   "cell_type": "markdown",
   "id": "0b727c84-827b-4308-9ac7-27fa71d3eca3",
   "metadata": {},
   "source": [
    "Interpretation of p-value:\n",
    "\n",
    "If the p-value is greater than the common significance level of 0.05, then there is not enough evidence to reject the null hypothesis.\n",
    "\n",
    "Conclusion:\n",
    "You fail to reject the null hypothesis.\n",
    "In practical terms, the differences in overall accuracy among the three methods are not statistically significant based on your data.\n",
    "\n"
   ]
  },
  {
   "cell_type": "code",
   "execution_count": 121,
   "id": "375bdec9-02c9-43b2-ac8f-1de8431c537e",
   "metadata": {},
   "outputs": [
    {
     "name": "stdout",
     "output_type": "stream",
     "text": [
      "Kruskal–Wallis H statistic: 3.7021827883048917\n",
      "Kruskal–Wallis p-value: 0.15706565220154006\n"
     ]
    }
   ],
   "source": [
    "from scipy.stats import kruskal\n",
    "\n",
    "# Extract accuracy values for each method\n",
    "cot_scores = df_grouped[df_grouped[\"method\"] == \"CoT\"][\"correct\"]\n",
    "cove_scores = df_grouped[df_grouped[\"method\"] == \"CoVe\"][\"correct\"]\n",
    "selfrefine_scores = df_grouped[df_grouped[\"method\"] == \"Self-Refine\"][\"correct\"]\n",
    "\n",
    "# Run the Kruskal-Wallis test\n",
    "h_stat, p_value = kruskal(cot_scores, cove_scores, selfrefine_scores)\n",
    "\n",
    "print(\"Kruskal–Wallis H statistic:\", h_stat)\n",
    "print(\"Kruskal–Wallis p-value:\", p_value)\n"
   ]
  },
  {
   "cell_type": "markdown",
   "id": "53d4889e-cf2d-45c5-8e44-b952ba5ee26d",
   "metadata": {},
   "source": [
    "## 📈 Statiscal Analysis - Subject-wise Performance"
   ]
  },
  {
   "cell_type": "markdown",
   "id": "9d528730-e4ee-42b2-a095-9438f29e6e29",
   "metadata": {},
   "source": [
    "#### Calculate accuracy per run and subject"
   ]
  },
  {
   "cell_type": "code",
   "execution_count": 122,
   "id": "ec7e83ee-173e-4881-9c07-5920b9786cc1",
   "metadata": {},
   "outputs": [],
   "source": [
    "accuracy_per_run_and_subject = (\n",
    "    accuracy_by_run\n",
    "    .groupby(['method', 'run', 'subject'])['correct']\n",
    "    .mean()\n",
    "    .reset_index(name='accuracy')\n",
    ")"
   ]
  },
  {
   "cell_type": "markdown",
   "id": "e7cd87bd-abd4-4ec2-b7d0-56960913b0a2",
   "metadata": {},
   "source": [
    "### Q1: Does any method perform better than the others in a given subject?"
   ]
  },
  {
   "cell_type": "code",
   "execution_count": 123,
   "id": "2ba15a75-d2d5-4e35-8e18-0e76c5106b46",
   "metadata": {},
   "outputs": [],
   "source": [
    "accuracy_per_run_and_subject = (\n",
    "    accuracy_by_run\n",
    "    .groupby(['method', 'run', 'subject'])['correct']\n",
    "    .mean()\n",
    "    .reset_index(name='accuracy')\n",
    ")"
   ]
  },
  {
   "cell_type": "code",
   "execution_count": 124,
   "id": "9a00a321-7c37-4029-bdf1-b05178225064",
   "metadata": {},
   "outputs": [
    {
     "data": {
      "text/html": [
       "<div>\n",
       "<style scoped>\n",
       "    .dataframe tbody tr th:only-of-type {\n",
       "        vertical-align: middle;\n",
       "    }\n",
       "\n",
       "    .dataframe tbody tr th {\n",
       "        vertical-align: top;\n",
       "    }\n",
       "\n",
       "    .dataframe thead th {\n",
       "        text-align: right;\n",
       "    }\n",
       "</style>\n",
       "<table border=\"1\" class=\"dataframe\">\n",
       "  <thead>\n",
       "    <tr style=\"text-align: right;\">\n",
       "      <th></th>\n",
       "      <th>Subject</th>\n",
       "      <th>CoT Accuracy</th>\n",
       "      <th>CoVe Accuracy</th>\n",
       "      <th>Self-Refine Accuracy</th>\n",
       "      <th>Kruskal-Wallis H</th>\n",
       "      <th>p-value</th>\n",
       "    </tr>\n",
       "  </thead>\n",
       "  <tbody>\n",
       "    <tr>\n",
       "      <th>0</th>\n",
       "      <td>Human Sciences</td>\n",
       "      <td>0.955 ± 0.024</td>\n",
       "      <td>0.934 ± 0.031</td>\n",
       "      <td>0.942 ± 0.023</td>\n",
       "      <td>10.425922</td>\n",
       "      <td>0.005446 **</td>\n",
       "    </tr>\n",
       "    <tr>\n",
       "      <th>1</th>\n",
       "      <td>Languages</td>\n",
       "      <td>0.804 ± 0.028</td>\n",
       "      <td>0.788 ± 0.043</td>\n",
       "      <td>0.786 ± 0.046</td>\n",
       "      <td>5.508679</td>\n",
       "      <td>0.06365</td>\n",
       "    </tr>\n",
       "    <tr>\n",
       "      <th>2</th>\n",
       "      <td>Mathematics</td>\n",
       "      <td>0.495 ± 0.059</td>\n",
       "      <td>0.415 ± 0.042</td>\n",
       "      <td>0.475 ± 0.052</td>\n",
       "      <td>37.652330</td>\n",
       "      <td>6.667e-09 ***</td>\n",
       "    </tr>\n",
       "    <tr>\n",
       "      <th>3</th>\n",
       "      <td>Natural Sciences</td>\n",
       "      <td>0.561 ± 0.041</td>\n",
       "      <td>0.554 ± 0.039</td>\n",
       "      <td>0.540 ± 0.046</td>\n",
       "      <td>5.743476</td>\n",
       "      <td>0.0566</td>\n",
       "    </tr>\n",
       "  </tbody>\n",
       "</table>\n",
       "</div>"
      ],
      "text/plain": [
       "            Subject   CoT Accuracy  CoVe Accuracy Self-Refine Accuracy  \\\n",
       "0    Human Sciences  0.955 ± 0.024  0.934 ± 0.031        0.942 ± 0.023   \n",
       "1         Languages  0.804 ± 0.028  0.788 ± 0.043        0.786 ± 0.046   \n",
       "2       Mathematics  0.495 ± 0.059  0.415 ± 0.042        0.475 ± 0.052   \n",
       "3  Natural Sciences  0.561 ± 0.041  0.554 ± 0.039        0.540 ± 0.046   \n",
       "\n",
       "   Kruskal-Wallis H        p-value  \n",
       "0         10.425922    0.005446 **  \n",
       "1          5.508679        0.06365  \n",
       "2         37.652330  6.667e-09 ***  \n",
       "3          5.743476         0.0566  "
      ]
     },
     "execution_count": 124,
     "metadata": {},
     "output_type": "execute_result"
    }
   ],
   "source": [
    "from scipy.stats import kruskal\n",
    "import pandas as pd\n",
    "\n",
    "# Step 1: Run Kruskal-Wallis tests and collect stats\n",
    "subject_results = []\n",
    "\n",
    "for subject in accuracy_per_run_and_subject[\"subject\"].unique():\n",
    "    data = accuracy_per_run_and_subject[accuracy_per_run_and_subject[\"subject\"] == subject]\n",
    "\n",
    "    cot_scores = data[data[\"method\"] == \"CoT\"][\"accuracy\"]\n",
    "    cove_scores = data[data[\"method\"] == \"CoVe\"][\"accuracy\"]\n",
    "    selfrefine_scores = data[data[\"method\"] == \"Self-Refine\"][\"accuracy\"]\n",
    "\n",
    "    h_stat, p_value = kruskal(cot_scores, cove_scores, selfrefine_scores)\n",
    "\n",
    "    subject_results.append({\n",
    "        \"Subject\": subject,\n",
    "        \"CoT Mean\": cot_scores.mean(),\n",
    "        \"CoT Std\": cot_scores.std(),\n",
    "        \"CoVe Mean\": cove_scores.mean(),\n",
    "        \"CoVe Std\": cove_scores.std(),\n",
    "        \"Self-Refine Mean\": selfrefine_scores.mean(),\n",
    "        \"Self-Refine Std\": selfrefine_scores.std(),\n",
    "        \"Kruskal-Wallis H\": h_stat,\n",
    "        \"p-value (raw)\": p_value,\n",
    "    })\n",
    "\n",
    "# Step 2: Convert to DataFrame and preserve a numeric copy\n",
    "df_subject_kruskal = pd.DataFrame(subject_results)\n",
    "df_subject_kruskal_numeric = df_subject_kruskal.copy()  # <- ADD THIS LINE\n",
    "\n",
    "# Step 3: Format p-values with significance stars\n",
    "def format_p_with_stars(p):\n",
    "    if p <= 0.001:\n",
    "        return f\"{p:.4g} ***\"\n",
    "    elif p <= 0.01:\n",
    "        return f\"{p:.4g} **\"\n",
    "    elif p <= 0.05:\n",
    "        return f\"{p:.4g} *\"\n",
    "    else:\n",
    "        return f\"{p:.4g}\"\n",
    "\n",
    "df_subject_kruskal[\"p-value\"] = df_subject_kruskal[\"p-value (raw)\"].apply(format_p_with_stars)\n",
    "\n",
    "# Step 4: Combine mean ± std into formatted strings\n",
    "df_subject_kruskal[\"CoT Accuracy\"] = df_subject_kruskal.apply(\n",
    "    lambda row: f\"{row['CoT Mean']:.3f} ± {row['CoT Std']:.3f}\", axis=1)\n",
    "\n",
    "df_subject_kruskal[\"CoVe Accuracy\"] = df_subject_kruskal.apply(\n",
    "    lambda row: f\"{row['CoVe Mean']:.3f} ± {row['CoVe Std']:.3f}\", axis=1)\n",
    "\n",
    "df_subject_kruskal[\"Self-Refine Accuracy\"] = df_subject_kruskal.apply(\n",
    "    lambda row: f\"{row['Self-Refine Mean']:.3f} ± {row['Self-Refine Std']:.3f}\", axis=1)\n",
    "\n",
    "# Step 5: Select and reorder columns for clean display\n",
    "df_subject_kruskal = df_subject_kruskal[[\n",
    "    \"Subject\",\n",
    "    \"CoT Accuracy\", \"CoVe Accuracy\", \"Self-Refine Accuracy\",\n",
    "    \"Kruskal-Wallis H\", \"p-value\"\n",
    "]]\n",
    "\n",
    "# Display the final table\n",
    "df_subject_kruskal\n"
   ]
  },
  {
   "cell_type": "code",
   "execution_count": 125,
   "id": "9d08f60d-73a1-4a3c-b797-72b789ead58e",
   "metadata": {},
   "outputs": [
    {
     "name": "stdout",
     "output_type": "stream",
     "text": [
      "['Subject', 'CoT Accuracy', 'CoVe Accuracy', 'Self-Refine Accuracy', 'Kruskal-Wallis H', 'p-value']\n"
     ]
    }
   ],
   "source": [
    "print(df_subject_kruskal.columns.tolist())\n"
   ]
  },
  {
   "cell_type": "code",
   "execution_count": 126,
   "id": "1bc96b0d-b084-433c-8283-6a9e626a6f3e",
   "metadata": {},
   "outputs": [
    {
     "data": {
      "image/png": "[encoded data removed]",
      "text/plain": [
       "<Figure size 1000x600 with 1 Axes>"
      ]
     },
     "metadata": {},
     "output_type": "display_data"
    }
   ],
   "source": [
    "import seaborn as sns\n",
    "import matplotlib.pyplot as plt\n",
    "import pandas as pd\n",
    "\n",
    "# Prepare melted DataFrame for plotting with error bars\n",
    "df_plot = pd.DataFrame({\n",
    "    \"Subject\": list(df_subject_kruskal_numeric[\"Subject\"]) * 3,\n",
    "    \"Method\": [\"CoT\"] * 4 + [\"CoVe\"] * 4 + [\"Self-Refine\"] * 4,\n",
    "    \"Accuracy\": (\n",
    "        list(df_subject_kruskal_numeric[\"CoT Mean\"]) +\n",
    "        list(df_subject_kruskal_numeric[\"CoVe Mean\"]) +\n",
    "        list(df_subject_kruskal_numeric[\"Self-Refine Mean\"])\n",
    "    ),\n",
    "    \"Std\": (\n",
    "        list(df_subject_kruskal_numeric[\"CoT Std\"]) +\n",
    "        list(df_subject_kruskal_numeric[\"CoVe Std\"]) +\n",
    "        list(df_subject_kruskal_numeric[\"Self-Refine Std\"])\n",
    "    )\n",
    "})\n",
    "\n",
    "# Add sample size to legend labels\n",
    "df_plot[\"Method\"] = df_plot[\"Method\"].map({\n",
    "    \"CoT\": \"CoT (n=40)\",\n",
    "    \"CoVe\": \"CoVe (n=40)\",\n",
    "    \"Self-Refine\": \"Self-Refine (n=40)\"\n",
    "})\n",
    "\n",
    "# Plot\n",
    "plt.figure(figsize=(10, 6))\n",
    "ax = sns.barplot(\n",
    "    data=df_plot,\n",
    "    x=\"Subject\", y=\"Accuracy\",\n",
    "    hue=\"Method\", palette=\"pastel\",\n",
    "    errorbar=None, capsize=0.05\n",
    ")\n",
    "\n",
    "# Add manual error bars\n",
    "method_offsets = {\n",
    "    \"CoT (n=40)\": -0.25,\n",
    "    \"CoVe (n=40)\": 0.0,\n",
    "    \"Self-Refine (n=40)\": 0.25\n",
    "}\n",
    "subjects = df_plot[\"Subject\"].unique()\n",
    "for i, row in df_plot.iterrows():\n",
    "    x = list(subjects).index(row[\"Subject\"])\n",
    "    offset = method_offsets[row[\"Method\"]]\n",
    "    ax.errorbar(x + offset, row[\"Accuracy\"], yerr=row[\"Std\"], fmt='none', c='black', capsize=5)\n",
    "\n",
    "# Final formatting\n",
    "plt.ylim(0, 1.1)\n",
    "plt.ylabel(\"Accuracy Mean\")\n",
    "plt.xlabel(\"Subject\")\n",
    "plt.legend(title=\"Method\")\n",
    "plt.title(\"Figure 4: Accuracy mean and standard deviation per method and subject\")\n",
    "plt.tight_layout()\n",
    "plt.show()\n"
   ]
  },
  {
   "cell_type": "markdown",
   "id": "8ffe0230-38fd-4846-b45d-382072412d26",
   "metadata": {},
   "source": [
    "### Q2: Would CoVe and Self-Refine have performed better if they had simply chosen the initial answer, rather than refining to the final prediction?"
   ]
  },
  {
   "cell_type": "markdown",
   "id": "16d08f08-a43e-47f5-9cb9-92040c9d60be",
   "metadata": {},
   "source": [
    "**Null Hypothesis H₀**: Final accuracy is equal to or better than initial accuracy\n",
    "\n",
    "**Alternative Hypothesis H₁**: Final accuracy is worse than initial accuracy"
   ]
  },
  {
   "cell_type": "markdown",
   "id": "fc53e97c-5020-4f3c-b094-1c7242988f97",
   "metadata": {},
   "source": [
    "##### Compute run-level accuracies (per subject and method)"
   ]
  },
  {
   "cell_type": "code",
   "execution_count": 127,
   "id": "ebf29179-0e6f-43cd-ac35-78d25e1811bc",
   "metadata": {},
   "outputs": [],
   "source": [
    "# Function to compute accuracy per run and subject\n",
    "def get_run_level_accuracy(df, method_label):\n",
    "    return (\n",
    "        df.groupby([\"subject\", \"run\"], group_keys=False)\n",
    "        .apply(lambda x: pd.Series({\n",
    "            \"initial_accuracy\": (x[\"initial_answer\"] == x[\"ground_truth\"]).mean(),\n",
    "            \"final_accuracy\": (x[\"predicted\"] == x[\"ground_truth\"]).mean(),\n",
    "            \"method\": method_label\n",
    "        }), include_groups=False)\n",
    "        .reset_index()\n",
    "    )\n",
    "\n",
    "# Apply to both datasets\n",
    "cove_runs_df = get_run_level_accuracy(cove_all, \"CoVe\")\n",
    "selfrefine_runs_df = get_run_level_accuracy(selfrefine_all, \"Self-Refine\")\n",
    "\n",
    "# Combine into a single DataFrame\n",
    "runs_df = pd.concat([cove_runs_df, selfrefine_runs_df], ignore_index=True)"
   ]
  },
  {
   "cell_type": "markdown",
   "id": "be6ad11c-5d36-48d8-84cd-4264de20e030",
   "metadata": {},
   "source": [
    "#### Test: Is the initial accuracy statistically significantly better than the final accuracy?"
   ]
  },
  {
   "cell_type": "code",
   "execution_count": 128,
   "id": "4cd11157-ed1b-4efd-8b8c-1aaf23f02139",
   "metadata": {},
   "outputs": [
    {
     "data": {
      "text/html": [
       "<div>\n",
       "<style scoped>\n",
       "    .dataframe tbody tr th:only-of-type {\n",
       "        vertical-align: middle;\n",
       "    }\n",
       "\n",
       "    .dataframe tbody tr th {\n",
       "        vertical-align: top;\n",
       "    }\n",
       "\n",
       "    .dataframe thead th {\n",
       "        text-align: right;\n",
       "    }\n",
       "</style>\n",
       "<table border=\"1\" class=\"dataframe\">\n",
       "  <thead>\n",
       "    <tr style=\"text-align: right;\">\n",
       "      <th></th>\n",
       "      <th>method</th>\n",
       "      <th>subject</th>\n",
       "      <th>normality_p</th>\n",
       "      <th>test_used</th>\n",
       "      <th>p_value</th>\n",
       "      <th>significant</th>\n",
       "      <th>n_runs</th>\n",
       "    </tr>\n",
       "  </thead>\n",
       "  <tbody>\n",
       "    <tr>\n",
       "      <th>0</th>\n",
       "      <td>CoVe</td>\n",
       "      <td>Human Sciences</td>\n",
       "      <td>0.000210</td>\n",
       "      <td>one-sided Wilcoxon</td>\n",
       "      <td>1.049818e-04</td>\n",
       "      <td>True</td>\n",
       "      <td>40</td>\n",
       "    </tr>\n",
       "    <tr>\n",
       "      <th>1</th>\n",
       "      <td>CoVe</td>\n",
       "      <td>Languages</td>\n",
       "      <td>0.074402</td>\n",
       "      <td>one-sided paired t-test</td>\n",
       "      <td>2.744357e-05</td>\n",
       "      <td>True</td>\n",
       "      <td>40</td>\n",
       "    </tr>\n",
       "    <tr>\n",
       "      <th>2</th>\n",
       "      <td>CoVe</td>\n",
       "      <td>Mathematics</td>\n",
       "      <td>0.195119</td>\n",
       "      <td>one-sided paired t-test</td>\n",
       "      <td>3.431039e-13</td>\n",
       "      <td>True</td>\n",
       "      <td>40</td>\n",
       "    </tr>\n",
       "    <tr>\n",
       "      <th>3</th>\n",
       "      <td>CoVe</td>\n",
       "      <td>Natural Sciences</td>\n",
       "      <td>0.017626</td>\n",
       "      <td>one-sided Wilcoxon</td>\n",
       "      <td>3.437467e-01</td>\n",
       "      <td>False</td>\n",
       "      <td>40</td>\n",
       "    </tr>\n",
       "    <tr>\n",
       "      <th>4</th>\n",
       "      <td>Self-Refine</td>\n",
       "      <td>Human Sciences</td>\n",
       "      <td>0.014433</td>\n",
       "      <td>one-sided Wilcoxon</td>\n",
       "      <td>5.981206e-02</td>\n",
       "      <td>False</td>\n",
       "      <td>40</td>\n",
       "    </tr>\n",
       "    <tr>\n",
       "      <th>5</th>\n",
       "      <td>Self-Refine</td>\n",
       "      <td>Languages</td>\n",
       "      <td>0.017444</td>\n",
       "      <td>one-sided Wilcoxon</td>\n",
       "      <td>9.795968e-05</td>\n",
       "      <td>True</td>\n",
       "      <td>40</td>\n",
       "    </tr>\n",
       "    <tr>\n",
       "      <th>6</th>\n",
       "      <td>Self-Refine</td>\n",
       "      <td>Mathematics</td>\n",
       "      <td>0.055846</td>\n",
       "      <td>one-sided paired t-test</td>\n",
       "      <td>1.179069e-04</td>\n",
       "      <td>True</td>\n",
       "      <td>40</td>\n",
       "    </tr>\n",
       "    <tr>\n",
       "      <th>7</th>\n",
       "      <td>Self-Refine</td>\n",
       "      <td>Natural Sciences</td>\n",
       "      <td>0.081444</td>\n",
       "      <td>one-sided paired t-test</td>\n",
       "      <td>1.082055e-02</td>\n",
       "      <td>True</td>\n",
       "      <td>40</td>\n",
       "    </tr>\n",
       "  </tbody>\n",
       "</table>\n",
       "</div>"
      ],
      "text/plain": [
       "        method           subject  normality_p                test_used  \\\n",
       "0         CoVe    Human Sciences     0.000210       one-sided Wilcoxon   \n",
       "1         CoVe         Languages     0.074402  one-sided paired t-test   \n",
       "2         CoVe       Mathematics     0.195119  one-sided paired t-test   \n",
       "3         CoVe  Natural Sciences     0.017626       one-sided Wilcoxon   \n",
       "4  Self-Refine    Human Sciences     0.014433       one-sided Wilcoxon   \n",
       "5  Self-Refine         Languages     0.017444       one-sided Wilcoxon   \n",
       "6  Self-Refine       Mathematics     0.055846  one-sided paired t-test   \n",
       "7  Self-Refine  Natural Sciences     0.081444  one-sided paired t-test   \n",
       "\n",
       "        p_value  significant  n_runs  \n",
       "0  1.049818e-04         True      40  \n",
       "1  2.744357e-05         True      40  \n",
       "2  3.431039e-13         True      40  \n",
       "3  3.437467e-01        False      40  \n",
       "4  5.981206e-02        False      40  \n",
       "5  9.795968e-05         True      40  \n",
       "6  1.179069e-04         True      40  \n",
       "7  1.082055e-02         True      40  "
      ]
     },
     "execution_count": 128,
     "metadata": {},
     "output_type": "execute_result"
    }
   ],
   "source": [
    "from scipy.stats import ttest_rel, wilcoxon, shapiro\n",
    "\n",
    "results_improvement = []\n",
    "\n",
    "for (method, subject), group in runs_df.groupby([\"method\", \"subject\"]):\n",
    "    diffs = group[\"initial_accuracy\"] - group[\"final_accuracy\"]\n",
    "    # Normality test\n",
    "    _, p_normality = shapiro(diffs)\n",
    "\n",
    "    # One-sided test: is initial > final?\n",
    "    if p_normality > 0.05:\n",
    "        test_used = \"one-sided paired t-test\"\n",
    "        stat, p_value = ttest_rel(group[\"initial_accuracy\"], group[\"final_accuracy\"], alternative=\"greater\")\n",
    "    else:\n",
    "        test_used = \"one-sided Wilcoxon\"\n",
    "        stat, p_value = wilcoxon(group[\"initial_accuracy\"], group[\"final_accuracy\"], alternative=\"greater\")\n",
    "\n",
    "    results_improvement.append({\n",
    "        \"method\": method,\n",
    "        \"subject\": subject,\n",
    "        \"normality_p\": p_normality,\n",
    "        \"test_used\": test_used,\n",
    "        \"p_value\": p_value,\n",
    "        \"significant\": p_value < 0.05\n",
    "    })\n",
    "\n",
    "improvement_df = pd.DataFrame(results_improvement)\n",
    "\n",
    "# Count number of unique runs per method/subject\n",
    "run_counts = runs_df.groupby([\"method\", \"subject\"])[\"run\"].nunique().reset_index()\n",
    "run_counts.columns = [\"method\", \"subject\", \"n_runs\"]\n",
    "\n",
    "# Merge into the improvement_df\n",
    "improvement_df = improvement_df.merge(run_counts, on=[\"method\", \"subject\"])\n",
    "\n",
    "improvement_df"
   ]
  },
  {
   "cell_type": "code",
   "execution_count": 129,
   "id": "3aef5315-4696-4e2b-b778-5fba04a1cbc2",
   "metadata": {},
   "outputs": [
    {
     "data": {
      "image/png": "[encoded data removed]",
      "text/plain": [
       "<Figure size 1000x600 with 1 Axes>"
      ]
     },
     "metadata": {},
     "output_type": "display_data"
    }
   ],
   "source": [
    "import matplotlib.pyplot as plt\n",
    "import seaborn as sns\n",
    "import matplotlib.patches as mpatches\n",
    "\n",
    "\n",
    "# 1. Compute mean difference per method and subject\n",
    "runs_df[\"diff\"] = runs_df[\"initial_accuracy\"] - runs_df[\"final_accuracy\"]\n",
    "mean_diffs = (\n",
    "    runs_df.groupby([\"method\", \"subject\"])[\"diff\"]\n",
    "    .mean()\n",
    "    .reset_index(name=\"mean_diff\")\n",
    ")\n",
    "\n",
    "# 2. Merge with improvement_df to get significance and n_runs\n",
    "plot_df = improvement_df.merge(mean_diffs, on=[\"method\", \"subject\"])\n",
    "\n",
    "# 3. Get number of runs per method (assumed consistent across subjects)\n",
    "method_runs = plot_df.groupby(\"method\")[\"n_runs\"].first().to_dict()\n",
    "hue_labels = [f\"{method} (n={method_runs[method]})\" for method in plot_df[\"method\"].unique()]\n",
    "\n",
    "custom_palette = {\n",
    "    \"CoVe\": \"#FEBE8C\",        \n",
    "    \"Self-Refine\": \"#B6E2A1\"  \n",
    "}\n",
    "\n",
    "plt.figure(figsize=(10, 6))\n",
    "ax = sns.barplot(\n",
    "    data=plot_df,\n",
    "    x=\"subject\",\n",
    "    y=\"mean_diff\",\n",
    "    hue=\"method\",\n",
    "    palette=custom_palette\n",
    ")\n",
    "\n",
    "# 4. Add significance markers (*) one-to-one with bars\n",
    "for bar, (_, row) in zip(ax.patches, plot_df.iterrows()):\n",
    "    x = bar.get_x() + bar.get_width() / 2\n",
    "    y = bar.get_height()\n",
    "    if row[\"significant\"]:\n",
    "        ax.text(x, y + 0.0005, \"*\", ha='center', va='bottom', fontsize=12, fontweight=\"bold\")\n",
    "\n",
    "# 5. Formatting\n",
    "plt.axhline(0, color=\"gray\", linestyle=\"--\")\n",
    "plt.title(\"Mean Accuracy Gain by Sticking with Initial Answer\", pad=40)\n",
    "plt.ylabel(\"Accuracy Gain\")\n",
    "plt.xlabel(\"Subject\")\n",
    "\n",
    "\n",
    "# Custom legend with run counts\n",
    "\n",
    "# Add separate note for significance marker\n",
    "ax.text(\n",
    "    -0.001, 1.05,  # X and Y position in axes coordinates\n",
    "    \"* = Significant difference (p < 0.05)\",\n",
    "    transform=ax.transAxes,\n",
    "    ha='left',\n",
    "    va='bottom',\n",
    "    fontsize=10,\n",
    "    style='italic',\n",
    "    bbox=dict(facecolor='white', edgecolor='none', boxstyle='round,pad=0.3')\n",
    ")\n",
    "\n",
    "\n",
    "plt.tight_layout()\n",
    "plt.show()\n"
   ]
  }
 ],
 "metadata": {
  "kernelspec": {
   "display_name": "Python (bthesis)",
   "language": "python",
   "name": "bthesis"
  },
  "language_info": {
   "codemirror_mode": {
    "name": "ipython",
    "version": 3
   },
   "file_extension": ".py",
   "mimetype": "text/x-python",
   "name": "python",
   "nbconvert_exporter": "python",
   "pygments_lexer": "ipython3",
   "version": "3.13.2"
  }
 },
 "nbformat": 4,
 "nbformat_minor": 5
}
