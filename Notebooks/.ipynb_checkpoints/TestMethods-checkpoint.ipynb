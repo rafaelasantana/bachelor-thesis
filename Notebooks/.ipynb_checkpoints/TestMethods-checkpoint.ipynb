{
 "cells": [
  {
   "cell_type": "markdown",
   "id": "eba8b2b4-9e08-42e7-b256-fa389aec996f",
   "metadata": {
    "jp-MarkdownHeadingCollapsed": true
   },
   "source": [
    "## Helper methods"
   ]
  },
  {
   "cell_type": "markdown",
   "id": "aa92f3c6-22f6-4318-a04b-c524cbf9dddb",
   "metadata": {},
   "source": [
    "### Extract multiple-choice answer from response"
   ]
  },
  {
   "cell_type": "code",
   "execution_count": 232,
   "id": "810e094d-9bf5-4192-a660-b8b4f2caf3ba",
   "metadata": {},
   "outputs": [],
   "source": [
    "import re\n",
    "\n",
    "def extract_answer_letter(response):\n",
    "    # Match \"Resposta final: C)\" or \"Resposta final: C\"\n",
    "    match = re.search(r\"resposta final\\s*[:\\-]?\\s*([A-E])\\s*\\)?\", response, re.IGNORECASE | re.DOTALL)\n",
    "    if not match:\n",
    "        # Try fallback patterns\n",
    "        match = re.search(r\"letra\\s+([A-E])\\b\", response, re.IGNORECASE)\n",
    "    return match.group(1).upper() if match else None"
   ]
  },
  {
   "cell_type": "markdown",
   "id": "740fa1bb-d0e0-4b11-8836-2e3b0b46a93d",
   "metadata": {},
   "source": [
    "### Calculate overall accuracy of answers"
   ]
  },
  {
   "cell_type": "code",
   "execution_count": 233,
   "id": "aa9efb4f-74dd-4e76-a4e4-f8a764de3e1c",
   "metadata": {},
   "outputs": [],
   "source": [
    "def calculate_accuracy(results):\n",
    "    \"\"\"Returns overall accuracy and count of None predictions from a list of result dicts.\"\"\"\n",
    "    total_answered = sum(1 for r in results if r[\"predicted\"] is not None)\n",
    "    correct = sum(r[\"correct\"] for r in results if r[\"predicted\"] is not None)\n",
    "    total = len(results)\n",
    "    none_count = total - total_answered\n",
    "    accuracy = (correct / total_answered) * 100 if total_answered > 0 else 0\n",
    "    return correct, total_answered, accuracy, none_count"
   ]
  },
  {
   "cell_type": "markdown",
   "id": "d7ef0d5b-d8d5-410d-9374-8777cdd5f4ba",
   "metadata": {},
   "source": [
    "### Group results by subject"
   ]
  },
  {
   "cell_type": "code",
   "execution_count": 234,
   "id": "d91a846b-2807-4774-a7d2-ddb85b5b88c4",
   "metadata": {},
   "outputs": [],
   "source": [
    "import pandas as pd\n",
    "\n",
    "def results_by_subject(results):\n",
    "    \"\"\"Aggregates accuracy grouped by subject\"\"\"\n",
    "    df = pd.DataFrame(results)\n",
    "    if \"subject\" not in df.columns:\n",
    "        print(\"⚠️ 'subject' not found in results.\")\n",
    "        return None\n",
    "    \n",
    "    summary = df.groupby(\"subject\")[\"correct\"].agg([\"sum\", \"count\"])\n",
    "    summary[\"accuracy (%)\"] = (summary[\"sum\"] / summary[\"count\"]) * 100\n",
    "    return summary"
   ]
  },
  {
   "cell_type": "markdown",
   "id": "4da43b79-498d-42db-b3aa-915bcc5c4a5f",
   "metadata": {},
   "source": [
    "### Save results to csv file"
   ]
  },
  {
   "cell_type": "code",
   "execution_count": 235,
   "id": "7978d599-6c33-4ee8-be67-c695d6108dbc",
   "metadata": {},
   "outputs": [],
   "source": [
    "from datetime import datetime\n",
    "import os\n",
    "\n",
    "def save_results_csv(df, method_name):\n",
    "    \"\"\"\n",
    "    Save a DataFrame as a CSV file in a 'results/<method_name>' subfolder with a timestamped filename.\n",
    "\n",
    "    Parameters:\n",
    "    - df: pandas DataFrame to save\n",
    "    - method_name: e.g., 'cot', 'cov', 'self-refine'\n",
    "\n",
    "    Returns:\n",
    "    - The full filename used\n",
    "    \"\"\"\n",
    "    # Define target folder and create it if needed\n",
    "    folder = os.path.join(\"results\", method_name)\n",
    "    os.makedirs(folder, exist_ok=True)\n",
    "\n",
    "    # Create timestamped filename\n",
    "    timestamp = datetime.now().strftime(\"%Y-%m-%d_%H-%M-%S\")\n",
    "    filename = os.path.join(folder, f\"{method_name}_results_{timestamp}.csv\")\n",
    "\n",
    "    # Save the file\n",
    "    df.to_csv(filename, index=False)\n",
    "    print(f\"✅ Results saved to {filename}\")\n",
    "    return filename"
   ]
  },
  {
   "cell_type": "markdown",
   "id": "9c11a685-82cc-4f09-a339-1dbc4e6e7929",
   "metadata": {},
   "source": [
    "## Chain-of-Thought (CoT) template"
   ]
  },
  {
   "cell_type": "code",
   "execution_count": 302,
   "id": "04859ca5-e773-4c1b-85de-5ecb8fb03304",
   "metadata": {},
   "outputs": [],
   "source": [
    "def build_cot_prompt(question_obj):\n",
    "    # Few-shot examples from ENEM 2022 with explanation and formatting\n",
    "    few_shot_examples = \"\"\"Você verá abaixo alguns exemplos de como a pergunta deve ser respondida passo a passo. Leia atentamente os exemplos e, em seguida, responda a pergunta que vem depois deles.\n",
    "\n",
    "### Exemplo 1:\n",
    "\n",
    "Pergunta:\n",
    "Nesse texto de opinião, as marcas linguísticas revelam uma situação distensa e de pouca formalidade. Isso ocorre em:\n",
    "\n",
    "Opções:\n",
    "A) A impessoalização ao longo do texto, com “eu” em: “se não há mais tempo”.\n",
    "B) A construção de uma atmosfera de urgência, em palavras como: “pressa”.\n",
    "C) A repetição de uma determinada estrutura, como em: “Se tudo é para ontem”.\n",
    "D) O ênfase no emprego de hipérboles, como em: “uma reflexão que pode durar uma vida”.\n",
    "E) O emprego de metáforas, como em: “a vida engata uma primeira e sai em disparada”.\n",
    "\n",
    "Explicação:\n",
    "O texto é escrito em uma linguagem leve, ágil, e de pouca formalidade. Além disso, possui figuras de linguagem, como metáforas e hipérboles, que não são excludentes. De uma análise sequencial das alternativas, dá para afirmar que o E. é o mais correto. Entretanto, observando em detalhes, nota-se que a expressão “emprego de metáforas” mostra ser mais adequada do que o “ênfase no emprego de hipérbole”, visto que, para afirmarmos que o uso de hipérboles foi enfatizado, a figura de linguagem deveria ser explorada mais vezes. Isso torna a alternativa E. mais provável de ser CORRETA. Além disso, impessoalização não deve ser apontada como marca de pouca formalidade. Existe também uma atmosfera de urgência, mas que é criticada no texto que destaca a importância da paciência e não da pressa. Por fim, a estrutura sintática não é repetida sistematicamente ao longo do texto.\n",
    "\n",
    "Resposta final: E\n",
    "\n",
    "---\n",
    "\n",
    "### Exemplo 2:\n",
    "\n",
    "Pergunta:\n",
    "No trecho, a filósofa Hannah Arendt mostra a importância da linguagem no processo de:\n",
    "\n",
    "Opções:\n",
    "A) entendimento da cultura.\n",
    "B) aumento da criatividade.\n",
    "C) percepção da individualidade.\n",
    "D) construção da técnica.\n",
    "E) construção da sociabilidade.\n",
    "\n",
    "Explicação:\n",
    "Hannah Arendt defende em sua obra que somos seres políticos, no sentido próprio de vivermos em polis, em ambiente coletivo e social. É essa sociabilidade que é possível por meio do discurso, da linguagem. Desse modo, podemos concluir que a linguagem se apresenta como uma importante ferramenta para a construção da sociabilidade, e portanto a alternativa E. é a CORRETA. Além disso, não se trata do entendimento da cultura, mas de relação social entre as pessoas dessa cultura. Hannah também não fala sobre aumento de criatividade, tampouco sobre técnica. Por fim, a linguagem é utilizada em algo mais coletivo e social, justamente o oposto da individualidade.\n",
    "\n",
    "Resposta final: E\n",
    "\n",
    "---\n",
    "\n",
    "### Exemplo 3:\n",
    "\n",
    "Pergunta:\n",
    "O projeto que a casa deverá selecionar será o\n",
    "\n",
    "Opções:\n",
    "A) I.\n",
    "B) II.\n",
    "C) III.\n",
    "D) IV.\n",
    "E) V.\n",
    "\n",
    "Explicação:\n",
    "Devemos calcular a área das quatro faces laterais e a área da base inferior (fundo da piscina) e somar essas áreas para obter a área de revestimento. Logo, calculando a área de revestimento de cada projeto temos: Projeto I: 2 × 1,8 × 2 + 2 × 2,5 × 1 + (2 × 1,8 × 2,5) = 6 + 5 + 9 = 20; Projeto II: 2 × 1,5 × 2 + 2 × 2 × 1,5 + (2 × 1,5 × 2) = 6 + 6 + 6 = 18. Projeto III: 2 × 2 × 1,5 + 2 × 1,5 × 2,5 + (2 × 2 × 2,5) = 6 + 7,5 + 10 = 23,5. Projeto IV: 2 × 1 × 2 + 2 × 2,5 × 1,5 + (2 × 1 × 2,5) = 4 + 7,5 + 5 = 16,5. Projeto V: 3 × 1,2 × 2 + 2 × 2,5 × 1,5 + (2 × 1,5 × 1,2) = 7,2 + 7,5 + 3,6 = 18,3. O projeto com menor área de revestimento é o Projeto II, portanto a resposta correta é a letra B.\n",
    "\n",
    "Resposta final: B\n",
    "\n",
    "---\n",
    "\n",
    "Agora responda à próxima pergunta seguindo o mesmo formato passo a passo.\n",
    "\"\"\"\n",
    "\n",
    "    # Current question\n",
    "    question = question_obj[\"question\"]\n",
    "    options = question_obj[\"alternatives\"]\n",
    "    option_letters = [\"A\", \"B\", \"C\", \"D\", \"E\"]\n",
    "    formatted_options = \"\\n\".join([f\"{letter}) {text}\" for letter, text in zip(option_letters, options)])\n",
    "\n",
    "    prompt = f\"\"\"{few_shot_examples}\n",
    "\n",
    "Pergunta:\n",
    "{question}\n",
    "\n",
    "Opções:\n",
    "{formatted_options}\n",
    "\n",
    "Explique sua resposta e depois diga a letra da alternativa correta no formato \"Resposta final: X\"\n",
    "\"\"\"\n",
    "\n",
    "    return prompt\n"
   ]
  },
  {
   "cell_type": "markdown",
   "id": "5ee9cf54-c250-403e-9e70-55e7521a2d5f",
   "metadata": {
    "jp-MarkdownHeadingCollapsed": true
   },
   "source": [
    "## Chain-of-Verification (CoVe) template"
   ]
  },
  {
   "cell_type": "markdown",
   "id": "c16ab175-ce17-45d4-8696-d82bb0dee357",
   "metadata": {},
   "source": [
    "### Plan verifications"
   ]
  },
  {
   "cell_type": "code",
   "execution_count": 303,
   "id": "3a24a192-7373-4db6-9e7f-e7a0fb10d423",
   "metadata": {},
   "outputs": [],
   "source": [
    "def plan_verification_questions(question, baseline_answer):\n",
    "    plan_prompt = f\"\"\"Dada a seguinte pergunta e resposta, gere 2 a 4 perguntas para verificar os fatos principais da resposta.\n",
    "\n",
    "Pergunta: {question}\n",
    "\n",
    "Resposta: {baseline_answer}\n",
    "\n",
    "Liste as perguntas de verificação:\"\"\"\n",
    "    return call_openai_api(plan_prompt)\n"
   ]
  },
  {
   "cell_type": "markdown",
   "id": "1dd504a1-1737-4fd0-93ab-45f6f49ffd85",
   "metadata": {},
   "source": [
    "### Execute verifications"
   ]
  },
  {
   "cell_type": "code",
   "execution_count": 304,
   "id": "c8c8baa5-af8c-491c-8402-541d2abd3957",
   "metadata": {},
   "outputs": [],
   "source": [
    "def execute_verifications(verification_questions):\n",
    "    verifications = []\n",
    "    for q in verification_questions:\n",
    "        answer = call_openai_api(q)\n",
    "        verifications.append((q, answer))\n",
    "    return verifications"
   ]
  },
  {
   "cell_type": "markdown",
   "id": "e9423cfc-4baa-4ee1-922f-cedf4f2b1cbe",
   "metadata": {},
   "source": [
    "### Generate final verified answer"
   ]
  },
  {
   "cell_type": "code",
   "execution_count": 305,
   "id": "03fa6adf-efa6-4c8c-b9d4-88b0db988f1c",
   "metadata": {},
   "outputs": [],
   "source": [
    "def generate_final_verified_answer(question, original_answer, verifications, options=None):\n",
    "    vtext = \"\\n\".join([f\"Q: {q}\\nA: {a}\" for q, a in verifications])\n",
    "\n",
    "    option_letters = [\"A\", \"B\", \"C\", \"D\", \"E\"]\n",
    "    options_text = \"\"\n",
    "    if options:\n",
    "        options_text = \"\\n\".join([f\"{letter}) {text}\" for letter, text in zip(option_letters, options)])\n",
    "\n",
    "    revise_prompt = f\"\"\"\n",
    "Revise a resposta abaixo com base nas verificações.\n",
    "\n",
    "Pergunta:\n",
    "{question}\n",
    "\n",
    "Alternativas:\n",
    "{options_text}\n",
    "\n",
    "Resposta original:\n",
    "{original_answer}\n",
    "\n",
    "Verificações:\n",
    "{vtext}\n",
    "\n",
    "Resposta final verificada:\n",
    "[Inclua uma explicação revisada, seguida de uma linha como: \"Resposta final: X\", onde X é a letra da alternativa correta.]\n",
    "\"\"\"\n",
    "    return call_openai_api(revise_prompt)\n"
   ]
  },
  {
   "cell_type": "markdown",
   "id": "214a136d-dfd5-410a-bce2-593526aacdb2",
   "metadata": {
    "jp-MarkdownHeadingCollapsed": true
   },
   "source": [
    "## Self-Refine template"
   ]
  },
  {
   "cell_type": "markdown",
   "id": "b39e77d4-3c21-48f8-ab70-0bcf13744c63",
   "metadata": {},
   "source": [
    "### Give feedback for a previous answer"
   ]
  },
  {
   "cell_type": "code",
   "execution_count": 306,
   "id": "9da866bb-35d7-45c3-b2e5-417c5b069346",
   "metadata": {},
   "outputs": [],
   "source": [
    "def build_feedback_prompt(question_obj, model_output):\n",
    "    question = question_obj[\"question\"]\n",
    "    options = question_obj[\"alternatives\"]\n",
    "    option_letters = [\"A\", \"B\", \"C\", \"D\", \"E\"]\n",
    "    formatted_options = \"\\n\".join([f\"{l}) {t}\" for l, t in zip(option_letters, options)])\n",
    "\n",
    "    prompt = (\n",
    "        \"Analise a seguinte resposta gerada para uma pergunta do ENEM. \"\n",
    "        \"Identifique erros, falhas na argumentação ou escolha incorreta da alternativa. \"\n",
    "        \"Aponte aspectos que podem ser melhorados.\\n\\n\"\n",
    "        f\"Pergunta:\\n{question}\\n\\n\"\n",
    "        f\"Alternativas:\\n{formatted_options}\\n\\n\"\n",
    "        f\"Resposta do modelo:\\n{model_output}\\n\\n\"\n",
    "        \"Feedback:\"\n",
    "    )\n",
    "    return prompt\n"
   ]
  },
  {
   "cell_type": "markdown",
   "id": "a9d66ac9-1f4c-454e-96ff-45cde48497fc",
   "metadata": {},
   "source": [
    "### Refine response based on feedback"
   ]
  },
  {
   "cell_type": "code",
   "execution_count": 307,
   "id": "a0e4ecc2-facc-4713-8a28-0a77672e49a6",
   "metadata": {},
   "outputs": [],
   "source": [
    "def build_refine_prompt(question_obj, model_output, feedback):\n",
    "    question = question_obj[\"question\"]\n",
    "    options = question_obj[\"alternatives\"]\n",
    "    option_letters = [\"A\", \"B\", \"C\", \"D\", \"E\"]\n",
    "    formatted_options = \"\\n\".join([f\"{l}) {t}\" for l, t in zip(option_letters, options)])\n",
    "\n",
    "    prompt = (\n",
    "        \"A seguir está uma pergunta do ENEM, acompanhada de alternativas, \"\n",
    "        \"uma resposta inicial e um feedback crítico. Escreva uma nova resposta levando em conta \"\n",
    "        \"o feedback, explicando novamente o raciocínio e indicando a letra da alternativa correta \"\n",
    "        \"no formato \\\"Resposta final: X\\\".\\n\\n\"\n",
    "        f\"Pergunta:\\n{question}\\n\\n\"\n",
    "        f\"Alternativas:\\n{formatted_options}\\n\\n\"\n",
    "        f\"Resposta anterior:\\n{model_output}\\n\\n\"\n",
    "        f\"Feedback:\\n{feedback}\\n\\n\"\n",
    "        \"Nova resposta:\"\n",
    "    )\n",
    "    return prompt\n"
   ]
  },
  {
   "cell_type": "markdown",
   "id": "1a961339-31f5-4b93-935d-6b99b63469c6",
   "metadata": {},
   "source": [
    "### Feedback iteration wrapper"
   ]
  },
  {
   "cell_type": "code",
   "execution_count": 308,
   "id": "57f1ab4c-72f6-46b3-a6db-8791054b2c36",
   "metadata": {},
   "outputs": [],
   "source": [
    "def self_refine_enem(question_obj, max_iters=3):\n",
    "    # Generate the initial chain-of-thought response\n",
    "    prompt = build_cot_prompt(question_obj)\n",
    "    response = call_openai_api(prompt)\n",
    "    \n",
    "    # Extract the final answer from the initial response\n",
    "    prev_final = extract_answer_letter(response)\n",
    "    \n",
    "    history = [(response, None)]\n",
    "\n",
    "    for _ in range(max_iters):\n",
    "        # Generate feedback based on the current response\n",
    "        fb_prompt = build_feedback_prompt(question_obj, response)\n",
    "        feedback = call_openai_api(fb_prompt)\n",
    "\n",
    "        # Build the refine prompt using the current response and feedback\n",
    "        refine_prompt = build_refine_prompt(question_obj, response, feedback)\n",
    "        new_response = call_openai_api(refine_prompt)\n",
    "        \n",
    "        # Extract the final answer from the new response\n",
    "        new_final = extract_answer_letter(new_response)\n",
    "        \n",
    "        # If the final answer is unchanged, exit the loop\n",
    "        if new_final is not None and new_final == prev_final:\n",
    "            break\n",
    "        \n",
    "        # Update the response and the final answer for the next iteration\n",
    "        response = new_response\n",
    "        prev_final = new_final\n",
    "        history.append((response, feedback))\n",
    "    \n",
    "    return response, history"
   ]
  },
  {
   "cell_type": "markdown",
   "id": "61634ac0-6e68-4f72-a644-b382fd507ee8",
   "metadata": {
    "jp-MarkdownHeadingCollapsed": true
   },
   "source": [
    "## Load 2024 ENEM questions"
   ]
  },
  {
   "cell_type": "code",
   "execution_count": 309,
   "id": "0bcf90bc-7768-45b7-bd6a-72e402ff4878",
   "metadata": {},
   "outputs": [
    {
     "data": {
      "text/plain": [
       "{'id': 'questao_01',\n",
       " 'exam': '2024',\n",
       " 'IU': False,\n",
       " 'ledor': False,\n",
       " 'question': '## Holy War\\nOh, so we can hate each other and fear each other\\nWe can build these walls between each other Baby, blow by blow and brick by brick Keep yourself locked in, yourself locked in\\n[…]\\nOh, maybe we should love somebody\\nOh, maybe we could care a little more\\nSo maybe we should love somebody\\nInstead of polishing the bombs of holy war\\nNessa letra de canção, de Alicia Keys, que aborda um contexto de ódio e intolerância, o marcador “instead of ” introduz a ideia de',\n",
       " 'alternatives': ['mudança de comportamento.',\n",
       "  'panorama de conflitos.',\n",
       "  'rotina de isolamento.',\n",
       "  'perspectiva bélica.',\n",
       "  'cenário religioso.'],\n",
       " 'label': 'A',\n",
       " 'figures': [],\n",
       " 'description': [],\n",
       " 'subject': 'Linguagens, Códigos e suas Tecnologias'}"
      ]
     },
     "execution_count": 309,
     "metadata": {},
     "output_type": "execute_result"
    }
   ],
   "source": [
    "import json\n",
    "\n",
    "# Load the JSONL file line by line\n",
    "data = []\n",
    "with open('enem_2024.jsonl', 'r', encoding='utf-8') as f:\n",
    "    for line in f:\n",
    "        data.append(json.loads(line))\n",
    "\n",
    "# Assign subject based on the index (0-indexed)\n",
    "for i, entry in enumerate(data):\n",
    "    if i < 45:\n",
    "        subject = \"Linguagens, Códigos e suas Tecnologias\"\n",
    "    elif i < 90:\n",
    "        subject = \"Ciências Humanas e suas Tecnologias\"\n",
    "    elif i < 135:\n",
    "        subject = \"Ciências da Natureza e suas Tecnologias\"\n",
    "    else:\n",
    "        subject = \"Matemática e suas Tecnologias\"\n",
    "    entry[\"subject\"] = subject\n",
    "\n",
    "# Show the first question\n",
    "data[0]"
   ]
  },
  {
   "cell_type": "markdown",
   "id": "286fab38-5dc0-4d1f-8b89-7accda438ec8",
   "metadata": {
    "jp-MarkdownHeadingCollapsed": true
   },
   "source": [
    "## Connect to OpenAI API"
   ]
  },
  {
   "cell_type": "code",
   "execution_count": 310,
   "id": "e391dbce-5092-4b24-ac6f-deb37cd36578",
   "metadata": {},
   "outputs": [],
   "source": [
    "from openai import OpenAI\n",
    "\n",
    "# Read key from file\n",
    "with open(\"openai-key.txt\", \"r\") as f:\n",
    "    api_key = f.read().strip()\n",
    "\n",
    "client = OpenAI(api_key=api_key)"
   ]
  },
  {
   "cell_type": "markdown",
   "id": "4f3b097b-960d-45ee-b398-96723be864fe",
   "metadata": {},
   "source": [
    "### API call"
   ]
  },
  {
   "cell_type": "code",
   "execution_count": 311,
   "id": "e16e2c1c-0d25-46d8-8efe-fffef2471e2c",
   "metadata": {},
   "outputs": [],
   "source": [
    "def call_openai_api(prompt, model=\"gpt-3.5-turbo\", temperature=0.7):\n",
    "    response = client.chat.completions.create(\n",
    "        model=model,\n",
    "        messages=[\n",
    "            {\"role\": \"user\", \"content\": prompt}\n",
    "        ],\n",
    "        temperature=temperature\n",
    "    )\n",
    "    return response.choices[0].message.content"
   ]
  },
  {
   "cell_type": "markdown",
   "id": "65a09aba-a82a-4a9f-ae9d-ea31ccd4173f",
   "metadata": {
    "jp-MarkdownHeadingCollapsed": true
   },
   "source": [
    "## Test Prompting Techniques"
   ]
  },
  {
   "cell_type": "markdown",
   "id": "7598681d-2e84-4161-857a-67537ac19922",
   "metadata": {},
   "source": [
    "### Test CoT"
   ]
  },
  {
   "cell_type": "markdown",
   "id": "c57f9047-080a-413d-b4d7-b6b67080f9c8",
   "metadata": {
    "jp-MarkdownHeadingCollapsed": true
   },
   "source": [
    "#### Test CoT with a single question"
   ]
  },
  {
   "cell_type": "code",
   "execution_count": 312,
   "id": "0c8180bd-6ff6-4648-a764-737d1ec7133c",
   "metadata": {},
   "outputs": [
    {
     "name": "stdout",
     "output_type": "stream",
     "text": [
      "Prompt:\n",
      " Responda à seguinte pergunta com raciocínio passo a passo, explicando sua escolha antes de dar a resposta final.\n",
      "\n",
      "Pergunta:\n",
      "## Holy War\n",
      "Oh, so we can hate each other and fear each other\n",
      "We can build these walls between each other Baby, blow by blow and brick by brick Keep yourself locked in, yourself locked in\n",
      "[…]\n",
      "Oh, maybe we should love somebody\n",
      "Oh, maybe we could care a little more\n",
      "So maybe we should love somebody\n",
      "Instead of polishing the bombs of holy war\n",
      "Nessa letra de canção, de Alicia Keys, que aborda um contexto de ódio e intolerância, o marcador “instead of ” introduz a ideia de\n",
      "\n",
      "Opções:\n",
      "A) mudança de comportamento.\n",
      "B) panorama de conflitos.\n",
      "C) rotina de isolamento.\n",
      "D) perspectiva bélica.\n",
      "E) cenário religioso.\n",
      "\n",
      "Explique sua resposta e depois diga a letra da alternativa correta no formato \"Resposta final: X\"\n",
      "\n",
      "\n",
      "Model Response:\n",
      " Para responder a essa pergunta, é importante analisar o contexto da letra da música \"Holy War\" de Alicia Keys. A letra fala sobre a divisão e o ódio entre as pessoas, destacando a construção de muros e a guerra como consequência desse comportamento. No trecho em questão, a frase \"Instead of polishing the bombs of holy war\" sugere uma mudança de atitude, uma alternativa ao conflito e à violência. O uso do termo \"instead of\" indica que a cantora está propondo algo diferente, algo oposto à guerra e à intolerância.\n",
      "\n",
      "Portanto, a ideia introduzida pelo marcador \"instead of\" é de mudança de comportamento, de buscar uma alternativa ao conflito e à violência.\n",
      "\n",
      "Resposta final: A) mudança de comportamento.\n",
      "\n",
      "Predicted: A | Ground Truth: A\n"
     ]
    }
   ],
   "source": [
    "q = data[0]\n",
    "prompt = build_cot_prompt(q)\n",
    "response = call_openai_api(prompt)\n",
    "predicted = extract_answer_letter(response)\n",
    "\n",
    "print(\"Prompt:\\n\", prompt)\n",
    "print(\"\\nModel Response:\\n\", response)\n",
    "print(f\"\\nPredicted: {predicted} | Ground Truth: {q['label']}\")\n"
   ]
  },
  {
   "cell_type": "markdown",
   "id": "dc41fb0b-d54e-434e-a3a9-f82c5be46c28",
   "metadata": {},
   "source": [
    "#### CoT evaluation loop over sample questions"
   ]
  },
  {
   "cell_type": "code",
   "execution_count": 313,
   "id": "7c8ebddc-ecd7-4b6c-883b-8af67a368e9f",
   "metadata": {
    "scrolled": true
   },
   "outputs": [
    {
     "name": "stdout",
     "output_type": "stream",
     "text": [
      "[1/180] ✅ Predicted: A | Correct: A\n",
      "[2/180] ✅ Predicted: E | Correct: A\n",
      "[3/180] ✅ Predicted: C | Correct: C\n",
      "[4/180] ✅ Predicted: E | Correct: E\n",
      "[5/180] ✅ Predicted: A | Correct: A\n",
      "[6/180] ✅ Predicted: C | Correct: C\n",
      "[7/180] ✅ Predicted: A | Correct: B\n",
      "[8/180] ✅ Predicted: E | Correct: E\n",
      "[9/180] ✅ Predicted: D | Correct: D\n",
      "[10/180] ✅ Predicted: A | Correct: A\n",
      "[11/180] ✅ Predicted: D | Correct: D\n",
      "[12/180] ✅ Predicted: E | Correct: E\n",
      "[13/180] ✅ Predicted: E | Correct: E\n",
      "[14/180] ✅ Predicted: E | Correct: B\n",
      "[15/180] ✅ Predicted: D | Correct: D\n",
      "[16/180] ✅ Predicted: D | Correct: D\n",
      "[17/180] ✅ Predicted: B | Correct: B\n",
      "[18/180] ✅ Predicted: D | Correct: D\n",
      "[19/180] ✅ Predicted: B | Correct: B\n",
      "[20/180] ✅ Predicted: E | Correct: B\n",
      "[21/180] ✅ Predicted: D | Correct: C\n",
      "[22/180] ✅ Predicted: A | Correct: E\n",
      "[23/180] ✅ Predicted: E | Correct: E\n",
      "[24/180] ✅ Predicted: B | Correct: C\n",
      "[25/180] ✅ Predicted: B | Correct: B\n",
      "[26/180] ✅ Predicted: A | Correct: D\n",
      "[27/180] ✅ Predicted: C | Correct: C\n",
      "[28/180] ✅ Predicted: E | Correct: B\n",
      "[29/180] ✅ Predicted: None | Correct: A\n",
      "[30/180] ✅ Predicted: D | Correct: D\n",
      "[31/180] ✅ Predicted: D | Correct: D\n",
      "[32/180] ✅ Predicted: D | Correct: D\n",
      "[33/180] ✅ Predicted: C | Correct: C\n",
      "[34/180] ✅ Predicted: B | Correct: B\n",
      "[35/180] ✅ Predicted: D | Correct: D\n",
      "[36/180] ✅ Predicted: E | Correct: E\n",
      "[37/180] ✅ Predicted: D | Correct: D\n",
      "[38/180] ✅ Predicted: D | Correct: D\n",
      "[39/180] ✅ Predicted: B | Correct: C\n",
      "[40/180] ✅ Predicted: E | Correct: E\n",
      "[41/180] ✅ Predicted: C | Correct: C\n",
      "[42/180] ✅ Predicted: B | Correct: B\n",
      "[43/180] ✅ Predicted: E | Correct: E\n",
      "[44/180] ✅ Predicted: C | Correct: C\n",
      "[45/180] ✅ Predicted: E | Correct: E\n",
      "[46/180] ✅ Predicted: A | Correct: A\n",
      "[47/180] ✅ Predicted: C | Correct: C\n",
      "[48/180] ✅ Predicted: B | Correct: B\n",
      "[49/180] ✅ Predicted: C | Correct: C\n",
      "[50/180] ✅ Predicted: A | Correct: A\n",
      "[51/180] ✅ Predicted: D | Correct: D\n",
      "[52/180] ✅ Predicted: C | Correct: C\n",
      "[53/180] ✅ Predicted: E | Correct: E\n",
      "[54/180] ✅ Predicted: D | Correct: D\n",
      "[55/180] ✅ Predicted: B | Correct: B\n",
      "[56/180] ✅ Predicted: A | Correct: A\n",
      "[57/180] ✅ Predicted: None | Correct: E\n",
      "[58/180] ✅ Predicted: C | Correct: C\n",
      "[59/180] ✅ Predicted: E | Correct: E\n",
      "[60/180] ✅ Predicted: D | Correct: D\n",
      "[61/180] ✅ Predicted: A | Correct: A\n",
      "[62/180] ✅ Predicted: D | Correct: D\n",
      "[63/180] ✅ Predicted: B | Correct: B\n",
      "[64/180] ✅ Predicted: A | Correct: A\n",
      "[65/180] ✅ Predicted: D | Correct: D\n",
      "[66/180] ✅ Predicted: B | Correct: B\n",
      "[67/180] ✅ Predicted: E | Correct: E\n",
      "[68/180] ✅ Predicted: B | Correct: B\n",
      "[69/180] ✅ Predicted: C | Correct: C\n",
      "[70/180] ✅ Predicted: D | Correct: D\n",
      "[71/180] ✅ Predicted: A | Correct: A\n",
      "[72/180] ✅ Predicted: B | Correct: D\n",
      "[73/180] ✅ Predicted: A | Correct: A\n",
      "[74/180] ✅ Predicted: B | Correct: B\n",
      "[75/180] ✅ Predicted: C | Correct: C\n",
      "[76/180] ✅ Predicted: D | Correct: D\n",
      "[77/180] ✅ Predicted: E | Correct: E\n",
      "[78/180] ✅ Predicted: D | Correct: A\n",
      "[79/180] ✅ Predicted: B | Correct: B\n",
      "[80/180] ✅ Predicted: C | Correct: C\n",
      "[81/180] ✅ Predicted: A | Correct: A\n",
      "[82/180] ✅ Predicted: E | Correct: E\n",
      "[83/180] ✅ Predicted: D | Correct: D\n",
      "[84/180] ✅ Predicted: E | Correct: E\n",
      "[85/180] ✅ Predicted: B | Correct: B\n",
      "[86/180] ✅ Predicted: B | Correct: B\n",
      "[87/180] ✅ Predicted: C | Correct: C\n",
      "[88/180] ✅ Predicted: E | Correct: E\n",
      "[89/180] ✅ Predicted: C | Correct: C\n",
      "[90/180] ✅ Predicted: E | Correct: E\n",
      "[91/180] ✅ Predicted: D | Correct: D\n",
      "[92/180] ✅ Predicted: B | Correct: D\n",
      "[93/180] ✅ Predicted: A | Correct: B\n",
      "[94/180] ✅ Predicted: D | Correct: D\n",
      "[95/180] ✅ Predicted: D | Correct: D\n",
      "[96/180] ✅ Predicted: E | Correct: E\n",
      "[97/180] ✅ Predicted: B | Correct: B\n",
      "[98/180] ✅ Predicted: B | Correct: B\n",
      "[99/180] ✅ Predicted: D | Correct: A\n",
      "[100/180] ✅ Predicted: A | Correct: A\n",
      "[101/180] ✅ Predicted: D | Correct: E\n",
      "[102/180] ✅ Predicted: E | Correct: D\n",
      "[103/180] ✅ Predicted: B | Correct: E\n",
      "[104/180] ✅ Predicted: A | Correct: C\n",
      "[105/180] ✅ Predicted: B | Correct: B\n",
      "[106/180] ✅ Predicted: C | Correct: C\n",
      "[107/180] ✅ Predicted: E | Correct: E\n",
      "[108/180] ✅ Predicted: C | Correct: E\n",
      "[109/180] ✅ Predicted: E | Correct: D\n",
      "[110/180] ✅ Predicted: D | Correct: C\n",
      "[111/180] ✅ Predicted: E | Correct: A\n",
      "[112/180] ✅ Predicted: A | Correct: A\n",
      "[113/180] ✅ Predicted: C | Correct: C\n",
      "[114/180] ✅ Predicted: A | Correct: D\n",
      "[115/180] ✅ Predicted: B | Correct: B\n",
      "[116/180] ✅ Predicted: B | Correct: B\n",
      "[117/180] ✅ Predicted: A | Correct: C\n",
      "[118/180] ✅ Predicted: B | Correct: E\n",
      "[119/180] ✅ Predicted: D | Correct: D\n",
      "[120/180] ✅ Predicted: A | Correct: B\n",
      "[121/180] ✅ Predicted: B | Correct: B\n",
      "[122/180] ✅ Predicted: None | Correct: A\n",
      "[123/180] ✅ Predicted: E | Correct: E\n",
      "[124/180] ✅ Predicted: B | Correct: Anulado\n",
      "[125/180] ✅ Predicted: C | Correct: C\n",
      "[126/180] ✅ Predicted: C | Correct: C\n",
      "[127/180] ✅ Predicted: A | Correct: A\n",
      "[128/180] ✅ Predicted: C | Correct: E\n",
      "[129/180] ✅ Predicted: A | Correct: A\n",
      "[130/180] ✅ Predicted: E | Correct: A\n",
      "[131/180] ✅ Predicted: B | Correct: C\n",
      "[132/180] ✅ Predicted: C | Correct: C\n",
      "[133/180] ✅ Predicted: A | Correct: A\n",
      "[134/180] ✅ Predicted: E | Correct: E\n",
      "[135/180] ✅ Predicted: D | Correct: D\n",
      "[136/180] ✅ Predicted: C | Correct: C\n",
      "[137/180] ✅ Predicted: E | Correct: E\n",
      "[138/180] ✅ Predicted: B | Correct: B\n",
      "[139/180] ✅ Predicted: C | Correct: C\n",
      "[140/180] ✅ Predicted: E | Correct: E\n",
      "[141/180] ✅ Predicted: D | Correct: A\n",
      "[142/180] ✅ Predicted: D | Correct: D\n",
      "[143/180] ✅ Predicted: D | Correct: B\n",
      "[144/180] ✅ Predicted: E | Correct: B\n",
      "[145/180] ✅ Predicted: C | Correct: C\n",
      "[146/180] ✅ Predicted: C | Correct: E\n",
      "[147/180] ✅ Predicted: A | Correct: A\n",
      "[148/180] ✅ Predicted: None | Correct: D\n",
      "[149/180] ✅ Predicted: A | Correct: D\n",
      "[150/180] ✅ Predicted: D | Correct: D\n",
      "[151/180] ✅ Predicted: A | Correct: A\n",
      "[152/180] ✅ Predicted: B | Correct: B\n",
      "[153/180] ✅ Predicted: C | Correct: B\n",
      "[154/180] ✅ Predicted: D | Correct: A\n",
      "[155/180] ✅ Predicted: A | Correct: B\n",
      "[156/180] ✅ Predicted: C | Correct: B\n",
      "[157/180] ✅ Predicted: A | Correct: C\n",
      "[158/180] ✅ Predicted: C | Correct: C\n",
      "[159/180] ✅ Predicted: D | Correct: D\n",
      "[160/180] ✅ Predicted: A | Correct: C\n",
      "[161/180] ✅ Predicted: C | Correct: C\n",
      "[162/180] ✅ Predicted: E | Correct: E\n",
      "[163/180] ✅ Predicted: A | Correct: C\n",
      "[164/180] ✅ Predicted: E | Correct: E\n",
      "[165/180] ✅ Predicted: B | Correct: D\n",
      "[166/180] ✅ Predicted: D | Correct: B\n",
      "[167/180] ✅ Predicted: A | Correct: A\n",
      "[168/180] ✅ Predicted: C | Correct: C\n",
      "[169/180] ✅ Predicted: None | Correct: A\n",
      "[170/180] ✅ Predicted: B | Correct: D\n",
      "[171/180] ✅ Predicted: C | Correct: E\n",
      "[172/180] ✅ Predicted: C | Correct: C\n",
      "[173/180] ✅ Predicted: A | Correct: A\n",
      "[174/180] ✅ Predicted: A | Correct: B\n",
      "[175/180] ✅ Predicted: E | Correct: E\n",
      "[176/180] ✅ Predicted: D | Correct: D\n",
      "[177/180] ✅ Predicted: C | Correct: A\n",
      "[178/180] ✅ Predicted: D | Correct: D\n",
      "[179/180] ✅ Predicted: C | Correct: C\n",
      "[180/180] ✅ Predicted: B | Correct: B\n"
     ]
    }
   ],
   "source": [
    "cot_results = []\n",
    "\n",
    "for i, question in enumerate(data):\n",
    "    prompt = build_cot_prompt(question)\n",
    "    correct_answer = question[\"label\"]\n",
    "    \n",
    "    try:\n",
    "        response = call_openai_api(prompt)\n",
    "        predicted = extract_answer_letter(response)\n",
    "    except Exception as e:\n",
    "        response = str(e)\n",
    "        predicted = None\n",
    "    \n",
    "    cot_results.append({\n",
    "        \"id\": question[\"id\"],\n",
    "        \"subject\": question[\"subject\"],\n",
    "        \"question\": question[\"question\"],\n",
    "        \"ground_truth\": correct_answer,\n",
    "        \"predicted\": predicted,\n",
    "        \"correct\": predicted == correct_answer,\n",
    "        \"response\": response\n",
    "    })\n",
    "\n",
    "    print(f\"[{i+1}/{len(data)}] ✅ Predicted: {predicted} | Correct: {correct_answer}\")\n"
   ]
  },
  {
   "cell_type": "markdown",
   "id": "a40204d9-3fd8-42c5-bdb3-16cd09913cb6",
   "metadata": {},
   "source": [
    "#### CoT Results"
   ]
  },
  {
   "cell_type": "code",
   "execution_count": 314,
   "id": "22d2b43a-b97e-4091-a12e-fed0e8ebd2a8",
   "metadata": {
    "scrolled": true
   },
   "outputs": [
    {
     "name": "stdout",
     "output_type": "stream",
     "text": [
      "✅ Results saved to results/cot/cot_results_2025-03-27_11-24-17.csv\n"
     ]
    },
    {
     "data": {
      "text/html": [
       "<div>\n",
       "<style scoped>\n",
       "    .dataframe tbody tr th:only-of-type {\n",
       "        vertical-align: middle;\n",
       "    }\n",
       "\n",
       "    .dataframe tbody tr th {\n",
       "        vertical-align: top;\n",
       "    }\n",
       "\n",
       "    .dataframe thead th {\n",
       "        text-align: right;\n",
       "    }\n",
       "</style>\n",
       "<table border=\"1\" class=\"dataframe\">\n",
       "  <thead>\n",
       "    <tr style=\"text-align: right;\">\n",
       "      <th></th>\n",
       "      <th>id</th>\n",
       "      <th>subject</th>\n",
       "      <th>question</th>\n",
       "      <th>ground_truth</th>\n",
       "      <th>predicted</th>\n",
       "      <th>correct</th>\n",
       "      <th>response</th>\n",
       "    </tr>\n",
       "  </thead>\n",
       "  <tbody>\n",
       "    <tr>\n",
       "      <th>0</th>\n",
       "      <td>questao_01</td>\n",
       "      <td>Linguagens, Códigos e suas Tecnologias</td>\n",
       "      <td>## Holy War\\nOh, so we can hate each other and fear each other\\nWe can build these walls between each other Baby, blow by blow and brick by brick Keep yourself locked in, yourself locked in\\n[…]\\nOh, maybe we should love somebody\\nOh, maybe we could care a little more\\nSo maybe we should love somebody\\nInstead of polishing the bombs of holy war\\nNessa letra de canção, de Alicia Keys, que aborda um contexto de ódio e intolerância, o marcador “instead of ” introduz a ideia de</td>\n",
       "      <td>A</td>\n",
       "      <td>A</td>\n",
       "      <td>True</td>\n",
       "      <td>Para responder a essa pergunta, é importante analisar o contexto da letra da música. Alicia Keys está falando sobre a possibilidade de amar e se importar mais com as pessoas em vez de propagar o ódio e a intolerância que levam a guerras. O trecho específico em questão destaca a ideia de escolher amar alguém em vez de alimentar a guerra.\\n\\nConsiderando isso, a expressão \"instead of\" é utilizada para contrastar duas ações ou ideias, sugerindo uma mudança de comportamento ou escolha entre duas opções. Portanto, a resposta correta é:\\n\\nResposta final: A) mudança de comportamento.</td>\n",
       "    </tr>\n",
       "    <tr>\n",
       "      <th>1</th>\n",
       "      <td>questao_02</td>\n",
       "      <td>Linguagens, Códigos e suas Tecnologias</td>\n",
       "      <td>[[placeholder]]\\nO texto estabelece uma relação entre elementos da natureza e comandos de um programa de computador para</td>\n",
       "      <td>A</td>\n",
       "      <td>E</td>\n",
       "      <td>False</td>\n",
       "      <td>Para responder a essa pergunta, precisamos analisar a relação estabelecida no texto entre elementos da natureza e comandos de um programa de computador. O texto menciona que \"Quando você planta uma árvore em um programa de computador, você não precisa esperar anos para vê-la crescer. Basta digitar um comando e, em segundos, a árvore estará lá, alta e frondosa.\" Essa relação mostra que no programa de computador, o crescimento das árvores é acelerado, diferente do processo natural que leva anos.\\n\\nCom base nisso, podemos concluir que a intenção do texto não é alertar sobre a destruição da natureza, nem conscientizar sobre o tempo passando rápido, nem apresentar avanços tecnológicos na agricultura, nem orientar sobre o emprego sustentável das novas tecnologias. A relação estabelecida visa, na verdade, informar os interessados sobre o tempo de crescimento das árvores de forma acelerada no programa de computador.\\n\\nPortanto, a alternativa correta é:\\n\\nResposta final: E) informar os interessados sobre o tempo de crescimento de novas árvores.</td>\n",
       "    </tr>\n",
       "    <tr>\n",
       "      <th>2</th>\n",
       "      <td>questao_03</td>\n",
       "      <td>Linguagens, Códigos e suas Tecnologias</td>\n",
       "      <td>[[placeholder]]\\nA relação entre as citações atribuídas ao físico Albert Einstein e ao cantor e compositor Bob Marley reside na crença de que é necessário</td>\n",
       "      <td>C</td>\n",
       "      <td>C</td>\n",
       "      <td>True</td>\n",
       "      <td>Para responder a essa pergunta, precisamos analisar as citações atribuídas a Albert Einstein e Bob Marley, e entender o que elas têm em comum. \\n\\nAlbert Einstein disse: \"A mente que se abre a uma nova ideia jamais voltará ao seu tamanho original\". Essa citação sugere a importância de estar aberto a novas perspectivas e ideias. Por outro lado, Bob Marley disse: \"Você nunca sabe como forte você é até ser forte é sua única escolha\". Essa frase destaca a importância de superar desafios e dificuldades para descobrir sua verdadeira força e capacidade. \\n\\nAmbas as citações enfatizam a importância de enfrentar adversidades, superar obstáculos e estar aberto a novas oportunidades. Portanto, a relação entre elas reside na crença de que é necessário tirar proveito de situações que podem ser adversas. \\n\\nResposta final: C) tirar proveito de situações que podem ser adversas.</td>\n",
       "    </tr>\n",
       "    <tr>\n",
       "      <th>3</th>\n",
       "      <td>questao_04</td>\n",
       "      <td>Linguagens, Códigos e suas Tecnologias</td>\n",
       "      <td>[[placeholder]]A carta da editora Stephanie Allen-Nichols à escritoraAlice Walker tem o propósito de</td>\n",
       "      <td>E</td>\n",
       "      <td>E</td>\n",
       "      <td>True</td>\n",
       "      <td>Primeiramente, é importante analisar o contexto da situação. A carta da editora Stephanie Allen-Nichols à escritora Alice Walker provavelmente tem o propósito de comunicar algo relacionado à obra da autora. \\n\\nDessa forma, podemos descartar as opções B) acusar o recebimento de seu manuscrito e C) solicitar a revisão ortográfica de seu texto, pois não fazem sentido em um contexto de comunicação entre editora e autora.\\n\\nTambém podemos descartar a opção A) problematizar o enredo de sua obra, pois não é comum uma editora questionar o enredo de uma obra já aceita para publicação.\\n\\nRestam as opções D) informar a transferência de seu livro a outra editora e E) comunicar a recusa da publicação de seu romance. \\n\\nConsiderando que a carta é direcionada à autora, é mais provável que a editora esteja comunicando a recusa da publicação de seu romance, uma vez que a transferência para outra editora seria algo que não requereria necessariamente a participação da autora.\\n\\nPortanto, a resposta final é:\\n\\nResposta final: E) comunicar a recusa da publicação de seu romance.</td>\n",
       "    </tr>\n",
       "    <tr>\n",
       "      <th>4</th>\n",
       "      <td>questao_05</td>\n",
       "      <td>Linguagens, Códigos e suas Tecnologias</td>\n",
       "      <td>## Borderlands/La frontera: the Nem Mestiza\\nGlória Anzaldúa\\nI remember being caught speaking Spanish at recess [...] I remember being sent to the corner of the classroom for “talking back” to the Anglo teacher when all I was trying to do was tell her how to pronounce my name. “If you want to be American, speak ‘American’. If you don’t like it, go back to Mexico where you belong”.\\n“I want you to speak English […]”, my mother would say, mortified that I spoke English like a Mexican. At Pan American University, I and all Chicano students were required to take two speech classes. Their purpose: to get rid of our accents.\\nO problema abordado nesse texto sobre imigrantes residentes nos Estados Unidos diz respeito aos prejuízos gerados pelo(a)</td>\n",
       "      <td>A</td>\n",
       "      <td>A</td>\n",
       "      <td>True</td>\n",
       "      <td>O texto aborda o preconceito e a discriminação sofridos pela autora e outros imigrantes de língua espanhola nos Estados Unidos, que são incentivados a abandonar sua língua materna e adotar o inglês como única forma de serem aceitos como \"americanos\". O trecho em que a autora é repreendida por falar espanhol na escola e é instruída a falar inglês para ser considerada \"americana\" mostra claramente o repúdio ao sotaque espanhol no uso do inglês. Portanto, a opção correta é:\\n\\nResposta final: A) repúdio ao sotaque espanhol no uso do inglês.</td>\n",
       "    </tr>\n",
       "    <tr>\n",
       "      <th>...</th>\n",
       "      <td>...</td>\n",
       "      <td>...</td>\n",
       "      <td>...</td>\n",
       "      <td>...</td>\n",
       "      <td>...</td>\n",
       "      <td>...</td>\n",
       "      <td>...</td>\n",
       "    </tr>\n",
       "    <tr>\n",
       "      <th>175</th>\n",
       "      <td>questao_176</td>\n",
       "      <td>Matemática e suas Tecnologias</td>\n",
       "      <td>Atualmente, há telefones celulares com telas de diversos tamanhos e em formatos retangulares. Alguns deles apresentam telas medindo três inteiros e um meio polegadas, com determinadas especificações técnicas. Além disso, em muitos modelos, com a inclusão de novas funções no celular, suas telas ficaram maiores, sendo muito comum encontrarmos atualmente telas medindo quatro inteiros e cinco sextos polegadas, conforme a figura.\\n[[placeholder]]\\n\\n. A diferença de tamanho, em valor absoluto, entre as medidas, em polegada, das telas do celular 2 e do celular 1, representada apenas com uma casa decimal, é</td>\n",
       "      <td>D</td>\n",
       "      <td>D</td>\n",
       "      <td>True</td>\n",
       "      <td>Para encontrar a diferença de tamanho entre as telas dos dois celulares, precisamos calcular a diferença entre 4 5/6 e 3 1/2 polegadas.\\n\\nPrimeiro, vamos converter as frações mistas em frações impróprias:\\n4 5/6 = (4*6 + 5)/6 = 24/6 + 5/6 = 29/6\\n3 1/2 = (3*2 + 1)/2 = 6/2 + 1/2 = 7/2\\n\\nAgora, subtraímos as duas frações:\\n29/6 - 7/2 = 29/6 - 21/6 = 8/6 = 4/3 = 1,3\\n\\nPortanto, a diferença de tamanho entre as telas dos dois celulares é 1,3 polegadas.\\n\\nResposta final: D) 1,3.</td>\n",
       "    </tr>\n",
       "    <tr>\n",
       "      <th>176</th>\n",
       "      <td>questao_177</td>\n",
       "      <td>Matemática e suas Tecnologias</td>\n",
       "      <td>Uma imobiliária iniciou uma campanha de divulgação para promover a venda de apartamentos que podem ser pagos em 100 parcelas mensais. O valor da primeira delas é fixado no momento da compra, com o pagamento dessa primeira parcela. A partir da segunda parcela, o valor é determinado pela aplicação de um acréscimo percentual fixo ao valor da parcela anterior. Como atrativo, a imobiliária fará o pagamento de todas as parcelas correspondentes ao mês de aniversário do comprador.\\nUm cliente, que faz aniversário no mês de maio, decidiu comprar um desses apartamentos por meio do financiamento oferecido pela imobiliária, e pretende escolher o mês mais adequado para realizar essa compra, de modo que o valor total dos pagamentos seja o menor possível.\\nQual é o mês que esse cliente deverá escolher para realizar a compra do apartamento?</td>\n",
       "      <td>A</td>\n",
       "      <td>C</td>\n",
       "      <td>False</td>\n",
       "      <td>Para encontrar o mês mais adequado para realizar a compra do apartamento, precisamos levar em consideração que a imobiliária pagará todas as parcelas correspondentes ao mês de aniversário do comprador. Como o cliente faz aniversário em maio, ele deverá escolher o mês que resultará no menor valor total a ser pago, levando em conta esse benefício.\\n\\nSe ele escolher o mês de maio para realizar a compra, a imobiliária pagará todas as parcelas desse mês, ou seja, ele não precisará efetuar nenhum pagamento em maio. Dessa forma, o valor total a ser pago será menor do que se ele escolher qualquer outro mês.\\n\\nResposta final: C) Maio.</td>\n",
       "    </tr>\n",
       "    <tr>\n",
       "      <th>177</th>\n",
       "      <td>questao_178</td>\n",
       "      <td>Matemática e suas Tecnologias</td>\n",
       "      <td>Um professor de desenho, apresentou uma peça de 45 centímetros de comprimento e solicitou aos alunos reproduzir no papel o objeto, onde as medidas devem ser proporcionais às medidas reais, e o comprimento deste desenho tem que ser de 9 centímetros.\\nA escala utilizada para realizar esse desenho é</td>\n",
       "      <td>D</td>\n",
       "      <td>D</td>\n",
       "      <td>True</td>\n",
       "      <td>Para encontrar a escala utilizada para realizar o desenho, precisamos calcular a proporção entre o comprimento real e o comprimento do desenho.\\n\\nComprimento real: 45 cm\\nComprimento do desenho: 9 cm\\n\\nPara encontrar a escala, vamos dividir o comprimento real pelo comprimento do desenho:\\n\\nEscala = Comprimento real / Comprimento do desenho\\nEscala = 45 cm / 9 cm\\nEscala = 5\\n\\nIsso significa que a escala utilizada para realizar o desenho é de 1 para 5.\\n\\nResposta final: D) 1 para 5.</td>\n",
       "    </tr>\n",
       "    <tr>\n",
       "      <th>178</th>\n",
       "      <td>questao_179</td>\n",
       "      <td>Matemática e suas Tecnologias</td>\n",
       "      <td>A prefeitura de uma cidade planeja construir três postos de saúde. Esses postos devem ser construídos em locais equidistantes entre si e de forma que as distâncias desses três postos ao hospital dessa cidade sejam iguais. Foram conseguidos três locais para a construção dos postos de saúde que apresentam as características desejadas, e que distam 10 quilômetros entre si, conforme o esquema, no qual o ponto H representa o local onde está construído o hospital; os pontos P índice 1, P índice 2 e P índice 3, os postos de saúde; e esses quatro pontos estão em um mesmo plano.\\n[[placeholder]]\\nA distância, em quilômetro, entre o hospital e cada um dos postos de saúde, é um valor entre</td>\n",
       "      <td>C</td>\n",
       "      <td>C</td>\n",
       "      <td>True</td>\n",
       "      <td>Para resolver essa questão, vamos usar a propriedade de que os postos de saúde devem ser construídos em locais equidistantes entre si e de forma que as distâncias desses três postos ao hospital sejam iguais.\\n\\nSabemos que os postos de saúde estão a uma distância de 10 quilômetros entre si. Como eles devem estar equidistantes e a distância do hospital até cada posto é a mesma, podemos imaginar um triângulo equilátero formado pelos três postos de saúde. \\n\\nNesse triângulo equilátero, a distância do hospital até cada vértice do triângulo é igual, representando a distância entre o hospital e cada posto de saúde. \\n\\nSabemos que a distância entre os postos de saúde é de 10 quilômetros, então a distância do hospital até cada posto é igual a metade dessa distância, ou seja, 5 quilômetros.\\n\\nPortanto, a distância entre o hospital e cada um dos postos de saúde é um valor entre 5 e 6 quilômetros.\\n\\nResposta final: C) 5 e 6.</td>\n",
       "    </tr>\n",
       "    <tr>\n",
       "      <th>179</th>\n",
       "      <td>questao_180</td>\n",
       "      <td>Matemática e suas Tecnologias</td>\n",
       "      <td>Um tanque, em formato de paralelepípedo reto retângulo, tem em seu interior dois anteparos verticais, fixados na sua base e em duas paredes opostas, sendo perpendiculares a elas, conforme a figura.\\n[[placeholder]]\\nEsses anteparos, de espessuras desprezíveis, estão instalados de maneira a dividir a base do tanque em três retângulos congruentes, tendo suas alturas iguais à metade e a um quarto da altura do tanque. O tanque é abastecido por uma entrada situada no teto, através de um duto que despeja água a uma vazão constante, sendo necessárias 12 horas para finalizar o seu enchimento.\\nO gráfico que descreve, em cada instante, a maior altura de coluna de água, dentre aquelas que vão sendo formadas ao longo do enchimento do tanque, é\\n[[placeholder]]\\n</td>\n",
       "      <td>B</td>\n",
       "      <td>B</td>\n",
       "      <td>True</td>\n",
       "      <td>Para resolver essa questão, precisamos analisar a situação do tanque conforme ele vai sendo preenchido com água.\\n\\nSabemos que os anteparos dividem a base do tanque em três retângulos congruentes, com alturas iguais a 1/2 e 1/4 da altura total do tanque. Isso significa que, conforme o tanque vai sendo preenchido, a água vai se acumulando em três níveis diferentes, cada um correspondente a um desses retângulos.\\n\\nComo a vazão de entrada de água é constante, a altura da coluna de água em cada um desses níveis vai aumentando de maneira linear, até atingir a altura do anteparo correspondente.\\n\\nPortanto, o gráfico que melhor descreve a situação do tanque ao longo do tempo é um gráfico com três segmentos lineares, cada um correspondente ao aumento de altura da coluna de água em um dos níveis criados pelos anteparos.\\n\\nDessa forma, a alternativa correta é a letra:\\nB) [[placeholder]]\\n\\nResposta final: B</td>\n",
       "    </tr>\n",
       "  </tbody>\n",
       "</table>\n",
       "<p>180 rows × 7 columns</p>\n",
       "</div>"
      ],
      "text/plain": [
       "              id                                 subject  \\\n",
       "0     questao_01  Linguagens, Códigos e suas Tecnologias   \n",
       "1     questao_02  Linguagens, Códigos e suas Tecnologias   \n",
       "2     questao_03  Linguagens, Códigos e suas Tecnologias   \n",
       "3     questao_04  Linguagens, Códigos e suas Tecnologias   \n",
       "4     questao_05  Linguagens, Códigos e suas Tecnologias   \n",
       "..           ...                                     ...   \n",
       "175  questao_176           Matemática e suas Tecnologias   \n",
       "176  questao_177           Matemática e suas Tecnologias   \n",
       "177  questao_178           Matemática e suas Tecnologias   \n",
       "178  questao_179           Matemática e suas Tecnologias   \n",
       "179  questao_180           Matemática e suas Tecnologias   \n",
       "\n",
       "                                                                                                                                                                                                                                                                                                                                                                                                                                                                                                                                                                                                                                                                                                                                                                                                                                                                 question  \\\n",
       "0                                                                                                                                                                                                                                                                                                                                                                          ## Holy War\\nOh, so we can hate each other and fear each other\\nWe can build these walls between each other Baby, blow by blow and brick by brick Keep yourself locked in, yourself locked in\\n[…]\\nOh, maybe we should love somebody\\nOh, maybe we could care a little more\\nSo maybe we should love somebody\\nInstead of polishing the bombs of holy war\\nNessa letra de canção, de Alicia Keys, que aborda um contexto de ódio e intolerância, o marcador “instead of ” introduz a ideia de   \n",
       "1                                                                                                                                                                                                                                                                                                                                                                                                                                                                                                                                                                                                                                                                                                                                                [[placeholder]]\\nO texto estabelece uma relação entre elementos da natureza e comandos de um programa de computador para   \n",
       "2                                                                                                                                                                                                                                                                                                                                                                                                                                                                                                                                                                                                                                                                                                              [[placeholder]]\\nA relação entre as citações atribuídas ao físico Albert Einstein e ao cantor e compositor Bob Marley reside na crença de que é necessário   \n",
       "3                                                                                                                                                                                                                                                                                                                                                                                                                                                                                                                                                                                                                                                                                                                                                                    [[placeholder]]A carta da editora Stephanie Allen-Nichols à escritoraAlice Walker tem o propósito de   \n",
       "4                                                                                          ## Borderlands/La frontera: the Nem Mestiza\\nGlória Anzaldúa\\nI remember being caught speaking Spanish at recess [...] I remember being sent to the corner of the classroom for “talking back” to the Anglo teacher when all I was trying to do was tell her how to pronounce my name. “If you want to be American, speak ‘American’. If you don’t like it, go back to Mexico where you belong”.\\n“I want you to speak English […]”, my mother would say, mortified that I spoke English like a Mexican. At Pan American University, I and all Chicano students were required to take two speech classes. Their purpose: to get rid of our accents.\\nO problema abordado nesse texto sobre imigrantes residentes nos Estados Unidos diz respeito aos prejuízos gerados pelo(a)   \n",
       "..                                                                                                                                                                                                                                                                                                                                                                                                                                                                                                                                                                                                                                                                                                                                                                                                                                                                    ...   \n",
       "175                                                                                                                                                                                                                                       Atualmente, há telefones celulares com telas de diversos tamanhos e em formatos retangulares. Alguns deles apresentam telas medindo três inteiros e um meio polegadas, com determinadas especificações técnicas. Além disso, em muitos modelos, com a inclusão de novas funções no celular, suas telas ficaram maiores, sendo muito comum encontrarmos atualmente telas medindo quatro inteiros e cinco sextos polegadas, conforme a figura.\\n[[placeholder]]\\n\\n. A diferença de tamanho, em valor absoluto, entre as medidas, em polegada, das telas do celular 2 e do celular 1, representada apenas com uma casa decimal, é   \n",
       "176  Uma imobiliária iniciou uma campanha de divulgação para promover a venda de apartamentos que podem ser pagos em 100 parcelas mensais. O valor da primeira delas é fixado no momento da compra, com o pagamento dessa primeira parcela. A partir da segunda parcela, o valor é determinado pela aplicação de um acréscimo percentual fixo ao valor da parcela anterior. Como atrativo, a imobiliária fará o pagamento de todas as parcelas correspondentes ao mês de aniversário do comprador.\\nUm cliente, que faz aniversário no mês de maio, decidiu comprar um desses apartamentos por meio do financiamento oferecido pela imobiliária, e pretende escolher o mês mais adequado para realizar essa compra, de modo que o valor total dos pagamentos seja o menor possível.\\nQual é o mês que esse cliente deverá escolher para realizar a compra do apartamento?   \n",
       "177                                                                                                                                                                                                                                                                                                                                                                                                                                                                                                                                                             Um professor de desenho, apresentou uma peça de 45 centímetros de comprimento e solicitou aos alunos reproduzir no papel o objeto, onde as medidas devem ser proporcionais às medidas reais, e o comprimento deste desenho tem que ser de 9 centímetros.\\nA escala utilizada para realizar esse desenho é   \n",
       "178                                                                                                                                                       A prefeitura de uma cidade planeja construir três postos de saúde. Esses postos devem ser construídos em locais equidistantes entre si e de forma que as distâncias desses três postos ao hospital dessa cidade sejam iguais. Foram conseguidos três locais para a construção dos postos de saúde que apresentam as características desejadas, e que distam 10 quilômetros entre si, conforme o esquema, no qual o ponto H representa o local onde está construído o hospital; os pontos P índice 1, P índice 2 e P índice 3, os postos de saúde; e esses quatro pontos estão em um mesmo plano.\\n[[placeholder]]\\nA distância, em quilômetro, entre o hospital e cada um dos postos de saúde, é um valor entre   \n",
       "179                                                                             Um tanque, em formato de paralelepípedo reto retângulo, tem em seu interior dois anteparos verticais, fixados na sua base e em duas paredes opostas, sendo perpendiculares a elas, conforme a figura.\\n[[placeholder]]\\nEsses anteparos, de espessuras desprezíveis, estão instalados de maneira a dividir a base do tanque em três retângulos congruentes, tendo suas alturas iguais à metade e a um quarto da altura do tanque. O tanque é abastecido por uma entrada situada no teto, através de um duto que despeja água a uma vazão constante, sendo necessárias 12 horas para finalizar o seu enchimento.\\nO gráfico que descreve, em cada instante, a maior altura de coluna de água, dentre aquelas que vão sendo formadas ao longo do enchimento do tanque, é\\n[[placeholder]]\\n   \n",
       "\n",
       "    ground_truth predicted  correct  \\\n",
       "0              A         A     True   \n",
       "1              A         E    False   \n",
       "2              C         C     True   \n",
       "3              E         E     True   \n",
       "4              A         A     True   \n",
       "..           ...       ...      ...   \n",
       "175            D         D     True   \n",
       "176            A         C    False   \n",
       "177            D         D     True   \n",
       "178            C         C     True   \n",
       "179            B         B     True   \n",
       "\n",
       "                                                                                                                                                                                                                                                                                                                                                                                                                                                                                                                                                                                                                                                                                                                                                                                                                                                                                                                                                                                                                                                                                                                    response  \n",
       "0                                                                                                                                                                                                                                                                                                                                                                                                                                                                                                                   Para responder a essa pergunta, é importante analisar o contexto da letra da música. Alicia Keys está falando sobre a possibilidade de amar e se importar mais com as pessoas em vez de propagar o ódio e a intolerância que levam a guerras. O trecho específico em questão destaca a ideia de escolher amar alguém em vez de alimentar a guerra.\\n\\nConsiderando isso, a expressão \"instead of\" é utilizada para contrastar duas ações ou ideias, sugerindo uma mudança de comportamento ou escolha entre duas opções. Portanto, a resposta correta é:\\n\\nResposta final: A) mudança de comportamento.  \n",
       "1                             Para responder a essa pergunta, precisamos analisar a relação estabelecida no texto entre elementos da natureza e comandos de um programa de computador. O texto menciona que \"Quando você planta uma árvore em um programa de computador, você não precisa esperar anos para vê-la crescer. Basta digitar um comando e, em segundos, a árvore estará lá, alta e frondosa.\" Essa relação mostra que no programa de computador, o crescimento das árvores é acelerado, diferente do processo natural que leva anos.\\n\\nCom base nisso, podemos concluir que a intenção do texto não é alertar sobre a destruição da natureza, nem conscientizar sobre o tempo passando rápido, nem apresentar avanços tecnológicos na agricultura, nem orientar sobre o emprego sustentável das novas tecnologias. A relação estabelecida visa, na verdade, informar os interessados sobre o tempo de crescimento das árvores de forma acelerada no programa de computador.\\n\\nPortanto, a alternativa correta é:\\n\\nResposta final: E) informar os interessados sobre o tempo de crescimento de novas árvores.  \n",
       "2                                                                                                                                                                                                              Para responder a essa pergunta, precisamos analisar as citações atribuídas a Albert Einstein e Bob Marley, e entender o que elas têm em comum. \\n\\nAlbert Einstein disse: \"A mente que se abre a uma nova ideia jamais voltará ao seu tamanho original\". Essa citação sugere a importância de estar aberto a novas perspectivas e ideias. Por outro lado, Bob Marley disse: \"Você nunca sabe como forte você é até ser forte é sua única escolha\". Essa frase destaca a importância de superar desafios e dificuldades para descobrir sua verdadeira força e capacidade. \\n\\nAmbas as citações enfatizam a importância de enfrentar adversidades, superar obstáculos e estar aberto a novas oportunidades. Portanto, a relação entre elas reside na crença de que é necessário tirar proveito de situações que podem ser adversas. \\n\\nResposta final: C) tirar proveito de situações que podem ser adversas.  \n",
       "3    Primeiramente, é importante analisar o contexto da situação. A carta da editora Stephanie Allen-Nichols à escritora Alice Walker provavelmente tem o propósito de comunicar algo relacionado à obra da autora. \\n\\nDessa forma, podemos descartar as opções B) acusar o recebimento de seu manuscrito e C) solicitar a revisão ortográfica de seu texto, pois não fazem sentido em um contexto de comunicação entre editora e autora.\\n\\nTambém podemos descartar a opção A) problematizar o enredo de sua obra, pois não é comum uma editora questionar o enredo de uma obra já aceita para publicação.\\n\\nRestam as opções D) informar a transferência de seu livro a outra editora e E) comunicar a recusa da publicação de seu romance. \\n\\nConsiderando que a carta é direcionada à autora, é mais provável que a editora esteja comunicando a recusa da publicação de seu romance, uma vez que a transferência para outra editora seria algo que não requereria necessariamente a participação da autora.\\n\\nPortanto, a resposta final é:\\n\\nResposta final: E) comunicar a recusa da publicação de seu romance.  \n",
       "4                                                                                                                                                                                                                                                                                                                                                                                                                                                                                                                                                            O texto aborda o preconceito e a discriminação sofridos pela autora e outros imigrantes de língua espanhola nos Estados Unidos, que são incentivados a abandonar sua língua materna e adotar o inglês como única forma de serem aceitos como \"americanos\". O trecho em que a autora é repreendida por falar espanhol na escola e é instruída a falar inglês para ser considerada \"americana\" mostra claramente o repúdio ao sotaque espanhol no uso do inglês. Portanto, a opção correta é:\\n\\nResposta final: A) repúdio ao sotaque espanhol no uso do inglês.  \n",
       "..                                                                                                                                                                                                                                                                                                                                                                                                                                                                                                                                                                                                                                                                                                                                                                                                                                                                                                                                                                                                                                                                                                                       ...  \n",
       "175                                                                                                                                                                                                                                                                                                                                                                                                                                                                                                                                                                                                                        Para encontrar a diferença de tamanho entre as telas dos dois celulares, precisamos calcular a diferença entre 4 5/6 e 3 1/2 polegadas.\\n\\nPrimeiro, vamos converter as frações mistas em frações impróprias:\\n4 5/6 = (4*6 + 5)/6 = 24/6 + 5/6 = 29/6\\n3 1/2 = (3*2 + 1)/2 = 6/2 + 1/2 = 7/2\\n\\nAgora, subtraímos as duas frações:\\n29/6 - 7/2 = 29/6 - 21/6 = 8/6 = 4/3 = 1,3\\n\\nPortanto, a diferença de tamanho entre as telas dos dois celulares é 1,3 polegadas.\\n\\nResposta final: D) 1,3.  \n",
       "176                                                                                                                                                                                                                                                                                                                                                                                                                                                              Para encontrar o mês mais adequado para realizar a compra do apartamento, precisamos levar em consideração que a imobiliária pagará todas as parcelas correspondentes ao mês de aniversário do comprador. Como o cliente faz aniversário em maio, ele deverá escolher o mês que resultará no menor valor total a ser pago, levando em conta esse benefício.\\n\\nSe ele escolher o mês de maio para realizar a compra, a imobiliária pagará todas as parcelas desse mês, ou seja, ele não precisará efetuar nenhum pagamento em maio. Dessa forma, o valor total a ser pago será menor do que se ele escolher qualquer outro mês.\\n\\nResposta final: C) Maio.  \n",
       "177                                                                                                                                                                                                                                                                                                                                                                                                                                                                                                                                                                                                              Para encontrar a escala utilizada para realizar o desenho, precisamos calcular a proporção entre o comprimento real e o comprimento do desenho.\\n\\nComprimento real: 45 cm\\nComprimento do desenho: 9 cm\\n\\nPara encontrar a escala, vamos dividir o comprimento real pelo comprimento do desenho:\\n\\nEscala = Comprimento real / Comprimento do desenho\\nEscala = 45 cm / 9 cm\\nEscala = 5\\n\\nIsso significa que a escala utilizada para realizar o desenho é de 1 para 5.\\n\\nResposta final: D) 1 para 5.  \n",
       "178                                                                                                                                                      Para resolver essa questão, vamos usar a propriedade de que os postos de saúde devem ser construídos em locais equidistantes entre si e de forma que as distâncias desses três postos ao hospital sejam iguais.\\n\\nSabemos que os postos de saúde estão a uma distância de 10 quilômetros entre si. Como eles devem estar equidistantes e a distância do hospital até cada posto é a mesma, podemos imaginar um triângulo equilátero formado pelos três postos de saúde. \\n\\nNesse triângulo equilátero, a distância do hospital até cada vértice do triângulo é igual, representando a distância entre o hospital e cada posto de saúde. \\n\\nSabemos que a distância entre os postos de saúde é de 10 quilômetros, então a distância do hospital até cada posto é igual a metade dessa distância, ou seja, 5 quilômetros.\\n\\nPortanto, a distância entre o hospital e cada um dos postos de saúde é um valor entre 5 e 6 quilômetros.\\n\\nResposta final: C) 5 e 6.  \n",
       "179                                                                                                                                                                      Para resolver essa questão, precisamos analisar a situação do tanque conforme ele vai sendo preenchido com água.\\n\\nSabemos que os anteparos dividem a base do tanque em três retângulos congruentes, com alturas iguais a 1/2 e 1/4 da altura total do tanque. Isso significa que, conforme o tanque vai sendo preenchido, a água vai se acumulando em três níveis diferentes, cada um correspondente a um desses retângulos.\\n\\nComo a vazão de entrada de água é constante, a altura da coluna de água em cada um desses níveis vai aumentando de maneira linear, até atingir a altura do anteparo correspondente.\\n\\nPortanto, o gráfico que melhor descreve a situação do tanque ao longo do tempo é um gráfico com três segmentos lineares, cada um correspondente ao aumento de altura da coluna de água em um dos níveis criados pelos anteparos.\\n\\nDessa forma, a alternativa correta é a letra:\\nB) [[placeholder]]\\n\\nResposta final: B  \n",
       "\n",
       "[180 rows x 7 columns]"
      ]
     },
     "execution_count": 314,
     "metadata": {},
     "output_type": "execute_result"
    }
   ],
   "source": [
    "df_cot = pd.DataFrame(cot_results)\n",
    "save_results_csv(df_cot, method_name=\"cot\")\n",
    "df_cot"
   ]
  },
  {
   "cell_type": "markdown",
   "id": "d7e921e7-a746-42db-92e3-fb9025a45e40",
   "metadata": {},
   "source": [
    "##### Save results"
   ]
  },
  {
   "cell_type": "code",
   "execution_count": 315,
   "id": "53532868-b0ec-4005-a22e-a89b0f322608",
   "metadata": {},
   "outputs": [
    {
     "name": "stdout",
     "output_type": "stream",
     "text": [
      "Results saved to cot_results_2025-03-27_11-24-17.csv\n"
     ]
    }
   ],
   "source": [
    "from datetime import datetime\n",
    "\n",
    "# Current date and time string\n",
    "timestamp = datetime.now().strftime(\"%Y-%m-%d_%H-%M-%S\")\n",
    "\n",
    "# Filename with timestamp\n",
    "filename = f\"cot_results_{timestamp}.csv\"\n",
    "\n",
    "# Save DataFrame\n",
    "df_cot.to_csv(filename, index=False)\n",
    "print(f\"Results saved to {filename}\")"
   ]
  },
  {
   "cell_type": "code",
   "execution_count": 316,
   "id": "bedefd4d-3821-4d54-ac93-0bc70e471ce1",
   "metadata": {},
   "outputs": [
    {
     "name": "stdout",
     "output_type": "stream",
     "text": [
      "CoT Accuracy: 126/175 (72.0%)\n",
      "❓ Unanswered (None): 5\n"
     ]
    }
   ],
   "source": [
    "correct, total, acc, none_count = calculate_accuracy(cot_results)\n",
    "print(f\"CoT Accuracy: {correct}/{total} ({acc:.1f}%)\")\n",
    "print(f\"❓ Unanswered (None): {none_count}\")"
   ]
  },
  {
   "cell_type": "code",
   "execution_count": 317,
   "id": "a6692c15-e729-4908-86df-bab23701bb9f",
   "metadata": {
    "scrolled": true
   },
   "outputs": [
    {
     "data": {
      "text/html": [
       "<div>\n",
       "<style scoped>\n",
       "    .dataframe tbody tr th:only-of-type {\n",
       "        vertical-align: middle;\n",
       "    }\n",
       "\n",
       "    .dataframe tbody tr th {\n",
       "        vertical-align: top;\n",
       "    }\n",
       "\n",
       "    .dataframe thead th {\n",
       "        text-align: right;\n",
       "    }\n",
       "</style>\n",
       "<table border=\"1\" class=\"dataframe\">\n",
       "  <thead>\n",
       "    <tr style=\"text-align: right;\">\n",
       "      <th></th>\n",
       "      <th>sum</th>\n",
       "      <th>count</th>\n",
       "      <th>accuracy (%)</th>\n",
       "    </tr>\n",
       "    <tr>\n",
       "      <th>subject</th>\n",
       "      <th></th>\n",
       "      <th></th>\n",
       "      <th></th>\n",
       "    </tr>\n",
       "  </thead>\n",
       "  <tbody>\n",
       "    <tr>\n",
       "      <th>Ciências Humanas e suas Tecnologias</th>\n",
       "      <td>42</td>\n",
       "      <td>45</td>\n",
       "      <td>93.333333</td>\n",
       "    </tr>\n",
       "    <tr>\n",
       "      <th>Ciências da Natureza e suas Tecnologias</th>\n",
       "      <td>25</td>\n",
       "      <td>45</td>\n",
       "      <td>55.555556</td>\n",
       "    </tr>\n",
       "    <tr>\n",
       "      <th>Linguagens, Códigos e suas Tecnologias</th>\n",
       "      <td>34</td>\n",
       "      <td>45</td>\n",
       "      <td>75.555556</td>\n",
       "    </tr>\n",
       "    <tr>\n",
       "      <th>Matemática e suas Tecnologias</th>\n",
       "      <td>25</td>\n",
       "      <td>45</td>\n",
       "      <td>55.555556</td>\n",
       "    </tr>\n",
       "  </tbody>\n",
       "</table>\n",
       "</div>"
      ],
      "text/plain": [
       "                                         sum  count  accuracy (%)\n",
       "subject                                                          \n",
       "Ciências Humanas e suas Tecnologias       42     45     93.333333\n",
       "Ciências da Natureza e suas Tecnologias   25     45     55.555556\n",
       "Linguagens, Códigos e suas Tecnologias    34     45     75.555556\n",
       "Matemática e suas Tecnologias             25     45     55.555556"
      ]
     },
     "execution_count": 317,
     "metadata": {},
     "output_type": "execute_result"
    }
   ],
   "source": [
    "results_by_subject(df_cot)"
   ]
  },
  {
   "cell_type": "markdown",
   "id": "45d94ca7-912b-43a8-bcbd-ce43c3fd997d",
   "metadata": {
    "jp-MarkdownHeadingCollapsed": true
   },
   "source": [
    "### Test CoVe"
   ]
  },
  {
   "cell_type": "markdown",
   "id": "77fb5536-2203-48eb-88c6-3ac6108e31df",
   "metadata": {},
   "source": [
    "#### Test CoVe with a single question"
   ]
  },
  {
   "cell_type": "code",
   "execution_count": 318,
   "id": "5796fc1a-189f-45be-a6ee-c3b128f6238a",
   "metadata": {
    "jupyter": {
     "source_hidden": true
    },
    "scrolled": true
   },
   "outputs": [
    {
     "name": "stdout",
     "output_type": "stream",
     "text": [
      "🔹 Baseline CoT Answer:\n",
      " A expressão \"instead of\" é utilizada para indicar uma substituição de uma ação por outra. No trecho da música, a ideia apresentada é de substituir a atitude de polir as bombas da guerra santa por amar alguém. Ou seja, a sugestão é abandonar a violência e o ódio em troca de amor e compaixão. Portanto, a ideia introduzida pelo marcador \"instead of\" é de mudança de comportamento.\n",
      "\n",
      "Resposta final: A) mudança de comportamento.\n",
      "\n",
      "🔹 Verification Questions:\n",
      "- 1. Qual é a expressão utilizada pela cantora Alicia Keys para indicar a substituição de uma ação por outra?\n",
      "- 2. Qual é a atitude sugerida no trecho da música em que é utilizada a expressão \"instead of\"?\n",
      "- 3. Como a ideia de substituir a atitude de polir as bombas da guerra santa por amar alguém é interpretada na letra da música?\n",
      "- 4. Qual é o objetivo da sugestão apresentada pela cantora Alicia Keys na música abordada?\n",
      "\n",
      "🔹 Verification Answers:\n",
      "Q: 1. Qual é a expressão utilizada pela cantora Alicia Keys para indicar a substituição de uma ação por outra?\n",
      "A: A expressão utilizada pela cantora Alicia Keys é \"If I Ain't Got You\".\n",
      "\n",
      "Q: 2. Qual é a atitude sugerida no trecho da música em que é utilizada a expressão \"instead of\"?\n",
      "A: A atitude sugerida no trecho da música em que é utilizada a expressão \"instead of\" é de substituir algo por outra coisa, de fazer uma escolha diferente da habitual. Pode indicar uma mudança de comportamento, de pensamento ou de ação.\n",
      "\n",
      "Q: 3. Como a ideia de substituir a atitude de polir as bombas da guerra santa por amar alguém é interpretada na letra da música?\n",
      "A: A ideia de substituir a atitude de polir as bombas da guerra santa por amar alguém na letra da música é interpretada como uma crítica à violência e ao ódio presentes nas guerras e conflitos religiosos. A letra sugere que o amor e a compaixão são mais poderosos do que a destruição e a violência, e que a verdadeira paz só pode ser alcançada através do entendimento e da aceitação mútua. A mensagem transmitida é de que é preciso colocar de lado as diferenças e aprender a amar uns aos outros, independentemente das crenças ou origens, para que a humanidade possa viver em harmonia e paz.\n",
      "\n",
      "Q: 4. Qual é o objetivo da sugestão apresentada pela cantora Alicia Keys na música abordada?\n",
      "A: O objetivo da sugestão apresentada pela cantora Alicia Keys na música abordada é encorajar as pessoas a se aceitarem como são, celebrando suas imperfeições e individualidade. Ela incentiva a autoaceitação e a autoconfiança, promovendo a ideia de que todos são únicos e especiais à sua própria maneira.\n",
      "\n",
      "🔹 Final Verified Answer:\n",
      " A expressão \"instead of\" é utilizada para indicar uma substituição de uma ação por outra. No trecho da música, a ideia apresentada é de substituir a atitude de polir as bombas da guerra santa por amar alguém. Ou seja, a sugestão é abandonar a violência e o ódio em troca de amor e compaixão. Portanto, a ideia introduzida pelo marcador \"instead of\" é de mudança de comportamento.\n",
      "\n",
      "Resposta final: A) mudança de comportamento.\n",
      "\n",
      "✅ Predicted Answer: A\n",
      "🎯 Ground Truth: A\n",
      "🎉 CORRECT!\n"
     ]
    }
   ],
   "source": [
    "# Step 1: Pick a question\n",
    "q = data[0]\n",
    "question_text = q[\"question\"]\n",
    "prompt = build_cot_prompt(q)\n",
    "\n",
    "# Step 2: Baseline CoT answer\n",
    "baseline_answer = call_openai_api(prompt)\n",
    "\n",
    "print(\"🔹 Baseline CoT Answer:\\n\", baseline_answer)\n",
    "\n",
    "# Step 3: Plan verification questions\n",
    "verification_qs_raw = plan_verification_questions(question_text, baseline_answer)\n",
    "\n",
    "# Split the response into individual questions if the model gives a list\n",
    "verification_questions = [line.strip(\"- \").strip() for line in verification_qs_raw.split(\"\\n\") if line.strip()]\n",
    "\n",
    "print(\"\\n🔹 Verification Questions:\")\n",
    "for qv in verification_questions:\n",
    "    print(\"-\", qv)\n",
    "\n",
    "# Step 4: Execute verification\n",
    "verifications = execute_verifications(verification_questions)\n",
    "\n",
    "print(\"\\n🔹 Verification Answers:\")\n",
    "for qv, av in verifications:\n",
    "    print(f\"Q: {qv}\\nA: {av}\\n\")\n",
    "\n",
    "# Step 5: Generate final verified answer\n",
    "final_answer = generate_final_verified_answer(question_text, baseline_answer, verifications)\n",
    "\n",
    "print(\"🔹 Final Verified Answer:\\n\", final_answer)\n",
    "\n",
    "# Step 6: Extract predicted letter and compare to ground truth\n",
    "predicted = extract_answer_letter(final_answer)\n",
    "ground_truth = q[\"label\"]\n",
    "\n",
    "print(f\"\\n✅ Predicted Answer: {predicted}\")\n",
    "print(f\"🎯 Ground Truth: {ground_truth}\")\n",
    "\n",
    "if predicted == ground_truth:\n",
    "    print(\"🎉 CORRECT!\")\n",
    "else:\n",
    "    print(\"❌ WRONG.\")\n"
   ]
  },
  {
   "cell_type": "markdown",
   "id": "79a03e0f-b5a3-405e-8aac-fc463428d4e2",
   "metadata": {},
   "source": [
    "#### CoVe evaluation loop over sample questions"
   ]
  },
  {
   "cell_type": "code",
   "execution_count": null,
   "id": "1e2fe04e-7d84-4eb0-8a02-0fad4e4d8df7",
   "metadata": {
    "jupyter": {
     "source_hidden": true
    },
    "scrolled": true
   },
   "outputs": [
    {
     "name": "stdout",
     "output_type": "stream",
     "text": [
      "[1/180] ✅ Predicted: A | Correct: A\n",
      "[2/180] ✅ Predicted: A | Correct: A\n",
      "[3/180] ✅ Predicted: C | Correct: C\n",
      "[4/180] ✅ Predicted: E | Correct: E\n",
      "[5/180] ✅ Predicted: C | Correct: A\n",
      "[6/180] ✅ Predicted: E | Correct: C\n",
      "[7/180] ✅ Predicted: B | Correct: B\n",
      "[8/180] ✅ Predicted: E | Correct: E\n",
      "[9/180] ✅ Predicted: C | Correct: D\n",
      "[10/180] ✅ Predicted: A | Correct: A\n",
      "[11/180] ✅ Predicted: D | Correct: D\n",
      "[12/180] ✅ Predicted: A | Correct: E\n",
      "[13/180] ✅ Predicted: E | Correct: E\n",
      "[14/180] ✅ Predicted: B | Correct: B\n",
      "[15/180] ✅ Predicted: D | Correct: D\n",
      "[16/180] ✅ Predicted: D | Correct: D\n",
      "[17/180] ✅ Predicted: B | Correct: B\n",
      "[18/180] ✅ Predicted: D | Correct: D\n",
      "[19/180] ✅ Predicted: B | Correct: B\n",
      "[20/180] ✅ Predicted: B | Correct: B\n",
      "[21/180] ✅ Predicted: D | Correct: C\n",
      "[22/180] ✅ Predicted: A | Correct: E\n",
      "[23/180] ✅ Predicted: E | Correct: E\n",
      "[24/180] ✅ Predicted: B | Correct: C\n",
      "[25/180] ✅ Predicted: C | Correct: B\n",
      "[26/180] ✅ Predicted: C | Correct: D\n",
      "[27/180] ✅ Predicted: C | Correct: C\n",
      "[28/180] ✅ Predicted: C | Correct: B\n",
      "[29/180] ✅ Predicted: D | Correct: A\n",
      "[30/180] ✅ Predicted: D | Correct: D\n",
      "[31/180] ✅ Predicted: D | Correct: D\n",
      "[32/180] ✅ Predicted: D | Correct: D\n",
      "[33/180] ✅ Predicted: C | Correct: C\n",
      "[34/180] ✅ Predicted: B | Correct: B\n",
      "[35/180] ✅ Predicted: D | Correct: D\n"
     ]
    }
   ],
   "source": [
    "cove_results = []\n",
    "\n",
    "for i, question in enumerate(data):\n",
    "    try:\n",
    "        question_text = question[\"question\"]\n",
    "        correct_answer = question[\"label\"]\n",
    "\n",
    "        # Build CoT-style prompt\n",
    "        prompt = build_cot_prompt(question)\n",
    "\n",
    "        # Baseline CoT response\n",
    "        baseline_answer = call_openai_api(prompt)\n",
    "\n",
    "        # Extract initial answer letter from baseline\n",
    "        initial_answer_letter = extract_answer_letter(baseline_answer)\n",
    "\n",
    "        # Plan verifications\n",
    "        verification_qs_raw = plan_verification_questions(question_text, baseline_answer)\n",
    "        verification_questions = [line.strip(\"- \").strip() for line in verification_qs_raw.split(\"\\n\") if line.strip()]\n",
    "\n",
    "        # Execute verifications\n",
    "        verifications = execute_verifications(verification_questions)\n",
    "\n",
    "        # Final revised answer\n",
    "        final_answer = generate_final_verified_answer(\n",
    "            question_text, baseline_answer, verifications, question[\"alternatives\"]\n",
    "        )\n",
    "\n",
    "        # Extract answer letter (A–E)\n",
    "        predicted = extract_answer_letter(final_answer)\n",
    "\n",
    "        # Record result\n",
    "        cove_results.append({\n",
    "            \"id\": question[\"id\"],\n",
    "            \"question\": question_text,\n",
    "            \"ground_truth\": correct_answer,\n",
    "            \"predicted\": predicted,\n",
    "            \"correct\": predicted == correct_answer,\n",
    "            \"baseline_answer\": baseline_answer,\n",
    "            \"initial_answer\": initial_answer_letter,\n",
    "            \"final_answer\": final_answer,\n",
    "            \"verification_qs\": verification_questions,\n",
    "            \"verification_a\": verifications,\n",
    "            \"subject\": question.get(\"subject\", \"unknown\")\n",
    "        })\n",
    "\n",
    "        print(f\"[{i+1}/{len(data)}] ✅ Predicted: {predicted} | Correct: {correct_answer}\")\n",
    "\n",
    "    except Exception as e:\n",
    "        print(f\"[{i+1}/{len(data)}] ❌ Error: {e}\")\n",
    "        cove_results.append({\n",
    "            \"index\": i,\n",
    "            \"question\": question_text,\n",
    "            \"true_answer\": correct_answer,\n",
    "            \"predicted\": None,\n",
    "            \"correct\": False,\n",
    "            \"error\": str(e)\n",
    "        })\n"
   ]
  },
  {
   "cell_type": "markdown",
   "id": "982e9274-31c8-4e77-be57-12498bbd4149",
   "metadata": {},
   "source": [
    "#### CoVe results"
   ]
  },
  {
   "cell_type": "code",
   "execution_count": null,
   "id": "b13c1c1c-b41c-4893-92c7-a00a9ffb2b4a",
   "metadata": {
    "scrolled": true
   },
   "outputs": [],
   "source": [
    "df_cove = pd.DataFrame(cove_results)\n",
    "save_results_csv(df_cove, method_name=\"cove\")\n",
    "df_cove"
   ]
  },
  {
   "cell_type": "markdown",
   "id": "7a43767e-0f01-4a15-8706-3fcde295c180",
   "metadata": {
    "jp-MarkdownHeadingCollapsed": true
   },
   "source": [
    "### Test Self-Refine"
   ]
  },
  {
   "cell_type": "markdown",
   "id": "c392c8c9-7db3-4c67-ad26-738847846abd",
   "metadata": {
    "jp-MarkdownHeadingCollapsed": true
   },
   "source": [
    "#### Test Self-Refine with a single question "
   ]
  },
  {
   "cell_type": "code",
   "execution_count": null,
   "id": "dcf4d4a0-e0a0-4629-a369-fb04a9e516f2",
   "metadata": {
    "scrolled": true
   },
   "outputs": [],
   "source": [
    "q = data[0]\n",
    "final_response, trace = self_refine_enem(q)\n",
    "predicted = extract_answer_letter(final_response)\n",
    "\n",
    "print(\"Prompt inicial (iteração 0):\\n\", build_cot_prompt(q))\n",
    "print(\"\\nResposta final após refinamento:\\n\", final_response)\n",
    "print(f\"\\nAlternativa prevista: {predicted} | Gabarito: {q['label']}\")\n",
    "\n",
    "print(\"\\nHistórico de iterações:\")\n",
    "for i, (resp, fb) in enumerate(trace):\n",
    "    print(f\"\\n--- Iteração {i} ---\")\n",
    "    print(\"Resposta:\", resp)\n",
    "    if fb:\n",
    "        print(\"Feedback:\", fb)\n"
   ]
  },
  {
   "cell_type": "markdown",
   "id": "f52cd24f-e8e4-448f-a033-6cbdafcca8c2",
   "metadata": {
    "jp-MarkdownHeadingCollapsed": true
   },
   "source": [
    "#### Self-Refine evaluation loop over sample questions"
   ]
  },
  {
   "cell_type": "code",
   "execution_count": null,
   "id": "c4208a20-0ec9-4228-a19f-818de5d0c933",
   "metadata": {
    "scrolled": true
   },
   "outputs": [],
   "source": [
    "for i, question in enumerate(data):\n",
    "    try:\n",
    "        question_text = question[\"question\"]\n",
    "        correct_answer = question[\"label\"]\n",
    "\n",
    "        # 1. Run SELF-REFINE\n",
    "        final_answer, trace = self_refine_enem(question, max_iters=3)\n",
    "        predicted = extract_answer_letter(final_answer)\n",
    "\n",
    "        # 2. Extract intermediate answers from trace\n",
    "        answer_sequence = []\n",
    "        baseline_answer = None\n",
    "        \n",
    "        for step, (response, feedback) in enumerate(trace):  # FIXED HERE\n",
    "            try:\n",
    "                letter = extract_answer_letter(response)\n",
    "            except Exception:\n",
    "                letter = None\n",
    "            answer_sequence.append(letter)\n",
    "            if step == 0:\n",
    "                baseline_answer = response\n",
    "\n",
    "        # 3. Record result\n",
    "        self_refine_results.append({\n",
    "            \"id\": question[\"id\"],\n",
    "            \"question\": question_text,\n",
    "            \"ground_truth\": correct_answer,\n",
    "            \"predicted\": predicted,\n",
    "            \"correct\": predicted == correct_answer,\n",
    "            \"baseline_answer\": baseline_answer,\n",
    "            \"final_answer\": final_answer,\n",
    "            \"answer_sequence\": answer_sequence, \n",
    "            \"trace\": trace,\n",
    "            \"subject\": question.get(\"subject\", \"unknown\")\n",
    "        })\n",
    "\n",
    "        print(f\"[{i+1}/{len(data)}] ✅ Predicted: {predicted} | Correct: {correct_answer}\")\n",
    "\n",
    "    except Exception as e:\n",
    "        print(f\"[{i+1}/{len(data)}] ❌ Error: {e}\")\n",
    "        self_refine_results.append({\n",
    "            \"index\": i,\n",
    "            \"question\": question.get(\"question\", \"\"),\n",
    "            \"true_answer\": question.get(\"label\", \"\"),\n",
    "            \"predicted\": None,\n",
    "            \"correct\": False,\n",
    "            \"error\": str(e),\n",
    "            \"subject\": question.get(\"subject\", \"unknown\")\n",
    "        })\n"
   ]
  },
  {
   "cell_type": "markdown",
   "id": "9d523413-0ca6-4a3c-88a7-12ace060a81b",
   "metadata": {},
   "source": [
    "#### Self-Refine Results"
   ]
  },
  {
   "cell_type": "code",
   "execution_count": null,
   "id": "7cb3bf12-1a47-45a0-927e-204330d84f4a",
   "metadata": {
    "scrolled": true
   },
   "outputs": [],
   "source": [
    "df_self_refine = pd.DataFrame(self_refine_results)\n",
    "save_results_csv(df_self_refine, method_name=\"self-refine\")\n",
    "df_self_refine"
   ]
  },
  {
   "cell_type": "markdown",
   "id": "4afdd6ff-b65e-463c-994b-085c1c475e81",
   "metadata": {},
   "source": [
    "## Analyse Results "
   ]
  },
  {
   "cell_type": "markdown",
   "id": "96d8ba7e-44fd-4c55-b7bd-6940aa309e1a",
   "metadata": {},
   "source": [
    "### Overall accuracy "
   ]
  },
  {
   "cell_type": "code",
   "execution_count": null,
   "id": "573c7445-7edb-43c3-b521-9546bbf2002d",
   "metadata": {
    "jupyter": {
     "source_hidden": true
    }
   },
   "outputs": [],
   "source": [
    "def compute_summary(df, method_name):\n",
    "    total = len(df)\n",
    "    correct = df['correct'].sum()\n",
    "    accuracy = correct / total\n",
    "    return {\n",
    "        'Method': method_name,\n",
    "        'Total Questions': total,\n",
    "        'Correct': correct,\n",
    "        'Accuracy (%)': round(accuracy * 100, 2)\n",
    "    }    "
   ]
  },
  {
   "cell_type": "code",
   "execution_count": null,
   "id": "dee6050e-7f2f-4bdf-b4be-6d88980ca450",
   "metadata": {
    "jupyter": {
     "source_hidden": true
    }
   },
   "outputs": [],
   "source": [
    "overall = pd.DataFrame([\n",
    "    compute_summary(df_cot, \"CoT\"),\n",
    "    compute_summary(df_cove, \"CoVe\"),\n",
    "    compute_summary(df_self_refine, \"SELF-REFINE\")\n",
    "])\n",
    "\n",
    "print(overall)"
   ]
  },
  {
   "cell_type": "markdown",
   "id": "79fab0b6-bdd7-41e4-89f5-ef63f45a26c3",
   "metadata": {},
   "source": [
    "### Subject-wise accuracy"
   ]
  },
  {
   "cell_type": "code",
   "execution_count": null,
   "id": "28d96cbe-0ecb-49ad-a900-f52bf0c9556d",
   "metadata": {},
   "outputs": [],
   "source": [
    "def subject_accuracy(df, method_name):\n",
    "    grouped = df.groupby(\"subject\")[\"correct\"].agg([\"count\", \"sum\"])\n",
    "    grouped[\"Accuracy (%)\"] = round(grouped[\"sum\"] / grouped[\"count\"] * 100, 2)\n",
    "    grouped[\"Method\"] = method_name\n",
    "    return grouped.reset_index()[[\"subject\", \"Method\", \"Accuracy (%)\"]]"
   ]
  },
  {
   "cell_type": "code",
   "execution_count": null,
   "id": "d2b611dc-ff58-4d4f-a663-3c4556d9db08",
   "metadata": {
    "jupyter": {
     "source_hidden": true
    }
   },
   "outputs": [],
   "source": [
    "subject_cot = subject_accuracy(df_cot, \"CoT\")\n",
    "subject_cove = subject_accuracy(df_cove, \"CoVe\")\n",
    "subject_self = subject_accuracy(df_self_refine, \"SELF-REFINE\")\n",
    "\n",
    "subject_summary = pd.concat([subject_cot, subject_cove, subject_self], ignore_index=True)\n",
    "\n",
    "print(subject_summary)"
   ]
  },
  {
   "cell_type": "markdown",
   "id": "fb749ee6-e172-45a6-a191-88eff76de370",
   "metadata": {},
   "source": [
    "#### Visualize results"
   ]
  },
  {
   "cell_type": "code",
   "execution_count": null,
   "id": "e497c5e6-81c8-40f4-86c0-67fea83b2f1e",
   "metadata": {},
   "outputs": [],
   "source": [
    "import matplotlib.pyplot as plt\n",
    "import seaborn as sns\n",
    "\n",
    "# Rename subjects for clarity in the plot\n",
    "subject_summary[\"subject\"] = subject_summary[\"subject\"].replace({\n",
    "    \"Linguagens, Códigos e suas Tecnologias\": \"Linguagens\",\n",
    "    \"Ciências da Natureza e suas Tecnologias\": \"Ciencias da Natureza\",\n",
    "    \"Ciências Humanas e suas Tecnologias\": \"Ciencias Humanas\",\n",
    "    \"Matemática e suas Tecnologias\": \"Matematica\"\n",
    "})\n",
    "\n",
    "# Plot\n",
    "plt.figure(figsize=(10, 6))\n",
    "sns.barplot(\n",
    "    data=subject_summary,\n",
    "    x=\"subject\",\n",
    "    y=\"Accuracy (%)\",\n",
    "    hue=\"Method\",\n",
    "    palette=\"Set2\"\n",
    ")\n",
    "\n",
    "plt.title(\"Subject-wise Accuracy by Method\")\n",
    "plt.ylabel(\"Accuracy (%)\")\n",
    "plt.xlabel(\"Subject\")\n",
    "plt.ylim(0, 100)\n",
    "plt.xticks(rotation=15)\n",
    "plt.legend(title=\"Method\")\n",
    "plt.tight_layout()\n",
    "plt.show()\n"
   ]
  },
  {
   "cell_type": "markdown",
   "id": "87b062fe-5e1c-4867-b487-a29b628faa2c",
   "metadata": {},
   "source": [
    "### Regressions: Model changed a correct answer to a wrong one\n"
   ]
  },
  {
   "cell_type": "markdown",
   "id": "0baac4a9-fa33-4637-93eb-81c343ea00ec",
   "metadata": {},
   "source": [
    "#### CoVe"
   ]
  },
  {
   "cell_type": "code",
   "execution_count": null,
   "id": "21bc40f4-fad1-4486-ac49-cca154ce2187",
   "metadata": {},
   "outputs": [],
   "source": [
    "if \"initial_answer\" not in df_cove.columns:\n",
    "    df_cove[\"initial_answer\"] = df_cove[\"baseline_answer\"].apply(extract_answer_letter)\n",
    "\n",
    "regressions = df_cove[\n",
    "    (df_cove[\"initial_answer\"] == df_cove[\"ground_truth\"]) &\n",
    "    (df_cove[\"predicted\"] != df_cove[\"ground_truth\"])\n",
    "]"
   ]
  },
  {
   "cell_type": "code",
   "execution_count": null,
   "id": "78a9750d-217a-4a76-b013-0551351a6b46",
   "metadata": {
    "jupyter": {
     "source_hidden": true
    },
    "scrolled": true
   },
   "outputs": [],
   "source": [
    "for _, row in regressions.iterrows():\n",
    "    print(f\"ID: {row['id']}, Initial: {row['initial_answer']} ✅, Final: {row['predicted']} ❌\")\n",
    "    print(f\"Q: {row['question']}\")\n",
    "    print(f\"Baseline Answer:\\n{row['baseline_answer']}\")\n",
    "    print(\"-\" * 25)\n",
    "    print(f\"Final Answer:\\n{row['final_answer']}\")\n",
    "    print(\"-\" * 50)\n"
   ]
  },
  {
   "cell_type": "code",
   "execution_count": null,
   "id": "833b8fa4-ad62-48f0-9c54-e275afee7fb0",
   "metadata": {},
   "outputs": [],
   "source": [
    "total = len(df_cove)\n",
    "n_regressions = len(regressions)\n",
    "print(f\"Regressions: {n_regressions} out of {total} ({n_regressions/total:.2%})\")"
   ]
  },
  {
   "cell_type": "markdown",
   "id": "ee8caf5a-8213-46c4-9db0-80bd73426818",
   "metadata": {},
   "source": [
    "#### Self-Refine"
   ]
  },
  {
   "cell_type": "code",
   "execution_count": null,
   "id": "44625fd0-4e81-42b9-a1e5-ce3d6951a096",
   "metadata": {},
   "outputs": [],
   "source": [
    "df_self_refine[\"initial_answer\"] = df_self_refine[\"answer_sequence\"].apply(lambda seq: seq[0] if seq and len(seq) > 0 else None)\n"
   ]
  },
  {
   "cell_type": "markdown",
   "id": "072ecddf-7046-4515-b397-65f7d59edee0",
   "metadata": {},
   "source": [
    "### Improvements: Model fixed its answer"
   ]
  },
  {
   "cell_type": "markdown",
   "id": "c9a59646-2fc3-4252-b15a-f98c699b939d",
   "metadata": {},
   "source": [
    "#### CoVe"
   ]
  },
  {
   "cell_type": "code",
   "execution_count": null,
   "id": "958a680b-e041-4ae7-9be0-ce1e937cb4d8",
   "metadata": {},
   "outputs": [],
   "source": [
    "improvements = df_cove[\n",
    "    (df_cove[\"initial_answer\"] != df_cove[\"ground_truth\"]) &\n",
    "    (df_cove[\"predicted\"] == df_cove[\"ground_truth\"])\n",
    "]"
   ]
  },
  {
   "cell_type": "code",
   "execution_count": null,
   "id": "aa9ee606-65be-46de-8bf2-fed6c3e46237",
   "metadata": {
    "scrolled": true
   },
   "outputs": [],
   "source": [
    "for _, row in improvements.iterrows():\n",
    "    print(f\"ID: {row['id']}, Initial: {row['initial_answer']} ❌, Final: {row['predicted']} ✅\")\n",
    "    print(f\"Q: {row['question']}\")\n",
    "    print(f\"Baseline:\\n{row['baseline_answer']}\")\n",
    "    print(f\"Final:\\n{row['final_answer']}\")\n",
    "    print(\"-\" * 50)"
   ]
  },
  {
   "cell_type": "code",
   "execution_count": null,
   "id": "f50bcf75-012e-4b1f-8858-21fb4e7175c4",
   "metadata": {},
   "outputs": [],
   "source": []
  },
  {
   "cell_type": "code",
   "execution_count": null,
   "id": "c542e66b-88c8-4a83-8ea0-50f933dd728d",
   "metadata": {},
   "outputs": [],
   "source": []
  }
 ],
 "metadata": {
  "kernelspec": {
   "display_name": "Python (bthesis)",
   "language": "python",
   "name": "bthesis"
  },
  "language_info": {
   "codemirror_mode": {
    "name": "ipython",
    "version": 3
   },
   "file_extension": ".py",
   "mimetype": "text/x-python",
   "name": "python",
   "nbconvert_exporter": "python",
   "pygments_lexer": "ipython3",
   "version": "3.13.2"
  }
 },
 "nbformat": 4,
 "nbformat_minor": 5
}
