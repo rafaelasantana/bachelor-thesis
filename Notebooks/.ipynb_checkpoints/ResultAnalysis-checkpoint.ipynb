{
 "cells": [
  {
   "cell_type": "markdown",
   "id": "84dacb74-b9aa-4ec4-b3c0-4c346c6931a4",
   "metadata": {},
   "source": [
    "## Load results for each method"
   ]
  },
  {
   "cell_type": "code",
   "execution_count": 472,
   "id": "bc00670c-4dd2-4a64-b879-bf9969332ee5",
   "metadata": {},
   "outputs": [],
   "source": [
    "import pandas as pd\n",
    "\n",
    "# Clear previous results\n",
    "df_cot = []\n",
    "df_cove = []\n",
    "df_self_refine = []\n",
    "\n",
    "# Load results\n",
    "df_cot = pd.read_csv(\"results/cot_few-shot/cot_few-shot_results_2025-03-27_13-55-58.csv\")\n",
    "df_cove = pd.read_csv(\"results/cove_few-shot/cove_few-shot_results_2025-03-27_14-42-13.csv\")\n",
    "df_self_refine = pd.read_csv(\"results/self-refine_few-shot/self-refine_few-shot_results_2025-03-27_15-08-17.csv\")"
   ]
  },
  {
   "cell_type": "markdown",
   "id": "ab7c7ec3-79bd-4de6-8c52-4f76fa1f3df7",
   "metadata": {},
   "source": [
    "### Rename columns before merging"
   ]
  },
  {
   "cell_type": "code",
   "execution_count": 473,
   "id": "5e3a6348-b552-42ee-a893-2158141b9ea2",
   "metadata": {},
   "outputs": [],
   "source": [
    "df_cot = df_cot.rename(columns={\"predicted\": \"predicted_cot\"})\n",
    "df_cove = df_cove.rename(columns={\"predicted\": \"predicted_cove\"})\n",
    "df_self_refine = df_self_refine.rename(columns={\"predicted\": \"predicted_sr\"})"
   ]
  },
  {
   "cell_type": "markdown",
   "id": "28206675-7442-4908-bf3e-d55f4665e80e",
   "metadata": {},
   "source": [
    "### Merge results on question ID"
   ]
  },
  {
   "cell_type": "code",
   "execution_count": 474,
   "id": "481eea2d-68da-4ad6-b9a1-29d3bde2c8a4",
   "metadata": {},
   "outputs": [],
   "source": [
    "df_all = df_cot[[\"id\", \"subject\", \"ground_truth\", \"predicted_cot\"]].merge(\n",
    "    df_cove[[\"id\", \"predicted_cove\"]],\n",
    "    on=\"id\"\n",
    ").merge(\n",
    "    df_self_refine[[\"id\", \"predicted_sr\"]],\n",
    "    on=\"id\"\n",
    ")"
   ]
  },
  {
   "cell_type": "markdown",
   "id": "12db8b9a-984c-4105-b45a-ccfaf2d74b24",
   "metadata": {},
   "source": [
    "## Calculate Accuracy"
   ]
  },
  {
   "cell_type": "markdown",
   "id": "b9dfa108-8002-4c12-8566-417bddff45a5",
   "metadata": {},
   "source": [
    "### Add correctness flags for each method"
   ]
  },
  {
   "cell_type": "code",
   "execution_count": 475,
   "id": "1197b45b-7988-4c75-93c9-f3d1fc382436",
   "metadata": {},
   "outputs": [],
   "source": [
    "df_all[\"correct_cot\"] = df_all[\"predicted_cot\"] == df_all[\"ground_truth\"]\n",
    "df_all[\"correct_cove\"] = df_all[\"predicted_cove\"] == df_all[\"ground_truth\"]\n",
    "df_all[\"correct_sr\"] = df_all[\"predicted_sr\"] == df_all[\"ground_truth\"]"
   ]
  },
  {
   "cell_type": "markdown",
   "id": "b5f99f1e-d021-4f2b-b1d6-ff0bff71c0ef",
   "metadata": {},
   "source": [
    "### Calculate accuracy for each method"
   ]
  },
  {
   "cell_type": "code",
   "execution_count": 476,
   "id": "a2b809a4-8107-411f-89c3-df6688d9c479",
   "metadata": {},
   "outputs": [
    {
     "data": {
      "text/html": [
       "<div>\n",
       "<style scoped>\n",
       "    .dataframe tbody tr th:only-of-type {\n",
       "        vertical-align: middle;\n",
       "    }\n",
       "\n",
       "    .dataframe tbody tr th {\n",
       "        vertical-align: top;\n",
       "    }\n",
       "\n",
       "    .dataframe thead th {\n",
       "        text-align: right;\n",
       "    }\n",
       "</style>\n",
       "<table border=\"1\" class=\"dataframe\">\n",
       "  <thead>\n",
       "    <tr style=\"text-align: right;\">\n",
       "      <th></th>\n",
       "      <th>CoT</th>\n",
       "      <th>CoVe</th>\n",
       "      <th>Self-Refine</th>\n",
       "    </tr>\n",
       "    <tr>\n",
       "      <th>subject</th>\n",
       "      <th></th>\n",
       "      <th></th>\n",
       "      <th></th>\n",
       "    </tr>\n",
       "  </thead>\n",
       "  <tbody>\n",
       "    <tr>\n",
       "      <th>Ciências Humanas e suas Tecnologias</th>\n",
       "      <td>0.978</td>\n",
       "      <td>0.911</td>\n",
       "      <td>0.933</td>\n",
       "    </tr>\n",
       "    <tr>\n",
       "      <th>Ciências da Natureza e suas Tecnologias</th>\n",
       "      <td>0.533</td>\n",
       "      <td>0.556</td>\n",
       "      <td>0.556</td>\n",
       "    </tr>\n",
       "    <tr>\n",
       "      <th>Linguagens, Códigos e suas Tecnologias</th>\n",
       "      <td>0.756</td>\n",
       "      <td>0.844</td>\n",
       "      <td>0.800</td>\n",
       "    </tr>\n",
       "    <tr>\n",
       "      <th>Matemática e suas Tecnologias</th>\n",
       "      <td>0.422</td>\n",
       "      <td>0.378</td>\n",
       "      <td>0.511</td>\n",
       "    </tr>\n",
       "    <tr>\n",
       "      <th>General Accuracy</th>\n",
       "      <td>0.672</td>\n",
       "      <td>0.672</td>\n",
       "      <td>0.700</td>\n",
       "    </tr>\n",
       "  </tbody>\n",
       "</table>\n",
       "</div>"
      ],
      "text/plain": [
       "                                           CoT   CoVe  Self-Refine\n",
       "subject                                                           \n",
       "Ciências Humanas e suas Tecnologias      0.978  0.911        0.933\n",
       "Ciências da Natureza e suas Tecnologias  0.533  0.556        0.556\n",
       "Linguagens, Códigos e suas Tecnologias   0.756  0.844        0.800\n",
       "Matemática e suas Tecnologias            0.422  0.378        0.511\n",
       "General Accuracy                         0.672  0.672        0.700"
      ]
     },
     "metadata": {},
     "output_type": "display_data"
    }
   ],
   "source": [
    "# Calculate subject-wise accuracy\n",
    "subject_acc = (\n",
    "    df_all.groupby(\"subject\")[[\"correct_cot\", \"correct_cove\", \"correct_sr\"]]\n",
    "    .mean()\n",
    "    .round(3)\n",
    "    .rename(columns={\n",
    "        \"correct_cot\": \"CoT\",\n",
    "        \"correct_cove\": \"CoVe\",\n",
    "        \"correct_sr\": \"Self-Refine\"\n",
    "    })\n",
    ")\n",
    "\n",
    "# Calculate general accuracy\n",
    "general_accuracy = df_all[[\"correct_cot\", \"correct_cove\", \"correct_sr\"]].mean().round(3)\n",
    "general_accuracy.index = [\"CoT\", \"CoVe\", \"Self-Refine\"]\n",
    "\n",
    "# Append general accuracy as a new row\n",
    "subject_acc.loc[\"General Accuracy\"] = general_accuracy\n",
    "\n",
    "display(subject_acc)"
   ]
  },
  {
   "cell_type": "markdown",
   "id": "f7a12e7e-1595-4d0d-adee-0d0365b4199b",
   "metadata": {},
   "source": [
    "### Visualize Accuracy per Subject"
   ]
  },
  {
   "cell_type": "code",
   "execution_count": 477,
   "id": "995a5044-8c92-4cdc-84b8-6b705c8e34f3",
   "metadata": {},
   "outputs": [
    {
     "data": {
      "image/png": "[encoded data removed]",
      "text/plain": [
       "<Figure size 1000x600 with 1 Axes>"
      ]
     },
     "metadata": {},
     "output_type": "display_data"
    }
   ],
   "source": [
    "import seaborn as sns\n",
    "import matplotlib.pyplot as plt\n",
    "\n",
    "# Drop the general accuracy row for subject-wise plot\n",
    "plot_df = subject_acc.drop(\"General Accuracy\").reset_index().melt(\n",
    "    id_vars=\"subject\", var_name=\"Method\", value_name=\"Accuracy\"\n",
    ")\n",
    "\n",
    "# Translate subjects to English\n",
    "subject_translation = {\n",
    "    \"Matemática e suas Tecnologias\": \"Mathematics\",\n",
    "    \"Linguagens, Códigos e suas Tecnologias\": \"Languages\",\n",
    "    \"Ciências Humanas e suas Tecnologias\": \"Human Sciences\",\n",
    "    \"Ciências da Natureza e suas Tecnologias\": \"Natural Sciences\"\n",
    "}\n",
    "plot_df[\"subject\"] = plot_df[\"subject\"].map(subject_translation)\n",
    "\n",
    "# Convert to percentage\n",
    "plot_df[\"Accuracy\"] *= 100\n",
    "\n",
    "# Plot\n",
    "plt.figure(figsize=(10, 6))\n",
    "sns.barplot(data=plot_df, x=\"subject\", y=\"Accuracy\", hue=\"Method\")\n",
    "\n",
    "plt.title(\"Subject-wise Accuracy\")\n",
    "plt.ylim(0, 100)\n",
    "plt.ylabel(\"Accuracy (%)\")\n",
    "plt.xlabel(\"Subject\")\n",
    "plt.legend(title=\"Method\")\n",
    "plt.tight_layout()\n",
    "plt.show()"
   ]
  },
  {
   "cell_type": "markdown",
   "id": "3452e519-7eb7-444b-8353-8ccbe7c60680",
   "metadata": {},
   "source": [
    "## Analyse effects of feedback iterations"
   ]
  },
  {
   "cell_type": "markdown",
   "id": "97c64c53-2e2e-400f-93cd-4ce17f2db51f",
   "metadata": {},
   "source": [
    "### CoVe"
   ]
  },
  {
   "cell_type": "markdown",
   "id": "72354625-40a9-4f13-84ab-1e022b0af836",
   "metadata": {
    "jp-MarkdownHeadingCollapsed": true
   },
   "source": [
    "#### Define regressions, improvements and neutral changes"
   ]
  },
  {
   "cell_type": "markdown",
   "id": "96bd0fa8-7d1e-423b-8b10-32c941d8b066",
   "metadata": {},
   "source": [
    "Model changed answer after feedback, ...\n",
    "\n",
    "**Improvement**: Initial answer was wrong, final answer was correct\n",
    "\n",
    "**Regression**: Initial answer was correct, final answer was wrong\n",
    "\n",
    "**Neutral**: Nor initial nor final answer were correct"
   ]
  },
  {
   "cell_type": "code",
   "execution_count": 515,
   "id": "5178e01e-63d4-4e94-839b-96c16e97040e",
   "metadata": {},
   "outputs": [],
   "source": [
    "# Define if the answer changed\n",
    "df_cove[\"changed_initial_answer\"] = (\n",
    "    df_cove[\"initial_answer\"] != df_cove[\"predicted_cove\"]\n",
    ")\n",
    "\n",
    "# Assign improvement: changed → became correct\n",
    "df_cove.loc[\n",
    "    df_cove[\"changed_initial_answer\"] &\n",
    "    (df_cove[\"initial_answer\"] != df_cove[\"ground_truth\"]) &\n",
    "    (df_cove[\"predicted_cove\"] == df_cove[\"ground_truth\"]),\n",
    "    \"improvement\"\n",
    "] = True\n",
    "\n",
    "# Assign regression: changed → became wrong (was correct initially)\n",
    "df_cove.loc[\n",
    "    df_cove[\"changed_initial_answer\"] &\n",
    "    ~df_cove[\"improvement\"] &\n",
    "    (df_cove[\"initial_answer\"] == df_cove[\"ground_truth\"]) &\n",
    "    (df_cove[\"predicted_cove\"] != df_cove[\"ground_truth\"]),\n",
    "    \"regression\"\n",
    "] = True\n",
    "\n",
    "# Assign neutral: changed → still wrong, and initial wasn't correct either\n",
    "df_cove.loc[\n",
    "    df_cove[\"changed_initial_answer\"] &\n",
    "    ~df_cove[\"improvement\"] &\n",
    "    ~df_cove[\"regression\"] &\n",
    "    (df_cove[\"initial_answer\"] != df_cove[\"ground_truth\"]) &\n",
    "    (df_cove[\"predicted_cove\"] != df_cove[\"ground_truth\"]),\n",
    "    \"neutral_change\"\n",
    "] = True\n"
   ]
  },
  {
   "cell_type": "code",
   "execution_count": 516,
   "id": "e00a0b89-f619-4690-b9b1-2e18526e1a19",
   "metadata": {
    "jupyter": {
     "source_hidden": true
    },
    "scrolled": true
   },
   "outputs": [
    {
     "data": {
      "text/html": [
       "<div>\n",
       "<style scoped>\n",
       "    .dataframe tbody tr th:only-of-type {\n",
       "        vertical-align: middle;\n",
       "    }\n",
       "\n",
       "    .dataframe tbody tr th {\n",
       "        vertical-align: top;\n",
       "    }\n",
       "\n",
       "    .dataframe thead th {\n",
       "        text-align: right;\n",
       "    }\n",
       "</style>\n",
       "<table border=\"1\" class=\"dataframe\">\n",
       "  <thead>\n",
       "    <tr style=\"text-align: right;\">\n",
       "      <th></th>\n",
       "      <th>subject</th>\n",
       "      <th>total_questions</th>\n",
       "      <th>changes</th>\n",
       "      <th>neutral_change</th>\n",
       "      <th>regressions</th>\n",
       "      <th>improvements</th>\n",
       "    </tr>\n",
       "  </thead>\n",
       "  <tbody>\n",
       "    <tr>\n",
       "      <th>0</th>\n",
       "      <td>Ciências Humanas e suas Tecnologias</td>\n",
       "      <td>45</td>\n",
       "      <td>0</td>\n",
       "      <td>0</td>\n",
       "      <td>0</td>\n",
       "      <td>0</td>\n",
       "    </tr>\n",
       "    <tr>\n",
       "      <th>1</th>\n",
       "      <td>Ciências da Natureza e suas Tecnologias</td>\n",
       "      <td>45</td>\n",
       "      <td>3</td>\n",
       "      <td>2</td>\n",
       "      <td>1</td>\n",
       "      <td>0</td>\n",
       "    </tr>\n",
       "    <tr>\n",
       "      <th>2</th>\n",
       "      <td>Linguagens, Códigos e suas Tecnologias</td>\n",
       "      <td>45</td>\n",
       "      <td>1</td>\n",
       "      <td>1</td>\n",
       "      <td>0</td>\n",
       "      <td>0</td>\n",
       "    </tr>\n",
       "    <tr>\n",
       "      <th>3</th>\n",
       "      <td>Matemática e suas Tecnologias</td>\n",
       "      <td>45</td>\n",
       "      <td>11</td>\n",
       "      <td>8</td>\n",
       "      <td>3</td>\n",
       "      <td>0</td>\n",
       "    </tr>\n",
       "  </tbody>\n",
       "</table>\n",
       "</div>"
      ],
      "text/plain": [
       "                                   subject  total_questions  changes  \\\n",
       "0      Ciências Humanas e suas Tecnologias               45        0   \n",
       "1  Ciências da Natureza e suas Tecnologias               45        3   \n",
       "2   Linguagens, Códigos e suas Tecnologias               45        1   \n",
       "3            Matemática e suas Tecnologias               45       11   \n",
       "\n",
       "   neutral_change  regressions  improvements  \n",
       "0               0            0             0  \n",
       "1               2            1             0  \n",
       "2               1            0             0  \n",
       "3               8            3             0  "
      ]
     },
     "metadata": {},
     "output_type": "display_data"
    }
   ],
   "source": [
    "subject_summary_cove = df_cove.groupby(\"subject\").agg(\n",
    "    total_questions=(\"id\", \"count\"),\n",
    "    changes=(\"changed_initial_answer\", \"sum\"),\n",
    "    neutral_change=(\"neutral_change\", \"sum\"),\n",
    "    regressions=(\"regression\", \"sum\"),\n",
    "    improvements=(\"improvement\", \"sum\")\n",
    ").reset_index()\n",
    "\n",
    "display(subject_summary_cove)"
   ]
  },
  {
   "cell_type": "markdown",
   "id": "d90ae254-b2e2-4809-961e-ea0b2993c5c0",
   "metadata": {},
   "source": [
    "#### 📊 CoVe – Regressions, Improvements and Neutral Changes per Subject"
   ]
  },
  {
   "cell_type": "code",
   "execution_count": 517,
   "id": "0518b7a8-2ce3-469c-a90e-f16effc60f2e",
   "metadata": {
    "jupyter": {
     "source_hidden": true
    }
   },
   "outputs": [
    {
     "data": {
      "image/png": "[encoded data removed]",
      "text/plain": [
       "<Figure size 1200x600 with 1 Axes>"
      ]
     },
     "metadata": {},
     "output_type": "display_data"
    }
   ],
   "source": [
    "import seaborn as sns\n",
    "import matplotlib.pyplot as plt\n",
    "\n",
    "# Reshape to long format\n",
    "subject_summary_long = subject_summary_cove.melt(\n",
    "    id_vars=\"subject\",\n",
    "    value_vars=[\"improvements\", \"regressions\", \"neutral_change\"],\n",
    "    var_name=\"Change Type\",\n",
    "    value_name=\"Count\"\n",
    ")\n",
    "\n",
    "# Translate subjects to English\n",
    "subject_translation = {\n",
    "    \"Matemática e suas Tecnologias\": \"Mathematics\",\n",
    "    \"Linguagens, Códigos e suas Tecnologias\": \"Languages\",\n",
    "    \"Ciências Humanas e suas Tecnologias\": \"Human Sciences\",\n",
    "    \"Ciências da Natureza e suas Tecnologias\": \"Natural Sciences\"\n",
    "}\n",
    "subject_summary_long[\"subject\"] = subject_summary_long[\"subject\"].map(subject_translation)\n",
    "\n",
    "# Plot\n",
    "plt.figure(figsize=(12, 6))\n",
    "sns.barplot(\n",
    "    data=subject_summary_long,\n",
    "    x=\"subject\",\n",
    "    y=\"Count\",\n",
    "    hue=\"Change Type\",\n",
    "    palette=\"Set2\"\n",
    ")\n",
    "\n",
    "plt.title(\"Changes in Initial Answer by Subject (CoVe)\")\n",
    "plt.ylabel(\"Number of Questions\")\n",
    "plt.xlabel(\"Subject\")\n",
    "plt.tight_layout()\n",
    "plt.show()"
   ]
  },
  {
   "cell_type": "markdown",
   "id": "0ecec661-430f-4357-9965-6c4faff5bb02",
   "metadata": {},
   "source": [
    "#### 📊 CoVe – Changed vs Unchanged Initial Answer"
   ]
  },
  {
   "cell_type": "code",
   "execution_count": 520,
   "id": "1f6a1e6b-6518-4559-a11a-b8a618815efe",
   "metadata": {},
   "outputs": [],
   "source": [
    "df_cove[\"correct\"] = df_cove[\"predicted_cove\"] == df_cove[\"ground_truth\"]\n",
    "\n",
    "subject_accuracy_cove = (\n",
    "    df_cove\n",
    "    .groupby([\"subject\", \"changed_initial_answer\"])[\"correct\"]\n",
    "    .mean()\n",
    "    .reset_index()\n",
    ")\n",
    "\n",
    "# Optional renaming\n",
    "subject_accuracy_cove[\"changed_initial_answer\"] = subject_accuracy_cove[\"changed_initial_answer\"].map({\n",
    "    True: \"Changed\",\n",
    "    False: \"Unchanged\"\n",
    "})\n",
    "subject_accuracy_cove.rename(columns={\"correct\": \"Accuracy\"}, inplace=True)\n",
    "\n",
    "subject_translation = {\n",
    "    \"Matemática e suas Tecnologias\": \"Mathematics\",\n",
    "    \"Linguagens, Códigos e suas Tecnologias\": \"Languages\",\n",
    "    \"Ciências Humanas e suas Tecnologias\": \"Human Sciences\",\n",
    "    \"Ciências da Natureza e suas Tecnologias\": \"Natural Sciences\"\n",
    "}\n",
    "subject_accuracy_cove[\"subject\"] = subject_accuracy_cove[\"subject\"].map(subject_translation)\n"
   ]
  },
  {
   "cell_type": "code",
   "execution_count": 521,
   "id": "e1831b35-f990-4b95-ba00-7f488fb47308",
   "metadata": {},
   "outputs": [
    {
     "data": {
      "image/png": "[encoded data removed]",
      "text/plain": [
       "<Figure size 1000x600 with 1 Axes>"
      ]
     },
     "metadata": {},
     "output_type": "display_data"
    }
   ],
   "source": [
    "import seaborn as sns\n",
    "import matplotlib.pyplot as plt\n",
    "\n",
    "plt.figure(figsize=(10, 6))\n",
    "sns.barplot(\n",
    "    data=subject_accuracy_cove,\n",
    "    x=\"subject\",\n",
    "    y=\"Accuracy\",\n",
    "    hue=\"changed_initial_answer\",\n",
    "    palette=\"Set2\"\n",
    ")\n",
    "\n",
    "plt.title(\"CoVe Accuracy by Subject\\n(Changed vs. Unchanged Initial Answer)\")\n",
    "plt.ylim(0, 1)\n",
    "plt.ylabel(\"Accuracy\")\n",
    "plt.xlabel(\"Subject\")\n",
    "plt.xticks(rotation=30, ha=\"right\")\n",
    "plt.tight_layout()\n",
    "plt.show()"
   ]
  },
  {
   "cell_type": "markdown",
   "id": "25bad073-5f6c-4c61-8c15-3a15fd1ea36e",
   "metadata": {},
   "source": [
    "### Self-Refine"
   ]
  },
  {
   "cell_type": "markdown",
   "id": "7f62c6ad-c09a-499e-a173-1add33baa736",
   "metadata": {
    "jp-MarkdownHeadingCollapsed": true
   },
   "source": [
    "#### Extract and normalize answers"
   ]
  },
  {
   "cell_type": "code",
   "execution_count": 481,
   "id": "9c8aef10-61f4-480c-bb9e-c36aa65f29d0",
   "metadata": {},
   "outputs": [],
   "source": [
    "import ast\n",
    "\n",
    "# Normalize the full answer sequence\n",
    "df_self_refine[\"answer_sequence_normalized\"] = df_self_refine[\"answer_sequence\"].apply(\n",
    "    lambda seq: [str(a).strip().upper() for a in ast.literal_eval(seq)] if pd.notnull(seq) else []\n",
    ")\n",
    "\n",
    "# Extract the first answer (normalized)\n",
    "df_self_refine[\"initial_answer\"] = df_self_refine[\"answer_sequence_normalized\"].apply(\n",
    "    lambda seq: seq[0] if len(seq) > 0 else None\n",
    ")\n",
    "\n",
    "# Normalize ground truth and predicted answers\n",
    "df_self_refine[\"ground_truth_normalized\"] = df_self_refine[\"ground_truth\"].str.strip().str.upper()\n",
    "df_self_refine[\"predicted_normalized\"] = df_self_refine[\"predicted_sr\"].str.strip().str.upper()\n",
    "\n",
    "# Drop original (raw) columns for clarity\n",
    "df_self_refine.drop(columns=[\"answer_sequence\", \"ground_truth\", \"predicted_sr\"], inplace=True)"
   ]
  },
  {
   "cell_type": "markdown",
   "id": "041d6370-8a5f-435e-86b9-5fc03d289355",
   "metadata": {},
   "source": [
    "#### Define regressions, improvements and neutral changes"
   ]
  },
  {
   "cell_type": "markdown",
   "id": "854de04c-d89c-414c-863b-bc4dc68371f0",
   "metadata": {},
   "source": [
    "**Improvement**: Initial answer was wrong, final answer was right\n",
    "\n",
    "**Regression**: Correct answer is present in the answer sequence, but the final answer is wrong\n",
    "\n",
    "**Neutral**: Correct answer is not present in the answer sequence\n"
   ]
  },
  {
   "cell_type": "code",
   "execution_count": 507,
   "id": "86e57819-87dd-492d-8129-ec68c5c42db0",
   "metadata": {
    "jupyter": {
     "source_hidden": true
    }
   },
   "outputs": [],
   "source": [
    "# Define if the answer changed\n",
    "df_self_refine[\"changed_initial_answer\"] = (\n",
    "    df_self_refine[\"initial_answer\"] != df_self_refine[\"predicted_normalized\"]\n",
    ")\n",
    "\n",
    "# Assign improvement: changed → became correct\n",
    "df_self_refine.loc[\n",
    "    df_self_refine[\"changed_initial_answer\"] &\n",
    "    (df_self_refine[\"initial_answer\"] != df_self_refine[\"ground_truth_normalized\"]) &\n",
    "    (df_self_refine[\"predicted_normalized\"] == df_self_refine[\"ground_truth_normalized\"]),\n",
    "    \"improvement\"\n",
    "] = True\n",
    "\n",
    "# Assign regression: changed → final answer is wrong, but ground truth appeared earlier\n",
    "df_self_refine.loc[\n",
    "    df_self_refine[\"changed_initial_answer\"] &\n",
    "    ~df_self_refine[\"improvement\"] &  # ensure exclusivity\n",
    "    df_self_refine.apply(\n",
    "        lambda row: row[\"ground_truth_normalized\"] in row[\"answer_sequence_normalized\"]\n",
    "        and row[\"predicted_normalized\"] != row[\"ground_truth_normalized\"],\n",
    "        axis=1\n",
    "    ),\n",
    "    \"regression\"\n",
    "] = True\n",
    "\n",
    "# Assign neutral_change: changed → final is wrong and ground truth never seen\n",
    "df_self_refine.loc[\n",
    "    df_self_refine[\"changed_initial_answer\"] &\n",
    "    ~df_self_refine[\"improvement\"] &\n",
    "    ~df_self_refine[\"regression\"] &\n",
    "    (df_self_refine[\"predicted_normalized\"] != df_self_refine[\"ground_truth_normalized\"]) &\n",
    "    (~df_self_refine.apply(\n",
    "        lambda row: row[\"ground_truth_normalized\"] in row[\"answer_sequence_normalized\"],\n",
    "        axis=1\n",
    "    )),\n",
    "    \"neutral_change\"\n",
    "] = True\n"
   ]
  },
  {
   "cell_type": "markdown",
   "id": "83905d4f-94be-4e94-a120-4920730a4cd0",
   "metadata": {},
   "source": [
    "#### Analyse dynamics of answer sequence"
   ]
  },
  {
   "cell_type": "markdown",
   "id": "93f0fd1e-cae8-42eb-a80c-2cbadb927845",
   "metadata": {
    "jp-MarkdownHeadingCollapsed": true
   },
   "source": [
    "##### Calculate number of feedback iterations per question"
   ]
  },
  {
   "cell_type": "code",
   "execution_count": 502,
   "id": "7d3972c5-4ca3-4766-964f-8d072420aa6c",
   "metadata": {},
   "outputs": [],
   "source": [
    "# Recalculate initial answer directly from the parsed, normalized list\n",
    "df_self_refine[\"initial_answer\"] = df_self_refine[\"answer_sequence_normalized\"].apply(\n",
    "    lambda seq: seq[0] if isinstance(seq, list) and len(seq) > 0 else None\n",
    ")\n",
    "\n",
    "# Number of iterations is the length of the parsed, normalized sequence\n",
    "df_self_refine[\"feedback_iterations\"] = df_self_refine[\"answer_sequence_normalized\"].apply(\n",
    "    lambda seq: len(seq) if isinstance(seq, list) else 0\n",
    ")"
   ]
  },
  {
   "cell_type": "markdown",
   "id": "03302397-ddaf-45a9-b25f-26be5c61707f",
   "metadata": {},
   "source": [
    "##### Checkout cases where the model changed its initial answer"
   ]
  },
  {
   "cell_type": "code",
   "execution_count": 503,
   "id": "44f4969e-2257-4cee-add2-852a2710128f",
   "metadata": {
    "collapsed": true,
    "jupyter": {
     "outputs_hidden": true,
     "source_hidden": true
    }
   },
   "outputs": [
    {
     "data": {
      "text/html": [
       "<div>\n",
       "<style scoped>\n",
       "    .dataframe tbody tr th:only-of-type {\n",
       "        vertical-align: middle;\n",
       "    }\n",
       "\n",
       "    .dataframe tbody tr th {\n",
       "        vertical-align: top;\n",
       "    }\n",
       "\n",
       "    .dataframe thead th {\n",
       "        text-align: right;\n",
       "    }\n",
       "</style>\n",
       "<table border=\"1\" class=\"dataframe\">\n",
       "  <thead>\n",
       "    <tr style=\"text-align: right;\">\n",
       "      <th></th>\n",
       "      <th>id</th>\n",
       "      <th>ground_truth_normalized</th>\n",
       "      <th>predicted_normalized</th>\n",
       "      <th>initial_answer</th>\n",
       "      <th>answer_sequence_normalized</th>\n",
       "      <th>improvement</th>\n",
       "      <th>regression</th>\n",
       "      <th>neutral_change</th>\n",
       "    </tr>\n",
       "  </thead>\n",
       "  <tbody>\n",
       "    <tr>\n",
       "      <th>3</th>\n",
       "      <td>questao_04</td>\n",
       "      <td>E</td>\n",
       "      <td>E</td>\n",
       "      <td>D</td>\n",
       "      <td>[D, E]</td>\n",
       "      <td>True</td>\n",
       "      <td>False</td>\n",
       "      <td>False</td>\n",
       "    </tr>\n",
       "    <tr>\n",
       "      <th>16</th>\n",
       "      <td>questao_17</td>\n",
       "      <td>B</td>\n",
       "      <td>A</td>\n",
       "      <td>B</td>\n",
       "      <td>[B, E, B, A]</td>\n",
       "      <td>False</td>\n",
       "      <td>True</td>\n",
       "      <td>False</td>\n",
       "    </tr>\n",
       "    <tr>\n",
       "      <th>20</th>\n",
       "      <td>questao_21</td>\n",
       "      <td>C</td>\n",
       "      <td>E</td>\n",
       "      <td>D</td>\n",
       "      <td>[D, E]</td>\n",
       "      <td>False</td>\n",
       "      <td>False</td>\n",
       "      <td>True</td>\n",
       "    </tr>\n",
       "    <tr>\n",
       "      <th>27</th>\n",
       "      <td>questao_28</td>\n",
       "      <td>B</td>\n",
       "      <td>B</td>\n",
       "      <td>E</td>\n",
       "      <td>[E, B]</td>\n",
       "      <td>True</td>\n",
       "      <td>False</td>\n",
       "      <td>False</td>\n",
       "    </tr>\n",
       "    <tr>\n",
       "      <th>28</th>\n",
       "      <td>questao_29</td>\n",
       "      <td>A</td>\n",
       "      <td>A</td>\n",
       "      <td>D</td>\n",
       "      <td>[D, A]</td>\n",
       "      <td>True</td>\n",
       "      <td>False</td>\n",
       "      <td>False</td>\n",
       "    </tr>\n",
       "    <tr>\n",
       "      <th>30</th>\n",
       "      <td>questao_31</td>\n",
       "      <td>D</td>\n",
       "      <td>A</td>\n",
       "      <td>D</td>\n",
       "      <td>[D, A]</td>\n",
       "      <td>False</td>\n",
       "      <td>True</td>\n",
       "      <td>False</td>\n",
       "    </tr>\n",
       "    <tr>\n",
       "      <th>53</th>\n",
       "      <td>questao_54</td>\n",
       "      <td>D</td>\n",
       "      <td>B</td>\n",
       "      <td>D</td>\n",
       "      <td>[D, B]</td>\n",
       "      <td>False</td>\n",
       "      <td>True</td>\n",
       "      <td>False</td>\n",
       "    </tr>\n",
       "    <tr>\n",
       "      <th>55</th>\n",
       "      <td>questao_56</td>\n",
       "      <td>A</td>\n",
       "      <td>A</td>\n",
       "      <td>E</td>\n",
       "      <td>[E, A, E, A]</td>\n",
       "      <td>True</td>\n",
       "      <td>False</td>\n",
       "      <td>False</td>\n",
       "    </tr>\n",
       "    <tr>\n",
       "      <th>77</th>\n",
       "      <td>questao_78</td>\n",
       "      <td>A</td>\n",
       "      <td>A</td>\n",
       "      <td>D</td>\n",
       "      <td>[D, A]</td>\n",
       "      <td>True</td>\n",
       "      <td>False</td>\n",
       "      <td>False</td>\n",
       "    </tr>\n",
       "    <tr>\n",
       "      <th>88</th>\n",
       "      <td>questao_89</td>\n",
       "      <td>C</td>\n",
       "      <td>E</td>\n",
       "      <td>C</td>\n",
       "      <td>[C, B, C, E]</td>\n",
       "      <td>False</td>\n",
       "      <td>True</td>\n",
       "      <td>False</td>\n",
       "    </tr>\n",
       "    <tr>\n",
       "      <th>109</th>\n",
       "      <td>questao_110</td>\n",
       "      <td>C</td>\n",
       "      <td>C</td>\n",
       "      <td>B</td>\n",
       "      <td>[B, C, B, C]</td>\n",
       "      <td>True</td>\n",
       "      <td>False</td>\n",
       "      <td>False</td>\n",
       "    </tr>\n",
       "    <tr>\n",
       "      <th>110</th>\n",
       "      <td>questao_111</td>\n",
       "      <td>A</td>\n",
       "      <td>D</td>\n",
       "      <td>A</td>\n",
       "      <td>[A, D, E, D]</td>\n",
       "      <td>False</td>\n",
       "      <td>True</td>\n",
       "      <td>False</td>\n",
       "    </tr>\n",
       "    <tr>\n",
       "      <th>112</th>\n",
       "      <td>questao_113</td>\n",
       "      <td>C</td>\n",
       "      <td>C</td>\n",
       "      <td>B</td>\n",
       "      <td>[B, C]</td>\n",
       "      <td>True</td>\n",
       "      <td>False</td>\n",
       "      <td>False</td>\n",
       "    </tr>\n",
       "    <tr>\n",
       "      <th>114</th>\n",
       "      <td>questao_115</td>\n",
       "      <td>B</td>\n",
       "      <td>E</td>\n",
       "      <td>B</td>\n",
       "      <td>[B, E, D, E]</td>\n",
       "      <td>False</td>\n",
       "      <td>True</td>\n",
       "      <td>False</td>\n",
       "    </tr>\n",
       "    <tr>\n",
       "      <th>115</th>\n",
       "      <td>questao_116</td>\n",
       "      <td>B</td>\n",
       "      <td>C</td>\n",
       "      <td>B</td>\n",
       "      <td>[B, C, E, C]</td>\n",
       "      <td>False</td>\n",
       "      <td>True</td>\n",
       "      <td>False</td>\n",
       "    </tr>\n",
       "    <tr>\n",
       "      <th>121</th>\n",
       "      <td>questao_122</td>\n",
       "      <td>A</td>\n",
       "      <td>A</td>\n",
       "      <td>C</td>\n",
       "      <td>[C, A]</td>\n",
       "      <td>True</td>\n",
       "      <td>False</td>\n",
       "      <td>False</td>\n",
       "    </tr>\n",
       "    <tr>\n",
       "      <th>122</th>\n",
       "      <td>questao_123</td>\n",
       "      <td>E</td>\n",
       "      <td>E</td>\n",
       "      <td>D</td>\n",
       "      <td>[D, E]</td>\n",
       "      <td>True</td>\n",
       "      <td>False</td>\n",
       "      <td>False</td>\n",
       "    </tr>\n",
       "    <tr>\n",
       "      <th>123</th>\n",
       "      <td>questao_124</td>\n",
       "      <td>ANULADO</td>\n",
       "      <td>C</td>\n",
       "      <td>A</td>\n",
       "      <td>[A, C]</td>\n",
       "      <td>False</td>\n",
       "      <td>False</td>\n",
       "      <td>True</td>\n",
       "    </tr>\n",
       "    <tr>\n",
       "      <th>129</th>\n",
       "      <td>questao_130</td>\n",
       "      <td>A</td>\n",
       "      <td>E</td>\n",
       "      <td>A</td>\n",
       "      <td>[A, E]</td>\n",
       "      <td>False</td>\n",
       "      <td>True</td>\n",
       "      <td>False</td>\n",
       "    </tr>\n",
       "    <tr>\n",
       "      <th>130</th>\n",
       "      <td>questao_131</td>\n",
       "      <td>C</td>\n",
       "      <td>E</td>\n",
       "      <td>A</td>\n",
       "      <td>[A, B, A, E]</td>\n",
       "      <td>False</td>\n",
       "      <td>False</td>\n",
       "      <td>True</td>\n",
       "    </tr>\n",
       "    <tr>\n",
       "      <th>134</th>\n",
       "      <td>questao_135</td>\n",
       "      <td>D</td>\n",
       "      <td>A</td>\n",
       "      <td>D</td>\n",
       "      <td>[D, B, C, A]</td>\n",
       "      <td>False</td>\n",
       "      <td>True</td>\n",
       "      <td>False</td>\n",
       "    </tr>\n",
       "    <tr>\n",
       "      <th>140</th>\n",
       "      <td>questao_141</td>\n",
       "      <td>A</td>\n",
       "      <td>E</td>\n",
       "      <td>A</td>\n",
       "      <td>[A, E]</td>\n",
       "      <td>False</td>\n",
       "      <td>True</td>\n",
       "      <td>False</td>\n",
       "    </tr>\n",
       "    <tr>\n",
       "      <th>147</th>\n",
       "      <td>questao_148</td>\n",
       "      <td>D</td>\n",
       "      <td>C</td>\n",
       "      <td>A</td>\n",
       "      <td>[A, C, D, C]</td>\n",
       "      <td>False</td>\n",
       "      <td>True</td>\n",
       "      <td>False</td>\n",
       "    </tr>\n",
       "    <tr>\n",
       "      <th>151</th>\n",
       "      <td>questao_152</td>\n",
       "      <td>B</td>\n",
       "      <td>B</td>\n",
       "      <td>D</td>\n",
       "      <td>[D, A, B]</td>\n",
       "      <td>True</td>\n",
       "      <td>False</td>\n",
       "      <td>False</td>\n",
       "    </tr>\n",
       "    <tr>\n",
       "      <th>152</th>\n",
       "      <td>questao_153</td>\n",
       "      <td>B</td>\n",
       "      <td>D</td>\n",
       "      <td>E</td>\n",
       "      <td>[E, D, E, D]</td>\n",
       "      <td>False</td>\n",
       "      <td>False</td>\n",
       "      <td>True</td>\n",
       "    </tr>\n",
       "    <tr>\n",
       "      <th>155</th>\n",
       "      <td>questao_156</td>\n",
       "      <td>B</td>\n",
       "      <td>A</td>\n",
       "      <td>C</td>\n",
       "      <td>[C, D, B, A]</td>\n",
       "      <td>False</td>\n",
       "      <td>True</td>\n",
       "      <td>False</td>\n",
       "    </tr>\n",
       "    <tr>\n",
       "      <th>162</th>\n",
       "      <td>questao_163</td>\n",
       "      <td>C</td>\n",
       "      <td>E</td>\n",
       "      <td>C</td>\n",
       "      <td>[C, E, A, E]</td>\n",
       "      <td>False</td>\n",
       "      <td>True</td>\n",
       "      <td>False</td>\n",
       "    </tr>\n",
       "    <tr>\n",
       "      <th>167</th>\n",
       "      <td>questao_168</td>\n",
       "      <td>C</td>\n",
       "      <td>A</td>\n",
       "      <td>C</td>\n",
       "      <td>[C, A]</td>\n",
       "      <td>False</td>\n",
       "      <td>True</td>\n",
       "      <td>False</td>\n",
       "    </tr>\n",
       "    <tr>\n",
       "      <th>169</th>\n",
       "      <td>questao_170</td>\n",
       "      <td>D</td>\n",
       "      <td>A</td>\n",
       "      <td>D</td>\n",
       "      <td>[D, A]</td>\n",
       "      <td>False</td>\n",
       "      <td>True</td>\n",
       "      <td>False</td>\n",
       "    </tr>\n",
       "    <tr>\n",
       "      <th>170</th>\n",
       "      <td>questao_171</td>\n",
       "      <td>E</td>\n",
       "      <td>A</td>\n",
       "      <td>C</td>\n",
       "      <td>[C, A]</td>\n",
       "      <td>False</td>\n",
       "      <td>False</td>\n",
       "      <td>True</td>\n",
       "    </tr>\n",
       "  </tbody>\n",
       "</table>\n",
       "</div>"
      ],
      "text/plain": [
       "              id ground_truth_normalized predicted_normalized initial_answer  \\\n",
       "3     questao_04                       E                    E              D   \n",
       "16    questao_17                       B                    A              B   \n",
       "20    questao_21                       C                    E              D   \n",
       "27    questao_28                       B                    B              E   \n",
       "28    questao_29                       A                    A              D   \n",
       "30    questao_31                       D                    A              D   \n",
       "53    questao_54                       D                    B              D   \n",
       "55    questao_56                       A                    A              E   \n",
       "77    questao_78                       A                    A              D   \n",
       "88    questao_89                       C                    E              C   \n",
       "109  questao_110                       C                    C              B   \n",
       "110  questao_111                       A                    D              A   \n",
       "112  questao_113                       C                    C              B   \n",
       "114  questao_115                       B                    E              B   \n",
       "115  questao_116                       B                    C              B   \n",
       "121  questao_122                       A                    A              C   \n",
       "122  questao_123                       E                    E              D   \n",
       "123  questao_124                 ANULADO                    C              A   \n",
       "129  questao_130                       A                    E              A   \n",
       "130  questao_131                       C                    E              A   \n",
       "134  questao_135                       D                    A              D   \n",
       "140  questao_141                       A                    E              A   \n",
       "147  questao_148                       D                    C              A   \n",
       "151  questao_152                       B                    B              D   \n",
       "152  questao_153                       B                    D              E   \n",
       "155  questao_156                       B                    A              C   \n",
       "162  questao_163                       C                    E              C   \n",
       "167  questao_168                       C                    A              C   \n",
       "169  questao_170                       D                    A              D   \n",
       "170  questao_171                       E                    A              C   \n",
       "\n",
       "    answer_sequence_normalized  improvement  regression  neutral_change  \n",
       "3                       [D, E]         True       False           False  \n",
       "16                [B, E, B, A]        False        True           False  \n",
       "20                      [D, E]        False       False            True  \n",
       "27                      [E, B]         True       False           False  \n",
       "28                      [D, A]         True       False           False  \n",
       "30                      [D, A]        False        True           False  \n",
       "53                      [D, B]        False        True           False  \n",
       "55                [E, A, E, A]         True       False           False  \n",
       "77                      [D, A]         True       False           False  \n",
       "88                [C, B, C, E]        False        True           False  \n",
       "109               [B, C, B, C]         True       False           False  \n",
       "110               [A, D, E, D]        False        True           False  \n",
       "112                     [B, C]         True       False           False  \n",
       "114               [B, E, D, E]        False        True           False  \n",
       "115               [B, C, E, C]        False        True           False  \n",
       "121                     [C, A]         True       False           False  \n",
       "122                     [D, E]         True       False           False  \n",
       "123                     [A, C]        False       False            True  \n",
       "129                     [A, E]        False        True           False  \n",
       "130               [A, B, A, E]        False       False            True  \n",
       "134               [D, B, C, A]        False        True           False  \n",
       "140                     [A, E]        False        True           False  \n",
       "147               [A, C, D, C]        False        True           False  \n",
       "151                  [D, A, B]         True       False           False  \n",
       "152               [E, D, E, D]        False       False            True  \n",
       "155               [C, D, B, A]        False        True           False  \n",
       "162               [C, E, A, E]        False        True           False  \n",
       "167                     [C, A]        False        True           False  \n",
       "169                     [D, A]        False        True           False  \n",
       "170                     [C, A]        False       False            True  "
      ]
     },
     "execution_count": 503,
     "metadata": {},
     "output_type": "execute_result"
    }
   ],
   "source": [
    "df_self_refine[df_self_refine[\"changed_initial_answer\"]][\n",
    "    [\"id\", \"ground_truth_normalized\",  \"predicted_normalized\", \"initial_answer\", \"answer_sequence_normalized\", \"improvement\", \"regression\", \"neutral_change\"]\n",
    "]"
   ]
  },
  {
   "cell_type": "code",
   "execution_count": 504,
   "id": "03cd73bf-7ddd-47b9-808f-8ff79011ed7b",
   "metadata": {
    "jupyter": {
     "source_hidden": true
    }
   },
   "outputs": [
    {
     "data": {
      "text/html": [
       "<div>\n",
       "<style scoped>\n",
       "    .dataframe tbody tr th:only-of-type {\n",
       "        vertical-align: middle;\n",
       "    }\n",
       "\n",
       "    .dataframe tbody tr th {\n",
       "        vertical-align: top;\n",
       "    }\n",
       "\n",
       "    .dataframe thead th {\n",
       "        text-align: right;\n",
       "    }\n",
       "</style>\n",
       "<table border=\"1\" class=\"dataframe\">\n",
       "  <thead>\n",
       "    <tr style=\"text-align: right;\">\n",
       "      <th></th>\n",
       "      <th>subject</th>\n",
       "      <th>total_questions</th>\n",
       "      <th>changes</th>\n",
       "      <th>regressions</th>\n",
       "      <th>improvements</th>\n",
       "      <th>neutral_changes</th>\n",
       "    </tr>\n",
       "  </thead>\n",
       "  <tbody>\n",
       "    <tr>\n",
       "      <th>0</th>\n",
       "      <td>Ciências Humanas e suas Tecnologias</td>\n",
       "      <td>45</td>\n",
       "      <td>4</td>\n",
       "      <td>2</td>\n",
       "      <td>2</td>\n",
       "      <td>0</td>\n",
       "    </tr>\n",
       "    <tr>\n",
       "      <th>1</th>\n",
       "      <td>Ciências da Natureza e suas Tecnologias</td>\n",
       "      <td>45</td>\n",
       "      <td>11</td>\n",
       "      <td>5</td>\n",
       "      <td>4</td>\n",
       "      <td>2</td>\n",
       "    </tr>\n",
       "    <tr>\n",
       "      <th>2</th>\n",
       "      <td>Linguagens, Códigos e suas Tecnologias</td>\n",
       "      <td>45</td>\n",
       "      <td>6</td>\n",
       "      <td>2</td>\n",
       "      <td>3</td>\n",
       "      <td>1</td>\n",
       "    </tr>\n",
       "    <tr>\n",
       "      <th>3</th>\n",
       "      <td>Matemática e suas Tecnologias</td>\n",
       "      <td>45</td>\n",
       "      <td>9</td>\n",
       "      <td>6</td>\n",
       "      <td>1</td>\n",
       "      <td>2</td>\n",
       "    </tr>\n",
       "  </tbody>\n",
       "</table>\n",
       "</div>"
      ],
      "text/plain": [
       "                                   subject  total_questions  changes  \\\n",
       "0      Ciências Humanas e suas Tecnologias               45        4   \n",
       "1  Ciências da Natureza e suas Tecnologias               45       11   \n",
       "2   Linguagens, Códigos e suas Tecnologias               45        6   \n",
       "3            Matemática e suas Tecnologias               45        9   \n",
       "\n",
       "   regressions  improvements  neutral_changes  \n",
       "0            2             2                0  \n",
       "1            5             4                2  \n",
       "2            2             3                1  \n",
       "3            6             1                2  "
      ]
     },
     "metadata": {},
     "output_type": "display_data"
    }
   ],
   "source": [
    "subject_summary_sr = df_self_refine.groupby(\"subject\").agg(\n",
    "    total_questions=(\"id\", \"count\"),\n",
    "    changes=(\"changed_initial_answer\", \"sum\"),\n",
    "    regressions=(\"regression\", \"sum\"),\n",
    "    improvements=(\"improvement\", \"sum\"),\n",
    "    neutral_changes=(\"neutral_change\", \"sum\"),\n",
    ").reset_index()\n",
    "\n",
    "display(subject_summary_sr)"
   ]
  },
  {
   "cell_type": "markdown",
   "id": "464ab792-d8dd-4380-9555-58c9492c7339",
   "metadata": {},
   "source": [
    "#### 📊 Self-Refine – Regressions, Improvements and Neutral Changes per Subject"
   ]
  },
  {
   "cell_type": "code",
   "execution_count": 466,
   "id": "61ebb6c0-266c-461f-816e-aa5d933e3075",
   "metadata": {
    "jupyter": {
     "source_hidden": true
    }
   },
   "outputs": [
    {
     "data": {
      "image/png": "[encoded data removed]",
      "text/plain": [
       "<Figure size 1200x600 with 1 Axes>"
      ]
     },
     "metadata": {},
     "output_type": "display_data"
    }
   ],
   "source": [
    "import seaborn as sns\n",
    "import matplotlib.pyplot as plt\n",
    "\n",
    "# Filter only changed cases\n",
    "changed = df_self_refine[df_self_refine[\"changed_initial_answer\"]]\n",
    "\n",
    "# Count per subject + change_type\n",
    "subject_change_summary = (\n",
    "    changed.groupby([\"subject\", \"change_type\"])\n",
    "    .size()\n",
    "    .reset_index(name=\"Count\")\n",
    ")\n",
    "\n",
    "# Translate subject names to English\n",
    "subject_translation = {\n",
    "    \"Matemática e suas Tecnologias\": \"Mathematics\",\n",
    "    \"Linguagens, Códigos e suas Tecnologias\": \"Languages\",\n",
    "    \"Ciências Humanas e suas Tecnologias\": \"Human Sciences\",\n",
    "    \"Ciências da Natureza e suas Tecnologias\": \"Natural Sciences\"\n",
    "}\n",
    "subject_change_summary[\"subject\"] = subject_change_summary[\"subject\"].map(subject_translation)\n",
    "\n",
    "# Plot\n",
    "plt.figure(figsize=(12, 6))\n",
    "sns.barplot(\n",
    "    data=subject_change_summary,\n",
    "    x=\"subject\",\n",
    "    y=\"Count\",\n",
    "    hue=\"change_type\",\n",
    "    palette=\"Set2\"\n",
    ")\n",
    "\n",
    "plt.title(\"Changes in Initial Answer by Subject (Self-Refine)\")\n",
    "plt.ylabel(\"Number of Questions\")\n",
    "plt.xlabel(\"Subject\")\n",
    "plt.tight_layout()\n",
    "plt.show()"
   ]
  },
  {
   "attachments": {},
   "cell_type": "markdown",
   "id": "c75f0294-b2f8-428d-8864-723ad5e73b2e",
   "metadata": {},
   "source": [
    "##### Checkout where model had several feedback iterations and came back to initial answer"
   ]
  },
  {
   "cell_type": "code",
   "execution_count": 461,
   "id": "1da16a11-69b7-4f94-94f5-52ef906eee44",
   "metadata": {
    "collapsed": true,
    "jupyter": {
     "outputs_hidden": true,
     "source_hidden": true
    },
    "scrolled": true
   },
   "outputs": [
    {
     "data": {
      "text/html": [
       "<div>\n",
       "<style scoped>\n",
       "    .dataframe tbody tr th:only-of-type {\n",
       "        vertical-align: middle;\n",
       "    }\n",
       "\n",
       "    .dataframe tbody tr th {\n",
       "        vertical-align: top;\n",
       "    }\n",
       "\n",
       "    .dataframe thead th {\n",
       "        text-align: right;\n",
       "    }\n",
       "</style>\n",
       "<table border=\"1\" class=\"dataframe\">\n",
       "  <thead>\n",
       "    <tr style=\"text-align: right;\">\n",
       "      <th></th>\n",
       "      <th>id</th>\n",
       "      <th>ground_truth_normalized</th>\n",
       "      <th>initial_answer</th>\n",
       "      <th>predicted_normalized</th>\n",
       "      <th>answer_sequence_normalized</th>\n",
       "      <th>feedback_iterations</th>\n",
       "      <th>improvement</th>\n",
       "      <th>regression</th>\n",
       "    </tr>\n",
       "  </thead>\n",
       "  <tbody>\n",
       "    <tr>\n",
       "      <th>97</th>\n",
       "      <td>questao_98</td>\n",
       "      <td>B</td>\n",
       "      <td>B</td>\n",
       "      <td>B</td>\n",
       "      <td>[B, E, B]</td>\n",
       "      <td>3</td>\n",
       "      <td>False</td>\n",
       "      <td>False</td>\n",
       "    </tr>\n",
       "    <tr>\n",
       "      <th>108</th>\n",
       "      <td>questao_109</td>\n",
       "      <td>D</td>\n",
       "      <td>D</td>\n",
       "      <td>D</td>\n",
       "      <td>[D, E, D]</td>\n",
       "      <td>3</td>\n",
       "      <td>False</td>\n",
       "      <td>False</td>\n",
       "    </tr>\n",
       "    <tr>\n",
       "      <th>117</th>\n",
       "      <td>questao_118</td>\n",
       "      <td>E</td>\n",
       "      <td>B</td>\n",
       "      <td>B</td>\n",
       "      <td>[B, E, A, B]</td>\n",
       "      <td>4</td>\n",
       "      <td>False</td>\n",
       "      <td>True</td>\n",
       "    </tr>\n",
       "    <tr>\n",
       "      <th>153</th>\n",
       "      <td>questao_154</td>\n",
       "      <td>A</td>\n",
       "      <td>D</td>\n",
       "      <td>D</td>\n",
       "      <td>[D, B, A, D]</td>\n",
       "      <td>4</td>\n",
       "      <td>False</td>\n",
       "      <td>True</td>\n",
       "    </tr>\n",
       "    <tr>\n",
       "      <th>156</th>\n",
       "      <td>questao_157</td>\n",
       "      <td>C</td>\n",
       "      <td>C</td>\n",
       "      <td>C</td>\n",
       "      <td>[C, A, C]</td>\n",
       "      <td>3</td>\n",
       "      <td>False</td>\n",
       "      <td>False</td>\n",
       "    </tr>\n",
       "    <tr>\n",
       "      <th>166</th>\n",
       "      <td>questao_167</td>\n",
       "      <td>A</td>\n",
       "      <td>A</td>\n",
       "      <td>A</td>\n",
       "      <td>[A, C, A]</td>\n",
       "      <td>3</td>\n",
       "      <td>False</td>\n",
       "      <td>False</td>\n",
       "    </tr>\n",
       "  </tbody>\n",
       "</table>\n",
       "</div>"
      ],
      "text/plain": [
       "              id ground_truth_normalized initial_answer predicted_normalized  \\\n",
       "97    questao_98                       B              B                    B   \n",
       "108  questao_109                       D              D                    D   \n",
       "117  questao_118                       E              B                    B   \n",
       "153  questao_154                       A              D                    D   \n",
       "156  questao_157                       C              C                    C   \n",
       "166  questao_167                       A              A                    A   \n",
       "\n",
       "    answer_sequence_normalized  feedback_iterations  improvement  regression  \n",
       "97                   [B, E, B]                    3        False       False  \n",
       "108                  [D, E, D]                    3        False       False  \n",
       "117               [B, E, A, B]                    4        False        True  \n",
       "153               [D, B, A, D]                    4        False        True  \n",
       "156                  [C, A, C]                    3        False       False  \n",
       "166                  [A, C, A]                    3        False       False  "
      ]
     },
     "execution_count": 461,
     "metadata": {},
     "output_type": "execute_result"
    }
   ],
   "source": [
    "df_self_refine[\n",
    "    (df_self_refine[\"feedback_iterations\"] > 1) &\n",
    "    (df_self_refine[\"initial_answer\"] == df_self_refine[\"predicted_normalized\"])\n",
    "][[\n",
    "    \"id\",\n",
    "    \"ground_truth_normalized\",\n",
    "    \"initial_answer\",\n",
    "    \"predicted_normalized\",\n",
    "    \"answer_sequence_normalized\",\n",
    "    \"feedback_iterations\",\n",
    "    \"improvement\",\n",
    "    \"regression\"\n",
    "]]"
   ]
  },
  {
   "cell_type": "code",
   "execution_count": 462,
   "id": "60f638a6-5304-49c9-b9e1-9d80fe71cfef",
   "metadata": {
    "jupyter": {
     "source_hidden": true
    }
   },
   "outputs": [],
   "source": [
    "df_self_refine[\"correct_final\"] = (\n",
    "    df_self_refine[\"predicted_normalized\"] == df_self_refine[\"ground_truth_normalized\"]\n",
    ")\n",
    "unchanged_final = df_self_refine[\n",
    "    (df_self_refine[\"feedback_iterations\"] > 1) &\n",
    "    (df_self_refine[\"initial_answer\"] == df_self_refine[\"predicted_normalized\"])\n",
    "]\n",
    "\n",
    "unchanged_summary = unchanged_final[\"correct_final\"].value_counts().rename_axis(\"Final Answer Correct\").reset_index(name=\"Count\")\n",
    "unchanged_summary[\"Final Answer Correct\"] = unchanged_summary[\"Final Answer Correct\"].map({True: \"Correct\", False: \"Incorrect\"})\n"
   ]
  },
  {
   "cell_type": "code",
   "execution_count": 463,
   "id": "c38107da-7012-43b6-9184-9ba10de4fbfe",
   "metadata": {
    "jupyter": {
     "source_hidden": true
    }
   },
   "outputs": [
    {
     "data": {
      "image/png": "[encoded data removed]",
      "text/plain": [
       "<Figure size 640x480 with 1 Axes>"
      ]
     },
     "metadata": {},
     "output_type": "display_data"
    }
   ],
   "source": [
    "import seaborn as sns\n",
    "import matplotlib.pyplot as plt\n",
    "\n",
    "sns.barplot(\n",
    "    data=unchanged_summary,\n",
    "    x=\"Final Answer Correct\",\n",
    "    y=\"Count\",\n",
    "    hue=\"Final Answer Correct\",\n",
    "    palette=\"Set2\",\n",
    "    legend=False\n",
    ")\n",
    "plt.title(\"Returned to initial answer after Self-Refine feedback rounds\")\n",
    "plt.ylabel(\"Number of Questions\")\n",
    "plt.xlabel(\"\")\n",
    "plt.tight_layout()\n",
    "plt.show()\n"
   ]
  },
  {
   "cell_type": "markdown",
   "id": "f6b60745-f8a9-406b-a8c3-601ff5304589",
   "metadata": {},
   "source": [
    "#### 📊 Self-Refine – Changed vs Unchanged Initial Answer"
   ]
  },
  {
   "cell_type": "code",
   "execution_count": 509,
   "id": "3d59f7a3-6bbc-4cba-b771-64a5144ab142",
   "metadata": {
    "jupyter": {
     "source_hidden": true
    }
   },
   "outputs": [],
   "source": [
    "subject_accuracy_change = (\n",
    "    df_self_refine\n",
    "    .groupby([\"subject\", \"changed_initial_answer\"])[\"correct\"]\n",
    "    .mean()\n",
    "    .reset_index()\n",
    ")\n",
    "\n",
    "# Rename for clarity\n",
    "subject_accuracy_change[\"changed_initial_answer\"] = subject_accuracy_change[\"changed_initial_answer\"].map({\n",
    "    True: \"Changed\",\n",
    "    False: \"Unchanged\"\n",
    "})\n",
    "subject_accuracy_change.rename(columns={\"correct\": \"Accuracy\"}, inplace=True)\n",
    "\n",
    "subject_translation = {\n",
    "    \"Matemática e suas Tecnologias\": \"Mathematics\",\n",
    "    \"Linguagens, Códigos e suas Tecnologias\": \"Languages\",\n",
    "    \"Ciências Humanas e suas Tecnologias\": \"Human Sciences\",\n",
    "    \"Ciências da Natureza e suas Tecnologias\": \"Natural Sciences\"\n",
    "}\n",
    "subject_accuracy_change[\"subject\"] = subject_accuracy_change[\"subject\"].map(subject_translation)\n",
    "\n"
   ]
  },
  {
   "cell_type": "code",
   "execution_count": 510,
   "id": "844164e8-8eb1-4209-9093-e04b3bef9f0d",
   "metadata": {
    "jupyter": {
     "source_hidden": true
    }
   },
   "outputs": [
    {
     "data": {
      "image/png": "[encoded data removed]",
      "text/plain": [
       "<Figure size 1000x600 with 1 Axes>"
      ]
     },
     "metadata": {},
     "output_type": "display_data"
    }
   ],
   "source": [
    "import seaborn as sns\n",
    "import matplotlib.pyplot as plt\n",
    "\n",
    "plt.figure(figsize=(10, 6))\n",
    "sns.barplot(\n",
    "    data=subject_accuracy_change,\n",
    "    x=\"subject\",\n",
    "    y=\"Accuracy\",\n",
    "    hue=\"changed_initial_answer\",\n",
    "    palette=\"Set2\"\n",
    ")\n",
    "\n",
    "plt.title(\"Self-Refine Accuracy by Subject\\n(Changed vs. Unchanged Initial Answer)\")\n",
    "plt.ylim(0, 1)\n",
    "plt.ylabel(\"Accuracy\")\n",
    "plt.xlabel(\"Subject\")\n",
    "plt.xticks(rotation=30, ha=\"right\")\n",
    "plt.tight_layout()\n",
    "plt.show()"
   ]
  },
  {
   "cell_type": "markdown",
   "id": "b5fc1090-886a-4689-b28b-6f20baae03ce",
   "metadata": {},
   "source": [
    "### Compare CoVe and Self-Refine"
   ]
  },
  {
   "cell_type": "code",
   "execution_count": null,
   "id": "bbaded7a-f932-4c1a-a74d-947336fef969",
   "metadata": {},
   "outputs": [],
   "source": []
  },
  {
   "cell_type": "markdown",
   "id": "c9ec5848-5ea8-473f-8969-1221839e9441",
   "metadata": {},
   "source": [
    "#### Did they improve or regress on the same questions?"
   ]
  },
  {
   "cell_type": "markdown",
   "id": "398fa083-45b2-4ddb-9831-f71bfac676f3",
   "metadata": {},
   "source": [
    "## Compare initial answers from all methods"
   ]
  },
  {
   "cell_type": "code",
   "execution_count": null,
   "id": "8251eac2-f7fc-42f4-8535-483f8e53d477",
   "metadata": {},
   "outputs": [],
   "source": []
  },
  {
   "cell_type": "code",
   "execution_count": null,
   "id": "c882a3e9-bb35-437f-90cc-b41df05178cd",
   "metadata": {},
   "outputs": [],
   "source": []
  },
  {
   "cell_type": "code",
   "execution_count": null,
   "id": "f8fe3477-0062-461f-8502-d3fbd45a1802",
   "metadata": {},
   "outputs": [],
   "source": []
  }
 ],
 "metadata": {
  "kernelspec": {
   "display_name": "Python (bthesis)",
   "language": "python",
   "name": "bthesis"
  },
  "language_info": {
   "codemirror_mode": {
    "name": "ipython",
    "version": 3
   },
   "file_extension": ".py",
   "mimetype": "text/x-python",
   "name": "python",
   "nbconvert_exporter": "python",
   "pygments_lexer": "ipython3",
   "version": "3.13.2"
  }
 },
 "nbformat": 4,
 "nbformat_minor": 5
}
