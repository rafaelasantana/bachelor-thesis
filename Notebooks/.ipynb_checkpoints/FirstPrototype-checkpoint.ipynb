{
 "cells": [
  {
   "cell_type": "markdown",
   "id": "d7301917-a843-4475-b246-15d2a75c6d24",
   "metadata": {
    "jp-MarkdownHeadingCollapsed": true
   },
   "source": [
    "## Load sample questions"
   ]
  },
  {
   "cell_type": "code",
   "execution_count": null,
   "id": "60f81b5d-be99-4768-bc26-7122be6fe91b",
   "metadata": {},
   "outputs": [],
   "source": [
    "import json\n",
    "\n",
    "# Load the sample ENEM questions\n",
    "with open(\"enem_questions_sample.json\", \"r\", encoding=\"utf-8\") as f:\n",
    "    data = json.load(f)\n",
    "\n",
    "# Preview the first question\n",
    "data[0]"
   ]
  },
  {
   "cell_type": "markdown",
   "id": "2b2f8bc6-53e2-417c-8a56-188a7f8ed575",
   "metadata": {
    "jp-MarkdownHeadingCollapsed": true
   },
   "source": [
    "## Connect to OpenAI API"
   ]
  },
  {
   "cell_type": "code",
   "execution_count": 26,
   "id": "d36cccf2-dec2-4301-a9d3-2912078f4af0",
   "metadata": {},
   "outputs": [],
   "source": [
    "from openai import OpenAI\n",
    "\n",
    "# Read key from file\n",
    "with open(\"openai-key.txt\", \"r\") as f:\n",
    "    api_key = f.read().strip()\n",
    "\n",
    "client = OpenAI(api_key=api_key)"
   ]
  },
  {
   "cell_type": "markdown",
   "id": "2c152843-b662-438d-a012-a8b51f265717",
   "metadata": {},
   "source": [
    "### Define API call"
   ]
  },
  {
   "cell_type": "code",
   "execution_count": 27,
   "id": "81785d3f-22a2-4a9a-b8a8-f3017b78e91f",
   "metadata": {},
   "outputs": [],
   "source": [
    "def call_openai_api(prompt, model=\"gpt-3.5-turbo\", temperature=0.7):\n",
    "    response = client.chat.completions.create(\n",
    "        model=model,\n",
    "        messages=[\n",
    "            {\"role\": \"user\", \"content\": prompt}\n",
    "        ],\n",
    "        temperature=temperature\n",
    "    )\n",
    "    return response.choices[0].message.content"
   ]
  },
  {
   "cell_type": "markdown",
   "id": "04abf4bb-cc15-4d4b-80d9-32e6b77e70e5",
   "metadata": {},
   "source": [
    "### Define answer extractor"
   ]
  },
  {
   "cell_type": "code",
   "execution_count": 69,
   "id": "456ebedd-22a4-4f92-9444-f0ef26a1e6b1",
   "metadata": {},
   "outputs": [],
   "source": [
    "import re\n",
    "\n",
    "def extract_answer_letter(response):\n",
    "    # Look for something like: \"Resposta final: D) ...\" or \"Resposta final: D\"\n",
    "    match = re.search(r\"Resposta final\\s*[:\\-]?\\s*([A-E])\\s?\\)\", response, re.IGNORECASE)\n",
    "    if not match:\n",
    "        match = re.search(r\"Resposta final\\s*[:\\-]?\\s*([A-E])\\b\", response, re.IGNORECASE)\n",
    "    return match.group(1) if match else None"
   ]
  },
  {
   "cell_type": "markdown",
   "id": "9c11a685-82cc-4f09-a339-1dbc4e6e7929",
   "metadata": {},
   "source": [
    "## Define a Chain-of-Thought (CoT) template"
   ]
  },
  {
   "cell_type": "code",
   "execution_count": 4,
   "id": "04859ca5-e773-4c1b-85de-5ecb8fb03304",
   "metadata": {},
   "outputs": [],
   "source": [
    "def build_cot_prompt(question_obj):\n",
    "    question = question_obj[\"question\"]\n",
    "    options = question_obj[\"alternatives\"]\n",
    "    option_letters = [\"A\", \"B\", \"C\", \"D\", \"E\"]\n",
    "    formatted_options = \"\\n\".join([f\"{letter}) {text}\" for letter, text in zip(option_letters, options)])\n",
    "    prompt = f\"\"\"Responda à seguinte pergunta com raciocínio passo a passo, explicando sua escolha antes de dar a resposta final.\n",
    "\n",
    "Pergunta:\n",
    "{question}\n",
    "\n",
    "Opções:\n",
    "{formatted_options}\n",
    "\n",
    "Explique sua resposta e depois diga a letra da alternativa correta no formato \"Resposta final: X\"\n",
    "\"\"\"\n",
    "    return prompt\n"
   ]
  },
  {
   "cell_type": "markdown",
   "id": "bb63263e-8769-4923-a95d-728f61d3e1e5",
   "metadata": {
    "jp-MarkdownHeadingCollapsed": true
   },
   "source": [
    "### Mock CoT model response for testing"
   ]
  },
  {
   "cell_type": "code",
   "execution_count": 17,
   "id": "ea6ab29b-c494-41c3-abb5-942ceeebf188",
   "metadata": {},
   "outputs": [],
   "source": [
    "import random\n",
    "\n",
    "def mock_model_response(prompt, technique=\"cot\"):\n",
    "    # Randomly pick an answer letter from A to E\n",
    "    answer_letter = random.choice([\"A\", \"B\", \"C\", \"D\", \"E\"])\n",
    "\n",
    "    # Simulated explanation for Chain-of-Thought\n",
    "    explanation = f\"\"\"Claro! Vamos pensar passo a passo...\n",
    "\n",
    "[Simulação de raciocínio baseado no conteúdo da pergunta]\n",
    "\n",
    "Resposta final: {answer_letter}\"\"\"\n",
    "    \n",
    "    return explanation"
   ]
  },
  {
   "cell_type": "code",
   "execution_count": 18,
   "id": "e1d3b883-4a95-4d68-b37d-a25d66ad2ae6",
   "metadata": {},
   "outputs": [],
   "source": [
    "import re\n",
    "\n",
    "def extract_answer_letter(response):\n",
    "    match = re.search(r\"Resposta final: ([A-E])\", response)\n",
    "    if match:\n",
    "        return match.group(1)\n",
    "    return None\n"
   ]
  },
  {
   "cell_type": "markdown",
   "id": "621e6438-8077-45f1-923c-794cd031f68a",
   "metadata": {},
   "source": [
    "### Test CoT template with a mock response"
   ]
  },
  {
   "cell_type": "code",
   "execution_count": 10,
   "id": "87c243c6-dafa-4d54-b7aa-6403c20f6a21",
   "metadata": {
    "scrolled": true
   },
   "outputs": [
    {
     "name": "stdout",
     "output_type": "stream",
     "text": [
      "Prompt:\n",
      "Responda à seguinte pergunta com raciocínio passo a passo, explicando sua escolha antes de dar a resposta final.\n",
      "\n",
      "Pergunta:\n",
      "Impactos do microplástico\n",
      "A ação de fatores abióticos aliada à biodeterioração contribuem para a formação de microplásticos, os quais se aderem a outros poluentes orgânicos apolares persistentes, como os derivados de pesticidas lipossolúveis. Há uma proporcionalidade direta entre a solubilidade desses tipos de poluentes e sua concentração nos tecidos dos organismos expostos a eles.\n",
      "Em animais vertebrados, essa associação de poluentes será preferencialmente acumulada no tecido\n",
      "\n",
      "Opções:\n",
      "A) ósseo.\n",
      "B) nervoso.\n",
      "C) epitelial.\n",
      "D) adiposo.\n",
      "E) sanguíneo.\n",
      "\n",
      "Explique sua resposta e depois diga a letra da alternativa correta no formato \"Resposta final: X\"\n",
      "\n",
      "\n",
      "Mocked Model Response:\n",
      "Claro! Vamos pensar passo a passo...\n",
      "\n",
      "[Simulação de raciocínio baseado no conteúdo da pergunta]\n",
      "\n",
      "Resposta final: B\n",
      "\n",
      "Predicted: B | Ground Truth: D\n"
     ]
    }
   ],
   "source": [
    "q = data[0]\n",
    "prompt = build_cot_prompt(q)\n",
    "response = mock_model_response(prompt)\n",
    "predicted = extract_answer_letter(response)\n",
    "\n",
    "print(\"Prompt:\")\n",
    "print(prompt)\n",
    "print(\"\\nMocked Model Response:\")\n",
    "print(response)\n",
    "print(f\"\\nPredicted: {predicted} | Ground Truth: {q['answer']}\")\n"
   ]
  },
  {
   "cell_type": "markdown",
   "id": "5ee9cf54-c250-403e-9e70-55e7521a2d5f",
   "metadata": {},
   "source": [
    "## Define a Chain-of-Verification (CoVe) template"
   ]
  },
  {
   "cell_type": "markdown",
   "id": "c16ab175-ce17-45d4-8696-d82bb0dee357",
   "metadata": {},
   "source": [
    "### Plan verifications"
   ]
  },
  {
   "cell_type": "code",
   "execution_count": 28,
   "id": "3a24a192-7373-4db6-9e7f-e7a0fb10d423",
   "metadata": {},
   "outputs": [],
   "source": [
    "def plan_verification_questions(question, baseline_answer):\n",
    "    plan_prompt = f\"\"\"Dada a seguinte pergunta e resposta, gere 2 a 4 perguntas para verificar os fatos principais da resposta.\n",
    "\n",
    "Pergunta: {question}\n",
    "\n",
    "Resposta: {baseline_answer}\n",
    "\n",
    "Liste as perguntas de verificação:\"\"\"\n",
    "    return call_openai_api(plan_prompt)\n"
   ]
  },
  {
   "cell_type": "markdown",
   "id": "1dd504a1-1737-4fd0-93ab-45f6f49ffd85",
   "metadata": {},
   "source": [
    "### Execute verifications"
   ]
  },
  {
   "cell_type": "code",
   "execution_count": 29,
   "id": "c8c8baa5-af8c-491c-8402-541d2abd3957",
   "metadata": {},
   "outputs": [],
   "source": [
    "def execute_verifications(verification_questions):\n",
    "    verifications = []\n",
    "    for q in verification_questions:\n",
    "        answer = call_openai_api(q)\n",
    "        verifications.append((q, answer))\n",
    "    return verifications"
   ]
  },
  {
   "cell_type": "markdown",
   "id": "e9423cfc-4baa-4ee1-922f-cedf4f2b1cbe",
   "metadata": {},
   "source": [
    "### Generate final verified answer"
   ]
  },
  {
   "cell_type": "code",
   "execution_count": 64,
   "id": "03fa6adf-efa6-4c8c-b9d4-88b0db988f1c",
   "metadata": {},
   "outputs": [],
   "source": [
    "def generate_final_verified_answer(question, original_answer, verifications, options=None):\n",
    "    vtext = \"\\n\".join([f\"Q: {q}\\nA: {a}\" for q, a in verifications])\n",
    "    options_text = \"\\n\".join([f\"{chr(65+i)}) {opt}\" for i, opt in enumerate(options)]) if options else \"\"\n",
    "    \n",
    "    revise_prompt = f\"\"\"\n",
    "Revise a resposta abaixo com base nas verificações.\n",
    "\n",
    "Pergunta: {question}\n",
    "\n",
    "Alternativas:\n",
    "{options_text}\n",
    "\n",
    "Resposta original: {original_answer}\n",
    "\n",
    "Verificações:\n",
    "{vtext}\n",
    "\n",
    "Resposta final verificada:\n",
    "[Inclua uma explicação revisada, seguida de uma linha como: \"Resposta final: X\", onde X é a letra correta entre A e E.]\n",
    "\"\"\"\n",
    "    return call_openai_api(revise_prompt)"
   ]
  },
  {
   "cell_type": "markdown",
   "id": "65a09aba-a82a-4a9f-ae9d-ea31ccd4173f",
   "metadata": {},
   "source": [
    "## Tests"
   ]
  },
  {
   "cell_type": "markdown",
   "id": "c5b656ca-95d0-4b59-9eac-2d8e036d5b81",
   "metadata": {
    "jp-MarkdownHeadingCollapsed": true
   },
   "source": [
    "### Helpers"
   ]
  },
  {
   "cell_type": "code",
   "execution_count": 54,
   "id": "1c8f6eb2-f780-4951-9aea-30c3aad7e9ae",
   "metadata": {
    "jupyter": {
     "source_hidden": true
    }
   },
   "outputs": [],
   "source": [
    "import pandas as pd\n",
    "\n",
    "def calculate_accuracy(results):\n",
    "    \"\"\"Returns overall accuracy from a list of result dicts.\"\"\"\n",
    "    correct = sum(r[\"correct\"] for r in results if r[\"predicted\"] is not None)\n",
    "    total = sum(1 for r in results if r[\"predicted\"] is not None)\n",
    "    accuracy = (correct / total) * 100 if total > 0 else 0\n",
    "    return correct, total, accuracy\n",
    "\n",
    "\n",
    "def results_by_subject(results):\n",
    "    \"\"\"Aggregates accuracy grouped by subject (assumes 'subject' is in each result).\"\"\"\n",
    "    df = pd.DataFrame(results)\n",
    "    if \"subject\" not in df.columns:\n",
    "        print(\"⚠️ 'subject' not found in results.\")\n",
    "        return None\n",
    "    \n",
    "    summary = df.groupby(\"subject\")[\"correct\"].agg([\"sum\", \"count\"])\n",
    "    summary[\"accuracy (%)\"] = (summary[\"sum\"] / summary[\"count\"]) * 100\n",
    "    return summary"
   ]
  },
  {
   "cell_type": "markdown",
   "id": "7598681d-2e84-4161-857a-67537ac19922",
   "metadata": {
    "jp-MarkdownHeadingCollapsed": true
   },
   "source": [
    "### Test CoT with GPT"
   ]
  },
  {
   "cell_type": "markdown",
   "id": "c57f9047-080a-413d-b4d7-b6b67080f9c8",
   "metadata": {},
   "source": [
    "#### Test CoT with a single question"
   ]
  },
  {
   "cell_type": "code",
   "execution_count": 15,
   "id": "0c8180bd-6ff6-4648-a764-737d1ec7133c",
   "metadata": {},
   "outputs": [
    {
     "name": "stdout",
     "output_type": "stream",
     "text": [
      "Prompt:\n",
      " Responda à seguinte pergunta com raciocínio passo a passo, explicando sua escolha antes de dar a resposta final.\n",
      "\n",
      "Pergunta:\n",
      "Impactos do microplástico\n",
      "A ação de fatores abióticos aliada à biodeterioração contribuem para a formação de microplásticos, os quais se aderem a outros poluentes orgânicos apolares persistentes, como os derivados de pesticidas lipossolúveis. Há uma proporcionalidade direta entre a solubilidade desses tipos de poluentes e sua concentração nos tecidos dos organismos expostos a eles.\n",
      "Em animais vertebrados, essa associação de poluentes será preferencialmente acumulada no tecido\n",
      "\n",
      "Opções:\n",
      "A) ósseo.\n",
      "B) nervoso.\n",
      "C) epitelial.\n",
      "D) adiposo.\n",
      "E) sanguíneo.\n",
      "\n",
      "Explique sua resposta e depois diga a letra da alternativa correta no formato \"Resposta final: X\"\n",
      "\n",
      "\n",
      "Model Response:\n",
      " Para responder a essa pergunta, devemos considerar que os microplásticos e poluentes orgânicos apolares persistentes são substâncias que podem se acumular nos tecidos dos organismos expostos a eles. Levando em conta a propriedade lipossolúvel desses poluentes, é mais provável que se acumulem em tecidos ricos em gordura, como o tecido adiposo.\n",
      "\n",
      "Portanto, a resposta correta é:\n",
      "\n",
      "Resposta final: D) adiposo.\n",
      "\n",
      "Predicted: D | Ground Truth: D\n"
     ]
    }
   ],
   "source": [
    "q = data[0]\n",
    "prompt = build_cot_prompt(q)\n",
    "response = call_openai_api(prompt)\n",
    "predicted = extract_answer_letter(response)\n",
    "\n",
    "print(\"Prompt:\\n\", prompt)\n",
    "print(\"\\nModel Response:\\n\", response)\n",
    "print(f\"\\nPredicted: {predicted} | Ground Truth: {q['answer']}\")\n"
   ]
  },
  {
   "cell_type": "markdown",
   "id": "dc41fb0b-d54e-434e-a3a9-f82c5be46c28",
   "metadata": {
    "jp-MarkdownHeadingCollapsed": true
   },
   "source": [
    "#### CoT evaluation loop over sample questions"
   ]
  },
  {
   "cell_type": "code",
   "execution_count": 42,
   "id": "7c8ebddc-ecd7-4b6c-883b-8af67a368e9f",
   "metadata": {},
   "outputs": [],
   "source": [
    "cot_results = []\n",
    "\n",
    "for q in data:\n",
    "    prompt = build_cot_prompt(q)\n",
    "    try:\n",
    "        response = call_openai_api(prompt)\n",
    "        predicted = extract_answer_letter(response)\n",
    "    except Exception as e:\n",
    "        response = str(e)\n",
    "        predicted = None\n",
    "    \n",
    "    cot_results.append({\n",
    "        \"id\": q[\"id\"],\n",
    "        \"subject\": q[\"subject\"],\n",
    "        \"ground_truth\": q[\"answer\"],\n",
    "        \"predicted\": predicted,\n",
    "        \"correct\": predicted == q[\"answer\"],\n",
    "        \"response\": response\n",
    "    })\n"
   ]
  },
  {
   "cell_type": "markdown",
   "id": "a40204d9-3fd8-42c5-bdb3-16cd09913cb6",
   "metadata": {},
   "source": [
    "#### CoT Results"
   ]
  },
  {
   "cell_type": "code",
   "execution_count": 55,
   "id": "22d2b43a-b97e-4091-a12e-fed0e8ebd2a8",
   "metadata": {
    "scrolled": true
   },
   "outputs": [
    {
     "data": {
      "text/html": [
       "<div>\n",
       "<style scoped>\n",
       "    .dataframe tbody tr th:only-of-type {\n",
       "        vertical-align: middle;\n",
       "    }\n",
       "\n",
       "    .dataframe tbody tr th {\n",
       "        vertical-align: top;\n",
       "    }\n",
       "\n",
       "    .dataframe thead th {\n",
       "        text-align: right;\n",
       "    }\n",
       "</style>\n",
       "<table border=\"1\" class=\"dataframe\">\n",
       "  <thead>\n",
       "    <tr style=\"text-align: right;\">\n",
       "      <th></th>\n",
       "      <th>id</th>\n",
       "      <th>subject</th>\n",
       "      <th>ground_truth</th>\n",
       "      <th>predicted</th>\n",
       "      <th>correct</th>\n",
       "      <th>response</th>\n",
       "    </tr>\n",
       "  </thead>\n",
       "  <tbody>\n",
       "    <tr>\n",
       "      <th>0</th>\n",
       "      <td>questao_94</td>\n",
       "      <td>Biologia</td>\n",
       "      <td>D</td>\n",
       "      <td>D</td>\n",
       "      <td>True</td>\n",
       "      <td>Para responder a essa pergunta, devemos analisar o tipo de poluentes orgânicos apolares persistentes que se aderem aos microplásticos, que são os derivados de pesticidas lipossolúveis. Sabemos que compostos lipossolúveis têm afinidade por tecidos adiposos, devido à sua natureza lipofílica.\\n\\nPortanto, levando em consideração que a associação de poluentes será preferencialmente acumulada nos tecidos que possuem maior afinidade por compostos lipossolúveis, a resposta correta é:\\n\\nResposta final: D) adiposo.</td>\n",
       "    </tr>\n",
       "    <tr>\n",
       "      <th>1</th>\n",
       "      <td>questao_95</td>\n",
       "      <td>Física</td>\n",
       "      <td>D</td>\n",
       "      <td>D</td>\n",
       "      <td>True</td>\n",
       "      <td>Para justificar o procedimento de retirar os computadores portáteis das malas, mochilas ou bolsas e passá-los isoladamente pela esteira de raios X, é importante considerar a interação dos raios X com os componentes do computador. Os raios X são capazes de atravessar materiais menos densos, como tecidos e plásticos, mas podem ser bloqueados por materiais mais densos, como metais.\\n\\nDessa forma, ao passar o computador isoladamente pela esteira de raios X, é possível garantir que os agentes de segurança possam visualizar com clareza todos os componentes do dispositivo, sem a interferência de outros materiais presentes na bagagem de mão que possam dificultar a inspeção.\\n\\nResposta final: D) Os raios X não atravessam os componentes densos do computador, o que impede a visualização de objetos que estão à frente ou atrás deles.</td>\n",
       "    </tr>\n",
       "    <tr>\n",
       "      <th>2</th>\n",
       "      <td>questao_96</td>\n",
       "      <td>Química</td>\n",
       "      <td>E</td>\n",
       "      <td>E</td>\n",
       "      <td>True</td>\n",
       "      <td>O processo de formação de compostos nitrosos a partir do nitrito de sódio e ácido clorídrico ocorre no estômago, uma vez que é no estômago que ocorre a digestão dos alimentos, incluindo a digestão de proteínas. Durante a digestão de alimentos ricos em proteínas, como carnes, as aminas presentes nesses alimentos podem reagir com o ácido nitroso produzido a partir do nitrito de sódio, resultando na formação de compostos nitrosos mutagênicos.\\n\\nResposta final: E) Estômago</td>\n",
       "    </tr>\n",
       "    <tr>\n",
       "      <th>3</th>\n",
       "      <td>questao_97</td>\n",
       "      <td>Biologia</td>\n",
       "      <td>B</td>\n",
       "      <td>B</td>\n",
       "      <td>True</td>\n",
       "      <td>Para responder a essa pergunta, é importante entender o conceito de sistemas agroflorestais (SAFs) e como eles se relacionam com processos naturais. Os SAFs são sistemas de produção agrícola que combinam árvores, culturas agrícolas e/ou animais no mesmo espaço, de forma integrada e sustentável. Essa integração beneficia tanto a produção econômica quanto a conservação ambiental.\\n\\nAo analisar as opções dadas, podemos descartar algumas delas. Por exemplo, a rotação de culturas é um sistema de manejo agrícola que envolve alternar diferentes culturas em um mesmo espaço ao longo do tempo, mas não necessariamente se relaciona com a integração de árvores e animais, característica dos SAFs.\\n\\nA adaptação por seleção e a convergência adaptativa são processos evolutivos que ocorrem ao longo de gerações em populações de organismos, não sendo aplicáveis ao contexto dos sistemas agroflorestais.\\n\\nA coevolução específica é um processo em que duas espécies interagem e evoluem em resposta uma à outra, o que não abrange necessariamente a integração de elementos vegetais e animais em um mesmo sistema de produção.\\n\\nA sucessão ecológica, por sua vez, é um processo natural em que a composição e estrutura de uma comunidade biológica mudam ao longo do tempo, em um padrão previsível. Esse processo envolve a substituição gradual de espécies em um determinado ambiente, levando à formação de comunidades mais complexas e estáveis.\\n\\nDessa forma, a sucessão ecológica é o processo natural análogo às mudanças graduais e integradas observadas nos sistemas agroflorestais, já que ambos envolvem a transição para estados mais complexos e estáveis ao longo do tempo.\\n\\nResposta final: B) Sucessão ecológica.</td>\n",
       "    </tr>\n",
       "    <tr>\n",
       "      <th>4</th>\n",
       "      <td>questao_98</td>\n",
       "      <td>Biologia</td>\n",
       "      <td>B</td>\n",
       "      <td>B</td>\n",
       "      <td>True</td>\n",
       "      <td>Para responder a essa pergunta, é importante entender a diferença entre as fibras musculares brancas e vermelhas. As fibras musculares brancas são mais rápidas, mas se fadigam mais rapidamente, enquanto as fibras musculares vermelhas são mais resistentes à fadiga, porém mais lentas.\\n\\nConsiderando que o atleta tem uma maior proporção de fibras brancas, ele teria mais vantagem em uma atividade que exige explosão e velocidade, como o salto em altura (B) ou o ciclismo em estrada (E), onde a força e a potência muscular são mais importantes do que a resistência à fadiga.\\n\\nPortanto, a resposta correta é:\\n\\nResposta final: B) Salto em altura.</td>\n",
       "    </tr>\n",
       "    <tr>\n",
       "      <th>5</th>\n",
       "      <td>questao_99</td>\n",
       "      <td>Física</td>\n",
       "      <td>A</td>\n",
       "      <td>A</td>\n",
       "      <td>True</td>\n",
       "      <td>Para responder a essa pergunta, precisamos considerar a relação entre a distância entre o professor e o aluno, o ruído de fundo e a capacidade de compreensão da fala. \\n\\nEm ambientes com alto ruído de fundo, a distância entre o professor e o aluno influencia na capacidade de compreensão da fala. Quanto maior a distância, maior a dificuldade em ouvir e entender claramente o que está sendo dito.\\n\\nConsiderando que o ruído de fundo está em um valor máximo, a distância máxima que um estudante pode estar do professor para ainda conseguir compreender sua fala deve ser relativamente curta. Portanto, a opção mais próxima da qual a capacidade de compreensão da fala começa a ser comprometida é a mais correta.\\n\\nResposta final: A) 3,0 metros.</td>\n",
       "    </tr>\n",
       "  </tbody>\n",
       "</table>\n",
       "</div>"
      ],
      "text/plain": [
       "           id   subject ground_truth predicted  correct  \\\n",
       "0  questao_94  Biologia            D         D     True   \n",
       "1  questao_95    Física            D         D     True   \n",
       "2  questao_96   Química            E         E     True   \n",
       "3  questao_97  Biologia            B         B     True   \n",
       "4  questao_98  Biologia            B         B     True   \n",
       "5  questao_99    Física            A         A     True   \n",
       "\n",
       "                                                                                                                                                                                                                                                                                                                                                                                                                                                                                                                                                                                                                                                                                                                                                                                                                                                                                                                                                                                                                                                                                                                                                                                                                                                                                                                                                                                                                                                                                                                                                                                                                                                                                                                                                                    response  \n",
       "0                                                                                                                                                                                                                                                                                                                                                                                                                                                                                                                                                                                                                                                                                                                                                                                                                                                                                                                                                                                                                                                                                                                                                                                                                                           Para responder a essa pergunta, devemos analisar o tipo de poluentes orgânicos apolares persistentes que se aderem aos microplásticos, que são os derivados de pesticidas lipossolúveis. Sabemos que compostos lipossolúveis têm afinidade por tecidos adiposos, devido à sua natureza lipofílica.\\n\\nPortanto, levando em consideração que a associação de poluentes será preferencialmente acumulada nos tecidos que possuem maior afinidade por compostos lipossolúveis, a resposta correta é:\\n\\nResposta final: D) adiposo.  \n",
       "1                                                                                                                                                                                                                                                                                                                                                                                                                                                                                                                                                                                                                                                                                                                                                                                                                                                                                                         Para justificar o procedimento de retirar os computadores portáteis das malas, mochilas ou bolsas e passá-los isoladamente pela esteira de raios X, é importante considerar a interação dos raios X com os componentes do computador. Os raios X são capazes de atravessar materiais menos densos, como tecidos e plásticos, mas podem ser bloqueados por materiais mais densos, como metais.\\n\\nDessa forma, ao passar o computador isoladamente pela esteira de raios X, é possível garantir que os agentes de segurança possam visualizar com clareza todos os componentes do dispositivo, sem a interferência de outros materiais presentes na bagagem de mão que possam dificultar a inspeção.\\n\\nResposta final: D) Os raios X não atravessam os componentes densos do computador, o que impede a visualização de objetos que estão à frente ou atrás deles.  \n",
       "2                                                                                                                                                                                                                                                                                                                                                                                                                                                                                                                                                                                                                                                                                                                                                                                                                                                                                                                                                                                                                                                                                                                                                                                                                                                                                 O processo de formação de compostos nitrosos a partir do nitrito de sódio e ácido clorídrico ocorre no estômago, uma vez que é no estômago que ocorre a digestão dos alimentos, incluindo a digestão de proteínas. Durante a digestão de alimentos ricos em proteínas, como carnes, as aminas presentes nesses alimentos podem reagir com o ácido nitroso produzido a partir do nitrito de sódio, resultando na formação de compostos nitrosos mutagênicos.\\n\\nResposta final: E) Estômago  \n",
       "3  Para responder a essa pergunta, é importante entender o conceito de sistemas agroflorestais (SAFs) e como eles se relacionam com processos naturais. Os SAFs são sistemas de produção agrícola que combinam árvores, culturas agrícolas e/ou animais no mesmo espaço, de forma integrada e sustentável. Essa integração beneficia tanto a produção econômica quanto a conservação ambiental.\\n\\nAo analisar as opções dadas, podemos descartar algumas delas. Por exemplo, a rotação de culturas é um sistema de manejo agrícola que envolve alternar diferentes culturas em um mesmo espaço ao longo do tempo, mas não necessariamente se relaciona com a integração de árvores e animais, característica dos SAFs.\\n\\nA adaptação por seleção e a convergência adaptativa são processos evolutivos que ocorrem ao longo de gerações em populações de organismos, não sendo aplicáveis ao contexto dos sistemas agroflorestais.\\n\\nA coevolução específica é um processo em que duas espécies interagem e evoluem em resposta uma à outra, o que não abrange necessariamente a integração de elementos vegetais e animais em um mesmo sistema de produção.\\n\\nA sucessão ecológica, por sua vez, é um processo natural em que a composição e estrutura de uma comunidade biológica mudam ao longo do tempo, em um padrão previsível. Esse processo envolve a substituição gradual de espécies em um determinado ambiente, levando à formação de comunidades mais complexas e estáveis.\\n\\nDessa forma, a sucessão ecológica é o processo natural análogo às mudanças graduais e integradas observadas nos sistemas agroflorestais, já que ambos envolvem a transição para estados mais complexos e estáveis ao longo do tempo.\\n\\nResposta final: B) Sucessão ecológica.  \n",
       "4                                                                                                                                                                                                                                                                                                                                                                                                                                                                                                                                                                                                                                                                                                                                                                                                                                                                                                                                                                                                                                                                                                    Para responder a essa pergunta, é importante entender a diferença entre as fibras musculares brancas e vermelhas. As fibras musculares brancas são mais rápidas, mas se fadigam mais rapidamente, enquanto as fibras musculares vermelhas são mais resistentes à fadiga, porém mais lentas.\\n\\nConsiderando que o atleta tem uma maior proporção de fibras brancas, ele teria mais vantagem em uma atividade que exige explosão e velocidade, como o salto em altura (B) ou o ciclismo em estrada (E), onde a força e a potência muscular são mais importantes do que a resistência à fadiga.\\n\\nPortanto, a resposta correta é:\\n\\nResposta final: B) Salto em altura.  \n",
       "5                                                                                                                                                                                                                                                                                                                                                                                                                                                                                                                                                                                                                                                                                                                                                                                                                                                                                                                                                                                                   Para responder a essa pergunta, precisamos considerar a relação entre a distância entre o professor e o aluno, o ruído de fundo e a capacidade de compreensão da fala. \\n\\nEm ambientes com alto ruído de fundo, a distância entre o professor e o aluno influencia na capacidade de compreensão da fala. Quanto maior a distância, maior a dificuldade em ouvir e entender claramente o que está sendo dito.\\n\\nConsiderando que o ruído de fundo está em um valor máximo, a distância máxima que um estudante pode estar do professor para ainda conseguir compreender sua fala deve ser relativamente curta. Portanto, a opção mais próxima da qual a capacidade de compreensão da fala começa a ser comprometida é a mais correta.\\n\\nResposta final: A) 3,0 metros.  "
      ]
     },
     "execution_count": 55,
     "metadata": {},
     "output_type": "execute_result"
    }
   ],
   "source": [
    "df_cot = pd.DataFrame(cot_results)\n",
    "df_cot"
   ]
  },
  {
   "cell_type": "markdown",
   "id": "a1e99d08-0322-480b-b218-564035942654",
   "metadata": {},
   "source": [
    "#### Overall accuracy"
   ]
  },
  {
   "cell_type": "code",
   "execution_count": 57,
   "id": "bedefd4d-3821-4d54-ac93-0bc70e471ce1",
   "metadata": {
    "jupyter": {
     "source_hidden": true
    }
   },
   "outputs": [
    {
     "name": "stdout",
     "output_type": "stream",
     "text": [
      "CoVe Accuracy: 6/6 (100.0%)\n"
     ]
    }
   ],
   "source": [
    "correct, total, acc = calculate_accuracy(cot_results)\n",
    "print(f\"CoVe Accuracy: {correct}/{total} ({acc:.1f}%)\")"
   ]
  },
  {
   "cell_type": "markdown",
   "id": "3b589c1c-24f8-402d-a97f-998d356a18c6",
   "metadata": {},
   "source": [
    "#### Accuracy by Subject"
   ]
  },
  {
   "cell_type": "code",
   "execution_count": 58,
   "id": "a6692c15-e729-4908-86df-bab23701bb9f",
   "metadata": {
    "scrolled": true
   },
   "outputs": [
    {
     "data": {
      "text/html": [
       "<div>\n",
       "<style scoped>\n",
       "    .dataframe tbody tr th:only-of-type {\n",
       "        vertical-align: middle;\n",
       "    }\n",
       "\n",
       "    .dataframe tbody tr th {\n",
       "        vertical-align: top;\n",
       "    }\n",
       "\n",
       "    .dataframe thead th {\n",
       "        text-align: right;\n",
       "    }\n",
       "</style>\n",
       "<table border=\"1\" class=\"dataframe\">\n",
       "  <thead>\n",
       "    <tr style=\"text-align: right;\">\n",
       "      <th></th>\n",
       "      <th>sum</th>\n",
       "      <th>count</th>\n",
       "      <th>accuracy (%)</th>\n",
       "    </tr>\n",
       "    <tr>\n",
       "      <th>subject</th>\n",
       "      <th></th>\n",
       "      <th></th>\n",
       "      <th></th>\n",
       "    </tr>\n",
       "  </thead>\n",
       "  <tbody>\n",
       "    <tr>\n",
       "      <th>Biologia</th>\n",
       "      <td>3</td>\n",
       "      <td>3</td>\n",
       "      <td>100.0</td>\n",
       "    </tr>\n",
       "    <tr>\n",
       "      <th>Física</th>\n",
       "      <td>2</td>\n",
       "      <td>2</td>\n",
       "      <td>100.0</td>\n",
       "    </tr>\n",
       "    <tr>\n",
       "      <th>Química</th>\n",
       "      <td>1</td>\n",
       "      <td>1</td>\n",
       "      <td>100.0</td>\n",
       "    </tr>\n",
       "  </tbody>\n",
       "</table>\n",
       "</div>"
      ],
      "text/plain": [
       "          sum  count  accuracy (%)\n",
       "subject                           \n",
       "Biologia    3      3         100.0\n",
       "Física      2      2         100.0\n",
       "Química     1      1         100.0"
      ]
     },
     "execution_count": 58,
     "metadata": {},
     "output_type": "execute_result"
    }
   ],
   "source": [
    "results_by_subject(pd.DataFrame(cot_results))"
   ]
  },
  {
   "cell_type": "markdown",
   "id": "45d94ca7-912b-43a8-bcbd-ce43c3fd997d",
   "metadata": {},
   "source": [
    "### Test CoVe with GPT"
   ]
  },
  {
   "cell_type": "markdown",
   "id": "77fb5536-2203-48eb-88c6-3ac6108e31df",
   "metadata": {},
   "source": [
    "#### Test CoVe with a single question"
   ]
  },
  {
   "cell_type": "code",
   "execution_count": 70,
   "id": "5796fc1a-189f-45be-a6ee-c3b128f6238a",
   "metadata": {},
   "outputs": [
    {
     "name": "stdout",
     "output_type": "stream",
     "text": [
      "🔹 Baseline CoT Answer:\n",
      " Para responder a essa pergunta, devemos analisar a associação de poluentes apolares persistentes, como os microplásticos, com outros poluentes orgânicos lipossolúveis, e como isso afeta os tecidos dos animais vertebrados expostos a eles.\n",
      "\n",
      "Os poluentes lipossolúveis têm maior afinidade por tecidos adiposos, devido à sua natureza lipofílica. Portanto, os poluentes associados aos microplásticos serão preferencialmente acumulados nos tecidos adiposos dos animais vertebrados.\n",
      "\n",
      "Resposta final: D) adiposo.\n",
      "\n",
      "🔹 Verification Questions:\n",
      "- 1. Como a ação de fatores abióticos contribui para a formação de microplásticos?\n",
      "- 2. Qual a relação entre os microplásticos e os poluentes orgânicos apolares persistentes?\n",
      "- 3. Por que os poluentes associados aos microplásticos são preferencialmente acumulados nos tecidos adiposos dos animais vertebrados?\n",
      "- 4. Qual a importância da solubilidade dos poluentes na concentração nos tecidos dos organismos expostos a eles?\n",
      "\n",
      "🔹 Verification Answers:\n",
      "Q: 1. Como a ação de fatores abióticos contribui para a formação de microplásticos?\n",
      "A: Os fatores abióticos, como a ação dos raios UV, temperatura e movimento da água, podem contribuir para a fragmentação de plásticos maiores em microplásticos. Por exemplo, a exposição prolongada ao sol pode enfraquecer o plástico, tornando-o mais suscetível à quebra em pedaços menores. Além disso, o movimento da água pode desgastar o plástico e contribuir para a sua fragmentação. Em conjunto, esses fatores abióticos podem desempenhar um papel importante na formação de microplásticos no meio ambiente.\n",
      "\n",
      "Q: 2. Qual a relação entre os microplásticos e os poluentes orgânicos apolares persistentes?\n",
      "A: Os microplásticos podem atuar como vetores de poluentes orgânicos apolares persistentes, que são substâncias químicas tóxicas e de difícil degradação, como os pesticidas e os retardantes de chama. Esses poluentes podem se adsorver à superfície dos microplásticos e serem transportados pelos oceanos, contaminando os organismos marinhos e entrando na cadeia alimentar. Além disso, os microplásticos podem aumentar a exposição dos organismos a esses poluentes, uma vez que podem ser ingeridos e liberar os poluentes no trato digestivo. Assim, a presença de microplásticos pode amplificar os impactos dos poluentes orgânicos apolares persistentes no meio ambiente marinho.\n",
      "\n",
      "Q: 3. Por que os poluentes associados aos microplásticos são preferencialmente acumulados nos tecidos adiposos dos animais vertebrados?\n",
      "A: Os poluentes associados aos microplásticos são preferencialmente acumulados nos tecidos adiposos dos animais vertebrados devido às propriedades físico-químicas desses compostos. Os poluentes são frequentemente lipofílicos, o que significa que têm uma afinidade natural por gorduras e lipídios. Os tecidos adiposos dos animais vertebrados são ricos em gordura e lipídios, o que os torna um local ideal para a acumulação desses poluentes.\n",
      "\n",
      "Além disso, os microplásticos podem adsorver compostos orgânicos persistentes (COPs) presentes no ambiente, como pesticidas e produtos químicos industriais. Esses COPs têm uma tendência a se acumular nos tecidos adiposos dos animais devido às suas propriedades lipofílicas. Portanto, os microplásticos podem atuar como vetores para a acumulação de poluentes nos tecidos adiposos dos animais vertebrados.\n",
      "\n",
      "Q: 4. Qual a importância da solubilidade dos poluentes na concentração nos tecidos dos organismos expostos a eles?\n",
      "A: A solubilidade dos poluentes é importante pois influencia diretamente na capacidade de absorção e distribuição dessas substâncias nos tecidos dos organismos. Poluentes solúveis em água, por exemplo, tendem a se acumular em tecidos mais hidratados, como os rins e o fígado, enquanto poluentes solúveis em gordura tendem a se acumular em tecidos adiposos.\n",
      "\n",
      "Além disso, a solubilidade dos poluentes afeta a velocidade com que eles são eliminados do organismo. Poluentes altamente solúveis podem ser rapidamente excretados através da urina, enquanto poluentes pouco solúveis podem se acumular nos tecidos por um longo período de tempo, podendo causar danos à saúde dos organismos expostos.\n",
      "\n",
      "Portanto, a solubilidade dos poluentes é um fator importante a ser considerado na avaliação dos riscos à saúde ambiental, uma vez que influencia diretamente na concentração dessas substâncias nos tecidos dos organismos e, consequentemente, nos possíveis efeitos adversos à saúde.\n",
      "\n",
      "🔹 Final Verified Answer:\n",
      " Os poluentes associados aos microplásticos, devido às suas propriedades lipofílicas, têm maior afinidade por tecidos adiposos. Portanto, esses poluentes serão preferencialmente acumulados nos tecidos adiposos dos animais vertebrados expostos a eles.\n",
      "\n",
      "Resposta final: D) adiposo.\n",
      "\n",
      "✅ Predicted Answer: D\n",
      "🎯 Ground Truth: D\n",
      "🎉 CORRECT!\n"
     ]
    }
   ],
   "source": [
    "# Step 1: Pick a question\n",
    "q = data[0]\n",
    "question_text = q[\"question\"]\n",
    "prompt = build_cot_prompt(q)\n",
    "\n",
    "# Step 2: Baseline CoT answer\n",
    "baseline_answer = call_openai_api(prompt)\n",
    "\n",
    "print(\"🔹 Baseline CoT Answer:\\n\", baseline_answer)\n",
    "\n",
    "# Step 3: Plan verification questions\n",
    "verification_qs_raw = plan_verification_questions(question_text, baseline_answer)\n",
    "\n",
    "# Split the response into individual questions if the model gives a list\n",
    "verification_questions = [line.strip(\"- \").strip() for line in verification_qs_raw.split(\"\\n\") if line.strip()]\n",
    "\n",
    "print(\"\\n🔹 Verification Questions:\")\n",
    "for qv in verification_questions:\n",
    "    print(\"-\", qv)\n",
    "\n",
    "# Step 4: Execute verification\n",
    "verifications = execute_verifications(verification_questions)\n",
    "\n",
    "print(\"\\n🔹 Verification Answers:\")\n",
    "for qv, av in verifications:\n",
    "    print(f\"Q: {qv}\\nA: {av}\\n\")\n",
    "\n",
    "# Step 5: Generate final verified answer\n",
    "final_answer = generate_final_verified_answer(question_text, baseline_answer, verifications)\n",
    "\n",
    "print(\"🔹 Final Verified Answer:\\n\", final_answer)\n",
    "\n",
    "# Step 6: Extract predicted letter and compare to ground truth\n",
    "predicted = extract_answer_letter(final_answer)\n",
    "ground_truth = q[\"answer\"]\n",
    "\n",
    "print(f\"\\n✅ Predicted Answer: {predicted}\")\n",
    "print(f\"🎯 Ground Truth: {ground_truth}\")\n",
    "\n",
    "if predicted == ground_truth:\n",
    "    print(\"🎉 CORRECT!\")\n",
    "else:\n",
    "    print(\"❌ WRONG.\")\n"
   ]
  },
  {
   "cell_type": "markdown",
   "id": "79a03e0f-b5a3-405e-8aac-fc463428d4e2",
   "metadata": {},
   "source": [
    "#### CoVe evaluation loop over sample questions"
   ]
  },
  {
   "cell_type": "code",
   "execution_count": 71,
   "id": "1e2fe04e-7d84-4eb0-8a02-0fad4e4d8df7",
   "metadata": {
    "jupyter": {
     "source_hidden": true
    }
   },
   "outputs": [
    {
     "name": "stdout",
     "output_type": "stream",
     "text": [
      "[1/6] ✅ Predicted: D | Correct: D\n",
      "[2/6] ✅ Predicted: D | Correct: D\n",
      "[3/6] ✅ Predicted: E | Correct: E\n",
      "[4/6] ✅ Predicted: B | Correct: B\n",
      "[5/6] ✅ Predicted: B | Correct: B\n",
      "[6/6] ✅ Predicted: A | Correct: A\n"
     ]
    }
   ],
   "source": [
    "cove_results = []\n",
    "\n",
    "for i, q in enumerate(data):\n",
    "    try:\n",
    "        question_text = q[\"question\"]\n",
    "        correct_answer = q[\"answer\"]\n",
    "\n",
    "        # 1. Build CoT-style prompt\n",
    "        prompt = build_cot_prompt(q)\n",
    "\n",
    "        # 2. Baseline CoT response\n",
    "        baseline_answer = call_openai_api(prompt)\n",
    "        \n",
    "        # 3. Plan verifications\n",
    "        verification_qs_raw = plan_verification_questions(question_text, baseline_answer)\n",
    "        verification_questions = [line.strip(\"- \").strip() for line in verification_qs_raw.split(\"\\n\") if line.strip()]\n",
    "\n",
    "        # 4. Execute verifications\n",
    "        verifications = execute_verifications(verification_questions)\n",
    "\n",
    "        # 5. Final revised answer\n",
    "        final_answer = generate_final_verified_answer(\n",
    "            question_text, baseline_answer, verifications, q[\"alternatives\"]\n",
    "        )\n",
    "\n",
    "        # 6. Extract answer letter (A–E)\n",
    "        predicted = extract_answer_letter(final_answer)\n",
    "\n",
    "        # 7. Record result\n",
    "        cove_results.append({\n",
    "            \"index\": i,\n",
    "            \"question\": question_text,\n",
    "            \"true_answer\": correct_answer,\n",
    "            \"predicted\": predicted,\n",
    "            \"correct\": predicted == correct_answer,\n",
    "            \"baseline_answer\": baseline_answer,\n",
    "            \"final_answer\": final_answer,\n",
    "            \"verification_qs\": verification_questions,\n",
    "            \"verification_a\": verifications,\n",
    "            \"subject\": q.get(\"subject\", \"unknown\")\n",
    "        })\n",
    "\n",
    "        print(f\"[{i+1}/{len(data)}] ✅ Predicted: {predicted} | Correct: {correct_answer}\")\n",
    "\n",
    "    except Exception as e:\n",
    "        print(f\"[{i+1}/{len(data)}] ❌ Error: {e}\")\n",
    "        cove_results.append({\n",
    "            \"index\": i,\n",
    "            \"question\": question_text,\n",
    "            \"true_answer\": correct_answer,\n",
    "            \"predicted\": None,\n",
    "            \"correct\": False,\n",
    "            \"error\": str(e)\n",
    "        })\n"
   ]
  },
  {
   "cell_type": "markdown",
   "id": "982e9274-31c8-4e77-be57-12498bbd4149",
   "metadata": {
    "jp-MarkdownHeadingCollapsed": true
   },
   "source": [
    "#### CoVe results"
   ]
  },
  {
   "cell_type": "code",
   "execution_count": 72,
   "id": "b13c1c1c-b41c-4893-92c7-a00a9ffb2b4a",
   "metadata": {},
   "outputs": [
    {
     "data": {
      "text/html": [
       "<div>\n",
       "<style scoped>\n",
       "    .dataframe tbody tr th:only-of-type {\n",
       "        vertical-align: middle;\n",
       "    }\n",
       "\n",
       "    .dataframe tbody tr th {\n",
       "        vertical-align: top;\n",
       "    }\n",
       "\n",
       "    .dataframe thead th {\n",
       "        text-align: right;\n",
       "    }\n",
       "</style>\n",
       "<table border=\"1\" class=\"dataframe\">\n",
       "  <thead>\n",
       "    <tr style=\"text-align: right;\">\n",
       "      <th></th>\n",
       "      <th>index</th>\n",
       "      <th>question</th>\n",
       "      <th>true_answer</th>\n",
       "      <th>predicted</th>\n",
       "      <th>correct</th>\n",
       "      <th>baseline_answer</th>\n",
       "      <th>final_answer</th>\n",
       "      <th>verification_qs</th>\n",
       "      <th>verification_a</th>\n",
       "      <th>subject</th>\n",
       "    </tr>\n",
       "  </thead>\n",
       "  <tbody>\n",
       "    <tr>\n",
       "      <th>0</th>\n",
       "      <td>0</td>\n",
       "      <td>Impactos do microplástico\\nA ação de fatores abióticos aliada à biodeterioração contribuem para a formação de microplásticos, os quais se aderem a outros poluentes orgânicos apolares persistentes, como os derivados de pesticidas lipossolúveis. Há uma proporcionalidade direta entre a solubilidade desses tipos de poluentes e sua concentração nos tecidos dos organismos expostos a eles.\\nEm animais vertebrados, essa associação de poluentes será preferencialmente acumulada no tecido</td>\n",
       "      <td>D</td>\n",
       "      <td>D</td>\n",
       "      <td>True</td>\n",
       "      <td>Primeiramente, é importante destacar que os microplásticos têm sido uma preocupação crescente devido aos seus impactos negativos na saúde dos organismos marinhos e, consequentemente, na cadeia alimentar. \\n\\nConsiderando que os poluentes orgânicos apolares persistentes, como os derivados de pesticidas lipossolúveis, se aderem aos microplásticos e são acumulados nos tecidos dos organismos expostos a eles, é possível inferir que esses poluentes terão maior afinidade por tecidos ricos em lipídeos, uma vez que são lipossolúveis. \\n\\nDentre as opções apresentadas, o tecido que mais se destaca por sua alta concentração de lipídeos é o tecido adiposo. Portanto, é razoável afirmar que a associação de poluentes será preferencialmente acumulada no tecido adiposo dos animais vertebrados expostos a microplásticos.\\n\\nResposta final: D) adiposo.</td>\n",
       "      <td>Considerando que os poluentes orgânicos apolares persistentes, como os derivados de pesticidas lipossolúveis, se aderem aos microplásticos e são acumulados nos tecidos dos organismos expostos a eles, é possível inferir que esses poluentes terão maior afinidade por tecidos ricos em lipídeos, uma vez que são lipossolúveis. Dentre as opções apresentadas, o tecido que mais se destaca por sua alta concentração de lipídeos é o tecido adiposo. Portanto, é razoável afirmar que a associação de poluentes será preferencialmente acumulada no tecido adiposo dos animais vertebrados expostos a microplásticos.\\n\\nResposta final: D) adiposo.</td>\n",
       "      <td>[1. Quais são os fatores abióticos que contribuem para a formação de microplásticos?, 2. Como os derivados de pesticidas lipossolúveis se aderem aos microplásticos?, 3. Qual é a relação entre a solubilidade dos poluentes orgânicos apolares persistentes e sua concentração nos tecidos dos organismos expostos a eles?, 4. Por que os poluentes terão maior afinidade por tecidos ricos em lipídeos e qual tecido se destaca por sua alta concentração de lipídeos?]</td>\n",
       "      <td>[(1. Quais são os fatores abióticos que contribuem para a formação de microplásticos?, Alguns fatores abióticos que contribuem para a formação de microplásticos incluem a degradação de plásticos maiores devido à exposição à luz solar, calor e oxigênio, a ação mecânica de ondas e correntes oceânicas que quebram os plásticos em pedaços menores, e a abrasão de plásticos em superfícies como praias e rochas. Além disso, a poluição atmosférica também pode contribuir para a formação de microplásticos, uma vez que partículas de plástico podem ser transportadas pelo ar e depositadas em ambientes aquáticos.), (2. Como os derivados de pesticidas lipossolúveis se aderem aos microplásticos?, Os derivados de pesticidas lipossolúveis se aderem aos microplásticos devido à sua afinidade por materiais hidrofóbicos, como o plástico. Esses compostos possuem uma estrutura molecular que os torna solúveis em gorduras e não em água, o que os torna mais propensos a se ligarem a superfícies lipídicas, como o plástico. Além disso, a superfície dos microplásticos pode conter cargas elétricas que facilitam a adsorção dos pesticidas lipossolúveis. Uma vez aderidos aos microplásticos, esses compostos podem permanecer por períodos prolongados no ambiente, sendo potencialmente liberados e contaminando ecossistemas aquáticos e terrestres.), (3. Qual é a relação entre a solubilidade dos poluentes orgânicos apolares persistentes e sua concentração nos tecidos dos organismos expostos a eles?, A solubilidade dos poluentes orgânicos apolares persistentes está diretamente relacionada com sua capacidade de se acumular nos tecidos dos organismos expostos a eles. Como esses poluentes são insolúveis em água e tendem a se acumular em tecidos gordurosos, eles podem se acumular em níveis perigosos nos organismos ao longo do tempo. Isso ocorre porque esses poluentes são lipossolúveis e podem ser facilmente absorvidos pelas células e tecidos dos organismos, onde podem permanecer por longos períodos de tempo, causando danos à saúde dos organismos expostos. Portanto, quanto maior a solubilidade dos poluentes orgânicos apolares persistentes, maior será sua capacidade de se acumular nos tecidos dos organismos e causar danos à saúde.), (4. Por que os poluentes terão maior afinidade por tecidos ricos em lipídeos e qual tecido se destaca por sua alta concentração de lipídeos?, Os poluentes têm maior afinidade por tecidos ricos em lipídeos devido à sua natureza lipofílica, ou seja, eles têm mais afinidade por substâncias gordurosas do que por água. Os lipídeos são compostos por moléculas de gordura que possuem uma estrutura semelhante aos poluentes, o que facilita a sua absorção e acumulação nos tecidos ricos em lipídeos.\\n\\nUm dos tecidos que se destaca por sua alta concentração de lipídeos é o tecido adiposo, também conhecido como tecido gorduroso. Este tecido é composto principalmente por células de gordura, conhecidas como adipócitos, que armazenam energia na forma de lipídeos. Como resultado, o tecido adiposo é um dos principais locais de acumulação de poluentes lipofílicos no organismo.)]</td>\n",
       "      <td>Biologia</td>\n",
       "    </tr>\n",
       "    <tr>\n",
       "      <th>1</th>\n",
       "      <td>1</td>\n",
       "      <td>Em aeroportos, por razões de segurança, os passageiros devem ter suas bagagens de mão examinadas antes do embarque, passando-as em esteiras para sua inspeção por aparelhos de raios X. Nessas inspeções, os passageiros são orientados a retirar seus computadores portáteis (notebooks ou laptops) de malas, mochilas ou bolsas para passá-los isoladamente pela esteira.\\nQue explicação física justifica esse procedimento?</td>\n",
       "      <td>D</td>\n",
       "      <td>D</td>\n",
       "      <td>True</td>\n",
       "      <td>Para justificar o procedimento de passar os computadores portáteis isoladamente pela esteira de raios X, devemos considerar a interação dos raios X com os componentes desses dispositivos eletrônicos.\\n\\nOs raios X são capazes de atravessar materiais menos densos, como tecidos e plásticos, mas têm dificuldade em penetrar em materiais mais densos, como os componentes metálicos presentes nos computadores, como por exemplo, os circuitos integrados e o disco rígido.\\n\\nPortanto, ao passar o computador isoladamente pela esteira de raios X, é possível obter uma visualização mais clara dos objetos que estão dentro do equipamento, sem a interferência dos componentes densos que podem estar presentes em outras partes da bagagem de mão.\\n\\nResposta final: D) Os raios X não atravessam os componentes densos do computador, o que impede a visualização de objetos que estão à frente ou atrás deles.</td>\n",
       "      <td>Para justificar o procedimento de passar os computadores portáteis isoladamente pela esteira de raios X, devemos considerar a interação dos raios X com os componentes desses dispositivos eletrônicos.\\n\\nOs raios X não atravessam os componentes densos do computador, como circuitos integrados e disco rígido, o que impede a visualização de objetos que estão à frente ou atrás deles. Dessa forma, ao passar o computador isoladamente pela esteira de raios X, é possível obter uma visualização mais clara do conteúdo interno do equipamento, sem a interferência de outros objetos presentes na bagagem de mão.\\n\\nResposta final: D) Os raios X não atravessam os componentes densos do computador, o que impede a visualização de objetos que estão à frente ou atrás deles.</td>\n",
       "      <td>[1) Por que os passageiros são orientados a retirar os computadores portáteis de malas, mochilas ou bolsas antes de passá-los pela esteira de raios X?, 2) Qual a dificuldade dos raios X em penetrar em materiais mais densos, como os componentes metálicos presentes nos computadores?, 3) Por que a visualização dos objetos dentro do computador é mais clara ao passá-lo isoladamente pela esteira de raios X?, 4) Como a presença de componentes densos nos computadores interfere na visualização de objetos que estão à frente ou atrás deles durante a inspeção de segurança?]</td>\n",
       "      <td>[(1) Por que os passageiros são orientados a retirar os computadores portáteis de malas, mochilas ou bolsas antes de passá-los pela esteira de raios X?, Os passageiros são orientados a retirar os computadores portáteis de malas, mochilas ou bolsas antes de passá-los pela esteira de raios X, pois os computadores portáteis podem bloquear a visão dos agentes de segurança, dificultando a identificação de possíveis ameaças ou objetos proibidos. Além disso, ao separar os computadores portáteis, facilita-se o processo de inspeção e agiliza o fluxo de passageiros na área de segurança do aeroporto.), (2) Qual a dificuldade dos raios X em penetrar em materiais mais densos, como os componentes metálicos presentes nos computadores?, Os raios X têm dificuldade em penetrar em materiais mais densos, como os componentes metálicos presentes nos computadores, devido à sua alta densidade e composição molecular. Os raios X são absorvidos, dispersos ou refletidos por esses materiais, o que dificulta a obtenção de imagens claras e detalhadas desses componentes. Para contornar essa dificuldade, é necessário utilizar técnicas de imagem mais avançadas, como a tomografia computadorizada, que permitem visualizar com mais detalhes os componentes metálicos presentes nos computadores.), (3) Por que a visualização dos objetos dentro do computador é mais clara ao passá-lo isoladamente pela esteira de raios X?, A visualização dos objetos dentro do computador é mais clara ao passá-lo isoladamente pela esteira de raios X porque ao passar sozinho, o objeto não terá interferências de outros objetos que possam dificultar a visualização. Além disso, o raio X consegue penetrar no objeto e produzir uma imagem mais nítida e detalhada, permitindo uma melhor visualização do conteúdo interno do objeto. Quando vários objetos são passados juntos na esteira de raios X, a sobreposição de imagens pode tornar a visualização mais confusa e menos precisa.), (4) Como a presença de componentes densos nos computadores interfere na visualização de objetos que estão à frente ou atrás deles durante a inspeção de segurança?, A presença de componentes densos nos computadores pode interferir na visualização de objetos que estão à frente ou atrás deles durante a inspeção de segurança devido à obstrução da visão. Componentes densos, como placas de metal ou cabos grossos, podem bloquear parcialmente ou totalmente a visão do operador de segurança, dificultando a identificação de possíveis ameaças ou objetos suspeitos escondidos atrás ou dentro do computador.\\n\\nIsso pode aumentar o tempo necessário para realizar uma inspeção minuciosa e eficaz, além de diminuir a eficiência do processo de segurança. Portanto, é importante garantir que os computadores sejam projetados de forma a permitir uma fácil visualização de todos os lados do equipamento durante a inspeção de segurança. Medidas como o posicionamento estratégico de componentes e a utilização de materiais transparentes ou menos densos podem ajudar a minimizar essa interferência.)]</td>\n",
       "      <td>Física</td>\n",
       "    </tr>\n",
       "    <tr>\n",
       "      <th>2</th>\n",
       "      <td>2</td>\n",
       "      <td>Com base em testes realizados em ratos, concluiu-se que os compostos nitrosos são substâncias mutagênicas, ou seja, produzem mutações nas células e possivelmente câncer. Esses compostos podem ser obtidos pela reação entre o nitrito de sódio, que é um conservante adicionado às carnes, e o ácido clorídrico. O ácido nitroso produzido irá reagir com compostos nitrogenados, como as aminas, dando origem aos compostos nitrosos.\\nEm qual órgão esse processo será iniciado?</td>\n",
       "      <td>E</td>\n",
       "      <td>E</td>\n",
       "      <td>True</td>\n",
       "      <td>O processo de formação de compostos nitrosos a partir do nitrito de sódio e ácido clorídrico ocorre no estômago, uma vez que é lá que essas substâncias entram em contato. Além disso, o estômago é responsável por iniciar a digestão dos alimentos, onde ocorrem diversas reações químicas. \\n\\nPortanto, a resposta correta é:\\n\\nResposta final: E) Estômago.</td>\n",
       "      <td>O processo de formação de compostos nitrosos a partir do nitrito de sódio e ácido clorídrico ocorre no estômago, onde essas substâncias entram em contato e reagem para formar os compostos mutagênicos. Esses compostos podem danificar o material genético das células estomacais, levando a mutações e aumentando o risco de desenvolvimento de câncer gástrico.\\n\\nPortanto, a resposta correta é:\\n\\nResposta final: E) Estômago.</td>\n",
       "      <td>[1) Como ocorre a reação entre o nitrito de sódio e o ácido clorídrico no estômago para formar os compostos nitrosos?, 2) Qual é o papel do estômago na digestão dos alimentos e como isso está relacionado à formação de compostos nitrosos?, 3) Quais são os possíveis efeitos da ingestão de compostos nitrosos no estômago em relação à mutação das células e possível desenvolvimento de câncer?, 4) Existem medidas preventivas ou formas de evitar a formação de compostos nitrosos no estômago a partir do consumo de alimentos contendo nitrito de sódio?]</td>\n",
       "      <td>[(1) Como ocorre a reação entre o nitrito de sódio e o ácido clorídrico no estômago para formar os compostos nitrosos?, A reação entre o nitrito de sódio (NaNO2) e o ácido clorídrico (HCl) no estômago ocorre da seguinte forma:\\n\\nNaNO2 + HCl -&gt; HNO2 + NaCl\\n\\nNesta reação, o nitrito de sódio reage com o ácido clorídrico para formar ácido nitroso (HNO2) e cloreto de sódio (NaCl). O ácido nitroso pode ser convertido em compostos nitrosos, como nitrosaminas, que são considerados compostos carcinogênicos e podem ser prejudiciais à saúde. É importante limitar a ingestão de alimentos ricos em nitrito de sódio para evitar a formação desses compostos no estômago.), (2) Qual é o papel do estômago na digestão dos alimentos e como isso está relacionado à formação de compostos nitrosos?, O estômago desempenha um papel fundamental na digestão dos alimentos, uma vez que é responsável por armazenar, misturar e quebrar os alimentos em pedaços menores através da ação mecânica e química do suco gástrico. O suco gástrico contém ácido clorídrico e enzimas digestivas, como a pepsina, que ajudam a decompor as proteínas dos alimentos em aminoácidos.\\n\\nA formação de compostos nitrosos está relacionada à presença de nitratos e nitritos nos alimentos. Quando ingerimos alimentos ricos em nitratos, como vegetais de folhas verdes, estes compostos são convertidos em nitritos pela ação de bactérias na boca e no estômago. Os nitritos podem reagir com compostos presentes nos alimentos, como aminas, para formar compostos nitrosos, como os nitrosaminas.\\n\\nAs nitrosaminas são compostos considerados potencialmente carcinogênicos, ou seja, podem causar câncer. A exposição a altos níveis de nitrosaminas está associada a um maior risco de desenvolver câncer de estômago e outros tipos de câncer.\\n\\nPortanto, a digestão dos alimentos no estômago pode estar relacionada à formação de compostos nitrosos, especialmente se a dieta contiver alimentos ricos em nitratos e nitritos. É importante ter uma alimentação equilibrada e variada, e evitar o consumo excessivo de alimentos processados e embutidos, que muitas vezes contêm aditivos de nitratos e nitritos.), (3) Quais são os possíveis efeitos da ingestão de compostos nitrosos no estômago em relação à mutação das células e possível desenvolvimento de câncer?, A ingestão de compostos nitrosos no estômago pode ter diversos efeitos negativos, incluindo a mutação das células e o desenvolvimento de câncer. Os compostos nitrosos são conhecidos por serem agentes carcinogênicos, ou seja, substâncias que podem causar câncer.\\n\\nQuando os compostos nitrosos entram em contato com o estômago, eles podem reagir com outras substâncias presentes no ambiente ácido do estômago e formar compostos mutagênicos. Esses compostos mutagênicos podem danificar o material genético das células estomacais, levando a mutações que podem desencadear o desenvolvimento de câncer.\\n\\nAlém disso, os compostos nitrosos também podem danificar o revestimento protetor do estômago, tornando as células estomacais mais suscetíveis a danos e mutações. Isso pode aumentar o risco de desenvolvimento de câncer gástrico.\\n\\nPortanto, a ingestão de compostos nitrosos no estômago pode ser prejudicial e aumentar o risco de desenvolvimento de câncer gástrico. É importante evitar a exposição a essas substâncias e adotar hábitos saudáveis para reduzir o risco de câncer de estômago.), (4) Existem medidas preventivas ou formas de evitar a formação de compostos nitrosos no estômago a partir do consumo de alimentos contendo nitrito de sódio?, Sim, existem algumas medidas preventivas que podem ser adotadas para evitar a formação de compostos nitrosos no estômago a partir do consumo de alimentos contendo nitrito de sódio:\\n\\n1. Reduzir o consumo de alimentos processados e embutidos que contenham nitrito de sódio: opte por alimentos frescos e minimamente processados.\\n\\n2. Consumir alimentos ricos em vitamina C: a vitamina C pode ajudar a inibir a formação de compostos nitrosos no estômago. Inclua alimentos como frutas cítricas, kiwi, morangos e pimentões em sua dieta.\\n\\n3. Evitar o consumo de alimentos ricos em nitratos: alimentos como vegetais de folhas verdes, beterraba e cenoura podem conter nitratos que podem se transformar em nitritos no organismo.\\n\\n4. Evitar o consumo de bebidas alcoólicas em conjunto com alimentos contendo nitrito de sódio, pois o álcool pode aumentar a formação de compostos nitrosos.\\n\\n5. Cozinhar os alimentos a altas temperaturas: cozinhar os alimentos a altas temperaturas pode ajudar a reduzir a formação de compostos nitrosos.\\n\\nÉ importante ter em mente que a ingestão de nitrito de sódio em pequenas quantidades, dentro dos limites estabelecidos pelas autoridades de saúde, não representa um risco significativo para a saúde. No entanto, é sempre recomendável manter uma dieta equilibrada e variada, priorizando alimentos frescos e minimamente processados. Em caso de dúvidas ou preocupações, consulte um nutricionista ou profissional de saúde.)]</td>\n",
       "      <td>Química</td>\n",
       "    </tr>\n",
       "    <tr>\n",
       "      <th>3</th>\n",
       "      <td>3</td>\n",
       "      <td>Sistemas agroflorestais (SAFs)\\nOs sistemas agroflorestais alinham os interesses econômicos aos ecológicos. (...) O conjunto dessas mudanças graduais é análogo ao processo natural denominado</td>\n",
       "      <td>B</td>\n",
       "      <td>B</td>\n",
       "      <td>True</td>\n",
       "      <td>Para responder a essa pergunta, é importante entender o conceito de sistemas agroflorestais (SAFs) e sua relação com processos naturais. Os SAFs são sistemas de produção agrícola que combinam árvores, arbustos, plantas herbáceas e animais em um mesmo espaço, visando promover a integração e a interação entre esses elementos para alcançar benefícios econômicos, sociais e ambientais.\\n\\nAo analisar as opções apresentadas, podemos descartar as alternativas A, D e E, pois não estão diretamente relacionadas com o conceito de sistemas agroflorestais. \\n\\nA alternativa C, coevolução específica, refere-se à interação evolutiva entre duas espécies diferentes que dependem uma da outra. Embora a interação entre as diferentes espécies nos SAFs seja importante, a coevolução específica não aborda diretamente a combinação de elementos agrícolas e florestais em um mesmo sistema.\\n\\nPor fim, a alternativa correta é a B) sucessão ecológica. A sucessão ecológica é o processo natural de mudança na composição das espécies em uma determinada área ao longo do tempo, resultando em alterações na estrutura e na funcionalidade do ecossistema. Assim como a sucessão ecológica, os sistemas agroflorestais também promovem mudanças graduais na composição e na interação das espécies, visando a um equilíbrio ecológico e produtivo ao longo do tempo.\\n\\nResposta final: B) sucessão ecológica.</td>\n",
       "      <td>A alternativa correta em relação aos sistemas agroflorestais é a letra B) sucessão ecológica, pois os SAFs se baseiam na interação entre espécies vegetais e animais, promovendo uma sucessão ecológica que é fundamental para a sustentabilidade e resiliência desses sistemas.\\n\\nResposta final: B) sucessão ecológica.</td>\n",
       "      <td>[1. O que são sistemas agroflorestais (SAFs) e qual é o objetivo principal desses sistemas?, 2. Como os SAFs promovem a integração e interação entre árvores, arbustos, plantas herbáceas e animais em um mesmo espaço?, 3. Qual é a relação entre os SAFs e os benefícios econômicos, sociais e ambientais?, 4. Por que a alternativa B) sucessão ecológica é a correta em relação aos sistemas agroflorestais?]</td>\n",
       "      <td>[(1. O que são sistemas agroflorestais (SAFs) e qual é o objetivo principal desses sistemas?, Os sistemas agroflorestais (SAFs) são sistemas de produção agrícola que integram árvores, culturas agrícolas e/ou animais em uma mesma área. O objetivo principal desses sistemas é promover uma produção sustentável, que combine a produção de alimentos, fibras e/ou outros produtos agrícolas com a conservação dos recursos naturais, a biodiversidade e a saúde do solo. Os SAFs também visam aumentar a resiliência dos sistemas agrícolas, reduzindo os riscos de degradação ambiental e aumentando a estabilidade dos rendimentos ao longo do tempo.), (2. Como os SAFs promovem a integração e interação entre árvores, arbustos, plantas herbáceas e animais em um mesmo espaço?, Os Sistemas Agroflorestais (SAFs) promovem a integração e interação entre árvores, arbustos, plantas herbáceas e animais em um mesmo espaço de diversas formas, tais como:\\n\\n1. Diversificação da vegetação: Os SAFs combinam diferentes espécies de árvores, arbustos e plantas herbáceas em um mesmo espaço, criando assim um ambiente diversificado que promove a convivência e interação entre as diferentes espécies.\\n\\n2. Promoção de sinergias: As interações entre as diferentes espécies vegetais e animais nos SAFs podem gerar sinergias positivas, como a fixação de nitrogênio pelas leguminosas que beneficiam outras plantas, ou a atração de polinizadores que aumentam a produtividade das culturas.\\n\\n3. Aumento da biodiversidade: A presença de uma grande variedade de espécies vegetais nos SAFs contribui para a conservação da biodiversidade, pois oferece diferentes habitats e recursos para uma ampla gama de organismos.\\n\\n4. Ciclagem de nutrientes: A decomposição de folhas, galhos e raízes das plantas nos SAFs contribui para a ciclagem de nutrientes no solo, enriquecendo-o e promovendo o crescimento saudável das plantas.\\n\\n5. Controle de pragas e doenças: A diversidade de espécies nos SAFs pode ajudar a reduzir a incidência de pragas e doenças, uma vez que as diferentes plantas podem atrair predadores naturais das pragas e competir por recursos com os patógenos.\\n\\nEm resumo, os SAFs promovem a integração e interação entre árvores, arbustos, plantas herbáceas e animais em um mesmo espaço através da diversificação da vegetação, promoção de sinergias, aumento da biodiversidade, ciclagem de nutrientes e controle de pragas e doenças, criando assim um sistema agrícola mais resiliente e sustentável.), (3. Qual é a relação entre os SAFs e os benefícios econômicos, sociais e ambientais?, Os Sistemas Agroflorestais (SAFs) têm uma relação direta com diversos benefícios econômicos, sociais e ambientais. \\n\\nEm termos econômicos, os SAFs podem aumentar a produtividade da terra, diversificar a produção e reduzir os custos de produção. Isso pode resultar em uma maior renda para os agricultores, além de promover a segurança alimentar e a resiliência econômica.\\n\\nEm relação aos benefícios sociais, os SAFs podem melhorar a qualidade de vida das comunidades rurais, proporcionando emprego e renda, promovendo a autonomia e a segurança alimentar das famílias, além de fortalecer os laços comunitários e a cultura local.\\n\\nEm termos ambientais, os SAFs promovem a conservação da biodiversidade, a proteção do solo e da água, a mitigação das mudanças climáticas e a redução da emissão de gases de efeito estufa. Além disso, os SAFs contribuem para a recuperação de áreas degradadas e para a adaptação às mudanças climáticas.\\n\\nAssim, os SAFs são uma prática agrícola sustentável que pode gerar benefícios econômicos, sociais e ambientais tanto para os agricultores quanto para a sociedade como um todo.), (4. Por que a alternativa B) sucessão ecológica é a correta em relação aos sistemas agroflorestais?, A alternativa B) sucessão ecológica é a correta em relação aos sistemas agroflorestais porque os sistemas agroflorestais se baseiam na interação entre espécies vegetais e animais, criando um ambiente biodiverso e sustentável. Essa interação promove uma sucessão ecológica, que é o processo natural de mudança na composição e estrutura de uma comunidade ao longo do tempo. \\n\\nNos sistemas agroflorestais, as espécies vegetais e animais se sucedem e se complementam, gerando benefícios mútuos, como maior fertilidade do solo, controle de pragas e doenças, maior eficiência na utilização dos recursos naturais, entre outros. Dessa forma, a sucessão ecológica é um fenômeno fundamental para a manutenção e aperfeiçoamento dos sistemas agroflorestais, contribuindo para a sua sustentabilidade e resiliência.)]</td>\n",
       "      <td>Biologia</td>\n",
       "    </tr>\n",
       "    <tr>\n",
       "      <th>4</th>\n",
       "      <td>4</td>\n",
       "      <td>Vida: a ciência da biologia\\nAs fibras musculares esqueléticas não são todas iguais. (...) Um atleta que sonha em disputar os Jogos Olímpicos e tem uma maior proporção de fibras brancas que fibras vermelhas teria mais vantagens na realização da prova de:</td>\n",
       "      <td>B</td>\n",
       "      <td>B</td>\n",
       "      <td>True</td>\n",
       "      <td>Para responder a essa pergunta, precisamos entender a diferença entre fibras musculares brancas e vermelhas. As fibras musculares brancas são responsáveis pela contração rápida e explosiva, enquanto as fibras musculares vermelhas são responsáveis pela resistência e contração mais lenta.\\n\\nConsiderando que um atleta com maior proporção de fibras brancas terá mais vantagens em atividades que exigem explosão e força, podemos excluir as opções de provas de resistência como triatlo, maratona aquática e ciclismo em estrada.\\n\\nO salto em altura exige explosão e força, mas também requer uma boa técnica de salto. A marcha atlética requer resistência e técnica de movimento específica. \\n\\nPortanto, a opção que mais se encaixa na descrição de um atleta com maior proporção de fibras brancas é o salto em altura, devido à exigência de explosão e força necessárias para realizar a prova.\\n\\nResposta final: B) Salto em altura.</td>\n",
       "      <td>Explicação revisada: A prova de salto em altura exige explosão muscular e força rápida para superar a barreira. Um atleta com maior proporção de fibras musculares brancas, responsáveis por contrações rápidas e intensas, teria uma vantagem competitiva nesse tipo de prova, devido à capacidade de gerar potência e velocidade necessárias para o salto em altura.\\n\\nResposta final: B) Salto em altura.</td>\n",
       "      <td>[1. Qual a diferença entre as fibras musculares brancas e vermelhas?, 2. Como as fibras musculares brancas e vermelhas se comportam em termos de contração?, 3. Qual tipo de atividade física se beneficiaria mais de um atleta com maior proporção de fibras brancas?, 4. Por que a prova de salto em altura seria mais vantajosa para um atleta com maior proporção de fibras brancas?]</td>\n",
       "      <td>[(1. Qual a diferença entre as fibras musculares brancas e vermelhas?, As fibras musculares brancas são fibras de contração rápida, têm baixa resistência à fadiga, são utilizadas principalmente em atividades anaeróbicas de curta duração e possuem menor quantidade de mioglobina. Já as fibras musculares vermelhas são fibras de contração lenta, têm alta resistência à fadiga, são utilizadas em atividades aeróbicas de longa duração e possuem maior quantidade de mioglobina.), (2. Como as fibras musculares brancas e vermelhas se comportam em termos de contração?, As fibras musculares brancas são mais rápidas e mais fortes em termos de contração do que as fibras musculares vermelhas. Elas são geralmente utilizadas em atividades de curta duração e alta intensidade, como levantamento de peso. Por outro lado, as fibras musculares vermelhas são mais resistentes à fadiga e são utilizadas em atividades de longa duração e baixa intensidade, como corrida de longa distância. Ambos os tipos de fibras musculares podem se contrair de forma voluntária para produzir movimento.), (3. Qual tipo de atividade física se beneficiaria mais de um atleta com maior proporção de fibras brancas?, Atividades de curta duração e alta intensidade se beneficiariam mais de um atleta com maior proporção de fibras brancas. Isso porque as fibras musculares brancas são responsáveis pela produção de energia de forma rápida e explosiva, sendo mais eficientes em atividades de alta intensidade, como sprints, levantamento de peso e corridas curtas. Portanto, atletas com maior proporção de fibras brancas tendem a se destacar em modalidades que exigem explosão e potência muscular.), (4. Por que a prova de salto em altura seria mais vantajosa para um atleta com maior proporção de fibras brancas?, A prova de salto em altura exige explosão muscular e força rápida para superar a barreira. As fibras musculares brancas são responsáveis por contrações rápidas e intensas, o que seria vantajoso para um atleta nesse tipo de prova. Portanto, um atleta com maior proporção de fibras brancas teria uma vantagem competitiva, pois teria uma capacidade maior de gerar potência e velocidade para realizar o salto em altura com sucesso.)]</td>\n",
       "      <td>Biologia</td>\n",
       "    </tr>\n",
       "    <tr>\n",
       "      <th>5</th>\n",
       "      <td>5</td>\n",
       "      <td>A saúde do professor: acústica arquitetônica\\n(...) Para um valor máximo do ruído de fundo, a maior distância que um estudante pode estar do professor para que ainda consiga compreender sua fala é mais próxima de</td>\n",
       "      <td>A</td>\n",
       "      <td>A</td>\n",
       "      <td>True</td>\n",
       "      <td>Para determinar a distância máxima que um estudante pode estar do professor para ainda conseguir compreender sua fala, precisamos levar em consideração a acústica arquitetônica do ambiente. \\n\\nEm um ambiente com ruído de fundo, a distância máxima para uma boa compreensão da fala do professor é influenciada pela intensidade do ruído de fundo. Quanto maior o ruído de fundo, menor será a distância máxima.\\n\\nPortanto, a distância máxima será mais próxima para a opção com menor valor, que neste caso é a opção A) 3,0 metros.\\n\\nResposta final: A) 3,0 metros.</td>\n",
       "      <td>A distância máxima para compreender a fala do professor é influenciada pela intensidade do ruído de fundo, sendo menor em ambientes com ruídos intensos. Portanto, a opção mais próxima da distância máxima é a alternativa A) 3,0 metros.\\n\\nResposta final: A) 3,0 metros.</td>\n",
       "      <td>[1. Como a acústica arquitetônica do ambiente influencia na distância máxima que um estudante pode estar do professor para compreender sua fala?, 2. Qual é a relação entre a intensidade do ruído de fundo e a distância máxima para uma boa compreensão da fala do professor?, 3. Por que a distância máxima para compreender a fala do professor é menor em ambientes com ruídos de fundo intensos?, 4. Qual é a opção de distância máxima mais próxima do professor para que um estudante ainda consiga compreender sua fala?]</td>\n",
       "      <td>[(1. Como a acústica arquitetônica do ambiente influencia na distância máxima que um estudante pode estar do professor para compreender sua fala?, A acústica arquitetônica do ambiente pode influenciar significativamente na distância máxima em que um estudante pode estar do professor para compreender sua fala. Um ambiente com boa acústica, que inclui o uso de materiais de isolamento acústico, tratamento de paredes e tetos para reduzir a reverberação e o ruído de fundo, pode permitir que a fala do professor seja mais clara e compreensível a uma distância maior.\\n\\nPor outro lado, se o ambiente tiver uma acústica ruim, com muita reverberação e ruído de fundo, a fala do professor pode se tornar distorcida e difícil de entender, mesmo a curtas distâncias. Isso pode resultar em dificuldades de comunicação e compreensão por parte dos estudantes, especialmente para aqueles que estão mais longe do professor.\\n\\nPortanto, é importante que os espaços educacionais sejam projetados levando em consideração a acústica arquitetônica, a fim de proporcionar um ambiente favorável à comunicação eficaz entre professores e estudantes, independentemente da distância física entre eles.), (2. Qual é a relação entre a intensidade do ruído de fundo e a distância máxima para uma boa compreensão da fala do professor?, A relação entre a intensidade do ruído de fundo e a distância máxima para uma boa compreensão da fala do professor é inversamente proporcional. Isso significa que quanto maior a intensidade do ruído de fundo, menor será a distância máxima em que os alunos conseguirão compreender claramente o que o professor está dizendo. Por outro lado, se o ruído de fundo for baixo, os alunos poderão estar a uma distância maior e ainda assim conseguirão ouvir e entender o professor sem dificuldades. Portanto, é importante minimizar o ruído de fundo em salas de aula para garantir uma boa comunicação entre professor e alunos.), (3. Por que a distância máxima para compreender a fala do professor é menor em ambientes com ruídos de fundo intensos?, A distância máxima para compreender a fala do professor é menor em ambientes com ruídos de fundo intensos porque o ruído de fundo pode interferir na transmissão do som da voz do professor, tornando mais difícil para o ouvinte distinguir as palavras faladas. Quando há ruído de fundo intenso, o cérebro precisa trabalhar mais para filtrar e processar o som da fala do professor, o que pode levar a uma redução na capacidade de compreensão da mensagem. Além disso, o ruído de fundo intenso pode mascarar ou encobrir as frequências da fala, tornando-a menos clara e compreensível. Assim, em ambientes com ruídos de fundo intensos, a distância para compreender a fala do professor é reduzida devido à interferência causada pelos ruídos externos.), (4. Qual é a opção de distância máxima mais próxima do professor para que um estudante ainda consiga compreender sua fala?, A distância máxima recomendada para que um estudante ainda consiga compreender a fala de um professor varia de acordo com diversos fatores, como o ambiente em que a comunicação ocorre, a qualidade do som, a clareza da voz do professor e a capacidade auditiva do estudante. No entanto, em geral, a distância máxima recomendada é de aproximadamente 1,5 a 2 metros. Para um ambiente de sala de aula típico, com boa acústica e sem ruídos externos, essa distância pode ser um pouco maior, mas é importante manter-se relativamente próximo ao professor para garantir uma boa compreensão da fala.)]</td>\n",
       "      <td>Física</td>\n",
       "    </tr>\n",
       "  </tbody>\n",
       "</table>\n",
       "</div>"
      ],
      "text/plain": [
       "   index  \\\n",
       "0      0   \n",
       "1      1   \n",
       "2      2   \n",
       "3      3   \n",
       "4      4   \n",
       "5      5   \n",
       "\n",
       "                                                                                                                                                                                                                                                                                                                                                                                                                                                                                             question  \\\n",
       "0  Impactos do microplástico\\nA ação de fatores abióticos aliada à biodeterioração contribuem para a formação de microplásticos, os quais se aderem a outros poluentes orgânicos apolares persistentes, como os derivados de pesticidas lipossolúveis. Há uma proporcionalidade direta entre a solubilidade desses tipos de poluentes e sua concentração nos tecidos dos organismos expostos a eles.\\nEm animais vertebrados, essa associação de poluentes será preferencialmente acumulada no tecido   \n",
       "1                                                                     Em aeroportos, por razões de segurança, os passageiros devem ter suas bagagens de mão examinadas antes do embarque, passando-as em esteiras para sua inspeção por aparelhos de raios X. Nessas inspeções, os passageiros são orientados a retirar seus computadores portáteis (notebooks ou laptops) de malas, mochilas ou bolsas para passá-los isoladamente pela esteira.\\nQue explicação física justifica esse procedimento?   \n",
       "2                Com base em testes realizados em ratos, concluiu-se que os compostos nitrosos são substâncias mutagênicas, ou seja, produzem mutações nas células e possivelmente câncer. Esses compostos podem ser obtidos pela reação entre o nitrito de sódio, que é um conservante adicionado às carnes, e o ácido clorídrico. O ácido nitroso produzido irá reagir com compostos nitrogenados, como as aminas, dando origem aos compostos nitrosos.\\nEm qual órgão esse processo será iniciado?   \n",
       "3                                                                                                                                                                                                                                                                                                      Sistemas agroflorestais (SAFs)\\nOs sistemas agroflorestais alinham os interesses econômicos aos ecológicos. (...) O conjunto dessas mudanças graduais é análogo ao processo natural denominado   \n",
       "4                                                                                                                                                                                                                                      Vida: a ciência da biologia\\nAs fibras musculares esqueléticas não são todas iguais. (...) Um atleta que sonha em disputar os Jogos Olímpicos e tem uma maior proporção de fibras brancas que fibras vermelhas teria mais vantagens na realização da prova de:   \n",
       "5                                                                                                                                                                                                                                                                                A saúde do professor: acústica arquitetônica\\n(...) Para um valor máximo do ruído de fundo, a maior distância que um estudante pode estar do professor para que ainda consiga compreender sua fala é mais próxima de   \n",
       "\n",
       "  true_answer predicted  correct  \\\n",
       "0           D         D     True   \n",
       "1           D         D     True   \n",
       "2           E         E     True   \n",
       "3           B         B     True   \n",
       "4           B         B     True   \n",
       "5           A         A     True   \n",
       "\n",
       "                                                                                                                                                                                                                                                                                                                                                                                                                                                                                                                                                                                                                                                                                                                                                                                                                                                                                                                                                                                                                                                                                                                                                                                                                                                                                                                                                                                                                    baseline_answer  \\\n",
       "0                                                                                                                                                                                                                                                                                                                                                                                                                                                                                                                                                      Primeiramente, é importante destacar que os microplásticos têm sido uma preocupação crescente devido aos seus impactos negativos na saúde dos organismos marinhos e, consequentemente, na cadeia alimentar. \\n\\nConsiderando que os poluentes orgânicos apolares persistentes, como os derivados de pesticidas lipossolúveis, se aderem aos microplásticos e são acumulados nos tecidos dos organismos expostos a eles, é possível inferir que esses poluentes terão maior afinidade por tecidos ricos em lipídeos, uma vez que são lipossolúveis. \\n\\nDentre as opções apresentadas, o tecido que mais se destaca por sua alta concentração de lipídeos é o tecido adiposo. Portanto, é razoável afirmar que a associação de poluentes será preferencialmente acumulada no tecido adiposo dos animais vertebrados expostos a microplásticos.\\n\\nResposta final: D) adiposo.   \n",
       "1                                                                                                                                                                                                                                                                                                                                                                                                                                                                                                     Para justificar o procedimento de passar os computadores portáteis isoladamente pela esteira de raios X, devemos considerar a interação dos raios X com os componentes desses dispositivos eletrônicos.\\n\\nOs raios X são capazes de atravessar materiais menos densos, como tecidos e plásticos, mas têm dificuldade em penetrar em materiais mais densos, como os componentes metálicos presentes nos computadores, como por exemplo, os circuitos integrados e o disco rígido.\\n\\nPortanto, ao passar o computador isoladamente pela esteira de raios X, é possível obter uma visualização mais clara dos objetos que estão dentro do equipamento, sem a interferência dos componentes densos que podem estar presentes em outras partes da bagagem de mão.\\n\\nResposta final: D) Os raios X não atravessam os componentes densos do computador, o que impede a visualização de objetos que estão à frente ou atrás deles.   \n",
       "2                                                                                                                                                                                                                                                                                                                                                                                                                                                                                                                                                                                                                                                                                                                                                                                                                                                                                                                                                                                                                                                                 O processo de formação de compostos nitrosos a partir do nitrito de sódio e ácido clorídrico ocorre no estômago, uma vez que é lá que essas substâncias entram em contato. Além disso, o estômago é responsável por iniciar a digestão dos alimentos, onde ocorrem diversas reações químicas. \\n\\nPortanto, a resposta correta é:\\n\\nResposta final: E) Estômago.   \n",
       "3  Para responder a essa pergunta, é importante entender o conceito de sistemas agroflorestais (SAFs) e sua relação com processos naturais. Os SAFs são sistemas de produção agrícola que combinam árvores, arbustos, plantas herbáceas e animais em um mesmo espaço, visando promover a integração e a interação entre esses elementos para alcançar benefícios econômicos, sociais e ambientais.\\n\\nAo analisar as opções apresentadas, podemos descartar as alternativas A, D e E, pois não estão diretamente relacionadas com o conceito de sistemas agroflorestais. \\n\\nA alternativa C, coevolução específica, refere-se à interação evolutiva entre duas espécies diferentes que dependem uma da outra. Embora a interação entre as diferentes espécies nos SAFs seja importante, a coevolução específica não aborda diretamente a combinação de elementos agrícolas e florestais em um mesmo sistema.\\n\\nPor fim, a alternativa correta é a B) sucessão ecológica. A sucessão ecológica é o processo natural de mudança na composição das espécies em uma determinada área ao longo do tempo, resultando em alterações na estrutura e na funcionalidade do ecossistema. Assim como a sucessão ecológica, os sistemas agroflorestais também promovem mudanças graduais na composição e na interação das espécies, visando a um equilíbrio ecológico e produtivo ao longo do tempo.\\n\\nResposta final: B) sucessão ecológica.   \n",
       "4                                                                                                                                                                                                                                                                                                                                                                                                                                                                     Para responder a essa pergunta, precisamos entender a diferença entre fibras musculares brancas e vermelhas. As fibras musculares brancas são responsáveis pela contração rápida e explosiva, enquanto as fibras musculares vermelhas são responsáveis pela resistência e contração mais lenta.\\n\\nConsiderando que um atleta com maior proporção de fibras brancas terá mais vantagens em atividades que exigem explosão e força, podemos excluir as opções de provas de resistência como triatlo, maratona aquática e ciclismo em estrada.\\n\\nO salto em altura exige explosão e força, mas também requer uma boa técnica de salto. A marcha atlética requer resistência e técnica de movimento específica. \\n\\nPortanto, a opção que mais se encaixa na descrição de um atleta com maior proporção de fibras brancas é o salto em altura, devido à exigência de explosão e força necessárias para realizar a prova.\\n\\nResposta final: B) Salto em altura.   \n",
       "5                                                                                                                                                                                                                                                                                                                                                                                                                                                                                                                                                                                                                                                                                                                                                                                                                                                  Para determinar a distância máxima que um estudante pode estar do professor para ainda conseguir compreender sua fala, precisamos levar em consideração a acústica arquitetônica do ambiente. \\n\\nEm um ambiente com ruído de fundo, a distância máxima para uma boa compreensão da fala do professor é influenciada pela intensidade do ruído de fundo. Quanto maior o ruído de fundo, menor será a distância máxima.\\n\\nPortanto, a distância máxima será mais próxima para a opção com menor valor, que neste caso é a opção A) 3,0 metros.\\n\\nResposta final: A) 3,0 metros.   \n",
       "\n",
       "                                                                                                                                                                                                                                                                                                                                                                                                                                                                                                                                                                                                                                                                                                                                                                                 final_answer  \\\n",
       "0                                                                                                                                    Considerando que os poluentes orgânicos apolares persistentes, como os derivados de pesticidas lipossolúveis, se aderem aos microplásticos e são acumulados nos tecidos dos organismos expostos a eles, é possível inferir que esses poluentes terão maior afinidade por tecidos ricos em lipídeos, uma vez que são lipossolúveis. Dentre as opções apresentadas, o tecido que mais se destaca por sua alta concentração de lipídeos é o tecido adiposo. Portanto, é razoável afirmar que a associação de poluentes será preferencialmente acumulada no tecido adiposo dos animais vertebrados expostos a microplásticos.\\n\\nResposta final: D) adiposo.   \n",
       "1  Para justificar o procedimento de passar os computadores portáteis isoladamente pela esteira de raios X, devemos considerar a interação dos raios X com os componentes desses dispositivos eletrônicos.\\n\\nOs raios X não atravessam os componentes densos do computador, como circuitos integrados e disco rígido, o que impede a visualização de objetos que estão à frente ou atrás deles. Dessa forma, ao passar o computador isoladamente pela esteira de raios X, é possível obter uma visualização mais clara do conteúdo interno do equipamento, sem a interferência de outros objetos presentes na bagagem de mão.\\n\\nResposta final: D) Os raios X não atravessam os componentes densos do computador, o que impede a visualização de objetos que estão à frente ou atrás deles.   \n",
       "2                                                                                                                                                                                                                                                                                                                                                      O processo de formação de compostos nitrosos a partir do nitrito de sódio e ácido clorídrico ocorre no estômago, onde essas substâncias entram em contato e reagem para formar os compostos mutagênicos. Esses compostos podem danificar o material genético das células estomacais, levando a mutações e aumentando o risco de desenvolvimento de câncer gástrico.\\n\\nPortanto, a resposta correta é:\\n\\nResposta final: E) Estômago.   \n",
       "3                                                                                                                                                                                                                                                                                                                                                                                                                                                                  A alternativa correta em relação aos sistemas agroflorestais é a letra B) sucessão ecológica, pois os SAFs se baseiam na interação entre espécies vegetais e animais, promovendo uma sucessão ecológica que é fundamental para a sustentabilidade e resiliência desses sistemas.\\n\\nResposta final: B) sucessão ecológica.   \n",
       "4                                                                                                                                                                                                                                                                                                                                                                               Explicação revisada: A prova de salto em altura exige explosão muscular e força rápida para superar a barreira. Um atleta com maior proporção de fibras musculares brancas, responsáveis por contrações rápidas e intensas, teria uma vantagem competitiva nesse tipo de prova, devido à capacidade de gerar potência e velocidade necessárias para o salto em altura.\\n\\nResposta final: B) Salto em altura.   \n",
       "5                                                                                                                                                                                                                                                                                                                                                                                                                                                                                                                A distância máxima para compreender a fala do professor é influenciada pela intensidade do ruído de fundo, sendo menor em ambientes com ruídos intensos. Portanto, a opção mais próxima da distância máxima é a alternativa A) 3,0 metros.\\n\\nResposta final: A) 3,0 metros.   \n",
       "\n",
       "                                                                                                                                                                                                                                                                                                                                                                                                                                                                                                                                                                            verification_qs  \\\n",
       "0                                                                                                                 [1. Quais são os fatores abióticos que contribuem para a formação de microplásticos?, 2. Como os derivados de pesticidas lipossolúveis se aderem aos microplásticos?, 3. Qual é a relação entre a solubilidade dos poluentes orgânicos apolares persistentes e sua concentração nos tecidos dos organismos expostos a eles?, 4. Por que os poluentes terão maior afinidade por tecidos ricos em lipídeos e qual tecido se destaca por sua alta concentração de lipídeos?]   \n",
       "1  [1) Por que os passageiros são orientados a retirar os computadores portáteis de malas, mochilas ou bolsas antes de passá-los pela esteira de raios X?, 2) Qual a dificuldade dos raios X em penetrar em materiais mais densos, como os componentes metálicos presentes nos computadores?, 3) Por que a visualização dos objetos dentro do computador é mais clara ao passá-lo isoladamente pela esteira de raios X?, 4) Como a presença de componentes densos nos computadores interfere na visualização de objetos que estão à frente ou atrás deles durante a inspeção de segurança?]   \n",
       "2                       [1) Como ocorre a reação entre o nitrito de sódio e o ácido clorídrico no estômago para formar os compostos nitrosos?, 2) Qual é o papel do estômago na digestão dos alimentos e como isso está relacionado à formação de compostos nitrosos?, 3) Quais são os possíveis efeitos da ingestão de compostos nitrosos no estômago em relação à mutação das células e possível desenvolvimento de câncer?, 4) Existem medidas preventivas ou formas de evitar a formação de compostos nitrosos no estômago a partir do consumo de alimentos contendo nitrito de sódio?]   \n",
       "3                                                                                                                                                                         [1. O que são sistemas agroflorestais (SAFs) e qual é o objetivo principal desses sistemas?, 2. Como os SAFs promovem a integração e interação entre árvores, arbustos, plantas herbáceas e animais em um mesmo espaço?, 3. Qual é a relação entre os SAFs e os benefícios econômicos, sociais e ambientais?, 4. Por que a alternativa B) sucessão ecológica é a correta em relação aos sistemas agroflorestais?]   \n",
       "4                                                                                                                                                                                                 [1. Qual a diferença entre as fibras musculares brancas e vermelhas?, 2. Como as fibras musculares brancas e vermelhas se comportam em termos de contração?, 3. Qual tipo de atividade física se beneficiaria mais de um atleta com maior proporção de fibras brancas?, 4. Por que a prova de salto em altura seria mais vantajosa para um atleta com maior proporção de fibras brancas?]   \n",
       "5                                                        [1. Como a acústica arquitetônica do ambiente influencia na distância máxima que um estudante pode estar do professor para compreender sua fala?, 2. Qual é a relação entre a intensidade do ruído de fundo e a distância máxima para uma boa compreensão da fala do professor?, 3. Por que a distância máxima para compreender a fala do professor é menor em ambientes com ruídos de fundo intensos?, 4. Qual é a opção de distância máxima mais próxima do professor para que um estudante ainda consiga compreender sua fala?]   \n",
       "\n",
       "                                                                                                                                                                                                                                                                                                                                                                                                                                                                                                                                                                                                                                                                                                                                                                                                                                                                                                                                                                                                                                                                                                                                                                                                                                                                                                                                                                                                                                                                                                                                                                                                                                                                                                                                                                                                                                                                                                                                                                                                                                                                                                                                                                                                                                                                                                                                                                                                                                                                                                                                                                                                                                                                                                                                                                                                                                                                                                                                                                                                                                                                                                                                                                                                                                                                                                                                                                                                                                                                                                                                                                                                                                                                                                                                                                                                                                                                                                                                                                                                                                                                                                                                                                                                                                                                                                                                                                                                                                                                                                                                                                                                                                                                                                                                                                                                                                                                                                                                                                                                                                                                                                                                                                                                      verification_a  \\\n",
       "0                                                                                                                                                                                                                                                                                                                                                                                                                                                                                                                                                                                                                                                                                                                                                                                                                                                                                                                                                                                                                                                                                                                                                                                                                                                                                                                                                                                                                                                                                                                                                                                                                                                                                                                                                                                                                                                                                                                                                                                             [(1. Quais são os fatores abióticos que contribuem para a formação de microplásticos?, Alguns fatores abióticos que contribuem para a formação de microplásticos incluem a degradação de plásticos maiores devido à exposição à luz solar, calor e oxigênio, a ação mecânica de ondas e correntes oceânicas que quebram os plásticos em pedaços menores, e a abrasão de plásticos em superfícies como praias e rochas. Além disso, a poluição atmosférica também pode contribuir para a formação de microplásticos, uma vez que partículas de plástico podem ser transportadas pelo ar e depositadas em ambientes aquáticos.), (2. Como os derivados de pesticidas lipossolúveis se aderem aos microplásticos?, Os derivados de pesticidas lipossolúveis se aderem aos microplásticos devido à sua afinidade por materiais hidrofóbicos, como o plástico. Esses compostos possuem uma estrutura molecular que os torna solúveis em gorduras e não em água, o que os torna mais propensos a se ligarem a superfícies lipídicas, como o plástico. Além disso, a superfície dos microplásticos pode conter cargas elétricas que facilitam a adsorção dos pesticidas lipossolúveis. Uma vez aderidos aos microplásticos, esses compostos podem permanecer por períodos prolongados no ambiente, sendo potencialmente liberados e contaminando ecossistemas aquáticos e terrestres.), (3. Qual é a relação entre a solubilidade dos poluentes orgânicos apolares persistentes e sua concentração nos tecidos dos organismos expostos a eles?, A solubilidade dos poluentes orgânicos apolares persistentes está diretamente relacionada com sua capacidade de se acumular nos tecidos dos organismos expostos a eles. Como esses poluentes são insolúveis em água e tendem a se acumular em tecidos gordurosos, eles podem se acumular em níveis perigosos nos organismos ao longo do tempo. Isso ocorre porque esses poluentes são lipossolúveis e podem ser facilmente absorvidos pelas células e tecidos dos organismos, onde podem permanecer por longos períodos de tempo, causando danos à saúde dos organismos expostos. Portanto, quanto maior a solubilidade dos poluentes orgânicos apolares persistentes, maior será sua capacidade de se acumular nos tecidos dos organismos e causar danos à saúde.), (4. Por que os poluentes terão maior afinidade por tecidos ricos em lipídeos e qual tecido se destaca por sua alta concentração de lipídeos?, Os poluentes têm maior afinidade por tecidos ricos em lipídeos devido à sua natureza lipofílica, ou seja, eles têm mais afinidade por substâncias gordurosas do que por água. Os lipídeos são compostos por moléculas de gordura que possuem uma estrutura semelhante aos poluentes, o que facilita a sua absorção e acumulação nos tecidos ricos em lipídeos.\\n\\nUm dos tecidos que se destaca por sua alta concentração de lipídeos é o tecido adiposo, também conhecido como tecido gorduroso. Este tecido é composto principalmente por células de gordura, conhecidas como adipócitos, que armazenam energia na forma de lipídeos. Como resultado, o tecido adiposo é um dos principais locais de acumulação de poluentes lipofílicos no organismo.)]   \n",
       "1                                                                                                                                                                                                                                                                                                                                                                                                                                                                                                                                                                                                                                                                                                                                                                                                                                                                                                                                                                                                                                                                                                                                                                                                                                                                                                                                                                                                                                                                                                                                                                                                                                                                                                                                                                                                                                                                                                                                                                                                                                                                     [(1) Por que os passageiros são orientados a retirar os computadores portáteis de malas, mochilas ou bolsas antes de passá-los pela esteira de raios X?, Os passageiros são orientados a retirar os computadores portáteis de malas, mochilas ou bolsas antes de passá-los pela esteira de raios X, pois os computadores portáteis podem bloquear a visão dos agentes de segurança, dificultando a identificação de possíveis ameaças ou objetos proibidos. Além disso, ao separar os computadores portáteis, facilita-se o processo de inspeção e agiliza o fluxo de passageiros na área de segurança do aeroporto.), (2) Qual a dificuldade dos raios X em penetrar em materiais mais densos, como os componentes metálicos presentes nos computadores?, Os raios X têm dificuldade em penetrar em materiais mais densos, como os componentes metálicos presentes nos computadores, devido à sua alta densidade e composição molecular. Os raios X são absorvidos, dispersos ou refletidos por esses materiais, o que dificulta a obtenção de imagens claras e detalhadas desses componentes. Para contornar essa dificuldade, é necessário utilizar técnicas de imagem mais avançadas, como a tomografia computadorizada, que permitem visualizar com mais detalhes os componentes metálicos presentes nos computadores.), (3) Por que a visualização dos objetos dentro do computador é mais clara ao passá-lo isoladamente pela esteira de raios X?, A visualização dos objetos dentro do computador é mais clara ao passá-lo isoladamente pela esteira de raios X porque ao passar sozinho, o objeto não terá interferências de outros objetos que possam dificultar a visualização. Além disso, o raio X consegue penetrar no objeto e produzir uma imagem mais nítida e detalhada, permitindo uma melhor visualização do conteúdo interno do objeto. Quando vários objetos são passados juntos na esteira de raios X, a sobreposição de imagens pode tornar a visualização mais confusa e menos precisa.), (4) Como a presença de componentes densos nos computadores interfere na visualização de objetos que estão à frente ou atrás deles durante a inspeção de segurança?, A presença de componentes densos nos computadores pode interferir na visualização de objetos que estão à frente ou atrás deles durante a inspeção de segurança devido à obstrução da visão. Componentes densos, como placas de metal ou cabos grossos, podem bloquear parcialmente ou totalmente a visão do operador de segurança, dificultando a identificação de possíveis ameaças ou objetos suspeitos escondidos atrás ou dentro do computador.\\n\\nIsso pode aumentar o tempo necessário para realizar uma inspeção minuciosa e eficaz, além de diminuir a eficiência do processo de segurança. Portanto, é importante garantir que os computadores sejam projetados de forma a permitir uma fácil visualização de todos os lados do equipamento durante a inspeção de segurança. Medidas como o posicionamento estratégico de componentes e a utilização de materiais transparentes ou menos densos podem ajudar a minimizar essa interferência.)]   \n",
       "2  [(1) Como ocorre a reação entre o nitrito de sódio e o ácido clorídrico no estômago para formar os compostos nitrosos?, A reação entre o nitrito de sódio (NaNO2) e o ácido clorídrico (HCl) no estômago ocorre da seguinte forma:\\n\\nNaNO2 + HCl -> HNO2 + NaCl\\n\\nNesta reação, o nitrito de sódio reage com o ácido clorídrico para formar ácido nitroso (HNO2) e cloreto de sódio (NaCl). O ácido nitroso pode ser convertido em compostos nitrosos, como nitrosaminas, que são considerados compostos carcinogênicos e podem ser prejudiciais à saúde. É importante limitar a ingestão de alimentos ricos em nitrito de sódio para evitar a formação desses compostos no estômago.), (2) Qual é o papel do estômago na digestão dos alimentos e como isso está relacionado à formação de compostos nitrosos?, O estômago desempenha um papel fundamental na digestão dos alimentos, uma vez que é responsável por armazenar, misturar e quebrar os alimentos em pedaços menores através da ação mecânica e química do suco gástrico. O suco gástrico contém ácido clorídrico e enzimas digestivas, como a pepsina, que ajudam a decompor as proteínas dos alimentos em aminoácidos.\\n\\nA formação de compostos nitrosos está relacionada à presença de nitratos e nitritos nos alimentos. Quando ingerimos alimentos ricos em nitratos, como vegetais de folhas verdes, estes compostos são convertidos em nitritos pela ação de bactérias na boca e no estômago. Os nitritos podem reagir com compostos presentes nos alimentos, como aminas, para formar compostos nitrosos, como os nitrosaminas.\\n\\nAs nitrosaminas são compostos considerados potencialmente carcinogênicos, ou seja, podem causar câncer. A exposição a altos níveis de nitrosaminas está associada a um maior risco de desenvolver câncer de estômago e outros tipos de câncer.\\n\\nPortanto, a digestão dos alimentos no estômago pode estar relacionada à formação de compostos nitrosos, especialmente se a dieta contiver alimentos ricos em nitratos e nitritos. É importante ter uma alimentação equilibrada e variada, e evitar o consumo excessivo de alimentos processados e embutidos, que muitas vezes contêm aditivos de nitratos e nitritos.), (3) Quais são os possíveis efeitos da ingestão de compostos nitrosos no estômago em relação à mutação das células e possível desenvolvimento de câncer?, A ingestão de compostos nitrosos no estômago pode ter diversos efeitos negativos, incluindo a mutação das células e o desenvolvimento de câncer. Os compostos nitrosos são conhecidos por serem agentes carcinogênicos, ou seja, substâncias que podem causar câncer.\\n\\nQuando os compostos nitrosos entram em contato com o estômago, eles podem reagir com outras substâncias presentes no ambiente ácido do estômago e formar compostos mutagênicos. Esses compostos mutagênicos podem danificar o material genético das células estomacais, levando a mutações que podem desencadear o desenvolvimento de câncer.\\n\\nAlém disso, os compostos nitrosos também podem danificar o revestimento protetor do estômago, tornando as células estomacais mais suscetíveis a danos e mutações. Isso pode aumentar o risco de desenvolvimento de câncer gástrico.\\n\\nPortanto, a ingestão de compostos nitrosos no estômago pode ser prejudicial e aumentar o risco de desenvolvimento de câncer gástrico. É importante evitar a exposição a essas substâncias e adotar hábitos saudáveis para reduzir o risco de câncer de estômago.), (4) Existem medidas preventivas ou formas de evitar a formação de compostos nitrosos no estômago a partir do consumo de alimentos contendo nitrito de sódio?, Sim, existem algumas medidas preventivas que podem ser adotadas para evitar a formação de compostos nitrosos no estômago a partir do consumo de alimentos contendo nitrito de sódio:\\n\\n1. Reduzir o consumo de alimentos processados e embutidos que contenham nitrito de sódio: opte por alimentos frescos e minimamente processados.\\n\\n2. Consumir alimentos ricos em vitamina C: a vitamina C pode ajudar a inibir a formação de compostos nitrosos no estômago. Inclua alimentos como frutas cítricas, kiwi, morangos e pimentões em sua dieta.\\n\\n3. Evitar o consumo de alimentos ricos em nitratos: alimentos como vegetais de folhas verdes, beterraba e cenoura podem conter nitratos que podem se transformar em nitritos no organismo.\\n\\n4. Evitar o consumo de bebidas alcoólicas em conjunto com alimentos contendo nitrito de sódio, pois o álcool pode aumentar a formação de compostos nitrosos.\\n\\n5. Cozinhar os alimentos a altas temperaturas: cozinhar os alimentos a altas temperaturas pode ajudar a reduzir a formação de compostos nitrosos.\\n\\nÉ importante ter em mente que a ingestão de nitrito de sódio em pequenas quantidades, dentro dos limites estabelecidos pelas autoridades de saúde, não representa um risco significativo para a saúde. No entanto, é sempre recomendável manter uma dieta equilibrada e variada, priorizando alimentos frescos e minimamente processados. Em caso de dúvidas ou preocupações, consulte um nutricionista ou profissional de saúde.)]   \n",
       "3                                                                                                                                                                                                                                                                                                                                                                                                                                          [(1. O que são sistemas agroflorestais (SAFs) e qual é o objetivo principal desses sistemas?, Os sistemas agroflorestais (SAFs) são sistemas de produção agrícola que integram árvores, culturas agrícolas e/ou animais em uma mesma área. O objetivo principal desses sistemas é promover uma produção sustentável, que combine a produção de alimentos, fibras e/ou outros produtos agrícolas com a conservação dos recursos naturais, a biodiversidade e a saúde do solo. Os SAFs também visam aumentar a resiliência dos sistemas agrícolas, reduzindo os riscos de degradação ambiental e aumentando a estabilidade dos rendimentos ao longo do tempo.), (2. Como os SAFs promovem a integração e interação entre árvores, arbustos, plantas herbáceas e animais em um mesmo espaço?, Os Sistemas Agroflorestais (SAFs) promovem a integração e interação entre árvores, arbustos, plantas herbáceas e animais em um mesmo espaço de diversas formas, tais como:\\n\\n1. Diversificação da vegetação: Os SAFs combinam diferentes espécies de árvores, arbustos e plantas herbáceas em um mesmo espaço, criando assim um ambiente diversificado que promove a convivência e interação entre as diferentes espécies.\\n\\n2. Promoção de sinergias: As interações entre as diferentes espécies vegetais e animais nos SAFs podem gerar sinergias positivas, como a fixação de nitrogênio pelas leguminosas que beneficiam outras plantas, ou a atração de polinizadores que aumentam a produtividade das culturas.\\n\\n3. Aumento da biodiversidade: A presença de uma grande variedade de espécies vegetais nos SAFs contribui para a conservação da biodiversidade, pois oferece diferentes habitats e recursos para uma ampla gama de organismos.\\n\\n4. Ciclagem de nutrientes: A decomposição de folhas, galhos e raízes das plantas nos SAFs contribui para a ciclagem de nutrientes no solo, enriquecendo-o e promovendo o crescimento saudável das plantas.\\n\\n5. Controle de pragas e doenças: A diversidade de espécies nos SAFs pode ajudar a reduzir a incidência de pragas e doenças, uma vez que as diferentes plantas podem atrair predadores naturais das pragas e competir por recursos com os patógenos.\\n\\nEm resumo, os SAFs promovem a integração e interação entre árvores, arbustos, plantas herbáceas e animais em um mesmo espaço através da diversificação da vegetação, promoção de sinergias, aumento da biodiversidade, ciclagem de nutrientes e controle de pragas e doenças, criando assim um sistema agrícola mais resiliente e sustentável.), (3. Qual é a relação entre os SAFs e os benefícios econômicos, sociais e ambientais?, Os Sistemas Agroflorestais (SAFs) têm uma relação direta com diversos benefícios econômicos, sociais e ambientais. \\n\\nEm termos econômicos, os SAFs podem aumentar a produtividade da terra, diversificar a produção e reduzir os custos de produção. Isso pode resultar em uma maior renda para os agricultores, além de promover a segurança alimentar e a resiliência econômica.\\n\\nEm relação aos benefícios sociais, os SAFs podem melhorar a qualidade de vida das comunidades rurais, proporcionando emprego e renda, promovendo a autonomia e a segurança alimentar das famílias, além de fortalecer os laços comunitários e a cultura local.\\n\\nEm termos ambientais, os SAFs promovem a conservação da biodiversidade, a proteção do solo e da água, a mitigação das mudanças climáticas e a redução da emissão de gases de efeito estufa. Além disso, os SAFs contribuem para a recuperação de áreas degradadas e para a adaptação às mudanças climáticas.\\n\\nAssim, os SAFs são uma prática agrícola sustentável que pode gerar benefícios econômicos, sociais e ambientais tanto para os agricultores quanto para a sociedade como um todo.), (4. Por que a alternativa B) sucessão ecológica é a correta em relação aos sistemas agroflorestais?, A alternativa B) sucessão ecológica é a correta em relação aos sistemas agroflorestais porque os sistemas agroflorestais se baseiam na interação entre espécies vegetais e animais, criando um ambiente biodiverso e sustentável. Essa interação promove uma sucessão ecológica, que é o processo natural de mudança na composição e estrutura de uma comunidade ao longo do tempo. \\n\\nNos sistemas agroflorestais, as espécies vegetais e animais se sucedem e se complementam, gerando benefícios mútuos, como maior fertilidade do solo, controle de pragas e doenças, maior eficiência na utilização dos recursos naturais, entre outros. Dessa forma, a sucessão ecológica é um fenômeno fundamental para a manutenção e aperfeiçoamento dos sistemas agroflorestais, contribuindo para a sua sustentabilidade e resiliência.)]   \n",
       "4                                                                                                                                                                                                                                                                                                                                                                                                                                                                                                                                                                                                                                                                                                                                                                                                                                                                                                                                                                                                                                                                                                                                                                                                                                                                                                                                                                                                                                                                                                                                                                                                                                                                                                                                                                                                                                                                                                                                                                                                                                                                                                                                                                                                                                                                                                                                                                                                                                                                                                                                                                                                                                                                                                                                                                                                                                                                                                                      [(1. Qual a diferença entre as fibras musculares brancas e vermelhas?, As fibras musculares brancas são fibras de contração rápida, têm baixa resistência à fadiga, são utilizadas principalmente em atividades anaeróbicas de curta duração e possuem menor quantidade de mioglobina. Já as fibras musculares vermelhas são fibras de contração lenta, têm alta resistência à fadiga, são utilizadas em atividades aeróbicas de longa duração e possuem maior quantidade de mioglobina.), (2. Como as fibras musculares brancas e vermelhas se comportam em termos de contração?, As fibras musculares brancas são mais rápidas e mais fortes em termos de contração do que as fibras musculares vermelhas. Elas são geralmente utilizadas em atividades de curta duração e alta intensidade, como levantamento de peso. Por outro lado, as fibras musculares vermelhas são mais resistentes à fadiga e são utilizadas em atividades de longa duração e baixa intensidade, como corrida de longa distância. Ambos os tipos de fibras musculares podem se contrair de forma voluntária para produzir movimento.), (3. Qual tipo de atividade física se beneficiaria mais de um atleta com maior proporção de fibras brancas?, Atividades de curta duração e alta intensidade se beneficiariam mais de um atleta com maior proporção de fibras brancas. Isso porque as fibras musculares brancas são responsáveis pela produção de energia de forma rápida e explosiva, sendo mais eficientes em atividades de alta intensidade, como sprints, levantamento de peso e corridas curtas. Portanto, atletas com maior proporção de fibras brancas tendem a se destacar em modalidades que exigem explosão e potência muscular.), (4. Por que a prova de salto em altura seria mais vantajosa para um atleta com maior proporção de fibras brancas?, A prova de salto em altura exige explosão muscular e força rápida para superar a barreira. As fibras musculares brancas são responsáveis por contrações rápidas e intensas, o que seria vantajoso para um atleta nesse tipo de prova. Portanto, um atleta com maior proporção de fibras brancas teria uma vantagem competitiva, pois teria uma capacidade maior de gerar potência e velocidade para realizar o salto em altura com sucesso.)]   \n",
       "5                                                                                                                                                                                                                                                                                                                                                                                                                                                                                                                                                                                                                                                                                                                                                                                                                                                                                                                                                                                                                                                                                                                                                                                                                                                                                                                                                                                                                                                                                                                                                                [(1. Como a acústica arquitetônica do ambiente influencia na distância máxima que um estudante pode estar do professor para compreender sua fala?, A acústica arquitetônica do ambiente pode influenciar significativamente na distância máxima em que um estudante pode estar do professor para compreender sua fala. Um ambiente com boa acústica, que inclui o uso de materiais de isolamento acústico, tratamento de paredes e tetos para reduzir a reverberação e o ruído de fundo, pode permitir que a fala do professor seja mais clara e compreensível a uma distância maior.\\n\\nPor outro lado, se o ambiente tiver uma acústica ruim, com muita reverberação e ruído de fundo, a fala do professor pode se tornar distorcida e difícil de entender, mesmo a curtas distâncias. Isso pode resultar em dificuldades de comunicação e compreensão por parte dos estudantes, especialmente para aqueles que estão mais longe do professor.\\n\\nPortanto, é importante que os espaços educacionais sejam projetados levando em consideração a acústica arquitetônica, a fim de proporcionar um ambiente favorável à comunicação eficaz entre professores e estudantes, independentemente da distância física entre eles.), (2. Qual é a relação entre a intensidade do ruído de fundo e a distância máxima para uma boa compreensão da fala do professor?, A relação entre a intensidade do ruído de fundo e a distância máxima para uma boa compreensão da fala do professor é inversamente proporcional. Isso significa que quanto maior a intensidade do ruído de fundo, menor será a distância máxima em que os alunos conseguirão compreender claramente o que o professor está dizendo. Por outro lado, se o ruído de fundo for baixo, os alunos poderão estar a uma distância maior e ainda assim conseguirão ouvir e entender o professor sem dificuldades. Portanto, é importante minimizar o ruído de fundo em salas de aula para garantir uma boa comunicação entre professor e alunos.), (3. Por que a distância máxima para compreender a fala do professor é menor em ambientes com ruídos de fundo intensos?, A distância máxima para compreender a fala do professor é menor em ambientes com ruídos de fundo intensos porque o ruído de fundo pode interferir na transmissão do som da voz do professor, tornando mais difícil para o ouvinte distinguir as palavras faladas. Quando há ruído de fundo intenso, o cérebro precisa trabalhar mais para filtrar e processar o som da fala do professor, o que pode levar a uma redução na capacidade de compreensão da mensagem. Além disso, o ruído de fundo intenso pode mascarar ou encobrir as frequências da fala, tornando-a menos clara e compreensível. Assim, em ambientes com ruídos de fundo intensos, a distância para compreender a fala do professor é reduzida devido à interferência causada pelos ruídos externos.), (4. Qual é a opção de distância máxima mais próxima do professor para que um estudante ainda consiga compreender sua fala?, A distância máxima recomendada para que um estudante ainda consiga compreender a fala de um professor varia de acordo com diversos fatores, como o ambiente em que a comunicação ocorre, a qualidade do som, a clareza da voz do professor e a capacidade auditiva do estudante. No entanto, em geral, a distância máxima recomendada é de aproximadamente 1,5 a 2 metros. Para um ambiente de sala de aula típico, com boa acústica e sem ruídos externos, essa distância pode ser um pouco maior, mas é importante manter-se relativamente próximo ao professor para garantir uma boa compreensão da fala.)]   \n",
       "\n",
       "    subject  \n",
       "0  Biologia  \n",
       "1    Física  \n",
       "2   Química  \n",
       "3  Biologia  \n",
       "4  Biologia  \n",
       "5    Física  "
      ]
     },
     "execution_count": 72,
     "metadata": {},
     "output_type": "execute_result"
    }
   ],
   "source": [
    "df_cove = pd.DataFrame(cove_results)\n",
    "df_cove"
   ]
  },
  {
   "cell_type": "markdown",
   "id": "6e28e344-75b1-4b88-aa7a-870bda88bfce",
   "metadata": {},
   "source": [
    "#### Calculate overall accuracy"
   ]
  },
  {
   "cell_type": "code",
   "execution_count": 73,
   "id": "ac7a2a84-b445-482c-815a-17e43084ce99",
   "metadata": {
    "jupyter": {
     "source_hidden": true
    }
   },
   "outputs": [
    {
     "name": "stdout",
     "output_type": "stream",
     "text": [
      "CoVe Accuracy: 6/6 (100.0%)\n"
     ]
    }
   ],
   "source": [
    "correct, total, acc = calculate_accuracy(cove_results)\n",
    "print(f\"CoVe Accuracy: {correct}/{total} ({acc:.1f}%)\")"
   ]
  },
  {
   "cell_type": "code",
   "execution_count": 74,
   "id": "9b3d21c0-6b5e-4419-8edb-cf32ffd4cc2f",
   "metadata": {},
   "outputs": [
    {
     "data": {
      "text/html": [
       "<div>\n",
       "<style scoped>\n",
       "    .dataframe tbody tr th:only-of-type {\n",
       "        vertical-align: middle;\n",
       "    }\n",
       "\n",
       "    .dataframe tbody tr th {\n",
       "        vertical-align: top;\n",
       "    }\n",
       "\n",
       "    .dataframe thead th {\n",
       "        text-align: right;\n",
       "    }\n",
       "</style>\n",
       "<table border=\"1\" class=\"dataframe\">\n",
       "  <thead>\n",
       "    <tr style=\"text-align: right;\">\n",
       "      <th></th>\n",
       "      <th>sum</th>\n",
       "      <th>count</th>\n",
       "      <th>accuracy (%)</th>\n",
       "    </tr>\n",
       "    <tr>\n",
       "      <th>subject</th>\n",
       "      <th></th>\n",
       "      <th></th>\n",
       "      <th></th>\n",
       "    </tr>\n",
       "  </thead>\n",
       "  <tbody>\n",
       "    <tr>\n",
       "      <th>Biologia</th>\n",
       "      <td>3</td>\n",
       "      <td>3</td>\n",
       "      <td>100.0</td>\n",
       "    </tr>\n",
       "    <tr>\n",
       "      <th>Física</th>\n",
       "      <td>2</td>\n",
       "      <td>2</td>\n",
       "      <td>100.0</td>\n",
       "    </tr>\n",
       "    <tr>\n",
       "      <th>Química</th>\n",
       "      <td>1</td>\n",
       "      <td>1</td>\n",
       "      <td>100.0</td>\n",
       "    </tr>\n",
       "  </tbody>\n",
       "</table>\n",
       "</div>"
      ],
      "text/plain": [
       "          sum  count  accuracy (%)\n",
       "subject                           \n",
       "Biologia    3      3         100.0\n",
       "Física      2      2         100.0\n",
       "Química     1      1         100.0"
      ]
     },
     "execution_count": 74,
     "metadata": {},
     "output_type": "execute_result"
    }
   ],
   "source": [
    "results_by_subject(pd.DataFrame(cove_results))"
   ]
  },
  {
   "cell_type": "code",
   "execution_count": null,
   "id": "223e8713-2916-4b88-ad77-3effe63344c9",
   "metadata": {},
   "outputs": [],
   "source": []
  },
  {
   "cell_type": "code",
   "execution_count": null,
   "id": "dcf4d4a0-e0a0-4629-a369-fb04a9e516f2",
   "metadata": {},
   "outputs": [],
   "source": []
  }
 ],
 "metadata": {
  "kernelspec": {
   "display_name": "Python (bthesis)",
   "language": "python",
   "name": "bthesis"
  },
  "language_info": {
   "codemirror_mode": {
    "name": "ipython",
    "version": 3
   },
   "file_extension": ".py",
   "mimetype": "text/x-python",
   "name": "python",
   "nbconvert_exporter": "python",
   "pygments_lexer": "ipython3",
   "version": "3.13.2"
  }
 },
 "nbformat": 4,
 "nbformat_minor": 5
}
