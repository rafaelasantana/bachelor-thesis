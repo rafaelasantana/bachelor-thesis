{
 "cells": [
  {
   "cell_type": "markdown",
   "id": "13f0b645-7b0e-4ed9-bd43-4db1dc8c93a6",
   "metadata": {},
   "source": [
    "# Clean data"
   ]
  },
  {
   "cell_type": "markdown",
   "id": "efb2f9ac-2bd7-49b2-a58b-15278a08e833",
   "metadata": {
    "jp-MarkdownHeadingCollapsed": true
   },
   "source": [
    "### Translate subject names to English"
   ]
  },
  {
   "cell_type": "code",
   "execution_count": 30,
   "id": "d9f5f670-9673-4a55-ab69-926b9c174c29",
   "metadata": {},
   "outputs": [],
   "source": [
    "subject_translation = {\n",
    "    \"Matemática e suas Tecnologias\": \"Mathematics\",\n",
    "    \"Linguagens, Códigos e suas Tecnologias\": \"Languages\",\n",
    "    \"Ciências Humanas e suas Tecnologias\": \"Human Sciences\",\n",
    "    \"Ciências da Natureza e suas Tecnologias\": \"Natural Sciences\"\n",
    "}"
   ]
  },
  {
   "cell_type": "markdown",
   "id": "296daf84-d935-4c96-8114-92a4bdbeae57",
   "metadata": {
    "jp-MarkdownHeadingCollapsed": true
   },
   "source": [
    "## Clean Self-Refine"
   ]
  },
  {
   "cell_type": "code",
   "execution_count": 33,
   "id": "018480dc-b971-4475-b815-0e258266e473",
   "metadata": {},
   "outputs": [],
   "source": [
    "import re\n",
    "import pandas as pd\n",
    "\n",
    "def extract_answer_letter(response):\n",
    "    # Match \"Resposta final: C)\" or \"Resposta final: C\"\n",
    "    match = re.search(r\"resposta final\\s*[:\\-]?\\s*([A-E])\\s*\\)?\", response, re.IGNORECASE | re.DOTALL)\n",
    "    if not match:\n",
    "        # Try fallback patterns\n",
    "        match = re.search(r\"letra\\s+([A-E])\\b\", response, re.IGNORECASE)\n",
    "    return match.group(1).upper() if match else None"
   ]
  },
  {
   "cell_type": "markdown",
   "id": "bf1213ed-06ac-408e-bb8d-bb33244b14f4",
   "metadata": {},
   "source": [
    "#### If did not store initial answer already"
   ]
  },
  {
   "cell_type": "code",
   "execution_count": 37,
   "id": "1f855808-ee0e-413c-aadf-0a7ab686f5b8",
   "metadata": {},
   "outputs": [
    {
     "data": {
      "text/html": [
       "<div>\n",
       "<style scoped>\n",
       "    .dataframe tbody tr th:only-of-type {\n",
       "        vertical-align: middle;\n",
       "    }\n",
       "\n",
       "    .dataframe tbody tr th {\n",
       "        vertical-align: top;\n",
       "    }\n",
       "\n",
       "    .dataframe thead th {\n",
       "        text-align: right;\n",
       "    }\n",
       "</style>\n",
       "<table border=\"1\" class=\"dataframe\">\n",
       "  <thead>\n",
       "    <tr style=\"text-align: right;\">\n",
       "      <th></th>\n",
       "      <th>id</th>\n",
       "      <th>subject</th>\n",
       "      <th>ground_truth</th>\n",
       "      <th>predicted</th>\n",
       "      <th>correct</th>\n",
       "      <th>initial_answer</th>\n",
       "    </tr>\n",
       "  </thead>\n",
       "  <tbody>\n",
       "    <tr>\n",
       "      <th>0</th>\n",
       "      <td>questao_01</td>\n",
       "      <td>Languages</td>\n",
       "      <td>A</td>\n",
       "      <td>A</td>\n",
       "      <td>True</td>\n",
       "      <td>A</td>\n",
       "    </tr>\n",
       "    <tr>\n",
       "      <th>1</th>\n",
       "      <td>questao_02</td>\n",
       "      <td>Languages</td>\n",
       "      <td>A</td>\n",
       "      <td>A</td>\n",
       "      <td>True</td>\n",
       "      <td>D</td>\n",
       "    </tr>\n",
       "    <tr>\n",
       "      <th>2</th>\n",
       "      <td>questao_03</td>\n",
       "      <td>Languages</td>\n",
       "      <td>C</td>\n",
       "      <td>C</td>\n",
       "      <td>True</td>\n",
       "      <td>C</td>\n",
       "    </tr>\n",
       "    <tr>\n",
       "      <th>3</th>\n",
       "      <td>questao_04</td>\n",
       "      <td>Languages</td>\n",
       "      <td>E</td>\n",
       "      <td>E</td>\n",
       "      <td>True</td>\n",
       "      <td>E</td>\n",
       "    </tr>\n",
       "    <tr>\n",
       "      <th>4</th>\n",
       "      <td>questao_05</td>\n",
       "      <td>Languages</td>\n",
       "      <td>A</td>\n",
       "      <td>A</td>\n",
       "      <td>True</td>\n",
       "      <td>A</td>\n",
       "    </tr>\n",
       "  </tbody>\n",
       "</table>\n",
       "</div>"
      ],
      "text/plain": [
       "           id    subject ground_truth predicted  correct initial_answer\n",
       "0  questao_01  Languages            A         A     True              A\n",
       "1  questao_02  Languages            A         A     True              D\n",
       "2  questao_03  Languages            C         C     True              C\n",
       "3  questao_04  Languages            E         E     True              E\n",
       "4  questao_05  Languages            A         A     True              A"
      ]
     },
     "execution_count": 37,
     "metadata": {},
     "output_type": "execute_result"
    }
   ],
   "source": [
    "df_sr = pd.read_csv(\"results/self-refine_few-shot/self-refine_few-shot_results_2025-03-28_12-33-28.csv\")\n",
    "\n",
    "cleaned_sr_df = pd.DataFrame({\n",
    "    \"id\": df_sr[\"id\"],\n",
    "    \"subject\": df_sr[\"subject\"].map(subject_translation),\n",
    "    \"ground_truth\": df_sr[\"ground_truth\"],\n",
    "    \"predicted\": df_sr[\"predicted\"],\n",
    "    \"correct\": df_sr[\"correct\"],\n",
    "    \"initial_answer\": df_sr[\"baseline_answer\"].apply(extract_answer_letter)\n",
    "})\n",
    "\n",
    "cleaned_sr_df.to_csv(\"results/self-refine_few-shot_clean/self-refine_few-shot_results_clean_2025-03-28_12-33-28.csv\", index=False)\n",
    "\n",
    "cleaned_sr_df.head()"
   ]
  },
  {
   "cell_type": "markdown",
   "id": "e57d9492-1560-407e-be1b-8975e973ca25",
   "metadata": {
    "jp-MarkdownHeadingCollapsed": true
   },
   "source": [
    "## Clean CoVe"
   ]
  },
  {
   "cell_type": "code",
   "execution_count": 40,
   "id": "95f4f400-3c5a-42d2-9954-a94b4195e639",
   "metadata": {},
   "outputs": [
    {
     "data": {
      "text/html": [
       "<div>\n",
       "<style scoped>\n",
       "    .dataframe tbody tr th:only-of-type {\n",
       "        vertical-align: middle;\n",
       "    }\n",
       "\n",
       "    .dataframe tbody tr th {\n",
       "        vertical-align: top;\n",
       "    }\n",
       "\n",
       "    .dataframe thead th {\n",
       "        text-align: right;\n",
       "    }\n",
       "</style>\n",
       "<table border=\"1\" class=\"dataframe\">\n",
       "  <thead>\n",
       "    <tr style=\"text-align: right;\">\n",
       "      <th></th>\n",
       "      <th>id</th>\n",
       "      <th>subject</th>\n",
       "      <th>ground_truth</th>\n",
       "      <th>predicted</th>\n",
       "      <th>correct</th>\n",
       "      <th>initial_answer</th>\n",
       "    </tr>\n",
       "  </thead>\n",
       "  <tbody>\n",
       "    <tr>\n",
       "      <th>0</th>\n",
       "      <td>questao_01</td>\n",
       "      <td>Languages</td>\n",
       "      <td>A</td>\n",
       "      <td>A</td>\n",
       "      <td>True</td>\n",
       "      <td>A</td>\n",
       "    </tr>\n",
       "    <tr>\n",
       "      <th>1</th>\n",
       "      <td>questao_02</td>\n",
       "      <td>Languages</td>\n",
       "      <td>A</td>\n",
       "      <td>D</td>\n",
       "      <td>False</td>\n",
       "      <td>B</td>\n",
       "    </tr>\n",
       "    <tr>\n",
       "      <th>2</th>\n",
       "      <td>questao_03</td>\n",
       "      <td>Languages</td>\n",
       "      <td>C</td>\n",
       "      <td>C</td>\n",
       "      <td>True</td>\n",
       "      <td>C</td>\n",
       "    </tr>\n",
       "    <tr>\n",
       "      <th>3</th>\n",
       "      <td>questao_04</td>\n",
       "      <td>Languages</td>\n",
       "      <td>E</td>\n",
       "      <td>E</td>\n",
       "      <td>True</td>\n",
       "      <td>E</td>\n",
       "    </tr>\n",
       "    <tr>\n",
       "      <th>4</th>\n",
       "      <td>questao_05</td>\n",
       "      <td>Languages</td>\n",
       "      <td>A</td>\n",
       "      <td>A</td>\n",
       "      <td>True</td>\n",
       "      <td>A</td>\n",
       "    </tr>\n",
       "  </tbody>\n",
       "</table>\n",
       "</div>"
      ],
      "text/plain": [
       "           id    subject ground_truth predicted  correct initial_answer\n",
       "0  questao_01  Languages            A         A     True              A\n",
       "1  questao_02  Languages            A         D    False              B\n",
       "2  questao_03  Languages            C         C     True              C\n",
       "3  questao_04  Languages            E         E     True              E\n",
       "4  questao_05  Languages            A         A     True              A"
      ]
     },
     "execution_count": 40,
     "metadata": {},
     "output_type": "execute_result"
    }
   ],
   "source": [
    "df_cove = pd.read_csv(\"results/cove_few-shot/cove_few-shot_results_2025-03-28_17-19-55.csv\")\n",
    "\n",
    "cleaned_cove_df = pd.DataFrame({\n",
    "    \"id\": df_cove[\"id\"],\n",
    "    \"subject\": df_cove[\"subject\"].map(subject_translation),\n",
    "    \"ground_truth\": df_cove[\"ground_truth\"],\n",
    "    \"predicted\": df_cove[\"predicted\"],\n",
    "    \"correct\": df_cove[\"correct\"],\n",
    "    \"initial_answer\": df_cove[\"initial_answer\"]\n",
    "})\n",
    "\n",
    "cleaned_cove_df.to_csv(\"results/cove_few-shot_clean/cove_few-shot_results_clean_2025-03-28_17-19-55.csv\", index=False)\n",
    "\n",
    "cleaned_cove_df.head()"
   ]
  },
  {
   "cell_type": "markdown",
   "id": "a7414d90-071f-4c29-bc8a-c4697f607afa",
   "metadata": {
    "jp-MarkdownHeadingCollapsed": true
   },
   "source": [
    "## Clean CoT"
   ]
  },
  {
   "cell_type": "code",
   "execution_count": 43,
   "id": "8a3cba73-054c-4a1d-bf15-e5d93b14f5cb",
   "metadata": {},
   "outputs": [
    {
     "data": {
      "text/html": [
       "<div>\n",
       "<style scoped>\n",
       "    .dataframe tbody tr th:only-of-type {\n",
       "        vertical-align: middle;\n",
       "    }\n",
       "\n",
       "    .dataframe tbody tr th {\n",
       "        vertical-align: top;\n",
       "    }\n",
       "\n",
       "    .dataframe thead th {\n",
       "        text-align: right;\n",
       "    }\n",
       "</style>\n",
       "<table border=\"1\" class=\"dataframe\">\n",
       "  <thead>\n",
       "    <tr style=\"text-align: right;\">\n",
       "      <th></th>\n",
       "      <th>id</th>\n",
       "      <th>subject</th>\n",
       "      <th>ground_truth</th>\n",
       "      <th>predicted</th>\n",
       "      <th>correct</th>\n",
       "    </tr>\n",
       "  </thead>\n",
       "  <tbody>\n",
       "    <tr>\n",
       "      <th>0</th>\n",
       "      <td>questao_01</td>\n",
       "      <td>Languages</td>\n",
       "      <td>A</td>\n",
       "      <td>A</td>\n",
       "      <td>True</td>\n",
       "    </tr>\n",
       "    <tr>\n",
       "      <th>1</th>\n",
       "      <td>questao_02</td>\n",
       "      <td>Languages</td>\n",
       "      <td>A</td>\n",
       "      <td>D</td>\n",
       "      <td>False</td>\n",
       "    </tr>\n",
       "    <tr>\n",
       "      <th>2</th>\n",
       "      <td>questao_03</td>\n",
       "      <td>Languages</td>\n",
       "      <td>C</td>\n",
       "      <td>C</td>\n",
       "      <td>True</td>\n",
       "    </tr>\n",
       "    <tr>\n",
       "      <th>3</th>\n",
       "      <td>questao_04</td>\n",
       "      <td>Languages</td>\n",
       "      <td>E</td>\n",
       "      <td>E</td>\n",
       "      <td>True</td>\n",
       "    </tr>\n",
       "    <tr>\n",
       "      <th>4</th>\n",
       "      <td>questao_05</td>\n",
       "      <td>Languages</td>\n",
       "      <td>A</td>\n",
       "      <td>A</td>\n",
       "      <td>True</td>\n",
       "    </tr>\n",
       "  </tbody>\n",
       "</table>\n",
       "</div>"
      ],
      "text/plain": [
       "           id    subject ground_truth predicted  correct\n",
       "0  questao_01  Languages            A         A     True\n",
       "1  questao_02  Languages            A         D    False\n",
       "2  questao_03  Languages            C         C     True\n",
       "3  questao_04  Languages            E         E     True\n",
       "4  questao_05  Languages            A         A     True"
      ]
     },
     "execution_count": 43,
     "metadata": {},
     "output_type": "execute_result"
    }
   ],
   "source": [
    "df_cot = pd.read_csv(\"results/cot_few-shot/cot_few-shot_results_2025-03-27_13-55-58.csv\")\n",
    "\n",
    "\n",
    "cleaned_cot_df = pd.DataFrame({\n",
    "    \"id\": df_cot[\"id\"],\n",
    "    \"subject\": df_cot[\"subject\"].map(subject_translation),\n",
    "    \"ground_truth\": df_cot[\"ground_truth\"],\n",
    "    \"predicted\": df_cot[\"predicted\"],\n",
    "    \"correct\": df_cot[\"correct\"],\n",
    "})\n",
    "\n",
    "cleaned_cot_df.to_csv(\"results/cot_few-shot_clean/cot_few-shot_results_clean_2025-03-27_13-55-58.csv\", index=False)\n",
    "\n",
    "cleaned_cot_df.head()"
   ]
  },
  {
   "cell_type": "markdown",
   "id": "4cb1d6ac-8463-48bb-9ba1-c7b91d67624f",
   "metadata": {},
   "source": [
    "## Merge results"
   ]
  },
  {
   "cell_type": "code",
   "execution_count": 44,
   "id": "fe5ea345-002c-4c8c-bbdc-f75e917a7e68",
   "metadata": {},
   "outputs": [],
   "source": []
  },
  {
   "cell_type": "code",
   "execution_count": null,
   "id": "12a6e75a-bcf7-42b0-9280-d05592a6ad3a",
   "metadata": {},
   "outputs": [],
   "source": []
  }
 ],
 "metadata": {
  "kernelspec": {
   "display_name": "Python (bthesis)",
   "language": "python",
   "name": "bthesis"
  },
  "language_info": {
   "codemirror_mode": {
    "name": "ipython",
    "version": 3
   },
   "file_extension": ".py",
   "mimetype": "text/x-python",
   "name": "python",
   "nbconvert_exporter": "python",
   "pygments_lexer": "ipython3",
   "version": "3.13.2"
  }
 },
 "nbformat": 4,
 "nbformat_minor": 5
}
